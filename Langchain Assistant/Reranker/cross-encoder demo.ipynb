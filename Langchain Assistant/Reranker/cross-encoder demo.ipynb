{
 "cells": [
  {
   "cell_type": "code",
   "execution_count": 14,
   "id": "18d2e82d",
   "metadata": {
    "ExecuteTime": {
     "end_time": "2023-12-07T10:45:30.159249Z",
     "start_time": "2023-12-07T10:45:30.154942Z"
    }
   },
   "outputs": [
    {
     "name": "stderr",
     "output_type": "stream",
     "text": [
      "PAth\\Temp\\ipykernel_2212\\3250617982.py:17: DeprecationWarning: Importing display from IPython.core.display is deprecated since IPython 7.14, please import from IPython display\n",
      "  from IPython.core.display import display, HTML\n"
     ]
    }
   ],
   "source": [
    "import re\n",
    "import os\n",
    "import csv\n",
    "import datetime\n",
    "from datetime import datetime\n",
    "import pandas as pd\n",
    "\n",
    "# vector store set up \n",
    "\n",
    "import chromadb\n",
    "\n",
    "from langchain.embeddings import SentenceTransformerEmbeddings\n",
    "from langchain.vectorstores import Chroma\n",
    "\n",
    "#Langchain\n",
    "from langchain.chains import RetrievalQAWithSourcesChain\n",
    "from IPython.core.display import display, HTML"
   ]
  },
  {
   "cell_type": "code",
   "execution_count": 63,
   "id": "1d31663d",
   "metadata": {
    "ExecuteTime": {
     "end_time": "2023-12-07T14:24:18.205832Z",
     "start_time": "2023-12-07T14:24:18.200168Z"
    }
   },
   "outputs": [],
   "source": [
    "\n",
    "def format_document_retriever(document, score):\n",
    "    title = document.metadata.get('source', 'No Title')\n",
    "    content = document.page_content\n",
    "    file_path = document.metadata.get('file_path', 'No File Path')\n",
    "    return f\"\"\"\n",
    "    <div style='margin-bottom: 20px;'>\n",
    "        <h3>{title} (Score: {score:.2f})</h3>\n",
    "        <p>{content}</p>\n",
    "        <a href='{file_path}'>Source</a>\n",
    "    </div>\n",
    "    \"\"\"\n",
    "\n",
    "def format_document(document, score):\n",
    "    \"\"\"\n",
    "    Formats a document and its score into an HTML string.\n",
    "    \"\"\"\n",
    "    title = document.metadata.get('source', 'No Title')\n",
    "    content = document.page_content\n",
    "    file_path = document.metadata.get('file_path', 'No File Path')\n",
    "    return f\"\"\"\n",
    "    <div style='margin-bottom: 20px;'>\n",
    "        <h3>{title} (Score: {score:.2f})</h3>\n",
    "        <p>{content}</p>\n",
    "        <a href='{file_path}'>Source</a>\n",
    "    </div>\n",
    "    \"\"\"\n",
    "\n",
    "def display_documents(retrieved_docs):\n",
    "    html_content = \"<div style='font-family: Arial, sans-serif;'>\"\n",
    "    for doc, score in retrieved_docs:\n",
    "        html_content += format_document_retriever(doc, score)\n",
    "    html_content += \"</div>\"\n",
    "    display(HTML(html_content))"
   ]
  },
  {
   "cell_type": "markdown",
   "id": "482e62d9",
   "metadata": {},
   "source": [
    "# Chroma"
   ]
  },
  {
   "cell_type": "code",
   "execution_count": 95,
   "id": "9013366b",
   "metadata": {
    "ExecuteTime": {
     "end_time": "2023-12-07T14:44:05.626651Z",
     "start_time": "2023-12-07T14:44:05.406166Z"
    }
   },
   "outputs": [
    {
     "name": "stdout",
     "output_type": "stream",
     "text": [
      "There are 473 in the collection\n"
     ]
    }
   ],
   "source": [
    "chroma_client = client = chromadb.PersistentClient(path=\"Path",
    "# create the open-source embedding function\n",
    "embedding_function = SentenceTransformerEmbeddings(model_name=\"all-MiniLM-L6-v2\")\n",
    "\n",
    "# Passing a Chroma Client into Langchain\n",
    "\n",
    "langchain_chroma = Chroma(\n",
    "    client=chroma_client,\n",
    "    collection_name=\"Skyminer-T\",\n",
    "    embedding_function=embedding_function,\n",
    ")\n",
    "print(\"There are\", langchain_chroma._collection.count(), \"in the collection\")"
   ]
  },
  {
   "cell_type": "markdown",
   "id": "dae46ef4",
   "metadata": {},
   "source": [
    "# Retriever"
   ]
  },
  {
   "cell_type": "code",
   "execution_count": 113,
   "id": "1f64a98f",
   "metadata": {
    "ExecuteTime": {
     "end_time": "2023-12-07T15:03:31.172751Z",
     "start_time": "2023-12-07T15:03:31.169462Z"
    }
   },
   "outputs": [],
   "source": [
    "def ask(question):\n",
    "    retrieved_docs = langchain_chroma.similarity_search_with_score(question, k=3)\n",
    "    output = display_documents(retrieved_docs)\n",
    "    return output"
   ]
  },
  {
   "cell_type": "code",
   "execution_count": 126,
   "id": "a103c352",
   "metadata": {
    "ExecuteTime": {
     "end_time": "2023-12-07T15:32:07.579769Z",
     "start_time": "2023-12-07T15:32:07.558432Z"
    }
   },
   "outputs": [
    {
     "data": {
      "text/html": [
       "<div style='font-family: Arial, sans-serif;'>\n",
       "    <div style='margin-bottom: 20px;'>\n",
       "        <h3>/Upgrade protocol to 2.7/Install Skyminer new version (Score: 0.30)</h3>\n",
       "        <p>Context : (Documentation = Administrastion Manual, Title = Upgrade protocol to 2.7, Chapter = Install Skyminer new version) For each server on cluster , install Skyminer v2 . 7 : cd <path_to_skyminer2 . 7>/installation sudo ./quick_start_skyminer . sh --conf <path-to-custom-skyminer-settings-file> <path-to-custom-skyminer-settings-file> is path to the file generated on Prepare 2 . 7 . x installation step ( cf . Prepare 2 . 7 . x installation )</p>\n",
       "        <a href='http://192.168.48.22:8082/repository/skyminer-dev/skyminer-documentation/latest/administration-manual-html/administration-manual-html/installation/upgrade-to-2.7.html'>Source</a>\n",
       "    </div>\n",
       "    \n",
       "    <div style='margin-bottom: 20px;'>\n",
       "        <h3>/Prerequisites/System (Score: 0.34)</h3>\n",
       "        <p>Context : (Documentation = Administrastion Manual, Title = Prerequisites, Chapter = System) To install Skyminer , the following items are required : A Linux server with a recent kernel Docker and docker-compose or docker compose v2+ A Firewall configuration with the required ports open ( see Firewall configuration ). It is not recommended to disable the firewall as it would prevent the system from working properly . Disable Linux swap ( see Disable Linux Swap ) It is also highly recommended to synchronize the host ( s ) to a reliable time reference using NTP or any similar protocol . See NTP Configuration . You may need unzip tool to extract the delivery package . The installation script requires the following standard linux tools : awk bash curl openssl ping sed For agents , you must have Java 8 or 11 installed .</p>\n",
       "        <a href='http://192.168.48.22:8082/repository/skyminer-dev/skyminer-documentation/latest/administration-manual-html/administration-manual-html/installation/prerequisites.html'>Source</a>\n",
       "    </div>\n",
       "    \n",
       "    <div style='margin-bottom: 20px;'>\n",
       "        <h3>/Managing Skyminer license/Activating Skyminer (Score: 0.34)</h3>\n",
       "        <p>Context : (Documentation = Administrastion Manual, Title = Managing Skyminer license, Chapter = Activating Skyminer) To activate Skyminer , simply place the license file named signature in the license folder of the Skyminer installation directory : cp <path_to_the_license_file> <installation_directory>/skyminer/license Note This command must be run with elevated privileges 2014-2023 , Kratos Communications Skyminer Administration Manual - KC-153-MA-0019 v . 2023-dev-S17</p>\n",
       "        <a href='http://192.168.48.22:8082/repository/skyminer-dev/skyminer-documentation/latest/administration-manual-html/administration-manual-html/installation/license.html'>Source</a>\n",
       "    </div>\n",
       "    </div>"
      ],
      "text/plain": [
       "<IPython.core.display.HTML object>"
      ]
     },
     "metadata": {},
     "output_type": "display_data"
    }
   ],
   "source": [
    "ask('how to install skyminer')"
   ]
  },
  {
   "cell_type": "markdown",
   "id": "c8acfd6f",
   "metadata": {},
   "source": [
    "# Cross encoder "
   ]
  },
  {
   "cell_type": "code",
   "execution_count": 26,
   "id": "02db75b5",
   "metadata": {
    "ExecuteTime": {
     "end_time": "2023-12-07T14:02:55.999640Z",
     "start_time": "2023-12-07T14:02:55.996727Z"
    }
   },
   "outputs": [],
   "source": [
    "from sentence_transformers import CrossEncoder"
   ]
  },
  {
   "cell_type": "code",
   "execution_count": 104,
   "id": "89aca601",
   "metadata": {
    "ExecuteTime": {
     "end_time": "2023-12-07T14:49:57.158875Z",
     "start_time": "2023-12-07T14:49:57.133052Z"
    }
   },
   "outputs": [
    {
     "data": {
      "text/plain": [
       "[(Document(page_content='Context : (Documentation = Administrastion Manual, Title = Skyminer Introduction) Skyminer system is a Big Data storage and analytics engine integrated with our corporate products , systems and solutions . It is capable of storing billions of samples with different data types , while maintaining efficient storage and outstanding write and read performances . Skyminer provides features to analyze data over time , organisational , or geospatial dimensions within and/or between data series .', metadata={'documentation': 'Administrastion Manual', 'file_path': 'http://192.168.48.22:8082/repository/skyminer-dev/skyminer-documentation/latest/administration-manual-html/administration-manual-html/skyminer-introduction.html', 'source': '/Skyminer Introduction', 'word_count': 64}),\n",
       "  0.24023085832595825),\n",
       " (Document(page_content='Context : (Documentation = User Manual, Title = FAQ, Chapter = What is Skyminer?) Skyminer system is a Big Data storage and analytics engine integrated with Kratos products , systems and solutions . It allows its users to store billions of samples with different data types over time , while maintaining efficient storage and outstanding write and read performances . Skyminer provides features to analyze data over time , organisational , or geospatial dimensions within and/or between data series .', metadata={'documentation': 'User Manual', 'file_path': 'http://192.168.48.22:8082/repository/skyminer-dev/skyminer-documentation/latest/user-manual-html/user-manual-html/faq.html', 'source': '/FAQ/What is Skyminer?', 'word_count': 66}),\n",
       "  0.2691107392311096),\n",
       " (Document(page_content='Context : (Documentation = Administrastion Manual, Title = Skyminer Architecture, Chapter = Introduction) Skyminer is a data storage & analytics service . It relies on other server-side high-quality services : Grafana ( dashboard ) and usually Cassandra ( datastore ). Note that third-party software are optional and can be replaced by alternatives to match any need or requirement . cf . Integrated third-party software .', metadata={'documentation': 'Administrastion Manual', 'file_path': 'http://192.168.48.22:8082/repository/skyminer-dev/skyminer-documentation/latest/administration-manual-html/administration-manual-html/installation/architecture.html', 'source': '/Skyminer Architecture/Introduction', 'word_count': 52}),\n",
       "  0.2839741110801697)]"
      ]
     },
     "execution_count": 104,
     "metadata": {},
     "output_type": "execute_result"
    }
   ],
   "source": [
    "question = \"what is skyminer\"\n",
    "retrieved_docs = langchain_chroma.similarity_search_with_score(question, k=3)\n",
    "retrieved_docs"
   ]
  },
  {
   "cell_type": "code",
   "execution_count": 88,
   "id": "677a0f49",
   "metadata": {
    "ExecuteTime": {
     "end_time": "2023-12-07T14:40:50.269877Z",
     "start_time": "2023-12-07T14:40:50.267058Z"
    }
   },
   "outputs": [],
   "source": [
    "page_content1 = retrieved_docs[0][0].page_content\n",
    "\n",
    "page_content2 = retrieved_docs[1][0].page_content"
   ]
  },
  {
   "cell_type": "code",
   "execution_count": 91,
   "id": "85b54f63",
   "metadata": {
    "ExecuteTime": {
     "end_time": "2023-12-07T14:41:18.614399Z",
     "start_time": "2023-12-07T14:41:18.500195Z"
    }
   },
   "outputs": [],
   "source": [
    "scores = model.predict([[\"what is skyminer\", page_content1],  \n",
    "                        [\"what is skyminer\", page_content2]])"
   ]
  },
  {
   "cell_type": "code",
   "execution_count": 92,
   "id": "43f8c69b",
   "metadata": {
    "ExecuteTime": {
     "end_time": "2023-12-07T14:41:18.986774Z",
     "start_time": "2023-12-07T14:41:18.982209Z"
    }
   },
   "outputs": [
    {
     "data": {
      "text/plain": [
       "array([0.9654035 , 0.01056262], dtype=float32)"
      ]
     },
     "execution_count": 92,
     "metadata": {},
     "output_type": "execute_result"
    }
   ],
   "source": [
    "scores"
   ]
  },
  {
   "cell_type": "markdown",
   "id": "387f865d",
   "metadata": {},
   "source": [
    "## test pipeline "
   ]
  },
  {
   "cell_type": "code",
   "execution_count": 53,
   "id": "e72041f3",
   "metadata": {
    "ExecuteTime": {
     "end_time": "2023-12-07T14:19:59.818640Z",
     "start_time": "2023-12-07T14:19:59.815729Z"
    }
   },
   "outputs": [],
   "source": [
    "from typing import List, Tuple"
   ]
  },
  {
   "cell_type": "code",
   "execution_count": 84,
   "id": "c847a254",
   "metadata": {
    "ExecuteTime": {
     "end_time": "2023-12-07T14:39:03.080684Z",
     "start_time": "2023-12-07T14:37:50.283693Z"
    }
   },
   "outputs": [
    {
     "name": "stderr",
     "output_type": "stream",
     "text": [
      "Downloading config.json: 100%|██████████| 629/629 [00:00<?, ?B/s] \n",
      "Downloading pytorch_model.bin: 100%|██████████| 1.42G/1.42G [01:07<00:00, 21.0MB/s]\n",
      "Downloading tokenizer_config.json: 100%|██████████| 139/139 [00:00<?, ?B/s] \n",
      "Downloading vocab.json: 100%|██████████| 899k/899k [00:00<00:00, 2.55MB/s]\n",
      "Downloading merges.txt: 100%|██████████| 456k/456k [00:00<00:00, 14.7MB/s]\n",
      "Downloading (…)cial_tokens_map.json: 100%|██████████| 772/772 [00:00<?, ?B/s] \n"
     ]
    }
   ],
   "source": [
    "model_1 = CrossEncoder('cross-encoder/stsb-roberta-large') # Dupplicate"
   ]
  },
  {
   "cell_type": "code",
   "execution_count": null,
   "id": "344fdc4e",
   "metadata": {},
   "outputs": [],
   "source": [
    "model_2 = CrossEncoder('cross-encoder/stsb-TinyBERT-L-4') # language inference"
   ]
  },
  {
   "cell_type": "code",
   "execution_count": 106,
   "id": "01b1f83d",
   "metadata": {
    "ExecuteTime": {
     "end_time": "2023-12-07T15:00:31.827172Z",
     "start_time": "2023-12-07T15:00:22.651378Z"
    }
   },
   "outputs": [
    {
     "name": "stderr",
     "output_type": "stream",
     "text": [
      "Downloading config.json: 100%|██████████| 794/794 [00:00<?, ?B/s] \n",
      "Downloading pytorch_model.bin: 100%|██████████| 90.9M/90.9M [00:05<00:00, 15.8MB/s]\n",
      "Downloading tokenizer_config.json: 100%|██████████| 316/316 [00:00<?, ?B/s] \n",
      "Downloading vocab.txt: 100%|██████████| 232k/232k [00:00<00:00, 4.06MB/s]\n",
      "Downloading (…)cial_tokens_map.json: 100%|██████████| 112/112 [00:00<?, ?B/s] \n"
     ]
    }
   ],
   "source": [
    "model = CrossEncoder('cross-encoder/ms-marco-MiniLM-L-6-v2') # sementic search"
   ]
  },
  {
   "cell_type": "code",
   "execution_count": null,
   "id": "62185316",
   "metadata": {},
   "outputs": [],
   "source": [
    "[more models]()"
   ]
  },
  {
   "cell_type": "code",
   "execution_count": 130,
   "id": "bcf74c7f",
   "metadata": {
    "ExecuteTime": {
     "end_time": "2023-12-07T15:38:40.264945Z",
     "start_time": "2023-12-07T15:38:40.257878Z"
    }
   },
   "outputs": [],
   "source": [
    "def rerank_with_cross_encoder(question: str, retrieved_docs: List[Tuple], top_k: int = 3) -> List[Tuple]:\n",
    "    \"\"\"\n",
    "    Reranks the retrieved documents using the CrossEncoder model.\n",
    "\n",
    "    :param question: The query question.\n",
    "    :param retrieved_docs: A list of tuples containing documents and their initial retrieval scores.\n",
    "    :param top_k: Number of top documents to return after re-ranking.\n",
    "    :return: Top k documents re-ranked by the CrossEncoder model.\n",
    "    \"\"\"\n",
    "    # Prepare pairs of question and document content for the CrossEncoder\n",
    "    question_doc_pairs = [(question, doc.page_content) for doc, _ in retrieved_docs]\n",
    "\n",
    "    # Predict the relevancy scores using the CrossEncoder\n",
    "    cross_encoder_scores = model.predict(question_doc_pairs)\n",
    "\n",
    "    # Combine the documents with their new scores\n",
    "    ranked_docs = [(doc, score) for (doc, _), score in zip(retrieved_docs, cross_encoder_scores)]\n",
    "\n",
    "    # Sort the documents by their new scores in descending order\n",
    "    ranked_docs.sort(key=lambda x: x[1], reverse=True)\n",
    "\n",
    "    # Return the top k documents\n",
    "    return ranked_docs[:top_k]\n",
    "\n",
    "\n",
    "def ask_question(question, x=3):\n",
    "    \"\"\"\n",
    "    Pipeline to ask a question, retrieve, and display top 3 documents with HTML format.\n",
    "    \"\"\"\n",
    "    # Perform initial retrieval\n",
    "    initial_retrieved_docs = langchain_chroma.similarity_search_with_score(question, k=473)\n",
    "\n",
    "    # Re-rank the documents\n",
    "    reranked_docs = rerank_with_cross_encoder(question, initial_retrieved_docs, top_k=x)\n",
    "\n",
    "    # Format and display the results\n",
    "    html_content = \"<div style='font-family: Arial, sans-serif;'>\"\n",
    "    for doc, score in reranked_docs:\n",
    "        html_content += format_document(doc, score)\n",
    "    html_content += \"</div>\"\n",
    "\n",
    "    display(HTML(html_content))"
   ]
  },
  {
   "cell_type": "code",
   "execution_count": 131,
   "id": "3d7232ac",
   "metadata": {
    "ExecuteTime": {
     "end_time": "2023-12-07T15:38:43.167983Z",
     "start_time": "2023-12-07T15:38:41.009241Z"
    }
   },
   "outputs": [
    {
     "data": {
      "text/html": [
       "<div style='font-family: Arial, sans-serif;'>\n",
       "    <div style='margin-bottom: 20px;'>\n",
       "        <h3>/Prerequisites/System (Score: 9.32)</h3>\n",
       "        <p>Context : (Documentation = Administrastion Manual, Title = Prerequisites, Chapter = System) To install Skyminer , the following items are required : A Linux server with a recent kernel Docker and docker-compose or docker compose v2+ A Firewall configuration with the required ports open ( see Firewall configuration ). It is not recommended to disable the firewall as it would prevent the system from working properly . Disable Linux swap ( see Disable Linux Swap ) It is also highly recommended to synchronize the host ( s ) to a reliable time reference using NTP or any similar protocol . See NTP Configuration . You may need unzip tool to extract the delivery package . The installation script requires the following standard linux tools : awk bash curl openssl ping sed For agents , you must have Java 8 or 11 installed .</p>\n",
       "        <a href='http://192.168.48.22:8082/repository/skyminer-dev/skyminer-documentation/latest/administration-manual-html/administration-manual-html/installation/prerequisites.html'>Source</a>\n",
       "    </div>\n",
       "    \n",
       "    <div style='margin-bottom: 20px;'>\n",
       "        <h3>/Installing & starting Skyminer (Score: 8.05)</h3>\n",
       "        <p>Context : (Documentation = Administrastion Manual, Title = Installing & starting Skyminer) Run the quick_start_skyminer . sh script as root , or using the sudo command ./quick_start_skyminer . sh Follow the script instructions . It allows you to choose : The path of the working directory , which is where all the data will be stored An IP or hostname on which the environment will be installed Whether https is used or not . If if is , the script will automatically generate self-signed certificates and keys Whether the Data Demo Generator is enabled or not . If it is , demo dashboards will be available in Grafana A PostgreSQL database different from the provided one What JMX credentials should be used to connect to Cassandra A docker-compose . yml will be generated from the docker-compose . tmpl in <installation_directory>/skyminer . This file allows to configure and run all docker containers for Skyminer services . At the end of this script you should have a working Skyminer environment accessible via browser at <protocol>://<hostname></p>\n",
       "        <a href='http://192.168.48.22:8082/repository/skyminer-dev/skyminer-documentation/latest/administration-manual-html/administration-manual-html/installation/running-skyminer.html'>Source</a>\n",
       "    </div>\n",
       "    \n",
       "    <div style='margin-bottom: 20px;'>\n",
       "        <h3>/Upgrade protocol to 2.7/Install Skyminer new version (Score: 8.05)</h3>\n",
       "        <p>Context : (Documentation = Administrastion Manual, Title = Upgrade protocol to 2.7, Chapter = Install Skyminer new version) For each server on cluster , install Skyminer v2 . 7 : cd <path_to_skyminer2 . 7>/installation sudo ./quick_start_skyminer . sh --conf <path-to-custom-skyminer-settings-file> <path-to-custom-skyminer-settings-file> is path to the file generated on Prepare 2 . 7 . x installation step ( cf . Prepare 2 . 7 . x installation )</p>\n",
       "        <a href='http://192.168.48.22:8082/repository/skyminer-dev/skyminer-documentation/latest/administration-manual-html/administration-manual-html/installation/upgrade-to-2.7.html'>Source</a>\n",
       "    </div>\n",
       "    \n",
       "    <div style='margin-bottom: 20px;'>\n",
       "        <h3>/Upgrade protocol to 2.7/Prepare 2.7.x installation (Score: 7.96)</h3>\n",
       "        <p>Context : (Documentation = Administrastion Manual, Title = Upgrade protocol to 2.7, Chapter = Prepare 2.7.x installation) This step has to be done on each server on cluster : Unzip the 2 . 7 . X package in a separate folder from installation : <path_to_skyminer2 . 7>. Execute init_environment_conf_file . sh ( with path of skyminer older installation services as parameter ) <path_to_skyminer2 . 7>/installation/upgrade/init_environment_conf_file . sh <path_to_older_skyminer_install>/services/ This script will generate skyminer-custom-settings . conf based on current installation . In this configuration , you will find the followings properties : Skyminer configuration propertiesÂ Property description LOCALHOST_IP IP address for the host PUBLIC_IP_ADDRESS IP address for the host CASSANDRA_SEEDS comma-separated list of IP addresses of each cassandra nodes GRAFANA_ADMIN_USER Grafana admin user GRAFANA_ADMIN_PASSWORD Grafana admin password POSTGRESQL_IP IP on which postgreSQL database is reachable POSTGRESQL_DATABASE_USER PostgreSQL database user POSTGRESQL_DATABASE_PASSWORD PostgreSQL database password USE_HTTPS If Y or y , use https , otherwise http Please check this file before continuing ( generated in <path_to_skyminer2 . 8>/installation/upgrade directory ).</p>\n",
       "        <a href='http://192.168.48.22:8082/repository/skyminer-dev/skyminer-documentation/latest/administration-manual-html/administration-manual-html/installation/upgrade-to-2.7.html'>Source</a>\n",
       "    </div>\n",
       "    \n",
       "    <div style='margin-bottom: 20px;'>\n",
       "        <h3>/Post-installation steps (Score: 7.85)</h3>\n",
       "        <p>Context : (Documentation = Administrastion Manual, Title = Post-installation steps) The installation deploys and starts Skyminer with some default settings , some tuning might be requested . Please read carefully the following instructions : Mapped directories ( volumes ) to properly understand and configure your data volumes Cluster Configuration to properly configure your Cassandra cluster ( if using Cassandra cluster ) Consistency checking to enable routine cluster consistency checking ( if using Cassandra ) High availability / Load Balancer configuration to operate Skyminer in a proper transparent high-availability OpenSearch cluster configuration to configure your OpenSearch cluster ( if running as a cluster ) 2014-2023 , Kratos Communications Skyminer Administration Manual - KC-153-MA-0019 v . 2023-dev-S17</p>\n",
       "        <a href='http://192.168.48.22:8082/repository/skyminer-dev/skyminer-documentation/latest/administration-manual-html/administration-manual-html/installation/running-skyminer.html'>Source</a>\n",
       "    </div>\n",
       "    </div>"
      ],
      "text/plain": [
       "<IPython.core.display.HTML object>"
      ]
     },
     "metadata": {},
     "output_type": "display_data"
    }
   ],
   "source": [
    "ask_question(\"how to install skyminer\", x=5)"
   ]
  },
  {
   "cell_type": "code",
   "execution_count": null,
   "id": "091b271a",
   "metadata": {},
   "outputs": [],
   "source": []
  }
 ],
 "metadata": {
  "kernelspec": {
   "display_name": "Python 3 (ipykernel)",
   "language": "python",
   "name": "python3"
  },
  "language_info": {
   "codemirror_mode": {
    "name": "ipython",
    "version": 3
   },
   "file_extension": ".py",
   "mimetype": "text/x-python",
   "name": "python",
   "nbconvert_exporter": "python",
   "pygments_lexer": "ipython3",
   "version": "3.11.4"
  }
 },
 "nbformat": 4,
 "nbformat_minor": 5
}
