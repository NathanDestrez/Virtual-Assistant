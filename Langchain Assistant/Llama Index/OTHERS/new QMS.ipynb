{
 "cells": [
  {
   "cell_type": "code",
   "execution_count": 1,
   "id": "008f0974",
   "metadata": {
    "ExecuteTime": {
     "end_time": "2024-01-16T08:41:44.351983400Z",
     "start_time": "2024-01-16T08:41:38.171795600Z"
    }
   },
   "outputs": [],
   "source": [
    "import requests\n",
    "from bs4 import BeautifulSoup\n",
    "from urllib.parse import urljoin\n",
    "\n",
    "from llama_index import download_loader\n",
    "from llama_index import VectorStoreIndex\n",
    "from llama_index import ServiceContext\n",
    "\n",
    "from llama_index import get_response_synthesizer\n",
    "from llama_index.indices.vector_store.retrievers import VectorIndexRetriever\n",
    "from llama_index.query_engine.retriever_query_engine import (\n",
    "RetrieverQueryEngine,\n",
    ")\n",
    "\n",
    "from langchain.llms import OpenAI\n",
    "from langchain.embeddings import SentenceTransformerEmbeddings"
   ]
  },
  {
   "cell_type": "code",
   "execution_count": 2,
   "id": "509a4879",
   "metadata": {
    "ExecuteTime": {
     "end_time": "2024-01-16T08:42:05.829206200Z",
     "start_time": "2024-01-16T08:41:59.088612100Z"
    }
   },
   "outputs": [
    {
     "name": "stderr",
     "output_type": "stream",
     "text": [
      "C:\\Users\\Bruno.Pinos\\Anaconda3\\envs\\virtual_assistant\\Lib\\site-packages\\tqdm\\auto.py:21: TqdmWarning: IProgress not found. Please update jupyter and ipywidgets. See https://ipywidgets.readthedocs.io/en/stable/user_install.html\n",
      "  from .autonotebook import tqdm as notebook_tqdm\n"
     ]
    }
   ],
   "source": [
    "# Initialize the SentenceTransformerEmbeddings with the loaded model\n",
    "local_embeddings = SentenceTransformerEmbeddings(model_name=\"all-MiniLM-L6-v2\")\n",
    "llm = OpenAI(openai_api_key=\"NULL\",temperature=0,openai_api_base=\"http://192.168.48.33:1234/v1\")\n",
    "service_context = ServiceContext.from_defaults(llm=llm, embed_model=local_embeddings)"
   ]
  },
  {
   "cell_type": "markdown",
   "id": "f36ebd46",
   "metadata": {},
   "source": [
    "# Data "
   ]
  },
  {
   "cell_type": "code",
   "execution_count": 3,
   "id": "7ce87e99",
   "metadata": {
    "ExecuteTime": {
     "end_time": "2024-01-16T08:42:16.089948500Z",
     "start_time": "2024-01-16T08:42:16.083905400Z"
    }
   },
   "outputs": [],
   "source": [
    "index_path = \"http://192.168.48.22:8082/repository/qa/QMS.html\""
   ]
  },
  {
   "cell_type": "markdown",
   "id": "d3738d29",
   "metadata": {},
   "source": [
    "# All links"
   ]
  },
  {
   "cell_type": "code",
   "execution_count": 4,
   "id": "ce39a317",
   "metadata": {
    "ExecuteTime": {
     "end_time": "2024-01-16T08:42:18.785320400Z",
     "start_time": "2024-01-16T08:42:18.781495300Z"
    }
   },
   "outputs": [],
   "source": [
    "def get_all_links(base_url):\n",
    "    # Send a GET request to the base URL\n",
    "    response = requests.get(base_url)\n",
    "    response.raise_for_status()  # Raise an exception for HTTP errors\n",
    "\n",
    "    # Parse the content using BeautifulSoup\n",
    "    soup = BeautifulSoup(response.content, 'html.parser')\n",
    "\n",
    "    # Extract all anchor tags\n",
    "    anchors = soup.find_all('a', href=True)\n",
    "\n",
    "    # Convert relative URLs and fragments to absolute URLs\n",
    "    absolute_urls = [urljoin(base_url, a['href']) for a in anchors]\n",
    "\n",
    "    return absolute_urls"
   ]
  },
  {
   "cell_type": "code",
   "execution_count": 5,
   "id": "9471324e",
   "metadata": {
    "ExecuteTime": {
     "end_time": "2024-01-16T08:42:21.083996600Z",
     "start_time": "2024-01-16T08:42:20.920503800Z"
    }
   },
   "outputs": [],
   "source": [
    "linked_urls = get_all_links(index_path)"
   ]
  },
  {
   "cell_type": "code",
   "execution_count": 9,
   "id": "4f91a521",
   "metadata": {},
   "outputs": [],
   "source": [
    "links = linked_urls\n",
    "\n",
    "# Lists to store categorized links\n",
    "html_links = []\n",
    "pdf_links = []\n",
    "xlsx_links = []\n",
    "xls_links = []\n",
    "docx_links = []\n",
    "doc_links = []\n",
    "pptx_links = []\n",
    "zip_links = []\n",
    "\n",
    "# Categorize links\n",
    "for link in links:\n",
    "    if link.endswith('.html'):\n",
    "        html_links.append(link)\n",
    "    elif link.endswith('.pdf'):\n",
    "        pdf_links.append(link)\n",
    "    elif link.endswith('.xlsx'):\n",
    "        xlsx_links.append(link)\n",
    "    elif link.endswith('.xls'):\n",
    "        xls_links.append(link)\n",
    "    elif link.endswith('.docx'):\n",
    "        docx_links.append(link)\n",
    "    elif link.endswith('.doc'):\n",
    "        doc_links.append(link)\n",
    "    elif link.endswith('.pptx'):\n",
    "        pptx_links.append(link)\n",
    "    elif link.endswith('.zip'):\n",
    "        zip_links.append(link)"
   ]
  },
  {
   "cell_type": "code",
   "execution_count": 10,
   "id": "c4f257b1",
   "metadata": {},
   "outputs": [
    {
     "name": "stdout",
     "output_type": "stream",
     "text": [
      "HTML:\n",
      "http://192.168.48.22:8082/repository/qa/QMS.html\n",
      "http://192.168.48.22:8082/repository/qa/Quality_Manual.html\n",
      "http://192.168.48.22:8082/repository/qa/Kratos_Organization_Note.html\n",
      "http://192.168.48.22:8082/repository/qa/Kratos_Diagram.html\n",
      "http://qms-toulouse.kratos.us/QMS.html\n",
      "http://qms-toulouse.kratos.us/internal/internal-process.html\n",
      "http://192.168.48.22:8082/repository/qa/Document_Management.html\n",
      "http://192.168.48.22:8082/repository/qa/Document_Publication.html\n",
      "http://192.168.48.22:8082/repository/qa/Human_Resources.html\n",
      "http://192.168.48.22:8082/repository/qa/Account_Management.html\n",
      "http://192.168.48.22:8082/repository/qa/Infrastructure.html\n",
      "http://192.168.48.22:8082/repository/qa/Project_Folder_Organization.html\n",
      "http://192.168.48.22:8082/repository/qa/Configuration_Management.html\n",
      "http://192.168.48.22:8082/repository/qa/Work%20Instructions/WI_Project_Library.html\n",
      "http://192.168.48.22:8082/repository/qa/Configuration_Management_for_Projects.html\n",
      "http://192.168.48.22:8082/repository/qa/Software_Developers_Guide.html\n",
      "http://192.168.48.22:8082/repository/qa/Customer_Property.html\n",
      "http://192.168.48.22:8082/repository/knowledge/Projects/Project_Steps.html\n",
      "http://192.168.48.22:8082/repository/qa/Non_Conformance_process.html\n",
      "http://192.168.48.22:8082/repository/qa/Proposals_Contracts_Process.html\n",
      "http://192.168.48.22:8082/repository/qa/Proposals_Process.html\n",
      "http://192.168.48.22:8082/repository/qa/Bank_Guarantees.html\n",
      "http://192.168.48.22:8082/repository/qa/Contract_Review_Process.html\n",
      "http://192.168.48.22:8082/repository/qa/Change_Management.html\n",
      "http://192.168.48.22:8082/repository/qa/Purchasing_Process.html\n",
      "http://192.168.48.22:8082/repository/qa/Purchase_Request_Procedure.html\n",
      "http://192.168.48.22:8082/repository/qa/Vendor_Evaluation_Procedure.html\n",
      "http://192.168.48.22:8082/repository/qa/Purchase_Order_Procedure.html\n",
      "http://192.168.48.22:8082/repository/qa/Subcontractor_Management_Process.html\n",
      "http://192.168.48.22:8082/repository/qa/Subcontractor_Travel_Process.html\n",
      "http://192.168.48.22:8082/repository/qa/Quality_Process.html\n",
      "http://192.168.48.22:8082/repository/qa/Quality_Document_Management.html\n",
      "http://192.168.48.22:8082/repository/qa/Templates/Quality%20Management/Process_Template.html\n",
      "http://192.168.48.22:8082/repository/qa/Shipping_Receiving_Warehousing.html\n",
      "http://192.168.48.22:8082/repository/qa/Shipping_Process.html\n",
      "http://192.168.48.22:8082/repository/qa/Receiving_Process.html\n",
      "http://192.168.48.22:8082/repository/qa/Packaging_Process.html\n",
      "http://192.168.48.22:8082/repository/qa/Handling_Storage.html\n",
      "http://192.168.48.22:8082/repository/qa/Warranty_Inspection.html\n",
      "http://192.168.48.22:8082/repository/qa/Customer_Support_Data_Process.html\n",
      "http://192.168.48.22:8082/repository/qa/Facility_Access_Control_Policy.html\n",
      "http://192.168.48.22:8082/repository/qa/template_version_information.html\n"
     ]
    }
   ],
   "source": [
    "print(\"HTML:\")\n",
    "for link in html_links:\n",
    "    print(link)"
   ]
  },
  {
   "cell_type": "markdown",
   "id": "766a45cb",
   "metadata": {},
   "source": [
    "# Scrap "
   ]
  },
  {
   "cell_type": "code",
   "execution_count": 11,
   "id": "b6429699",
   "metadata": {},
   "outputs": [],
   "source": [
    "BeautifulSoupWebReader = download_loader(\"BeautifulSoupWebReader\")"
   ]
  },
  {
   "cell_type": "code",
   "execution_count": 12,
   "id": "ddf58b79",
   "metadata": {},
   "outputs": [],
   "source": [
    "loader = BeautifulSoupWebReader()"
   ]
  },
  {
   "cell_type": "code",
   "execution_count": 13,
   "id": "cc9e53c3",
   "metadata": {},
   "outputs": [
    {
     "name": "stdout",
     "output_type": "stream",
     "text": [
      "Error loading http://qms-toulouse.kratos.us/QMS.html: One of the inputs is not a valid url: http://qms-toulouse.kratos.us/QMS.html\n",
      "Error loading http://qms-toulouse.kratos.us/internal/internal-process.html: One of the inputs is not a valid url: http://qms-toulouse.kratos.us/internal/internal-process.html\n"
     ]
    }
   ],
   "source": [
    "# Initialize an empty list to collect documents.\n",
    "docs = []\n",
    "\n",
    "# Iterate over each URL in the html_links list.\n",
    "for url in html_links:\n",
    "    try:\n",
    "        # Attempt to load data from each URL individually.\n",
    "        # Make sure to pass the URL as a list to the 'urls' parameter.\n",
    "        doc = loader.load_data(urls=[url])  # Corrected the parameter here\n",
    "        docs.append(doc)\n",
    "    except Exception as e:\n",
    "        # Print the error and the URL that caused it for debugging purposes.\n",
    "        print(f\"Error loading {url}: {e}\")"
   ]
  },
  {
   "cell_type": "code",
   "execution_count": 14,
   "id": "76c04ffa",
   "metadata": {},
   "outputs": [
    {
     "data": {
      "text/plain": [
       "(list, 40)"
      ]
     },
     "execution_count": 14,
     "metadata": {},
     "output_type": "execute_result"
    }
   ],
   "source": [
    "type(docs), len(docs)"
   ]
  },
  {
   "cell_type": "code",
   "execution_count": 40,
   "id": "24315183",
   "metadata": {
    "scrolled": false
   },
   "outputs": [
    {
     "data": {
      "text/plain": [
       "[Document(id_='e1d8c258-b609-495a-bc77-7d651e85f87e', embedding=None, metadata={'URL': 'http://192.168.48.22:8082/repository/qa/QMS.html'}, excluded_embed_metadata_keys=[], excluded_llm_metadata_keys=[], relationships={}, hash='b475d0b49b905f17589e1d85d52e86f4f851905bbf49cd00de4c5abb1622554e', text='\\n\\n\\n\\n\\n\\nQuality Management System\\n\\n\\n\\n\\n\\n\\nQuality Management System\\n\\n\\nKratos Logo\\n\\n\\nHomeGitlabPDF\\n\\n\\n\\n\\nTable of Contents\\n\\n\\nIntroduction\\nQuality Management System\\nReference Documents\\nList of Processes\\n\\nDocuments\\nHuman Resources\\nInfrastructure\\nOperations\\nProposals and Contracts\\nPurchasing\\nQuality\\nShipping and Receiving\\nSupport\\n\\nTraining Materials\\nHealth, Safety and Environment\\nKratos Communications SAS Process Identification\\nTemplate Version\\n\\n\\n\\n1 Introduction\\nWelcome to Kratos QMS\\nQuality Policy\\n\"Our goal at Kratos Communications SAS is to be the leading provider of products, systems, and services, tailored to our customers’ specific needs.\\nOur employees are empowered and committed to deliver high-quality solutions to meet that goal, and to provide complete customer satisfaction while continuously improving our quality management system.\"\\n2 Quality Management System\\n\\nKratos Communications SAS Quality Manual\\nKratos Communications SAS ISO Certificate\\nKratos Communications SAS Organization Note\\nKratos Communications SAS Diagram\\nKratos Communications SAS Process Monitoring\\nKratos Communications SAS Records\\nDNS QMS\\nDNS Internal Processes\\n\\n3 Reference Documents\\n\\nISO 9001 - Systèmes de management de la qualité - Exigences\\nISO 9001 - Quality management systems - Requirements\\nKratos Limit of Authority\\n\\n4 List of Processes\\n4.1 Documents\\n\\n\\n\\nProcess\\nTemplate\\n\\n\\n\\n\\nDocument Management\\nProduct-Project Master\\n\\n\\nDocument Publication\\nExport Control Header Page\\n\\n\\nKratos Style Guide\\nKratos PPT Master Standard\\n\\n\\n\\nKratos LetterHead\\n\\n\\n\\nKratos Letter\\n\\n\\n\\nKratos Process Template\\n\\n\\n\\n4.2 Human Resources\\n\\n\\n\\nProcess\\nTemplate\\nWork Instructions\\n\\n\\n\\n\\nHuman Resources\\n\\n\\n\\n\\nAccount Management\\nNew Employee Form\\nN2F Procedure\\n\\n\\n\\nTravel Authorization Form Singapore\\nN2F FAQ\\n\\n\\n\\nExpense Report_KCOMMS Singapore\\n\\n\\n\\n\\nExpense Report_KCOMMS Oman\\n\\n\\n\\n\\nDemande Heures Supplementaires\\n\\n\\n\\n\\nLeave Form Singapore\\n\\n\\n\\n\\nTraining Log Template\\n\\n\\n\\n\\nTraining Evaluation Template\\n\\n\\n\\n\\n4.3 Infrastructure\\n\\nInfrastructure\\nNote d’Information Vidéosurveillance\\nNote d’Information Accès par badge\\n\\n4.4 Operations\\n\\n\\n\\n\\n\\n\\n\\n\\n\\nProcess\\nTemplate\\nTemplate\\nWork Instructions\\n\\n\\n\\n\\nProject Folder Organization\\nProject Folder Template\\nTraining Plan Template\\n\\n\\n\\nConfiguration Management\\nProject Folder Library\\nTraining Certificate Template\\nProject Library Instruction\\n\\n\\nConfiguration Management for Projects\\nInternal Kick-Off Template\\nRelease Note Template\\n\\n\\n\\nSoftware Developer’s Guide\\nDelivery List Template\\nSite Survey Questionnaire\\n\\n\\n\\nCustomer Property\\nDelivery Review Checklist\\nDelivery Item List\\n\\n\\n\\nProject Process Steps\\nMinutes of Meeting Template\\nCertificat of Conformance (CoC)\\n\\n\\n\\n\\nQuality Assurance & Project Management Plan Template\\nChange Request Template\\n\\n\\n\\n\\nAction Items List Template\\nChange Notice Template\\n\\n\\n\\n\\nProject Management Plan Template\\nRisk Management Template\\n\\n\\n\\n\\nProject Review Template\\nRequest for Deviation_Waiver Template\\n\\n\\n\\n\\nProject Status Report Template\\n\\n\\n\\n\\n\\nWarranty & Maintenance Plan\\nWarranty Certificate\\n\\n\\n\\n\\nQuality Assurance Plan Template\\nExternal Kick-Off Presentation Template\\n\\n\\n\\n\\n\\nStatement Of Work for Suppliers\\n\\n\\n\\n\\n\\nInspection Key Point Template\\n\\n\\n\\nNon-Conformance Process\\nInternal Non-Conformance Template\\nExternal Non-Conformance Template\\n\\n\\n\\n\\n4.5 Proposals and Contracts\\n\\n\\n\\nProcess\\nTemplate\\n\\n\\n\\n\\nProposals and Contracts Process\\nProposal Template\\n\\n\\nProposals Process\\nPricing Template\\n\\n\\nBank Guarantees\\nProposal Review Checklist\\n\\n\\nContract Review Process\\nContract Review Folder\\n\\n\\nChange Management Process\\nContract Review Checklist\\n\\n\\n\\nNDA Playbook France\\n\\n\\n\\nNDA Template\\n\\n\\n\\nOrder Acknowledgement with Header Template\\n\\n\\n\\n4.6 Purchasing\\n\\n\\n\\n\\n\\n\\n\\n\\nProcess\\nWork Instructions\\nTemplate\\n\\n\\n\\n\\nPurchasing Process\\nProcess_Identification_Purchasing\\n\\n\\n\\n\\nPurchase Request Procedure\\nPurchase Request Template\\n\\n\\n\\nVendor Evaluation Procedure\\n\\n\\n\\n\\nPurchase Order Procedure\\nPO Template 1 Interco Kcomms Inc\\n\\n\\n\\n\\nPO Template 1 Interco Kcomms Ltd\\n\\n\\n\\n\\nPO Template 1 Interco Kcomms KTTS\\n\\n\\n\\n\\nPO Template 1 Interco Kcomms Japan\\n\\n\\n\\n\\nPO Template 1 Interco Singapore Kcomms\\n\\n\\n\\n\\nPO Template 1 Interco Kcomms Singapore\\n\\n\\n\\n\\nPO Template 2 FR Supplier\\n\\n\\n\\n\\nPO Template 2 EN Supplier\\n\\n\\n\\n\\nPO Template 3 Singapore\\n\\n\\n\\n\\nPO Template 4 Oman\\n\\n\\n\\n\\nPO Template 5 Shipping Service\\n\\n\\nSubcontractor Management\\nSubcontractor Travel\\nIndependent Contractor Agreement\\n\\n\\n\\n\\nTravel Authorization Form Subcontractor\\n\\n\\n\\n4.7 Quality\\n\\n\\n\\nProcess\\nWork Instructions\\nTemplate\\n\\n\\n\\n\\nQuality Process\\nProcess_Identification_Management\\n\\n\\n\\n\\nQuality Document Management\\nProcess Template\\n\\n\\n\\n\\nAudit Report Template\\n\\n\\n\\n\\nAudit Plan Template\\n\\n\\n\\n\\nCustomer Satisfaction Questionnaire\\n\\n\\n\\n\\nProject Audit Template\\n\\n\\n\\n4.8 Shipping and Receiving\\n\\n\\n\\nProcess\\nTemplate\\n\\n\\n\\n\\nShipping, Receiving, Warehousing Process\\n\\n\\n\\nShipping Process\\nShipping Record Template\\n\\n\\n\\nCommercial Invoice Template\\n\\n\\n\\nEnd User Statement Template\\n\\n\\nReceiving Process\\nReception Form Template\\n\\n\\nPackaging Process\\nBox Label Template\\n\\n\\nHandling and Storage Process\\nPacking List Template\\n\\n\\nWarranty Inspection Process\\nWarranty Inspection Form Template\\n\\n\\n\\n4.9 Support\\n\\n\\n\\n\\n\\n\\n\\nProcess\\nTemplate\\n\\n\\n\\n\\nCustomer Support Data Process\\nKCOMMS Delivery - Account HandOff to Support\\n\\n\\n\\n5 Training Materials\\n\\nQMS Gitlab Training\\nConfiguration Management\\nQuality Managment System\\nQMS Documentation\\nPurchasing Process\\nContract Review Process\\nReceiving Process\\nWarranty Inspection Process\\nShipping Process 1\\nShipping Process 2\\nSoftware Developer’s Guide\\nSoftware Developer’s Guide associated quiz\\n\\n6 Health, Safety and Environment\\n\\nDocument unique\\nRisques Professionnels\\nNote de Prévention Covid\\nProtocole de gestion de cas Covid-19\\nRoof Access Template\\nPlan de Prévention\\nFacility Access Control Policy\\n\\n7 Kratos Communications SAS Process Identification\\n\\n\\n\\nProcess Name\\nProcess Identification\\n\\n\\n\\n\\n1. Business Management\\nProcess_Identification_Business_Management\\n\\n\\n2. Operations\\nProcess_Identification_Operation_Management\\n\\n\\n3. Process Management\\nProcess_Identification_Management\\n\\n\\n4. Shipping & Receiving\\nProcess_Identification_Shipping_Receiving\\n\\n\\n5. Infrastructure\\nProcess_Identification_Infrastructure\\n\\n\\n6. Purchasing\\nProcess_Identification_Purchasing\\n\\n\\n7. Contracts\\nProcess_Identification_Contracts\\n\\n\\n8. Human Resources\\nProcess_Identification_Human_Resources\\n\\n\\n\\n8 Template Version\\n\\nTemplate version list\\n\\n\\nLast modification of the file the 2023-12-19 13:44:41 +0000 with version 7a0aeac4d8569d365b00e525d6caa2cbafafc6cd\\n\\nGenerated with global version f30e75c04d0a8e6659f212ecf2a477235bd8c49a on 2023-12-22 14:23:43 +0000\\n\\n\\n\\n', start_char_idx=None, end_char_idx=None, text_template='{metadata_str}\\n\\n{content}', metadata_template='{key}: {value}', metadata_seperator='\\n')]"
      ]
     },
     "execution_count": 40,
     "metadata": {},
     "output_type": "execute_result"
    }
   ],
   "source": [
    "docs[0]"
   ]
  },
  {
   "cell_type": "markdown",
   "id": "61d24fe5",
   "metadata": {},
   "source": [
    "# Test "
   ]
  },
  {
   "cell_type": "code",
   "execution_count": 45,
   "id": "55b7a56c",
   "metadata": {},
   "outputs": [],
   "source": [
    "# Flatten the list of lists into a single list of documents\n",
    "flattened_docs = [doc for sublist in docs for doc in sublist]"
   ]
  },
  {
   "cell_type": "code",
   "execution_count": 46,
   "id": "35965f50",
   "metadata": {},
   "outputs": [
    {
     "name": "stdout",
     "output_type": "stream",
     "text": [
      "Document 0: Type - <class 'llama_index.schema.Document'>\n",
      "Doc ID: e1d8c258-b609-495a-bc77-7d651e85f87e\n",
      "Text: Quality Management System       Quality Management System\n",
      "Kratos Logo   HomeGitlabPDF     Table of Contents   Introduction\n",
      "Quality Management System Reference Documents List of Processes\n",
      "Documents Human Resources Infrastructure Operations Proposals and\n",
      "Contracts Purchasing Quality Shipping and Receiving Support  Training\n",
      "Materials Health, Saf...\n",
      "Document 1: Type - <class 'llama_index.schema.Document'>\n",
      "Doc ID: 18c0c904-d91c-4813-8c45-7646256b882c\n",
      "Text: Quality Manual       Quality Manual   Kratos Logo\n",
      "HomeGitlabPDF     Table of Contents   Introduction References Terms\n",
      "and Definitions Context of the Organization  Understanding the\n",
      "organization and its contexts Understanding the needs and expectation\n",
      "of interested Parties Determining the scope of the quality management\n",
      "system Quality Managemen...\n",
      "Document 2: Type - <class 'llama_index.schema.Document'>\n",
      "Doc ID: 9a09c69f-4487-4dde-ba9a-3f3652d25904\n",
      "Text: Kratos Communications SAS Organization note       Kratos\n",
      "Communications SAS Organization note   Kratos Logo   HomeGitlabPDF\n",
      "Table of Contents   Introduction  Scope References  Business  Location\n",
      "Activities Customers  Global Organization Local Organization  Diagram\n",
      "President Vice–President Enterprise Solutions Finances  Accounting\n",
      "Purchasing ...\n",
      "Document 3: Type - <class 'llama_index.schema.Document'>\n",
      "Doc ID: 631000f4-2326-4d59-a6fb-77624b40667d\n",
      "Text: Kratos Diagram       Kratos Diagram   Kratos Logo\n",
      "HomeGitlabPDF     Table of Contents   Introduction  Kratos\n",
      "Communications Functionnal Organization  Kratos Communications SAS\n",
      "1 Introduction The diagrams below presents the Kratos Communications\n",
      "organization. 1.1 Kratos Communications Functionnal Organization The\n",
      "figure shows the Kratos Comm...\n",
      "Document 4: Type - <class 'llama_index.schema.Document'>\n",
      "Doc ID: bca20552-2352-4f43-b385-28a16a199ac4\n",
      "Text: Document Management Process       Document Management Process\n",
      "Kratos Logo   HomeGitlabPDF     Table of Contents   Introduction\n",
      "Overview  Process  Document Identification Example  Project Documents\n",
      "Creating/saving the new document Modifying/saving the document\n",
      "Reviewing/approving the document  Proposal Documents  Creating/saving\n",
      "the new docum...\n"
     ]
    }
   ],
   "source": [
    "for i, doc in enumerate(flattened_docs[:5]):\n",
    "    print(f\"Document {i}: Type - {type(doc)}\")\n",
    "    print(doc)  # Or print specific attributes if needed\n"
   ]
  },
  {
   "cell_type": "markdown",
   "id": "b19a5dee",
   "metadata": {},
   "source": [
    "# Default vector store "
   ]
  },
  {
   "cell_type": "code",
   "execution_count": 47,
   "id": "269a0a8d",
   "metadata": {},
   "outputs": [],
   "source": [
    "index = VectorStoreIndex.from_documents(flattened_docs, service_context=service_context)"
   ]
  },
  {
   "cell_type": "code",
   "execution_count": 48,
   "id": "e1fdff21",
   "metadata": {},
   "outputs": [],
   "source": [
    "# Retrieve the document information\n",
    "doc_info = index.ref_doc_info"
   ]
  },
  {
   "cell_type": "code",
   "execution_count": 49,
   "id": "f29c5b4c",
   "metadata": {},
   "outputs": [
    {
     "name": "stdout",
     "output_type": "stream",
     "text": [
      "Number of documents in the index: 40\n"
     ]
    }
   ],
   "source": [
    "# Get the number of documents\n",
    "num_documents = len(doc_info)\n",
    "print(f\"Number of documents in the index: {num_documents}\")"
   ]
  },
  {
   "cell_type": "code",
   "execution_count": 50,
   "id": "fecb88b4",
   "metadata": {},
   "outputs": [
    {
     "name": "stdout",
     "output_type": "stream",
     "text": [
      "Document ID: e1d8c258-b609-495a-bc77-7d651e85f87e, Info: RefDocInfo(node_ids=['22864390-08bb-4452-bd9f-f255c3ffa4fd', '245f4c97-5f4a-4a4d-a786-ac793a5b1de8'], metadata={'URL': 'http://192.168.48.22:8082/repository/qa/QMS.html'})\n",
      "Document ID: 18c0c904-d91c-4813-8c45-7646256b882c, Info: RefDocInfo(node_ids=['375d07b1-86ae-4063-9f31-b99895086203', 'dfa5709b-dc92-44ea-bfa4-edd430777056', '6b8fa202-e8a3-459a-b373-43ffd67132f9', '2de06e12-b52b-4325-880c-8cf4dc2a394f', '2769e71a-5345-4461-9309-666086394255', '0db276d7-e3e6-417b-8266-2d3ae7b1d500', '93b4edb8-6b84-4c9a-b1a2-5dd549f014fa', 'aa4af12d-229a-437c-bf32-c64e5c5903d2', '51e53839-2ca5-40dc-864e-88db514ac6e6', 'b9345f84-5284-42cd-8864-1cc2d00ac932', 'e0fe2aed-a444-41f4-895b-486fe9333c96'], metadata={'URL': 'http://192.168.48.22:8082/repository/qa/Quality_Manual.html'})\n",
      "Document ID: 9a09c69f-4487-4dde-ba9a-3f3652d25904, Info: RefDocInfo(node_ids=['c976abbb-3d20-434c-8532-3560cc0f7ef1', 'd42cbc96-849a-4d30-8242-d16117d03c55', 'dc9f42a8-25cd-4d7d-b57a-994a14ca709c', '5cef91d1-7387-4512-86ea-7b5ce6c5a5ba'], metadata={'URL': 'http://192.168.48.22:8082/repository/qa/Kratos_Organization_Note.html'})\n",
      "Document ID: 631000f4-2326-4d59-a6fb-77624b40667d, Info: RefDocInfo(node_ids=['ab255c7b-f5c5-48d5-afc2-aa9fdaae1fb9'], metadata={'URL': 'http://192.168.48.22:8082/repository/qa/Kratos_Diagram.html'})\n",
      "Document ID: bca20552-2352-4f43-b385-28a16a199ac4, Info: RefDocInfo(node_ids=['9c0d87cb-979d-4b20-952e-80fa10c4e49d', '5c3f64e5-5338-48a1-8322-b12c2816864e', '9e9a9af7-db34-46b8-90e3-6d41bed9e409', '2b60c5ba-dcd8-46dd-b4fd-0e5f2effcb17', 'd534f392-c1ba-4d73-ab97-d7419a12bc37'], metadata={'URL': 'http://192.168.48.22:8082/repository/qa/Document_Management.html'})\n",
      "Document ID: 668efb18-d06a-47b0-97b4-25ce2fe86b82, Info: RefDocInfo(node_ids=['12f7893f-f466-46c7-920f-17e6614257dc'], metadata={'URL': 'http://192.168.48.22:8082/repository/qa/Document_Publication.html'})\n",
      "Document ID: 447f753a-6d0e-4300-b74f-1092af304351, Info: RefDocInfo(node_ids=['3edcbd38-decc-4914-9165-889d8d1876be', 'e0d1c0ba-1b97-41ad-803a-368131b0a496'], metadata={'URL': 'http://192.168.48.22:8082/repository/qa/Human_Resources.html'})\n",
      "Document ID: b39d9506-7335-49ac-bd1b-e9e0b3f2bedf, Info: RefDocInfo(node_ids=['b900618c-61a9-472a-a551-240be60a3f7c'], metadata={'URL': 'http://192.168.48.22:8082/repository/qa/Account_Management.html'})\n",
      "Document ID: 1d201e29-9b95-45e0-9a38-2d1ebdd783ab, Info: RefDocInfo(node_ids=['793e7ab6-0839-4c47-a545-16ef6bc2b305', '85c1bc0a-e0a3-42a5-b3a0-d864f9a28736', 'dc58d813-dca9-4485-b4e0-26ffbc55af49', '3889a713-80c2-43e4-b3bc-d8abadebb3ba'], metadata={'URL': 'http://192.168.48.22:8082/repository/qa/Infrastructure.html'})\n",
      "Document ID: 6324fad0-158d-4d8f-a374-82fbf0f4bcf5, Info: RefDocInfo(node_ids=['6210e091-80f1-4ae4-b43a-818eee441e9a', 'cf2a6b26-db21-4b8c-9aee-ac6d0ebe9b1a', '3d989515-b3f4-44de-a49e-1a6cc377c0d1', 'b2811ba7-b227-4191-b90e-78cfcb88bf9e'], metadata={'URL': 'http://192.168.48.22:8082/repository/qa/Project_Folder_Organization.html'})\n",
      "Document ID: d1007bae-7158-43ff-9f5e-28fee48ef7e4, Info: RefDocInfo(node_ids=['31d6ae37-3982-4e25-90f9-dd1ee628303c', '743609d4-c180-432f-a8db-adcba01263eb', 'de1668b3-b2de-48be-ab7a-66741e33fe21'], metadata={'URL': 'http://192.168.48.22:8082/repository/qa/Configuration_Management.html'})\n",
      "Document ID: a02e11cb-a56c-4359-ad4f-0bd58be9fd5d, Info: RefDocInfo(node_ids=['3e822735-8a96-44fc-82e6-5e3df6edbe00'], metadata={'URL': 'http://192.168.48.22:8082/repository/qa/Work%20Instructions/WI_Project_Library.html'})\n",
      "Document ID: f1872168-bbe8-4f98-9897-44561b356086, Info: RefDocInfo(node_ids=['906783c0-fb8d-4200-9df1-8b4837429783', 'bc345932-fcd8-404a-b269-fd8ebfd09874', 'c97c83c3-f389-41bf-a622-67a97f244c44', '154400a1-1f3a-488b-bf43-588678bdf27b', 'b081ca64-195a-410e-9dec-69672a63a69a'], metadata={'URL': 'http://192.168.48.22:8082/repository/qa/Configuration_Management_for_Projects.html'})\n",
      "Document ID: 4a2d00ad-6bb1-4948-bc8e-f323a9347342, Info: RefDocInfo(node_ids=['43658667-b79d-4ed9-9a13-5d79f8668e04', '3cd93d3a-5b00-4724-acb1-2d8d9e0b4057', 'e2335796-8af9-4083-8636-a858de0cc5f7', '2c671ebc-4a13-4e13-a10e-3100d2d36d0c', '6148566b-9fdd-41cb-9594-a76c9a97383a', '9e13db6f-1d68-4f2a-984c-6c18c433398d', '04e930f3-e1c9-482a-a03b-0556ae91926e', '7f2c25f9-92d0-42d7-abb8-2ddb9dfbe964', '3b6d0145-e37c-4416-85f7-fbc807c6274a'], metadata={'URL': 'http://192.168.48.22:8082/repository/qa/Software_Developers_Guide.html'})\n",
      "Document ID: e32056f2-5fe6-45c9-b498-e5a7ab6023ff, Info: RefDocInfo(node_ids=['3c32086a-3a02-481f-b28d-640f59eba9be'], metadata={'URL': 'http://192.168.48.22:8082/repository/qa/Customer_Property.html'})\n",
      "Document ID: 92967452-8fe7-45e0-98ae-5fd70a9ae284, Info: RefDocInfo(node_ids=['ac946d14-7bb3-4e4e-a5b3-ad859fef47d3', '9b8de1e9-0d79-4d9d-a398-b57524320227', 'a3640e3e-bd17-4a77-bd6e-dc48f65967ec'], metadata={'URL': 'http://192.168.48.22:8082/repository/knowledge/Projects/Project_Steps.html'})\n",
      "Document ID: ffaabfec-2b46-490e-a966-211fa2d704d6, Info: RefDocInfo(node_ids=['8622bdb8-d585-4204-9ef2-56d36453ddcc', '4b4b3408-0f3e-45fe-b8ec-6b15673db546'], metadata={'URL': 'http://192.168.48.22:8082/repository/qa/Non_Conformance_process.html'})\n",
      "Document ID: d6c2b3d4-6390-43e8-bb51-688f0d8e595a, Info: RefDocInfo(node_ids=['f223f407-fbc5-4a6f-9819-893a8a39219b'], metadata={'URL': 'http://192.168.48.22:8082/repository/qa/Proposals_Contracts_Process.html'})\n",
      "Document ID: 59d8bbfc-a68a-4b53-ae43-86177d03f7df, Info: RefDocInfo(node_ids=['53cb3ae8-9578-4d1d-aed5-d965cd0cd975', '28afe58c-8c08-4ff1-baa8-0ac2ba1cbb33', '4f83a7fb-ae13-47df-a00e-7bb9323d3337'], metadata={'URL': 'http://192.168.48.22:8082/repository/qa/Proposals_Process.html'})\n",
      "Document ID: 2c86a14f-bd18-42d3-bbb7-3ac71fc284c2, Info: RefDocInfo(node_ids=['623400e0-f7cc-4b9e-b43d-19c40a46abfa'], metadata={'URL': 'http://192.168.48.22:8082/repository/qa/Bank_Guarantees.html'})\n",
      "Document ID: 0097700f-f471-4cfd-85e1-693a2f32c1e9, Info: RefDocInfo(node_ids=['59879619-a4ea-4393-a569-4c0bab709a61', '5a87d8b5-536d-4eb2-8cad-b75a69cdb64e', '993f1112-65ca-4998-8922-8946f09e7728', '5d9c3d70-07f2-4f0a-b805-48301c7f9a80', '1b2a50b8-937d-4981-a70e-201aefba8a0d', '8effddef-a42a-4b80-ba4e-b5c8a5f4b4fe', 'c8d52f0e-4dd5-45a5-a1c9-4325d39eab41'], metadata={'URL': 'http://192.168.48.22:8082/repository/qa/Contract_Review_Process.html'})\n",
      "Document ID: 515e982c-1dec-42d6-aa5d-777886ce9ca4, Info: RefDocInfo(node_ids=['0f528e7b-01fe-40ba-bd4e-e747cd303e39'], metadata={'URL': 'http://192.168.48.22:8082/repository/qa/Change_Management.html'})\n",
      "Document ID: f0ad8ab5-29d5-4253-91a0-197c36ae454d, Info: RefDocInfo(node_ids=['3eada472-eed3-484c-82b8-4ff9a22e81d0', '3f452c7f-8f2e-4241-8fa7-ff767ac6bf7d', '5ecdc9c4-8fbe-42e6-bbc1-378130314483', '6e5aa72a-872c-44a4-a682-edc321a0b33f'], metadata={'URL': 'http://192.168.48.22:8082/repository/qa/Purchasing_Process.html'})\n",
      "Document ID: 5fee3e08-23ae-41e5-8d67-e40257e2ea2b, Info: RefDocInfo(node_ids=['32f1527d-9f76-4c4c-a826-7224bf4d0175'], metadata={'URL': 'http://192.168.48.22:8082/repository/qa/Purchase_Request_Procedure.html'})\n",
      "Document ID: 4544e14a-b72a-4f8f-9058-23f5340bb64a, Info: RefDocInfo(node_ids=['46a3f4d6-0e22-4fec-a816-8b0a8587d5e0', '25a5d54b-b3c2-42b2-b91b-a4b0f6efe4cd'], metadata={'URL': 'http://192.168.48.22:8082/repository/qa/Vendor_Evaluation_Procedure.html'})\n",
      "Document ID: 09cf1886-f195-49ff-a75c-f47a14dc4b67, Info: RefDocInfo(node_ids=['73759b0b-5655-4bca-925b-2195839f6023'], metadata={'URL': 'http://192.168.48.22:8082/repository/qa/Purchase_Order_Procedure.html'})\n",
      "Document ID: 267edd64-a4af-4e3a-af2e-c8aa8288b656, Info: RefDocInfo(node_ids=['eafd2959-3324-4df6-ac6d-d2e57c7c1103', 'f50d58ad-e1d1-4504-996d-74c97d8abf00', 'ce36be8a-fe61-4363-88ec-a9163f8749a1', '72e56b9e-9abb-4fd1-9f4a-749031b55de4'], metadata={'URL': 'http://192.168.48.22:8082/repository/qa/Subcontractor_Management_Process.html'})\n",
      "Document ID: 40e7aa35-127e-47a9-823f-3dc64f9aeaa0, Info: RefDocInfo(node_ids=['17ed8a11-5c3f-4540-8587-97c32c02f2e8'], metadata={'URL': 'http://192.168.48.22:8082/repository/qa/Subcontractor_Travel_Process.html'})\n",
      "Document ID: 29dbe8cd-daaf-4877-9bb2-a041ab2d66c9, Info: RefDocInfo(node_ids=['8cbb105c-c511-4da6-89a3-74a55c92dedd'], metadata={'URL': 'http://192.168.48.22:8082/repository/qa/Quality_Process.html'})\n",
      "Document ID: 36949792-28ad-4e13-9b97-58055daaad1b, Info: RefDocInfo(node_ids=['c6382302-f7d0-42c5-be73-e17f411489c2'], metadata={'URL': 'http://192.168.48.22:8082/repository/qa/Quality_Document_Management.html'})\n",
      "Document ID: 3f7b7f9f-dd06-496d-bfb7-c97398f0fbc7, Info: RefDocInfo(node_ids=['53264385-3aa2-4e58-9a7a-59c765be291f'], metadata={'URL': 'http://192.168.48.22:8082/repository/qa/Templates/Quality%20Management/Process_Template.html'})\n",
      "Document ID: 115c5063-f94a-43c3-bae3-394ce6fc553a, Info: RefDocInfo(node_ids=['8bc14ba3-b164-4e90-8dbf-3bdf113792f7'], metadata={'URL': 'http://192.168.48.22:8082/repository/qa/Shipping_Receiving_Warehousing.html'})\n",
      "Document ID: 8a004882-4926-4eab-9784-a9ad6ed1d9f9, Info: RefDocInfo(node_ids=['a91a65e0-52dc-4aa6-b1d0-7522d00d7300', '6c5d36d4-cc98-497d-a420-99dc84c255c5'], metadata={'URL': 'http://192.168.48.22:8082/repository/qa/Shipping_Process.html'})\n",
      "Document ID: ba0a97ff-11e8-4aec-a94f-7651f3e50e77, Info: RefDocInfo(node_ids=['f46ae8c3-e5df-4e29-b640-31296bb0246d', 'b285f5a8-5b29-457b-97fa-7b4cdbc3ad8a'], metadata={'URL': 'http://192.168.48.22:8082/repository/qa/Receiving_Process.html'})\n",
      "Document ID: eb78d6b2-3e9c-4149-bdbe-9ceee30271bf, Info: RefDocInfo(node_ids=['0e4c6637-c8c2-4b6c-a413-6d5adeb14dc2'], metadata={'URL': 'http://192.168.48.22:8082/repository/qa/Packaging_Process.html'})\n",
      "Document ID: 1453f010-4bf3-400a-9a70-48f3c793a6bd, Info: RefDocInfo(node_ids=['0be99570-995e-4e7f-82b8-700907e5cd9f', '58fef525-094d-4667-8ecc-96560bbeb1f1'], metadata={'URL': 'http://192.168.48.22:8082/repository/qa/Handling_Storage.html'})\n",
      "Document ID: c39740fd-6e5b-49e5-aa64-b427eb0d2df0, Info: RefDocInfo(node_ids=['7154b6de-3a0a-4790-8ccc-8b904b0f91fb', '84a59f1b-e436-4dd3-8a50-6e402f966d71'], metadata={'URL': 'http://192.168.48.22:8082/repository/qa/Warranty_Inspection.html'})\n",
      "Document ID: 28e1fc49-048f-4753-b485-2e1b0adbf66e, Info: RefDocInfo(node_ids=['9537adc6-3e41-4a18-be6a-72f6af09f9ec', '3603a6f2-0c98-4b5a-979c-7b479018f411'], metadata={'URL': 'http://192.168.48.22:8082/repository/qa/Customer_Support_Data_Process.html'})\n",
      "Document ID: 5553de44-1362-4d0d-b9e9-efcfbb428ecb, Info: RefDocInfo(node_ids=['2dbf9879-9941-4840-a80e-37cd786d2db6', '1513627c-1f72-4ea6-aa26-1781508dbea2'], metadata={'URL': 'http://192.168.48.22:8082/repository/qa/Facility_Access_Control_Policy.html'})\n",
      "Document ID: 69a99cdc-b0a5-4f80-8ecb-b87b9d211b77, Info: RefDocInfo(node_ids=['4e4d51a0-c056-44c4-bd40-7a87e1669237', '18305939-9e7c-48fe-9333-5c6b2bee5ae2', 'b415b72c-9cb0-4a49-a7c8-19cbdc7bb60f'], metadata={'URL': 'http://192.168.48.22:8082/repository/qa/template_version_information.html'})\n"
     ]
    }
   ],
   "source": [
    "# Print details of each document (optional)\n",
    "for doc_id, info in doc_info.items():\n",
    "    print(f\"Document ID: {doc_id}, Info: {info}\")"
   ]
  },
  {
   "cell_type": "markdown",
   "id": "8b6b78b9",
   "metadata": {},
   "source": [
    "# Query "
   ]
  },
  {
   "cell_type": "code",
   "execution_count": 51,
   "id": "0839fc10",
   "metadata": {},
   "outputs": [],
   "source": [
    "query_engine = index.as_query_engine()"
   ]
  },
  {
   "cell_type": "code",
   "execution_count": 52,
   "id": "13f33b4c",
   "metadata": {},
   "outputs": [
    {
     "data": {
      "text/plain": [
       "'\\n\\nThe Warranty Inspection Form (WIF) is a document used to collect key information for the project. It is used in the receiving process to verify that the goods & services are compliant to the purpose.'"
      ]
     },
     "execution_count": 52,
     "metadata": {},
     "output_type": "execute_result"
    }
   ],
   "source": [
    "response = query_engine.query(\"what is the wif ?\")\n",
    "response.response"
   ]
  },
  {
   "cell_type": "markdown",
   "id": "be4b5667",
   "metadata": {},
   "source": [
    "# Auto retriever"
   ]
  },
  {
   "cell_type": "code",
   "execution_count": 57,
   "id": "18088205",
   "metadata": {},
   "outputs": [],
   "source": [
    "# build retriever\n",
    "retriever = VectorIndexRetriever(\n",
    "    index=index,\n",
    "    similarity_top_k=3,\n",
    "    vector_store_query_mode=\"default\",\n",
    "    filters=[],\n",
    "    alpha=None,\n",
    "    doc_ids=None,\n",
    ")\n",
    "\n",
    "# build query engine\n",
    "query_engine = RetrieverQueryEngine(\n",
    "    retriever=retriever, response_synthesizer=get_response_synthesizer(service_context)\n",
    ")"
   ]
  },
  {
   "cell_type": "code",
   "execution_count": 58,
   "id": "7bcf12eb",
   "metadata": {},
   "outputs": [
    {
     "data": {
      "text/plain": [
       "'\\n\\nThe Warranty Inspection Form (WIF) is a document used to collect key information for the project. It is used to verify that the goods & services are compliant to the purpose.'"
      ]
     },
     "execution_count": 58,
     "metadata": {},
     "output_type": "execute_result"
    }
   ],
   "source": [
    "response = query_engine.query(\"what is the wif ?\")\n",
    "response.response"
   ]
  },
  {
   "cell_type": "code",
   "execution_count": 59,
   "id": "b2f122b9",
   "metadata": {},
   "outputs": [
    {
     "data": {
      "text/plain": [
       "'\\n\\nThe manager role is a critical one in any organization as they are responsible for leading and guiding their teams towards achieving specific goals and objectives. Managers play a key role in ensuring that projects are completed on time, within budget, and to the required quality standards. They also have to manage resources effectively, including personnel, equipment, and materials, to ensure that projects are completed successfully.\\n\\nIn addition to these responsibilities, managers must also be able to communicate effectively with their teams, stakeholders, and customers. This includes providing clear instructions, feedback, and guidance, as well as being able to listen actively to concerns and issues raised by team members and stakeholders.\\n\\nManagers must also be able to adapt to changing circumstances and be flexible in their approach to problem-solving. They must be able to think critically and make informed decisions that take into account the needs of the organization, as well as the needs of their teams and customers.\\n\\nOverall, the manager role is a complex one that requires a range of skills and competencies, including leadership, communication, problem-solving, and decision-making abilities. Effective managers are able to motivate and inspire their teams, build strong relationships with stakeholders, and ensure that projects'"
      ]
     },
     "execution_count": 59,
     "metadata": {},
     "output_type": "execute_result"
    }
   ],
   "source": [
    "response = query_engine.query(\"Tell me more about manager role ?\")\n",
    "response.response"
   ]
  },
  {
   "cell_type": "code",
   "execution_count": 60,
   "id": "4de2b40a",
   "metadata": {},
   "outputs": [
    {
     "data": {
      "text/plain": [
       "'\\n\\nYou can contact Loeki Vautrin, IT Technician at Loeki.Vautrin@kratosdefense.com or #153 for computer issues.'"
      ]
     },
     "execution_count": 60,
     "metadata": {},
     "output_type": "execute_result"
    }
   ],
   "source": [
    "response = query_engine.query(\"Who should I contact for a computer issue\")\n",
    "response.response"
   ]
  },
  {
   "cell_type": "code",
   "execution_count": 61,
   "id": "44c48430",
   "metadata": {},
   "outputs": [
    {
     "data": {
      "text/plain": [
       "Response(response='\\n\\nYou can contact Loeki Vautrin, IT Technician at Loeki.Vautrin@kratosdefense.com or #153 for computer issues.', source_nodes=[NodeWithScore(node=TextNode(id_='b285f5a8-5b29-457b-97fa-7b4cdbc3ad8a', embedding=None, metadata={'URL': 'http://192.168.48.22:8082/repository/qa/Receiving_Process.html'}, excluded_embed_metadata_keys=[], excluded_llm_metadata_keys=[], relationships={<NodeRelationship.SOURCE: '1'>: RelatedNodeInfo(node_id='ba0a97ff-11e8-4aec-a94f-7651f3e50e77', node_type=<ObjectType.DOCUMENT: '4'>, metadata={'URL': 'http://192.168.48.22:8082/repository/qa/Receiving_Process.html'}, hash='b052caf574856562e1518eb1161cfbd6bcc72185b3552ebcd2728c4219800d07'), <NodeRelationship.PREVIOUS: '2'>: RelatedNodeInfo(node_id='f46ae8c3-e5df-4e29-b640-31296bb0246d', node_type=<ObjectType.TEXT: '1'>, metadata={'URL': 'http://192.168.48.22:8082/repository/qa/Receiving_Process.html'}, hash='4b6bab6f1ce840018120af37b43b59e131d4ff0247ef6821ac76e0d734a23516'), <NodeRelationship.NEXT: '3'>: RelatedNodeInfo(node_id='0e4c6637-c8c2-4b6c-a413-6d5adeb14dc2', node_type=<ObjectType.TEXT: '1'>, metadata={}, hash='b5a0fc873328156cb2cebdcd4e8018b23b5fef51ebd2381b5e3974b9c4c5ad6e')}, hash='767c73fb76c7b83827f98305e01cfac2de90d5464149b8428c2b16b08f957ae6', text='Receiver has Instructions\\nReceiver has no Instructions\\n\\n\\n\\n\\nReceiver follows these instructions.\\nReceiver refuses the delivery.Write the reasons of rejection on driver delivery note.\\n\\n\\nReceiver logs and reports the incident to the Project Manager.\\nReceiver logs and reports the incident to the Project Manager with a maximum of information and pictures if possible.\\n\\n\\n\\nThe Purchasing Clerk will assist the Project Manager with the claim process.\\nThe RF and accompanying documentation is archived in the \\\\Project Management\\\\Purchasing\\\\ folder. This is an output of the receiving process.\\n4 Records\\nThe following Table lists records produced through this process.\\n\\n\\n\\n\\n\\n\\n\\n\\n\\n\\nName\\nLocation\\nResponsibility\\nMinimum Backup Freq.\\nMinimum Retention Period\\n\\n\\n\\n\\nReceiving Form\\nOrganization network server/ (Purchasing)Accounting or Purchasing Clerk Records\\nPurchasing Clerk\\nDaily\\n3 Years\\n\\n\\nReceiving Log\\nOrganization network server/ ???\\nPurchasing Clerk\\nDaily\\n3 Years\\n\\n\\nWarranty Inspection Form\\nOrganization network server/ (Receiving)\\nProject Manager\\nDaily\\n3 Years\\n\\n\\n\\n\\nLast modification of the file the 2023-06-12 11:49:10 +0000 with version f96b32dbd78b1fd884e2ad3c9b737fad25696e41\\n\\nGenerated with global version f30e75c04d0a8e6659f212ecf2a477235bd8c49a on 2023-12-22 14:23:43 +0000', start_char_idx=4791, end_char_idx=6063, text_template='{metadata_str}\\n\\n{content}', metadata_template='{key}: {value}', metadata_seperator='\\n'), score=0.31714975465062195), NodeWithScore(node=TextNode(id_='3889a713-80c2-43e4-b3bc-d8abadebb3ba', embedding=None, metadata={'URL': 'http://192.168.48.22:8082/repository/qa/Infrastructure.html'}, excluded_embed_metadata_keys=[], excluded_llm_metadata_keys=[], relationships={<NodeRelationship.SOURCE: '1'>: RelatedNodeInfo(node_id='1d201e29-9b95-45e0-9a38-2d1ebdd783ab', node_type=<ObjectType.DOCUMENT: '4'>, metadata={'URL': 'http://192.168.48.22:8082/repository/qa/Infrastructure.html'}, hash='406bd89e3ea76aa27c3f0215164b6774ddac9edcc67b9f8095c172be51dad46a'), <NodeRelationship.PREVIOUS: '2'>: RelatedNodeInfo(node_id='dc58d813-dca9-4485-b4e0-26ffbc55af49', node_type=<ObjectType.TEXT: '1'>, metadata={'URL': 'http://192.168.48.22:8082/repository/qa/Infrastructure.html'}, hash='90e55bae2f144879d11c76bd892e27f4b53d37dbff1e16425814842a07146ed5'), <NodeRelationship.NEXT: '3'>: RelatedNodeInfo(node_id='6210e091-80f1-4ae4-b43a-818eee441e9a', node_type=<ObjectType.TEXT: '1'>, metadata={}, hash='3e39429400e15c7ab4f4a2d5ac9af6562999d2fddfa96fa05d0113b61339e813')}, hash='95ac54322ac91ad22277de39fa6a2fe99dc3057f0c0bd269c0fd50c2958549b1', text='Any problems with the firewall should be reported to the Local IT team.\\n\\nOn the Technoparc building the LAN is separated from the Internet by two standalone firewalls:\\n\\nFor the Trusted part: Cisco ASA 5516X firewall. Any problems with this firewall should be reported to the Local IT Team, then routed to the US Transport team.\\nFor the non-Trusted part: Watchguard Firebox M270 firewall. Any problems with the firewall should be reported to the Local IT team.\\n\\nThe Kratos network LAN details is not anymore publicly available, please ask Local IT team for more details.\\n4.4 Computers & Servers\\nIt is Kratos policy to issue all staff with a laptop, equipped with MS Windows and software, and accessories (keyboard, mouse, screen, dock).\\nA list of all computer and network assets including serial numbers can be viewed by requesting to IT an access to the Hardware Inventories. This list is updated when required by the System administrator.\\nThe Toulouse main building network is equipped with:\\n\\ntwo network attached high-volume printers (Kyocera TASKalfa 4052ci and 306, upstairs and downstairs, respectively)\\na file server (Shackleton)\\na general purpose server (Mertz-fr)\\ntwo infrastructure VMHosts: BUTTON-FR and TOLOFR-ESXi01, they are providing some services like SAGE, ETC Tool, Nagios, Wekan, GitLab\\ntwo backup systems (cf Security > Backup system)\\na Mesh WiFi covering the entire building (SSIDs are Kratos_Employee and Kratos_Guest)\\n\\nThe Toulouse Technoparc building is equipped with:\\n\\none network attached printer (Brother printer)\\na Mesh WiFi covering the entire floor (SSID is Kratos_Guest_Annex)\\n\\n4.5 Staff Mail & Telephone list\\nList of Employees and Non-Employees with their associated mail and telephone number, if any:\\n\\nToulouse Telephone List\\nSingapore Telephone List\\n\\n4.6 Contacts\\nFor more information about software, hardware and infrastructure in the company: please contact the system administrator or his delegates.\\n\\nIT Manager: Simon Townshend Simon.Townshend@kratosdefense.com Telephone: #151\\nIT: Franck Maylie Franck.Maylie@kratosdefense.com Telephone: #152\\nIT Technician: Loeki Vautrin Loeki.Vautrin@kratosdefense.com Telephone: #153\\n\\n\\nLast modification of the file the 2023-11-16 16:30:15 +0000 with version 7ea678f66caaec3eb35217182d10bae3deea2612\\n\\nGenerated with global version f30e75c04d0a8e6659f212ecf2a477235bd8c49a on 2023-12-22 14:23:43 +0000', start_char_idx=7127, end_char_idx=9501, text_template='{metadata_str}\\n\\n{content}', metadata_template='{key}: {value}', metadata_seperator='\\n'), score=0.2707979733022889), NodeWithScore(node=TextNode(id_='8effddef-a42a-4b80-ba4e-b5c8a5f4b4fe', embedding=None, metadata={'URL': 'http://192.168.48.22:8082/repository/qa/Contract_Review_Process.html'}, excluded_embed_metadata_keys=[], excluded_llm_metadata_keys=[], relationships={<NodeRelationship.SOURCE: '1'>: RelatedNodeInfo(node_id='0097700f-f471-4cfd-85e1-693a2f32c1e9', node_type=<ObjectType.DOCUMENT: '4'>, metadata={'URL': 'http://192.168.48.22:8082/repository/qa/Contract_Review_Process.html'}, hash='d2ce07ff420b5c5b38c00aeb8682940698a2984dfa756fa2f9f3f57418a7f071'), <NodeRelationship.PREVIOUS: '2'>: RelatedNodeInfo(node_id='1b2a50b8-937d-4981-a70e-201aefba8a0d', node_type=<ObjectType.TEXT: '1'>, metadata={'URL': 'http://192.168.48.22:8082/repository/qa/Contract_Review_Process.html'}, hash='c78ac10f87e2bfb92ea898c92c7e77ff5454b6c41d7d0fe31145a55413a3e87e'), <NodeRelationship.NEXT: '3'>: RelatedNodeInfo(node_id='c8d52f0e-4dd5-45a5-a1c9-4325d39eab41', node_type=<ObjectType.TEXT: '1'>, metadata={}, hash='75bb5ef9b43ac596e3eae8810faebf36e5fe20df9cf70f92cb8e2fe2ff9adacb')}, hash='8e11a8bdbe643e6635f8e8433c88bf225762d0adf02c7bc7dea0ffb9d1d1b855', text='Then summarize the outcome of the requirement review, or add a link to the folder where the requirement review has been made during the proposal phase.\\n\\n6.4 Job Review\\n\\nJob Type (check one box only): Selecting one box will determine how the project will be setup by accounting (POC+PCS, PCS, Drop Ship, T&M). Only one box must be selected. There are 5 types of jobs:\\n\\nSystem with Warranty and/or Maintenance\\nSoftware and/or Hardware Maintenance\\n\\nSoftware License keys only (USB, CD or electronic)\\nHardware (with or without software and limited configuration)\\nServices with fixed duration (Training, Technical Support and Leasing System)\\n\\nWarranty with services: Clarify if there are services to provide during the warranty (remote connection, investigation, reports,…) or if it is a defect-free warranty.\\nFixed Price or T&M: Clarify if the project has been sold with a Firm Fixed Price, or as Time and Material.\\nNeed for Credit Impôt Recherche: Select Yes if a part of the project will be eligible to “Crédit Impôt Recherche”. This can apply if the project includes innovative developments.\\nNeed for Expatriate work: Do you need an expatriate employee to book on your project?\\nContract with Liquidated Damages: Does the contract include financial penalties in case of late delivery?\\nLDs Maximum Amount: If the contract has Liquidated Damages, what is the maximum amount?\\nLDs Probability of Occurrence (%): If the contract has Liquidated Damages, what is the probability that the customer will apply them?\\nProvision for LDs: Does accounting need to take a provision for Liquidated Damages? Answer No if the probability is low.\\nPrime Contractor or Subcontractor (is the customer the end customer): Select “Prime Contractor” if our customer is the end user of the system to be delivered, otherwise select “Subcontractor”.\\n\\n6.5 Performance Obligations\\n\\nPerformance Obligations: First of all, only fill ONE section according to the Job Type determined at step 1 of Job Review. Under the right Job Type, enter the date when you estimate the Job will be delivered, and if applicable the Period of Performance of the warranty/Maintenance. Update “Leasing System” field if applicable\\n\\n6.6 Negociation History Summary\\n\\nNegotiation History Summary: Discuss the proposal and contract negotiation phase:\\n\\nCollect the elements that explain why the last version of the proposal is different from the first version.\\nRecord the history of the different draft versions of the contract to be signed.\\n\\n\\n6.7 Risks Identified\\n\\nRisk Identified: List all risks that you see for this project, their impact and probability of occurence, as well as a preliminary mitigation plan.\\n\\n6.8 Employee Workforce\\n\\nEmployee Workforce: List all Kratos employees who will book on the project. The Project Manager, Shipping, Quality Assurance and Operations are automatically included, do not list them. This does not apply to subcontractors. This information is used by accounting to enable access to the timesheets.\\n\\n6.9 Invoicing Information\\n\\nComplete Name of Customer: Provide the detailed name of the customer\\nVAT Number of Customer: Provide VAT number of customer, even if VAT is not applicable to the project\\nKratos Bank account to be used (if not default one): Kratos use several bank accounts to collect payments from customers. If Kratos bank details are mentioned in Kratos Offer or in the contract, or if it is decided to use a specific account, provide the bank information to be used.\\nInvoicing email and/or postal address: Provide the email and/or postal address that accounting needs to use to send invoices to the customer.\\n\\n6.10 Financial Information\\n\\nBank Guarantee and/or Performance Bond required: Clarify if Bank Guarantee(s) and/or Performance Bond(s) have to be provided for this project. Bank Guarantees and Performance Bonds can be found in the contract.\\nList of Guarantees and amounts: If the answer to 1. is “Yes”, provide detailed list of all Guarantees required for this project, their amount (value or percentage of contract value) and their validity.\\nLink to Guarantee template(s): If the contract contains a template for Bank Guaranty and/or Performance Bond, provide an electronic link to the template.\\n\\n6.11 Other Comments\\n\\nOther Comments: Enter any additional information that is useful for the Contract Review.\\n\\n6.12 Solution Components\\n\\nSolution Components: List all the solution components and synchronize with CRM:\\n\\nThe Solution Components in the Contract Review Checklist and in the CRM must be identical.\\nThe Total of the Solution Components must be equal to the Contract Value.\\nIf the Solution Components of the CRM are not correct, they need to be updated in coordination with the Opportunity Owner or Delivery Owner (whoever updated the Solution Components).', start_char_idx=17607, end_char_idx=22370, text_template='{metadata_str}\\n\\n{content}', metadata_template='{key}: {value}', metadata_seperator='\\n'), score=0.25396344864934106)], metadata={'b285f5a8-5b29-457b-97fa-7b4cdbc3ad8a': {'URL': 'http://192.168.48.22:8082/repository/qa/Receiving_Process.html'}, '3889a713-80c2-43e4-b3bc-d8abadebb3ba': {'URL': 'http://192.168.48.22:8082/repository/qa/Infrastructure.html'}, '8effddef-a42a-4b80-ba4e-b5c8a5f4b4fe': {'URL': 'http://192.168.48.22:8082/repository/qa/Contract_Review_Process.html'}})"
      ]
     },
     "execution_count": 61,
     "metadata": {},
     "output_type": "execute_result"
    }
   ],
   "source": [
    "response"
   ]
  },
  {
   "cell_type": "code",
   "execution_count": null,
   "id": "c851afb0",
   "metadata": {},
   "outputs": [],
   "source": []
  }
 ],
 "metadata": {
  "kernelspec": {
   "display_name": "Python 3 (ipykernel)",
   "language": "python",
   "name": "python3"
  },
  "language_info": {
   "codemirror_mode": {
    "name": "ipython",
    "version": 3
   },
   "file_extension": ".py",
   "mimetype": "text/x-python",
   "name": "python",
   "nbconvert_exporter": "python",
   "pygments_lexer": "ipython3",
   "version": "3.11.4"
  }
 },
 "nbformat": 4,
 "nbformat_minor": 5
}
