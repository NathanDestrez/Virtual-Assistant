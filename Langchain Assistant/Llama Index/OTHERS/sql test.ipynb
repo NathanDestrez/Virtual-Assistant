{
 "cells": [
  {
   "cell_type": "code",
   "execution_count": 1,
   "id": "d23f8202",
   "metadata": {},
   "outputs": [],
   "source": [
    "import sqlite3"
   ]
  },
  {
   "cell_type": "code",
   "execution_count": 2,
   "id": "3677b117",
   "metadata": {},
   "outputs": [],
   "source": [
    "# Connect to the database (or create it if it doesn't exist)\n",
    "conn = sqlite3.connect('TestDB.db')"
   ]
  },
  {
   "cell_type": "code",
   "execution_count": 3,
   "id": "9ab66028",
   "metadata": {},
   "outputs": [],
   "source": [
    "# Create a cursor object\n",
    "cur = conn.cursor()\n"
   ]
  },
  {
   "cell_type": "code",
   "execution_count": 4,
   "id": "aa19ed76",
   "metadata": {},
   "outputs": [
    {
     "data": {
      "text/plain": [
       "<sqlite3.Cursor at 0x22a6e1d8ac0>"
      ]
     },
     "execution_count": 4,
     "metadata": {},
     "output_type": "execute_result"
    }
   ],
   "source": [
    "# Create a table\n",
    "cur.execute('''\n",
    "CREATE TABLE employees (\n",
    "    id INTEGER PRIMARY KEY,\n",
    "    name TEXT NOT NULL,\n",
    "    position TEXT NOT NULL,\n",
    "    salary REAL\n",
    ")\n",
    "''')\n"
   ]
  },
  {
   "cell_type": "code",
   "execution_count": 5,
   "id": "770ee959",
   "metadata": {},
   "outputs": [],
   "source": [
    "# Insert data\n",
    "cur.execute(\"INSERT INTO employees (name, position, salary) VALUES ('Alice', 'Manager', 75000)\")\n",
    "cur.execute(\"INSERT INTO employees (name, position, salary) VALUES ('Bob', 'Assistant', 50000)\")\n",
    "cur.execute(\"INSERT INTO employees (name, position, salary) VALUES ('Charlie', 'Expert', 60000)\")\n",
    "\n",
    "# Commit the transaction\n",
    "conn.commit()\n"
   ]
  },
  {
   "cell_type": "code",
   "execution_count": 6,
   "id": "e6dfd26b",
   "metadata": {},
   "outputs": [
    {
     "name": "stdout",
     "output_type": "stream",
     "text": [
      "(1, 'Alice', 'Manager', 75000.0)\n",
      "(2, 'Bob', 'Assistant', 50000.0)\n",
      "(3, 'Charlie', 'Expert', 60000.0)\n"
     ]
    }
   ],
   "source": [
    "# Query the data\n",
    "cur.execute('SELECT * FROM employees')\n",
    "\n",
    "# Fetch all results\n",
    "rows = cur.fetchall()\n",
    "\n",
    "# Print the results\n",
    "for row in rows:\n",
    "    print(row)\n"
   ]
  },
  {
   "cell_type": "code",
   "execution_count": 7,
   "id": "ffc292ab",
   "metadata": {},
   "outputs": [],
   "source": [
    "# Close the connection\n",
    "conn.close()\n"
   ]
  },
  {
   "cell_type": "code",
   "execution_count": null,
   "id": "b51127ac",
   "metadata": {},
   "outputs": [],
   "source": []
  }
 ],
 "metadata": {
  "kernelspec": {
   "display_name": "Python 3 (ipykernel)",
   "language": "python",
   "name": "python3"
  },
  "language_info": {
   "codemirror_mode": {
    "name": "ipython",
    "version": 3
   },
   "file_extension": ".py",
   "mimetype": "text/x-python",
   "name": "python",
   "nbconvert_exporter": "python",
   "pygments_lexer": "ipython3",
   "version": "3.11.4"
  }
 },
 "nbformat": 4,
 "nbformat_minor": 5
}
