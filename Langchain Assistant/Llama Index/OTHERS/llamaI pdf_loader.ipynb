{
 "cells": [
  {
   "cell_type": "code",
   "execution_count": null,
   "id": "7988fddd",
   "metadata": {},
   "outputs": [],
   "source": [
    "from pathlib import Path\n",
    "from llama_index import download_loader\n",
    "from llama_index import SimpleDirectoryReader\n",
    "from llama_index import VectorStoreIndex\n",
    "from llama_index.vector_stores.types import MetadataInfo, VectorStoreInfo\n",
    "from llama_index import ServiceContext\n",
    "\n",
    "from llama_index import get_response_synthesizer\n",
    "from llama_index.indices.vector_store.retrievers import VectorIndexRetriever\n",
    "from llama_index.query_engine.retriever_query_engine import (\n",
    "RetrieverQueryEngine,\n",
    ")\n",
    "from llama_index.indices.vector_store.retrievers import (\n",
    "    VectorIndexAutoRetriever,\n",
    ")\n",
    "#from langchain.llms import OpenAI\n",
    "\n",
    "\n",
    "from sentence_transformers import SentenceTransformer\n",
    "from langchain.embeddings import SentenceTransformerEmbeddings"
   ]
  },
  {
   "cell_type": "code",
   "execution_count": null,
   "id": "3936206c",
   "metadata": {},
   "outputs": [],
   "source": [
    "# Initialize the SentenceTransformerEmbeddings with the loaded model\n",
    "local_embeddings = SentenceTransformerEmbeddings(model_name=\"all-MiniLM-L6-v2\")"
   ]
  },
  {
   "cell_type": "code",
   "execution_count": null,
   "id": "498ee4e7",
   "metadata": {},
   "outputs": [],
   "source": [
    "llm = OpenAI(openai_api_key=\"NULL\",temperature=0,openai_api_base=\"Path")\n",
    "service_context = ServiceContext.from_defaults(llm=llm, embed_model=local_embeddings)"
   ]
  },
  {
   "cell_type": "markdown",
   "id": "ab737836",
   "metadata": {},
   "source": [
    "# PDF Reader\n",
    "\n",
    "https://llamahub.ai/l/file-pdf?from=all"
   ]
  },
  {
   "cell_type": "code",
   "execution_count": null,
   "id": "06bcebf1",
   "metadata": {},
   "outputs": [],
   "source": [
    "PDFReader = download_loader(\"PDFReader\")"
   ]
  },
  {
   "cell_type": "code",
   "execution_count": null,
   "id": "ca34d81b",
   "metadata": {},
   "outputs": [],
   "source": [
    "loader = PDFReader()"
   ]
  },
  {
   "cell_type": "code",
   "execution_count": null,
   "id": "a361b549",
   "metadata": {},
   "outputs": [],
   "source": [
    "documents = loader.load_data(file=Path('thesis.pdf'))"
   ]
  },
  {
   "cell_type": "markdown",
   "id": "9629d460",
   "metadata": {},
   "source": [
    "## Data Exploration "
   ]
  },
  {
   "cell_type": "code",
   "execution_count": null,
   "id": "e6e25c55",
   "metadata": {},
   "outputs": [],
   "source": [
    "len(documents), type(documents)"
   ]
  },
  {
   "cell_type": "code",
   "execution_count": null,
   "id": "1d29177e",
   "metadata": {},
   "outputs": [],
   "source": [
    "documents[0]"
   ]
  },
  {
   "cell_type": "code",
   "execution_count": null,
   "id": "b5c9cf2e",
   "metadata": {},
   "outputs": [],
   "source": [
    "print(documents[0])"
   ]
  },
  {
   "cell_type": "code",
   "execution_count": null,
   "id": "fd443a03",
   "metadata": {},
   "outputs": [],
   "source": [
    "vars(documents[0])"
   ]
  },
  {
   "cell_type": "markdown",
   "id": "eb44fa04",
   "metadata": {},
   "source": [
    "# General Reader \n",
    "\n",
    "https://docs.llamaindex.ai/en/stable/examples/data_connectors/simple_directory_reader.html"
   ]
  },
  {
   "cell_type": "code",
   "execution_count": null,
   "id": "4b28b54b",
   "metadata": {},
   "outputs": [],
   "source": [
    "reader = SimpleDirectoryReader(\n",
    "    input_files=[\"thesis.pdf\"]\n",
    ")"
   ]
  },
  {
   "cell_type": "code",
   "execution_count": null,
   "id": "a607fbad",
   "metadata": {},
   "outputs": [],
   "source": [
    "docs = reader.load_data()\n",
    "print(f\"Loaded {len(docs)} docs\")"
   ]
  },
  {
   "cell_type": "markdown",
   "id": "440502be",
   "metadata": {},
   "source": [
    "## Data Exploration "
   ]
  },
  {
   "cell_type": "code",
   "execution_count": null,
   "id": "2b467cc9",
   "metadata": {},
   "outputs": [],
   "source": [
    "print(docs[0])"
   ]
  },
  {
   "cell_type": "code",
   "execution_count": null,
   "id": "b700f782",
   "metadata": {},
   "outputs": [],
   "source": [
    "vars(docs[0])"
   ]
  },
  {
   "cell_type": "markdown",
   "id": "42fda2ef",
   "metadata": {},
   "source": [
    "# Default vector store \n",
    "\n",
    "https://docs.llamaindex.ai/en/stable/api_reference/indices/vector_store.html\n",
    "https://docs.llamaindex.ai/en/stable/module_guides/indexing/vector_store_guide.html"
   ]
  },
  {
   "cell_type": "code",
   "execution_count": null,
   "id": "77b858a9",
   "metadata": {},
   "outputs": [],
   "source": [
    "index = VectorStoreIndex.from_documents(docs, service_context=service_context)"
   ]
  },
  {
   "cell_type": "code",
   "execution_count": null,
   "id": "d2a0b5a7",
   "metadata": {},
   "outputs": [],
   "source": [
    "type(index)"
   ]
  },
  {
   "cell_type": "markdown",
   "id": "859782df",
   "metadata": {},
   "source": [
    "# Query "
   ]
  },
  {
   "cell_type": "code",
   "execution_count": null,
   "id": "743d97af",
   "metadata": {},
   "outputs": [],
   "source": [
    "query_engine = index.as_query_engine()"
   ]
  },
  {
   "cell_type": "code",
   "execution_count": null,
   "id": "432042ac",
   "metadata": {},
   "outputs": [],
   "source": [
    "response = query_engine.query(\"What is the main topic?\")"
   ]
  },
  {
   "cell_type": "code",
   "execution_count": null,
   "id": "e4b5ff00",
   "metadata": {},
   "outputs": [],
   "source": [
    "type(response)"
   ]
  },
  {
   "cell_type": "code",
   "execution_count": null,
   "id": "13a6cff6",
   "metadata": {},
   "outputs": [],
   "source": [
    "dir(response)"
   ]
  },
  {
   "cell_type": "code",
   "execution_count": null,
   "id": "80a88a41",
   "metadata": {},
   "outputs": [],
   "source": [
    "response.response"
   ]
  },
  {
   "cell_type": "code",
   "execution_count": null,
   "id": "e27ae753",
   "metadata": {},
   "outputs": [],
   "source": [
    "len(response.source_nodes)"
   ]
  },
  {
   "cell_type": "code",
   "execution_count": null,
   "id": "3fcdd88e",
   "metadata": {},
   "outputs": [],
   "source": [
    "response = query_engine.query(\"explain me how we used langchain in the methodology?\")\n",
    "print(response.response)"
   ]
  },
  {
   "cell_type": "code",
   "execution_count": null,
   "id": "2aa5b17f",
   "metadata": {},
   "outputs": [],
   "source": [
    "response.source_nodes[0].text"
   ]
  },
  {
   "cell_type": "markdown",
   "id": "0a74e66e",
   "metadata": {},
   "source": [
    "# Configure standard query setting"
   ]
  },
  {
   "cell_type": "code",
   "execution_count": null,
   "id": "aafa4071",
   "metadata": {},
   "outputs": [],
   "source": [
    "# build retriever\n",
    "retriever = VectorIndexRetriever(\n",
    "    index=index,\n",
    "    similarity_top_k=3,\n",
    "    vector_store_query_mode=\"default\",\n",
    "    filters=[],\n",
    "    alpha=None,\n",
    "    doc_ids=None,\n",
    ")\n",
    "\n",
    "# build query engine\n",
    "query_engine = RetrieverQueryEngine(\n",
    "    retriever=retriever, response_synthesizer=get_response_synthesizer(service_context)\n",
    ")"
   ]
  },
  {
   "cell_type": "code",
   "execution_count": null,
   "id": "cc2dde57",
   "metadata": {},
   "outputs": [],
   "source": [
    "# query\n",
    "response = query_engine.query(\"explain me how we used langchain in the methodology?\")"
   ]
  },
  {
   "cell_type": "code",
   "execution_count": null,
   "id": "26f46177",
   "metadata": {},
   "outputs": [],
   "source": [
    "response.response"
   ]
  },
  {
   "cell_type": "code",
   "execution_count": null,
   "id": "67643f88",
   "metadata": {},
   "outputs": [],
   "source": [
    "dir(response.source_nodes[0])"
   ]
  },
  {
   "cell_type": "code",
   "execution_count": null,
   "id": "db66b924",
   "metadata": {},
   "outputs": [],
   "source": [
    "response.source_nodes[0].metadata"
   ]
  },
  {
   "cell_type": "markdown",
   "id": "bef3d5db",
   "metadata": {},
   "source": [
    "# auto retriever"
   ]
  },
  {
   "cell_type": "code",
   "execution_count": null,
   "id": "ee004975",
   "metadata": {},
   "outputs": [],
   "source": [
    "vector_store_info = VectorStoreInfo(\n",
    "    content_info=\"Thesis on Natural Language Generation (NLG) systems and their capabilities in transforming data into coherent and contextually relevant narratives \",\n",
    "    metadata_info=[\n",
    "    ],\n",
    ")"
   ]
  },
  {
   "cell_type": "code",
   "execution_count": null,
   "id": "17210bab",
   "metadata": {},
   "outputs": [],
   "source": [
    "# build retriever\n",
    "retriever = VectorIndexAutoRetriever(\n",
    "    index, vector_store_info=vector_store_info\n",
    ")\n",
    "\n",
    "# build query engine\n",
    "query_engine = RetrieverQueryEngine(\n",
    "    retriever=retriever, response_synthesizer=get_response_synthesizer(service_context)\n",
    ")"
   ]
  },
  {
   "cell_type": "code",
   "execution_count": null,
   "id": "c1f58857",
   "metadata": {},
   "outputs": [],
   "source": [
    "response = query_engine.query(\"explain me how we used langchain in the methodology?\")"
   ]
  },
  {
   "cell_type": "code",
   "execution_count": null,
   "id": "e30c2d59",
   "metadata": {},
   "outputs": [],
   "source": [
    "response.response"
   ]
  },
  {
   "cell_type": "code",
   "execution_count": null,
   "id": "2a9324fd",
   "metadata": {},
   "outputs": [],
   "source": [
    "response = query_engine.query(\"would you say this project have a futur in the company\")"
   ]
  },
  {
   "cell_type": "code",
   "execution_count": null,
   "id": "0681a69d",
   "metadata": {},
   "outputs": [],
   "source": [
    "response.response"
   ]
  },
  {
   "cell_type": "code",
   "execution_count": null,
   "id": "13c432b3",
   "metadata": {},
   "outputs": [],
   "source": []
  }
 ],
 "metadata": {
  "kernelspec": {
   "display_name": "Python 3 (ipykernel)",
   "language": "python",
   "name": "python3"
  },
  "language_info": {
   "codemirror_mode": {
    "name": "ipython",
    "version": 3
   },
   "file_extension": ".py",
   "mimetype": "text/x-python",
   "name": "python",
   "nbconvert_exporter": "python",
   "pygments_lexer": "ipython3",
   "version": "3.11.4"
  }
 },
 "nbformat": 4,
 "nbformat_minor": 5
}
