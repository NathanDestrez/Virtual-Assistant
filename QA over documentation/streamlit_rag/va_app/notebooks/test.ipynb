{
 "cells": [
  {
   "cell_type": "code",
   "execution_count": 1,
   "id": "a2072517-7dc3-44a3-86b6-64937395fba8",
   "metadata": {
    "ExecuteTime": {
     "end_time": "2024-01-19T15:23:56.109510200Z",
     "start_time": "2024-01-19T15:23:50.605183900Z"
    }
   },
   "outputs": [],
   "source": [
    "import streamlit as st\n",
    "from llama_index import VectorStoreIndex, ServiceContext\n",
    "from langchain.llms import OpenAI\n",
    "from llama_index import SimpleDirectoryReader\n",
    "from llama_index.readers import SimpleWebPageReader\n",
    "from langchain.embeddings import SentenceTransformerEmbeddings\n",
    "from llama_index import ServiceContext\n",
    "from langchain.llms import OpenAI\n",
    "from langchain.embeddings import SentenceTransformerEmbeddings\n",
    "from llama_index import SimpleDirectoryReader\n",
    "from urllib.parse import urlparse, unquote\n",
    "from bs4 import BeautifulSoup\n",
    "from urllib.parse import urljoin\n",
    "import pandas as pd\n",
    "import re\n",
    "import logging\n",
    "import os\n",
    "import requests\n",
    "import nltk\n",
    "from llama_index import Document\n",
    "import pickle"
   ]
  },
  {
   "cell_type": "code",
   "outputs": [
    {
     "name": "stdout",
     "output_type": "stream",
     "text": [
      "Pattern '40%' was found at position 17.\n"
     ]
    }
   ],
   "source": [
    "import re\n",
    "pattern = r'\\d+\\%'  # This pattern matches one or more digits, followed by % sign. Adjust the number of digits as needed (e.g., '\\d{3}%' for exactly three digits).\n",
    "string = \"Your string here 40%\"\n",
    "match = re.search(pattern, string)\n",
    "if match:  # If a pattern is found in the given string...\n",
    "    print(\"Pattern '%s' was found at position %i.\" % (match.group(), match.start()))\n",
    "else:   # Otherwise...\n",
    "    print(\"No matching pattern was found.\")\n"
   ],
   "metadata": {
    "collapsed": false,
    "ExecuteTime": {
     "end_time": "2024-01-25T16:08:09.272968500Z",
     "start_time": "2024-01-25T16:08:09.265340600Z"
    }
   },
   "id": "a618de3ee8f0fef3",
   "execution_count": 34
  },
  {
   "cell_type": "code",
   "outputs": [
    {
     "name": "stdout",
     "output_type": "stream",
     "text": [
      "53.0\n",
      "79.5\n"
     ]
    },
    {
     "ename": "ZeroDivisionError",
     "evalue": "division by zero",
     "output_type": "error",
     "traceback": [
      "\u001B[1;31m---------------------------------------------------------------------------\u001B[0m",
      "\u001B[1;31mZeroDivisionError\u001B[0m                         Traceback (most recent call last)",
      "Cell \u001B[1;32mIn[14], line 23\u001B[0m\n\u001B[0;32m     21\u001B[0m \u001B[38;5;28;01mfor\u001B[39;00m _ \u001B[38;5;129;01min\u001B[39;00m \u001B[38;5;28mrange\u001B[39m(\u001B[38;5;241m20\u001B[39m):  \n\u001B[0;32m     22\u001B[0m     random_numbers \u001B[38;5;241m=\u001B[39m generate_random_list()\n\u001B[1;32m---> 23\u001B[0m     calculate_average(random_numbers)\n",
      "Cell \u001B[1;32mIn[14], line 16\u001B[0m, in \u001B[0;36mcalculate_average\u001B[1;34m(numbers)\u001B[0m\n\u001B[0;32m     14\u001B[0m     count \u001B[38;5;241m+\u001B[39m\u001B[38;5;241m=\u001B[39m \u001B[38;5;241m1\u001B[39m\n\u001B[0;32m     15\u001B[0m \u001B[38;5;66;03m# Intentional error: Forgot to handle the case when the input list is empty\u001B[39;00m\n\u001B[1;32m---> 16\u001B[0m average \u001B[38;5;241m=\u001B[39m sum_of_numbers \u001B[38;5;241m/\u001B[39m count\n\u001B[0;32m     17\u001B[0m \u001B[38;5;28mprint\u001B[39m(average)\n\u001B[0;32m     18\u001B[0m \u001B[38;5;28;01mreturn\u001B[39;00m average\n",
      "\u001B[1;31mZeroDivisionError\u001B[0m: division by zero"
     ]
    }
   ],
   "source": [
    "import random\n",
    "\n",
    "def generate_random_list():\n",
    "    list_size = random.randint(0, 4)\n",
    "    random_list = [random.randint(1, 100) for _ in range(list_size)]\n",
    "    return random_list\n",
    "\n",
    "\n",
    "def calculate_average(numbers):\n",
    "    sum_of_numbers = 0\n",
    "    count = 0\n",
    "    for number in numbers:\n",
    "        sum_of_numbers += number\n",
    "        count += 1\n",
    "    # Intentional error: Forgot to handle the case when the input list is empty\n",
    "    average = sum_of_numbers / count\n",
    "    print(average)\n",
    "    return average\n",
    "\n",
    "\n",
    "for _ in range(20):  \n",
    "    random_numbers = generate_random_list()\n",
    "    calculate_average(random_numbers)"
   ],
   "metadata": {
    "collapsed": false,
    "ExecuteTime": {
     "end_time": "2024-01-25T13:24:49.272460800Z",
     "start_time": "2024-01-25T13:24:49.226165100Z"
    }
   },
   "id": "62ab748f5ceec3bc",
   "execution_count": 14
  },
  {
   "cell_type": "code",
   "outputs": [
    {
     "data": {
      "text/plain": "6"
     },
     "execution_count": 28,
     "metadata": {},
     "output_type": "execute_result"
    }
   ],
   "source": [
    "def factorial(n):\n",
    "    if n == 0: # Base Case, return 1 when n is zero since a factoiral of zero equals one (according to mathematical definition)\n",
    "        return 1\n",
    "    else:       # Recursive case, multiply the current number by the result from recursively calling this function with 'n-1' as argument.\n",
    "        return n * factorial(n - 1)\n",
    "\n",
    "factorial(3)"
   ],
   "metadata": {
    "collapsed": false,
    "ExecuteTime": {
     "end_time": "2024-01-25T14:09:15.017958600Z",
     "start_time": "2024-01-25T14:09:15.010947200Z"
    }
   },
   "id": "44187af12d1dc454",
   "execution_count": 28
  },
  {
   "cell_type": "code",
   "outputs": [],
   "source": [
    "requests.packages.urllib3.disable_warnings(requests.packages.urllib3.exceptions.InsecureRequestWarning)\n",
    "\n",
    "def get_all_links_recursive(url, depth=3, token=None):\n",
    "    headers = {'Authorization': f'access_token  {token}'}\n",
    "    if depth == 0:\n",
    "        return []\n",
    "    try:\n",
    "        response = requests.get(url, headers=headers, verify=True)  # Ignore SSL certificate verification\n",
    "        response.raise_for_status()\n",
    "\n",
    "        soup = BeautifulSoup(response.content, 'html.parser')\n",
    "        links = soup.find_all('a', href=True)\n",
    "        absolute_links = [urljoin(url, link['href']) for link in links]\n",
    "        # Print links for the current page\n",
    "        print(f\"Links from {url}:\")\n",
    "        for link in absolute_links:\n",
    "            print(link)\n",
    "        # Recursively get links from child pages\n",
    "        child_links = []\n",
    "        for link in absolute_links:\n",
    "            try:\n",
    "                child_links.extend(get_all_links_recursive(link, depth=depth-1))\n",
    "            except requests.exceptions.RequestException as e:\n",
    "                print(f\"Error retrieving content from {link}: {e}\")\n",
    "\n",
    "        return absolute_links + child_links\n",
    "    except requests.exceptions.RequestException as e:\n",
    "        print(f\"Error retrieving content from {url}: {e}\")\n",
    "    return []"
   ],
   "metadata": {
    "collapsed": false,
    "ExecuteTime": {
     "end_time": "2024-01-19T15:23:56.120449100Z",
     "start_time": "2024-01-19T15:23:56.110511100Z"
    }
   },
   "id": "988d1af1666a85ab",
   "execution_count": 2
  },
  {
   "cell_type": "code",
   "outputs": [
    {
     "data": {
      "text/plain": "<Response [200]>"
     },
     "execution_count": 7,
     "metadata": {},
     "output_type": "execute_result"
    }
   ],
   "source": [
    "response"
   ],
   "metadata": {
    "collapsed": false,
    "ExecuteTime": {
     "end_time": "2024-01-19T15:27:26.972978100Z",
     "start_time": "2024-01-19T15:27:26.966670900Z"
    }
   },
   "id": "2acaedea12dd3bc1",
   "execution_count": 7
  },
  {
   "cell_type": "code",
   "outputs": [
    {
     "data": {
      "text/plain": "b'    \\n\\n<!DOCTYPE html>\\n<html lang=\"en-GB\" >\\n<head>\\n                            <title>EPOCH IPS Home - EPOCH IPS - Confluence</title>\\n    \\n        \\n\\n                        \\n    \\n                        \\n    \\n\\n                \\n    \\n    <meta http-equiv=\"X-UA-Compatible\" content=\"IE=EDGE,chrome=IE7\">\\n<meta charset=\"UTF-8\">\\n<meta id=\"confluence-context-path\" name=\"confluence-context-path\" content=\"\">\\n<meta id=\"confluence-base-url\" name=\"confluence-base-url\" content=\"https://wiki.devops.kratosdefense.com\">\\n\\n    <meta id=\"atlassian-token\" name=\"atlassian-token\" content=\"4aa009175828374fa82c90920f768b7ea182fa2d\">\\n\\n\\n<meta id=\"confluence-space-key\" name=\"confluence-space-key\" content=\"EPOCH\">\\n<script type=\"text/javascript\">\\n        var contextPath = \\'\\';\\n</script>\\n\\n    \\n\\n    <meta name=\"confluence-request-time\" content=\"1705678941152\">\\n        \\n    \\n        \\n            <meta name=\"ajs-show-space-welcome-dialog\" content=\"true\">\\n            <style>.ia-fixed-sidebar, .ia-splitter-left {width: 285px;}.theme-default .ia-splitter #main {margin-left: 285px;}.ia-fixed-sidebar {visibility: hidden;}</style>\\n            <meta name=\"ajs-use-keyboard-shortcuts\" content=\"true\">\\n            <meta name=\"ajs-discovered-plugin-features\" content=\"{&quot;com.atlassian.confluence.plugins.confluence-dashboard&quot;:[&quot;dialog&quot;,&quot;tips&quot;]}\">\\n            <meta name=\"ajs-keyboardshortcut-hash\" content=\"6962521d3e42d7b1c890eac270fa6d49\">\\n            <meta id=\"team-calendars-has-jira-link\" content=\"true\">\\n            <meta name=\"ajs-team-calendars-display-time-format\" content=\"displayTimeFormat12\">\\n            <meta id=\"team-calendars-display-week-number\" content=\"false\">\\n            <meta id=\"team-calendars-show-timezone-setup\" content=\"true\">\\n            <meta id=\"team-calendars-user-timezone\" content=\"UTC\">\\n            <script type=\"text/x-template\" id=\"team-calendars-messages\" title=\"team-calendars-messages\"><fieldset class=\"i18n hidden\"><input type=\"hidden\" name=\"calendar3.month.long.july\" value=\"July\"><input type=\"hidden\" name=\"calendar3.day.short.wednesday\" value=\"Wed\"><input type=\"hidden\" name=\"calendar3.day.short.thursday\" value=\"Thu\"><input type=\"hidden\" name=\"calendar3.month.short.march\" value=\"Mar\"><input type=\"hidden\" name=\"calendar3.month.long.april\" value=\"April\"><input type=\"hidden\" name=\"calendar3.month.long.october\" value=\"October\"><input type=\"hidden\" name=\"calendar3.month.long.august\" value=\"August\"><input type=\"hidden\" name=\"calendar3.month.short.july\" value=\"Jul\"><input type=\"hidden\" name=\"calendar3.month.short.may\" value=\"May\"><input type=\"hidden\" name=\"calendar3.month.short.november\" value=\"Nov\"><input type=\"hidden\" name=\"calendar3.day.long.friday\" value=\"Friday\"><input type=\"hidden\" name=\"calendar3.day.long.sunday\" value=\"Sunday\"><input type=\"hidden\" name=\"calendar3.day.long.saturday\" value=\"Saturday\"><input type=\"hidden\" name=\"calendar3.month.short.april\" value=\"Apr\"><input type=\"hidden\" name=\"calendar3.day.long.wednesday\" value=\"Wednesday\"><input type=\"hidden\" name=\"calendar3.month.long.december\" value=\"December\"><input type=\"hidden\" name=\"calendar3.month.short.october\" value=\"Oct\"><input type=\"hidden\" name=\"calendar3.day.long.monday\" value=\"Monday\"><input type=\"hidden\" name=\"calendar3.month.short.june\" value=\"Jun\"><input type=\"hidden\" name=\"calendar3.day.short.monday\" value=\"Mon\"><input type=\"hidden\" name=\"calendar3.day.short.tuesday\" value=\"Tue\"><input type=\"hidden\" name=\"calendar3.day.short.saturday\" value=\"Sat\"><input type=\"hidden\" name=\"calendar3.month.long.march\" value=\"March\"><input type=\"hidden\" name=\"calendar3.month.long.june\" value=\"June\"><input type=\"hidden\" name=\"calendar3.month.short.february\" value=\"Feb\"><input type=\"hidden\" name=\"calendar3.month.short.august\" value=\"Aug\"><input type=\"hidden\" name=\"calendar3.month.short.december\" value=\"Dec\"><input type=\"hidden\" name=\"calendar3.day.short.sunday\" value=\"Sun\"><input type=\"hidden\" name=\"calendar3.month.long.february\" value=\"February\"><input type=\"hidden\" name=\"calendar3.day.long.tuesday\" value=\"Tuesday\"><input type=\"hidden\" name=\"calendar3.month.long.may\" value=\"May\"><input type=\"hidden\" name=\"calendar3.month.long.september\" value=\"September\"><input type=\"hidden\" name=\"calendar3.month.long.november\" value=\"November\"><input type=\"hidden\" name=\"calendar3.month.short.january\" value=\"Jan\"><input type=\"hidden\" name=\"calendar3.month.short.september\" value=\"Sep\"><input type=\"hidden\" name=\"calendar3.day.long.thursday\" value=\"Thursday\"><input type=\"hidden\" name=\"calendar3.month.long.january\" value=\"January\"><input type=\"hidden\" name=\"calendar3.day.short.friday\" value=\"Fri\"></fieldset></script>\\n            <meta name=\"ajs-emojis-allow-current-user-upload-emojis\" content=\"true\">\\n<meta name=\"ajs-emojis-max-upload-file-size\" content=\"1\">\\n\\n            <script type=\"text/x-mathjax-config\"> MathJax.Hub.Config({ tex2jax: { inlineMath: [ [\\'(mathjax-inline(\\', \\')mathjax-inline)\\' ] ], displayMath: [ [\\'(mathjax-block(\\', \\')mathjax-block)\\' ] ], }, asciimath2jax: { delimiters: [ [\\'(mathjax-ascii-math(\\',\\')mathjax-ascii-math)\\'] ] } }); </script> <script type=\"text/javascript\" async src=\"https://cdnjs.cloudflare.com/ajax/libs/mathjax/2.7.1/MathJax.js?config=TeX-MML-AM_CHTML\"> </script>\\n            <meta name=\"ajs-is-confluence-admin\" content=\"false\">\\n            <meta name=\"ajs-connection-timeout\" content=\"10000\">\\n            \\n    \\n    \\n            <meta name=\"ajs-page-title\" content=\"EPOCH IPS Home\">\\n            <meta name=\"ajs-latest-published-page-title\" content=\"EPOCH IPS Home\">\\n            <meta name=\"ajs-space-name\" content=\"EPOCH IPS\">\\n            <meta name=\"ajs-page-id\" content=\"32801063\">\\n            <meta name=\"ajs-latest-page-id\" content=\"32801063\">\\n            <meta name=\"ajs-content-type\" content=\"page\">\\n            <meta name=\"ajs-parent-page-id\" content=\"\">\\n            <meta name=\"ajs-space-key\" content=\"EPOCH\">\\n            <meta name=\"ajs-max-number-editors\" content=\"12\">\\n            <meta name=\"ajs-macro-placeholder-timeout\" content=\"5000\">\\n            <meta name=\"ajs-jira-metadata-count\" content=\"0\">\\n            <meta name=\"ajs-from-page-title\" content=\"\">\\n            <meta name=\"ajs-can-remove-page\" content=\"false\">\\n            <meta name=\"ajs-can-remove-page-hierarchy\" content=\"false\">\\n            <meta name=\"ajs-browse-page-tree-mode\" content=\"view\">\\n            <meta name=\"ajs-shared-drafts\" content=\"true\">\\n            <meta name=\"ajs-user-display-name\" content=\"Bruno Pinos\">\\n            <meta name=\"ajs-context-path\" content=\"\">\\n            <meta name=\"ajs-base-url\" content=\"https://wiki.devops.kratosdefense.com\">\\n            <meta name=\"ajs-version-number\" content=\"8.5.3\">\\n            <meta name=\"ajs-build-number\" content=\"9012\">\\n            <meta name=\"ajs-remote-user\" content=\"Bruno.Pinos\">\\n            <meta name=\"ajs-remote-user-key\" content=\"8a7520e574e72ab8017790e2046c0165\">\\n            <meta name=\"ajs-remote-user-has-licensed-access\" content=\"true\">\\n            <meta name=\"ajs-remote-user-has-browse-users-permission\" content=\"true\">\\n            <meta name=\"ajs-current-user-fullname\" content=\"Bruno Pinos\">\\n            <meta name=\"ajs-current-user-avatar-uri-reference\" content=\"/images/icons/profilepics/default.svg\">\\n            <meta name=\"ajs-static-resource-url-prefix\" content=\"/s/-55270/9012/tu5x00/_\">\\n            <meta name=\"ajs-global-settings-attachment-max-size\" content=\"157286400\">\\n            <meta name=\"ajs-global-settings-quick-search-enabled\" content=\"true\">\\n            <meta name=\"ajs-user-locale\" content=\"en_GB\">\\n            <meta name=\"ajs-user-timezone-offset\" content=\"0\">\\n            <meta name=\"ajs-enabled-dark-features\" content=\"site-wide.shared-drafts,site-wide.synchrony,clc.quick.create,confluence.view.edit.transition,cql.search.screen,confluence-inline-comments-resolved,http.session.registrar,nps.survey.inline.dialog,confluence.efi.onboarding.new.templates,atlassian.cdn.static.assets,pdf-preview,previews.sharing,previews.versions,file-annotations,confluence.efi.onboarding.rich.space.content,collaborative-audit-log,confluence.reindex.improvements,previews.conversion-service,editor.ajax.save,crowd.sync.nested.groups.group.membership.changes.batching.enabled,read.only.mode,graphql,previews.trigger-all-file-types,attachment.extracted.text.extractor,lucene.caching.filter,confluence.table.resizable,notification.batch,previews.sharing.pushstate,confluence-inline-comments-rich-editor,tc.tacca.dacca,topicEventPublisher,confluence.reindex.audit,site-wide.synchrony.opt-in,atlassian.webresource.twophase.js.i18n.disabled,confluence.denormalisedpermissions,file-annotations.likes,gatekeeper-ui-v2,v2.content.name.searcher,confluence.search.improvements.ranking,crowd.event.transformer.directory.manager.cache,mobile.supported.version,confluence.reindex.spaces,confluence.fast-xml-backup-restore,pulp,crowd.sync.delete.user.memberships.batching.enabled,confluence-inline-comments,confluence-inline-comments-dangling-comment,quick-reload-inline-comments-flags,confluence.retention.rules\">\\n            <meta name=\"ajs-atl-token\" content=\"4aa009175828374fa82c90920f768b7ea182fa2d\">\\n            <meta name=\"ajs-confluence-flavour\" content=\"VANILLA\">\\n            <meta name=\"ajs-user-date-pattern\" content=\"dd MMM yyyy\">\\n            <meta name=\"ajs-access-mode\" content=\"READ_WRITE\">\\n            <meta name=\"ajs-render-mode\" content=\"READ_WRITE\">\\n            <meta name=\"ajs-date.format\" content=\"MMM dd, yyyy\">\\n    \\n    <link rel=\"shortcut icon\" href=\"/s/-55270/9012/tu5x00/3/_/favicon.ico\">\\n    <link rel=\"icon\" type=\"image/x-icon\" href=\"/s/-55270/9012/tu5x00/3/_/favicon.ico\">\\n\\n<link rel=\"search\" type=\"application/opensearchdescription+xml\" href=\"/opensearch/osd.action\" title=\"Confluence\"/>\\n    \\n                    \\n            <meta name=\"ajs-create-issue-metadata-show-discovery\" content=\"true\">\\n            \\n\\n    <script>\\nwindow.WRM=window.WRM||{};window.WRM._unparsedData=window.WRM._unparsedData||{};window.WRM._unparsedErrors=window.WRM._unparsedErrors||{};\\nWRM._unparsedData[\"com.atlassian.applinks.applinks-plugin:applinks-common-exported.entity-types\"]=\"{\\\\u0022singular\\\\u0022:{\\\\u0022refapp.charlie\\\\u0022:\\\\u0022Charlie\\\\u0022,\\\\u0022fecru.project\\\\u0022:\\\\u0022Crucible Project\\\\u0022,\\\\u0022fecru.repository\\\\u0022:\\\\u0022FishEye Repository\\\\u0022,\\\\u0022stash.project\\\\u0022:\\\\u0022Bitbucket Server Project\\\\u0022,\\\\u0022generic.entity\\\\u0022:\\\\u0022Generic Project\\\\u0022,\\\\u0022confluence.space\\\\u0022:\\\\u0022Confluence Space\\\\u0022,\\\\u0022bamboo.project\\\\u0022:\\\\u0022Bamboo Project\\\\u0022,\\\\u0022jira.project\\\\u0022:\\\\u0022Jira Project\\\\u0022},\\\\u0022plural\\\\u0022:{\\\\u0022refapp.charlie\\\\u0022:\\\\u0022Charlies\\\\u0022,\\\\u0022fecru.project\\\\u0022:\\\\u0022Crucible Projects\\\\u0022,\\\\u0022fecru.repository\\\\u0022:\\\\u0022FishEye Repositories\\\\u0022,\\\\u0022stash.project\\\\u0022:\\\\u0022Bitbucket Server Projects\\\\u0022,\\\\u0022generic.entity\\\\u0022:\\\\u0022Generic Projects\\\\u0022,\\\\u0022confluence.space\\\\u0022:\\\\u0022Confluence Spaces\\\\u0022,\\\\u0022bamboo.project\\\\u0022:\\\\u0022Bamboo Projects\\\\u0022,\\\\u0022jira.project\\\\u0022:\\\\u0022Jira Projects\\\\u0022}}\";\\nWRM._unparsedData[\"com.atlassian.analytics.analytics-client:programmatic-analytics-init.programmatic-analytics-data-provider\"]=\"false\";\\nWRM._unparsedData[\"com.atlassian.confluence.plugins.confluence-license-banner:confluence-license-banner-resources.license-details\"]=\"{\\\\u0022daysBeforeLicenseExpiry\\\\u0022:0,\\\\u0022daysBeforeMaintenanceExpiry\\\\u0022:0,\\\\u0022showLicenseExpiryBanner\\\\u0022:false,\\\\u0022showMaintenanceExpiryBanner\\\\u0022:false,\\\\u0022renewUrl\\\\u0022:null,\\\\u0022salesUrl\\\\u0022:null}\";\\nWRM._unparsedData[\"com.atlassian.plugins.atlassian-plugins-webresource-plugin:context-path.context-path\"]=\"\\\\u0022\\\\u0022\";\\nWRM._unparsedData[\"com.atlassian.analytics.analytics-client:policy-update-init.policy-update-data-provider\"]=\"false\";\\nWRM._unparsedData[\"com.atlassian.applinks.applinks-plugin:applinks-common-exported.authentication-types\"]=\"{\\\\u0022com.atlassian.applinks.api.auth.types.BasicAuthenticationProvider\\\\u0022:\\\\u0022Basic Access\\\\u0022,\\\\u0022com.atlassian.applinks.api.auth.types.TrustedAppsAuthenticationProvider\\\\u0022:\\\\u0022Trusted Applications\\\\u0022,\\\\u0022com.atlassian.applinks.api.auth.types.CorsAuthenticationProvider\\\\u0022:\\\\u0022CORS\\\\u0022,\\\\u0022com.atlassian.applinks.api.auth.types.OAuthAuthenticationProvider\\\\u0022:\\\\u0022OAuth\\\\u0022,\\\\u0022com.atlassian.applinks.api.auth.types.TwoLeggedOAuthAuthenticationProvider\\\\u0022:\\\\u0022OAuth\\\\u0022,\\\\u0022com.atlassian.applinks.api.auth.types.TwoLeggedOAuthWithImpersonationAuthenticationProvider\\\\u0022:\\\\u0022OAuth\\\\u0022}\";\\nWRM._unparsedData[\"com.atlassian.confluence.plugins.confluence-search-ui-plugin:confluence-search-ui-plugin-resources.i18n-data\"]=\"{\\\\u0022search.ui.recent.link.text\\\\u0022:\\\\u0022View more recently visited\\\\u0022,\\\\u0022search.ui.search.results.empty\\\\u0022:\\\\u0022We couldn\\\\u0027\\\\u0027t find anything matching \\\\u005C\\\\u0022{0}\\\\u005C\\\\u0022.\\\\u0022,\\\\u0022search.ui.filter.clear.selected\\\\u0022:\\\\u0022Clear selected items\\\\u0022,\\\\u0022search.ui.content.name.search.items.panel.load.all.top.items.button.text\\\\u0022:\\\\u0022Show more app results...\\\\u0022,\\\\u0022search.ui.filter.contributor.button.text\\\\u0022:\\\\u0022Contributor\\\\u0022,\\\\u0022search.ui.filter.space.current.label\\\\u0022:\\\\u0022CURRENT\\\\u0022,\\\\u0022search.ui.clear.input.button.text\\\\u0022:\\\\u0022Clear text\\\\u0022,\\\\u0022search.ui.search.results.clear.button\\\\u0022:\\\\u0022clear your filters.\\\\u0022,\\\\u0022help.search.ui.link.title\\\\u0022:\\\\u0022Search tips\\\\u0022,\\\\u0022search.ui.container.close.text\\\\u0022:\\\\u0022Close\\\\u0022,\\\\u0022search.ui.filter.date.month.text\\\\u0022:\\\\u0022The past month\\\\u0022,\\\\u0022search.ui.infinite.scroll.button.text\\\\u0022:\\\\u0022More results\\\\u0022,\\\\u0022search.ui.filter.date.button.text\\\\u0022:\\\\u0022Date\\\\u0022,\\\\u0022search.ui.filter.date.week.text\\\\u0022:\\\\u0022The past week\\\\u0022,\\\\u0022search.ui.result.subtitle.calendar\\\\u0022:\\\\u0022Team calendar\\\\u0022,\\\\u0022search.ui.filter.date.heading\\\\u0022:\\\\u0022Last modified within\\\\u0022,\\\\u0022search.ui.filter.space.input.label\\\\u0022:\\\\u0022Find spaces...\\\\u0022,\\\\u0022search.ui.generic.error\\\\u0022:\\\\u0022Something went wrong. Refresh the page, or contact your admin if this keeps happening.\\\\u0022,\\\\u0022search.ui.recent.spaces\\\\u0022:\\\\u0022Recent Spaces\\\\u0022,\\\\u0022search.ui.result.subtitle.space\\\\u0022:\\\\u0022Space\\\\u0022,\\\\u0022search.ui.filter.space.category.input.label\\\\u0022:\\\\u0022Find space categories...\\\\u0022,\\\\u0022search.ui.filter.space.archive.label\\\\u0022:\\\\u0022Search archived spaces\\\\u0022,\\\\u0022search.ui.filter.label\\\\u0022:\\\\u0022filter\\\\u0022,\\\\u0022search.ui.filter.date.all.text\\\\u0022:\\\\u0022Any time\\\\u0022,\\\\u0022search.ui.filter.date.hour.text\\\\u0022:\\\\u0022The past day\\\\u0022,\\\\u0022search.ui.filters.heading\\\\u0022:\\\\u0022Filter by\\\\u0022,\\\\u0022search.ui.filter.label.input.label\\\\u0022:\\\\u0022Find labels...\\\\u0022,\\\\u0022search.ui.recent.items.anonymous\\\\u0022:\\\\u0022Start exploring. Your search results will appear here.\\\\u0022,\\\\u0022search.ui.input.label\\\\u0022:\\\\u0022Search\\\\u0022,\\\\u0022search.ui.input.aria.label\\\\u0022:\\\\u0022Search, when you type, your results will be displayed below.\\\\u0022,\\\\u0022search.ui.search.result\\\\u0022:\\\\u0022{0,choice,1#{0} search result|1\\\\u003c{0} search results}\\\\u0022,\\\\u0022search.ui.filter.label.button.text\\\\u0022:\\\\u0022Label\\\\u0022,\\\\u0022search.ui.container.clear.ariaLabel\\\\u0022:\\\\u0022Clear\\\\u0022,\\\\u0022search.ui.input.alert\\\\u0022:\\\\u0022Hit enter to search\\\\u0022,\\\\u0022search.ui.filter.no.result.text\\\\u0022:\\\\u0022We can\\\\u0027\\\\u0027t find anything matching your search\\\\u0022,\\\\u0022search.ui.result.subtitle.user\\\\u0022:\\\\u0022User profile\\\\u0022,\\\\u0022search.ui.filter.contributor.input.label\\\\u0022:\\\\u0022Find people...\\\\u0022,\\\\u0022search.ui.filter.content.type.button.text\\\\u0022:\\\\u0022Type\\\\u0022,\\\\u0022search.ui.filter.date.year.text\\\\u0022:\\\\u0022The past year\\\\u0022,\\\\u0022search.ui.advanced.search.link.text\\\\u0022:\\\\u0022Advanced search\\\\u0022,\\\\u0022search.ui.filter.space.button.text\\\\u0022:\\\\u0022Space\\\\u0022,\\\\u0022search.ui.search.results.clear.line2\\\\u0022:\\\\u0022Try a different search term or\\\\u0022,\\\\u0022search.ui.filter.space.category.button.text\\\\u0022:\\\\u0022Space category\\\\u0022,\\\\u0022search.ui.search.results.clear.line1\\\\u0022:\\\\u0022We couldn\\\\u0027\\\\u0027t find anything matching your search.\\\\u0022,\\\\u0022search.ui.content.name.search.items.panel.load.all.top.items.admin.button.text\\\\u0022:\\\\u0022Show more settings and app results...\\\\u0022,\\\\u0022search.ui.recent.pages\\\\u0022:\\\\u0022Recently visited\\\\u0022,\\\\u0022search.ui.search.result.anonymous\\\\u0022:\\\\u0022{0,choice,1#{0} search result|1\\\\u003c{0} search results}. Have an account? {1}Log in{2} to expand your search.\\\\u0022,\\\\u0022search.ui.recent.items.empty\\\\u0022:\\\\u0022Start exploring. Pages and spaces you\\\\u0027\\\\u0027ve visited recently will appear here.\\\\u0022,\\\\u0022search.ui.filter.space.init.heading\\\\u0022:\\\\u0022recent spaces\\\\u0022}\";\\nWRM._unparsedData[\"com.atlassian.applinks.applinks-plugin:applinks-common-exported.applinks-types\"]=\"{\\\\u0022crowd\\\\u0022:\\\\u0022Crowd\\\\u0022,\\\\u0022confluence\\\\u0022:\\\\u0022Confluence\\\\u0022,\\\\u0022fecru\\\\u0022:\\\\u0022FishEye / Crucible\\\\u0022,\\\\u0022stash\\\\u0022:\\\\u0022Bitbucket\\\\u0022,\\\\u0022jira\\\\u0022:\\\\u0022Jira\\\\u0022,\\\\u0022refapp\\\\u0022:\\\\u0022Reference Application\\\\u0022,\\\\u0022bamboo\\\\u0022:\\\\u0022Bamboo\\\\u0022,\\\\u0022generic\\\\u0022:\\\\u0022Generic Application\\\\u0022}\";\\nWRM._unparsedData[\"com.atlassian.confluence.plugins.synchrony-interop:synchrony-status-banner-loader.synchrony-status\"]=\"false\";\\nWRM._unparsedData[\"com.atlassian.applinks.applinks-plugin:applinks-common-exported.applinks-help-paths\"]=\"{\\\\u0022entries\\\\u0022:{\\\\u0022applinks.docs.root\\\\u0022:\\\\u0022https://confluence.atlassian.com/display/APPLINKS-091/\\\\u0022,\\\\u0022applinks.docs.diagnostics.troubleshoot.sslunmatched\\\\u0022:\\\\u0022SSL+and+application+link+troubleshooting+guide\\\\u0022,\\\\u0022applinks.docs.diagnostics.troubleshoot.oauthsignatureinvalid\\\\u0022:\\\\u0022OAuth+troubleshooting+guide\\\\u0022,\\\\u0022applinks.docs.diagnostics.troubleshoot.oauthtimestamprefused\\\\u0022:\\\\u0022OAuth+troubleshooting+guide\\\\u0022,\\\\u0022applinks.docs.delete.entity.link\\\\u0022:\\\\u0022Create+links+between+projects\\\\u0022,\\\\u0022applinks.docs.adding.application.link\\\\u0022:\\\\u0022Link+Atlassian+applications+to+work+together\\\\u0022,\\\\u0022applinks.docs.administration.guide\\\\u0022:\\\\u0022Application+Links+Documentation\\\\u0022,\\\\u0022applinks.docs.oauth.security\\\\u0022:\\\\u0022OAuth+security+for+application+links\\\\u0022,\\\\u0022applinks.docs.troubleshoot.application.links\\\\u0022:\\\\u0022Troubleshoot+application+links\\\\u0022,\\\\u0022applinks.docs.diagnostics.troubleshoot.unknownerror\\\\u0022:\\\\u0022Network+and+connectivity+troubleshooting+guide\\\\u0022,\\\\u0022applinks.docs.configuring.auth.trusted.apps\\\\u0022:\\\\u0022Configuring+Trusted+Applications+authentication+for+an+application+link\\\\u0022,\\\\u0022applinks.docs.diagnostics.troubleshoot.authlevelunsupported\\\\u0022:\\\\u0022OAuth+troubleshooting+guide\\\\u0022,\\\\u0022applinks.docs.diagnostics.troubleshoot.ssluntrusted\\\\u0022:\\\\u0022SSL+and+application+link+troubleshooting+guide\\\\u0022,\\\\u0022applinks.docs.diagnostics.troubleshoot.unknownhost\\\\u0022:\\\\u0022Network+and+connectivity+troubleshooting+guide\\\\u0022,\\\\u0022applinks.docs.delete.application.link\\\\u0022:\\\\u0022Link+Atlassian+applications+to+work+together\\\\u0022,\\\\u0022applinks.docs.adding.project.link\\\\u0022:\\\\u0022Configuring+Project+links+across+Applications\\\\u0022,\\\\u0022applinks.docs.link.applications\\\\u0022:\\\\u0022Link+Atlassian+applications+to+work+together\\\\u0022,\\\\u0022applinks.docs.diagnostics.troubleshoot.oauthproblem\\\\u0022:\\\\u0022OAuth+troubleshooting+guide\\\\u0022,\\\\u0022applinks.docs.diagnostics.troubleshoot.migration\\\\u0022:\\\\u0022Update+application+links+to+use+OAuth\\\\u0022,\\\\u0022applinks.docs.relocate.application.link\\\\u0022:\\\\u0022Link+Atlassian+applications+to+work+together\\\\u0022,\\\\u0022applinks.docs.administering.entity.links\\\\u0022:\\\\u0022Create+links+between+projects\\\\u0022,\\\\u0022applinks.docs.upgrade.application.link\\\\u0022:\\\\u0022OAuth+security+for+application+links\\\\u0022,\\\\u0022applinks.docs.diagnostics.troubleshoot.connectionrefused\\\\u0022:\\\\u0022Network+and+connectivity+troubleshooting+guide\\\\u0022,\\\\u0022applinks.docs.configuring.auth.oauth\\\\u0022:\\\\u0022OAuth+security+for+application+links\\\\u0022,\\\\u0022applinks.docs.insufficient.remote.permission\\\\u0022:\\\\u0022OAuth+security+for+application+links\\\\u0022,\\\\u0022applinks.docs.configuring.application.link.auth\\\\u0022:\\\\u0022OAuth+security+for+application+links\\\\u0022,\\\\u0022applinks.docs.diagnostics\\\\u0022:\\\\u0022Application+links+diagnostics\\\\u0022,\\\\u0022applinks.docs.configured.authentication.types\\\\u0022:\\\\u0022OAuth+security+for+application+links\\\\u0022,\\\\u0022applinks.docs.adding.entity.link\\\\u0022:\\\\u0022Create+links+between+projects\\\\u0022,\\\\u0022applinks.docs.diagnostics.troubleshoot.unexpectedresponse\\\\u0022:\\\\u0022Network+and+connectivity+troubleshooting+guide\\\\u0022,\\\\u0022applinks.docs.configuring.auth.basic\\\\u0022:\\\\u0022Configuring+Basic+HTTP+Authentication+for+an+Application+Link\\\\u0022,\\\\u0022applinks.docs.diagnostics.troubleshoot.authlevelmismatch\\\\u0022:\\\\u0022OAuth+troubleshooting+guide\\\\u0022}}\";\\nWRM._unparsedData[\"com.atlassian.confluence.plugins.confluence-feature-discovery-plugin:confluence-feature-discovery-plugin-resources.test-mode\"]=\"false\";\\nif(window.WRM._dataArrived)window.WRM._dataArrived();</script>\\n<link rel=\"stylesheet\" href=\"/s/e0bcaa9e1beafcd956b8e96515dc0ef3-CDN/-55270/9012/tu5x00/8cf0fd71636c2f2035a40dd2ba875c02/_/download/contextbatch/css/_super,-com.atlassian.plugins.atlassian-plugins-webresource-rest:data-collector-perf-observer/batch.css\" data-wrm-key=\"_super,-com.atlassian.plugins.atlassian-plugins-webresource-rest:data-collector-perf-observer\" data-wrm-batch-type=\"context\" media=\"all\">\\n<link rel=\"stylesheet\" href=\"/s/37ee9420fd67a21f9050fe0ea297eebe-CDN/-55270/9012/tu5x00/27c13228ee75a91877be539ce0d9e7eb/_/download/contextbatch/css/atl.confluence.plugins.pagetree-desktop,main,viewcontent,atl.general,page,atl.comments,-_super/batch.css?cefp_collab_enabled=true&amp;cefp_ed_perm=false&amp;cefp_is_admin=false&amp;gatekeeper-ui-v2=true&amp;highlightactions=true&amp;hostenabled=true&amp;user-logged-in=true\" data-wrm-key=\"atl.confluence.plugins.pagetree-desktop,main,viewcontent,atl.general,page,atl.comments,-_super\" data-wrm-batch-type=\"context\" media=\"all\">\\n<link rel=\"stylesheet\" href=\"/s/d41d8cd98f00b204e9800998ecf8427e-CDN/-55270/9012/tu5x00/18.5.6/_/download/batch/confluence.macros.advanced:recently-updated-social-resources/confluence.macros.advanced:recently-updated-social-resources.css\" data-wrm-key=\"confluence.macros.advanced:recently-updated-social-resources\" data-wrm-batch-type=\"resource\" media=\"all\">\\n<link rel=\"stylesheet\" href=\"/s/555e87164251252d1a870d3859a52866-CDN/-55270/9012/tu5x00/3.2.7/_/download/batch/confluence.extra.livesearch:livesearch-macro-web-resources/confluence.extra.livesearch:livesearch-macro-web-resources.css\" data-wrm-key=\"confluence.extra.livesearch:livesearch-macro-web-resources\" data-wrm-batch-type=\"resource\" media=\"all\">\\n<script data-wrm-key=\"com.atlassian.plugins.atlassian-plugins-webresource-rest:data-collector-perf-observer\" data-wrm-batch-type=\"resource\" data-initially-rendered>\\n!function(){\"use strict\";if(\"PerformanceObserver\"in window){const e=[];window.__observedResources=e;const r=e=>\"script\"===e?\"script\":\"css\";new PerformanceObserver((n=>{n.getEntries().filter((({initiatorType:e,name:r})=>{const n=\"script\"===e||((e,r)=>\"link\"===e&&\"css\"===new URL(r).pathname.split(\".\").pop())(e,r),i=new URL(location.href).origin===new URL(r).origin;return n&&i})).forEach((({name:n,transferSize:i,encodedBodySize:s,initiatorType:o})=>{e.push([i,s,n,r(o)])}))})).observe({type:\"resource\"})}}();\\n\\n</script>\\n<script src=\"/s/ae7afcb4ce31cf126549d0843afbd034-CDN/-55270/9012/tu5x00/8cf0fd71636c2f2035a40dd2ba875c02/_/download/contextbatch/js/_super,-com.atlassian.plugins.atlassian-plugins-webresource-rest:data-collector-perf-observer/batch.js?locale=en-GB\" data-wrm-key=\"_super,-com.atlassian.plugins.atlassian-plugins-webresource-rest:data-collector-perf-observer\" data-wrm-batch-type=\"context\" data-initially-rendered></script>\\n<script src=\"/s/035ef3a9737b30d2c67fbe94b3bd2262-CDN/-55270/9012/tu5x00/27c13228ee75a91877be539ce0d9e7eb/_/download/contextbatch/js/atl.confluence.plugins.pagetree-desktop,main,viewcontent,atl.general,page,atl.comments,-_super/batch.js?cefp_collab_enabled=true&amp;cefp_ed_perm=false&amp;cefp_is_admin=false&amp;gatekeeper-ui-v2=true&amp;highlightactions=true&amp;hostenabled=true&amp;locale=en-GB&amp;user-logged-in=true\" data-wrm-key=\"atl.confluence.plugins.pagetree-desktop,main,viewcontent,atl.general,page,atl.comments,-_super\" data-wrm-batch-type=\"context\" data-initially-rendered></script>\\n<script src=\"/s/8a67f5ef778119a9c324945506597a3d-CDN/-55270/9012/tu5x00/3.2.7/_/download/batch/confluence.extra.livesearch:livesearch-macro-web-resources/confluence.extra.livesearch:livesearch-macro-web-resources.js?locale=en-GB\" data-wrm-key=\"confluence.extra.livesearch:livesearch-macro-web-resources\" data-wrm-batch-type=\"resource\" data-initially-rendered></script>\\n<script type=\"module\">WRM.requireLazily([\"wr!com.atlassian.plugins.atlassian-plugins-webresource-rest:data-collector-async\"])</script>\\n    \\n\\n        \\n    \\n\\n        \\n        <meta name=\"ajs-site-title\" content=\"Confluence\" />\\n            \\n    \\n\\n    \\n                <link rel=\"canonical\" href=\"https://wiki.devops.kratosdefense.com/display/EPOCH/EPOCH+IPS+Home\">\\n        <link rel=\"shortlink\" href=\"https://wiki.devops.kratosdefense.com/x/J4H0AQ\">\\n    <meta name=\"wikilink\" content=\"[EPOCH:EPOCH IPS Home]\">\\n    <meta name=\"page-version\" content=\"10\">\\n    <meta name=\"ajs-page-version\" content=\"10\">\\n\\n</head>\\n\\n    \\n<body      id=\"com-atlassian-confluence\" class=\"theme-default  aui-layout aui-theme-default\">\\n\\n        \\n            <div id=\\'stp-licenseStatus-banner\\'></div>\\n    <div id=\"page\">\\n<div id=\"full-height-container\">\\n    <div id=\"header-precursor\">\\n        <div class=\"cell\">\\n            \\n                            </div>\\n    </div>\\n        \\n\\n\\n\\n\\n\\n<header id=\"header\" role=\"banner\">\\n        <nav class=\"aui-header aui-dropdown2-trigger-group\" aria-label=\"Site\"><div class=\"aui-header-inner\"><div class=\"aui-header-before\"><button class=\" aui-dropdown2-trigger app-switcher-trigger aui-dropdown2-trigger-arrowless\" aria-controls=\"app-switcher\" aria-haspopup=\"true\" role=\"button\" data-aui-trigger href=\"#app-switcher\"><span class=\"aui-icon aui-icon-small aui-iconfont-appswitcher\">Linked Applications</span></button><div id=\"app-switcher\" class=\"aui-dropdown2 aui-style-default\" role=\"menu\" hidden data-is-user-admin=\"false\" data-is-switcher=\"true\"><div class=\"app-switcher-loading\">Loading&hellip;</div></div></div><div class=\"aui-header-primary\"><span id=\"logo\" class=\"aui-header-logo aui-header-logo-custom\"><a href=\"/\" aria-label=\"Go to home page\"><img src=\"/download/attachments/66615/atl.site.logo?version=1&amp;modificationDate=1587512892451&amp;api=v2\" alt=\"Confluence\" /></a></span><ul class=\"aui-nav\">\\n                            <li>\\n            \\n    \\n        \\n<a  id=\"space-directory-link\" href=\"/spacedirectory/view.action\"  class=\" aui-nav-imagelink\"   title=\"Spaces\">\\n            <span>Spaces</span>\\n    </a>\\n        </li>\\n                    <li>\\n            \\n    \\n        \\n<a  id=\"people-directory-link\" href=\"/browsepeople.action\"  class=\" aui-nav-imagelink\"   title=\"People\">\\n            <span>People</span>\\n    </a>\\n        </li>\\n                    <li>\\n            \\n    \\n        \\n<a  href=\"/calendar/mycalendar.action\"  class=\" aui-nav-imagelink\"   title=\"Calendars\">\\n            <span>Calendars</span>\\n    </a>\\n        </li>\\n                    <li>\\n            \\n    \\n        \\n<a  href=\"/plugins/confanalytics/analytics.action\"  class=\" aui-nav-imagelink\"   title=\"Analytics\">\\n            <span>Analytics</span>\\n    </a>\\n        </li>\\n                                <li class=\"aui-buttons\">\\n                                <a href=\"#\" id=\"create-page-button\" class=\"aui-button aui-button-primary clc-create-dialog-btn\" title = \\'Create from template\\' tabindex=\"0\"><span class=\"aui-icon aui-icon-small aui-iconfont-more\">Create </span></a>\\n            </li>\\n</ul>\\n</div><div class=\"aui-header-secondary\"><ul class=\"aui-nav\">\\n                        <li>\\n        <div id=\"search-ui\" class=\"aui-quicksearch dont-default-focus header-quicksearch\"><button id=\"quick-search-query-button\" aria-label=\"Search\" aria-haspopup= \"dialog\" aria-controls=\"search_drawer\" ></button><input id=\"quick-search-query\" aria-label=\"Search\" placeholder=\"Search\" type=\"text\" aria-haspopup= \"dialog\" aria-controls=\"search_drawer\" /><div id=\"quick-search-alert\" role=\"alert\">Hit enter to search</div><aui-spinner size=\"small\"></aui-spinner></div>\\n    </li>\\n        <li>\\n            \\n        <a id=\"help-menu-link\" role=\"button\" class=\"aui-nav-link aui-dropdown2-trigger aui-dropdown2-trigger-arrowless\" href=\"#\" aria-haspopup=\"true\" aria-owns=\"help-menu-link-content\" title=\"Help\">\\n        <span class=\"aui-icon aui-icon-small aui-iconfont-question-filled\">Help</span>\\n    </a>\\n    <nav id=\"help-menu-link-content\" class=\"aui-dropdown2 aui-style-default\" >\\n                    <div class=\"aui-dropdown2-section\">\\n                                    <strong></strong>\\n                                <ul role=\"menu\"\\n                     role=\"menu\"                    aria-label=\"Help\"                    id=\"help-menu-link-pages\"                    class=\"aui-list-truncate section-pages first\">\\n                                            <li role=\"presentation\">\\n        \\n            \\n<a role=\"menuitem\"  id=\"confluence-help-link\" href=\"https://docs.atlassian.com/confluence/docs-85/\" class=\"    \"      title=\"Visit the Confluence documentation home\"  target=\"_blank\"\\n>\\n        Online Help\\n</a>\\n</li>\\n                                            <li role=\"presentation\">\\n    \\n                \\n<a role=\"menuitem\"  id=\"keyboard-shortcuts-link\" href=\"#\" class=\"    \"      title=\"View available keyboard shortcuts\" >\\n        Keyboard Shortcuts\\n</a>\\n</li>\\n                                            <li role=\"presentation\">\\n    \\n            \\n<a role=\"menuitem\"  id=\"feed-builder-link\" href=\"/dashboard/configurerssfeed.action\" class=\"    \"      title=\"Create your custom RSS feed.\" >\\n        Feed Builder\\n</a>\\n</li>\\n                                            <li role=\"presentation\">\\n    \\n            \\n<a role=\"menuitem\"  id=\"whats-new-menu-link\" href=\"https://confluence.atlassian.com/display/DOC/Confluence+8.5+Release+Notes?a=false\" class=\"    \"      title=\"\" >\\n        What\\xe2\\x80\\x99s new\\n</a>\\n</li>\\n                                            <li role=\"presentation\">\\n    \\n                \\n<a role=\"menuitem\"  id=\"gadget-directory-link\" href=\"#\" class=\"   user-item administration-link \"      title=\"Browse gadgets provided by Confluence\" >\\n        Available Gadgets\\n</a>\\n</li>\\n                                            <li role=\"presentation\">\\n    \\n            \\n<a role=\"menuitem\"  id=\"confluence-about-link\" href=\"/aboutconfluencepage.action\" class=\"    \"      title=\"Get more information about Confluence\" >\\n        About Confluence\\n</a>\\n</li>\\n                                    </ul>\\n            </div>\\n            </nav>\\n    \\n    </li>\\n        <li>\\n                \\n    \\n    </li>\\n        <li>\\n                    \\n        \\n            \\n<a  id=\"notifications-anchor\" href=\"#\"  class=\"mw-anchor read aui-nav-imagelink\"   title=\"\">\\n            <span></span>\\n    </a>\\n    \\n    </li>\\n        <li>\\n                                            \\n        <a id=\"user-menu-link\" role=\"button\" class=\"aui-dropdown2-trigger aui-dropdown2-trigger-arrowless \" aria-haspopup=\"true\" aria-owns=\"user-menu-link-content\" data-username=\"Bruno.Pinos\" href=\"#\" title=\"Bruno Pinos\">\\n                    <div class=\"aui-avatar aui-avatar-small\">\\n                <div class=\"aui-avatar-inner\">\\n                                                                                                    <img alt=\"Profile picture for Bruno.Pinos\" />\\n                </div>\\n            </div>\\n            <span class=\"aui-icon-dropdown\"></span>\\n        </a>\\n        <nav id=\"user-menu-link-content\" class=\"aui-dropdown2 aui-style-default\"  role=\"menu\" aria-label=\"Bruno Pinos\">\\n                            <div class=\"aui-dropdown2-section\">\\n                    <ul  id=\"user-menu-link-user-preferences\"                        class=\"aui-list-truncate section-user-preferences first\"\\n                         role=\"group\"                         aria-label=\"User preferences\">\\n                                                    <li role=\"presentation\">\\n        \\n            \\n<a role=\"menuitem\"  id=\"create-personal-space-link\" href=\"/spaces/createpersonalspace.action\" class=\"   user-item personal-space create-personal-space-link \"      title=\"\" >\\n        Add personal space\\xe2\\x80\\xa6\\n</a>\\n</li>\\n                                                    <li role=\"presentation\">\\n    \\n            \\n<a role=\"menuitem\"  id=\"view-user-history-link\" href=\"/users/viewuserhistory.action\" class=\"   user-item user-history popup-link \"      title=\"\" >\\n        Recently viewed\\n</a>\\n</li>\\n                                                    <li role=\"presentation\">\\n    \\n            \\n<a role=\"menuitem\"  id=\"user-recently-worked-on\" href=\"/dashboard.action#recently-worked\" class=\"   user-item \"      title=\"\" >\\n        Recently worked on\\n</a>\\n</li>\\n                                            </ul>\\n                </div>\\n                            <div class=\"aui-dropdown2-section\">\\n                    <ul  id=\"user-menu-link-user-content\"                        class=\"aui-list-truncate section-user-content\"\\n                         role=\"group\"                         aria-label=\"User content\">\\n                                                    <li role=\"presentation\">\\n    \\n            \\n<a role=\"menuitem\"  id=\"view-user-profile-link\" href=\"/users/viewmyprofile.action\" class=\"   user-item user-profile \"      title=\"\" >\\n        Profile\\n</a>\\n</li>\\n                                                    <li role=\"presentation\">\\n    \\n            \\n<a role=\"menuitem\"  id=\"view-mytasks-link\" href=\"/plugins/inlinetasks/mytasks.action\" class=\"   user-item list-user-status \"      title=\"\" >\\n        Tasks\\n</a>\\n</li>\\n                                                    <li role=\"presentation\">\\n    \\n            \\n<a role=\"menuitem\"  id=\"user-favourites-link\" href=\"/users/viewmyfavourites.action\" class=\"   user-item \"      title=\"\" >\\n        Saved for later\\n</a>\\n</li>\\n                                                    <li role=\"presentation\">\\n    \\n            \\n<a role=\"menuitem\"  id=\"user-watches-link\" href=\"/users/viewnotifications.action\" class=\"   user-item \"      title=\"\" >\\n        Watches\\n</a>\\n</li>\\n                                                    <li role=\"presentation\">\\n    \\n            \\n<a role=\"menuitem\"  id=\"user-drafts-link\" href=\"/users/viewmydrafts.action\" class=\"   user-item \"      title=\"\" >\\n        Drafts\\n</a>\\n</li>\\n                                                    <li role=\"presentation\">\\n    \\n            \\n<a role=\"menuitem\"  id=\"user-network-link\" href=\"/users/viewfollow.action?username=Bruno.Pinos\" class=\"   follow-link \"      title=\"\" >\\n        Network\\n</a>\\n</li>\\n                                                    <li role=\"presentation\">\\n    \\n            \\n<a role=\"menuitem\"  id=\"user-settings-link\" href=\"/users/viewmysettings.action\" class=\"   user-item \"      title=\"\" >\\n        Settings\\n</a>\\n</li>\\n                                                    <li role=\"presentation\">\\n    \\n            \\n<a role=\"menuitem\"  id=\"upm-requests-link\" href=\"/plugins/servlet/upm/requests?source=header_user\" class=\"    \"      title=\"\" >\\n        Atlassian Marketplace\\n</a>\\n</li>\\n                                            </ul>\\n                </div>\\n                            <div class=\"aui-dropdown2-section\">\\n                    <ul  id=\"user-menu-link-user-operations\"                        class=\"aui-list-truncate section-user-operations\"\\n                         role=\"group\"                         aria-label=\"User operations\">\\n                                                    <li role=\"presentation\">\\n    \\n            \\n<a role=\"menuitem\"  id=\"logout-link\" href=\"/logout.action\" class=\"   user-item logout-link \"      title=\"\" >\\n        Log Out\\n</a>\\n</li>\\n                                            </ul>\\n                </div>\\n                    </nav>\\n                    \\n    </li>\\n    </ul>\\n</div></div><!-- .aui-header-inner--></nav><!-- .aui-header -->\\n    <br class=\"clear\">\\n</header>\\n    \\n\\n    \\n    \\t<div class=\"ia-splitter\">\\n    \\t\\t<div class=\"ia-splitter-left\">\\n    \\t\\t\\t<div class=\"ia-fixed-sidebar\" role=\"complementary\" aria-label=sidebar>\\n                                            \\n                            <div class=\"acs-side-bar ia-scrollable-section\"><div class=\"acs-side-bar-space-info tipsy-enabled\" data-configure-tooltip=\"Edit space details\"><div class=\"avatar\"><div class=\"space-logo\" data-key=\"EPOCH\" data-name=\"EPOCH IPS\" data-entity-type=\"confluence.space\"><div class=\"avatar-img-container\"><div class=\"avatar-img-wrapper\"><a href=\"/display/EPOCH/EPOCH+IPS+Home\" title=\"EPOCH IPS\"><img class=\"avatar-img\" src=\"/download/attachments/66615/global.logo?version=4&amp;modificationDate=1563470422703&amp;api=v2\" alt=\"EPOCH IPS\"></a></div></div></div></div><div class=\"space-information-container\"><div class=\"name\"><a href=\"/display/EPOCH/EPOCH+IPS+Home\" title=\"EPOCH IPS\">EPOCH IPS</a></div><div class=\"flyout-handle icon aui-icon aui-icon-small aui-iconfont-edit\"></div><div class=\"favourite-space-icon \"><button class=\"space-favourite aui-icon aui-icon-small aui-iconfont-unstar\" id=\"space-favourite-add\" title=\"Add to my spaces\" aria-pressed=\"false\"></button><button class=\"space-favourite-hidden space-favourite aui-icon aui-icon-small aui-iconfont-star\" id=\"space-favourite-remove\" title=\"Remove from my spaces\" aria-pressed=\"false\"></button></div></div></div><div class=\"acs-side-bar-content\"><div class=\"acs-nav-wrapper\"><div class=\"acs-nav\" data-has-create-permission=\"false\" data-quick-links-state=\"null\" data-page-tree-state=\"null\" data-nav-type=\"page-tree\"><div class=\"acs-nav-sections\"><div class=\"main-links-section \"><ul class=\"acs-nav-list\"><li class=\"acs-nav-item wiki current-item\" aria-current=\"true\" data-collector-key=\"spacebar-pages\"><a class=\"acs-nav-item-link tipsy-enabled\" href=\"/collector/pages.action?key=EPOCH\" data-collapsed-tooltip=\"Pages\"><span class=\"icon\"></span><span class=\"acs-nav-item-label\">Pages</span></a></li><li class=\"acs-nav-item blog\" data-collector-key=\"spacebar-blogs\"><a class=\"acs-nav-item-link tipsy-enabled\" href=\"/pages/viewrecentblogposts.action?key=EPOCH\" data-collapsed-tooltip=\"Blog\"><span class=\"icon\"></span><span class=\"acs-nav-item-label\">Blog</span></a></li><li class=\"acs-nav-item space-calendar-sidebar-link\" data-collector-key=\"space-calendar-sidebar-link\"><a class=\"acs-nav-item-link tipsy-enabled\" href=\"/display/EPOCH/calendars\" data-collapsed-tooltip=\"Calendars\"><span class=\"icon\"></span><span class=\"acs-nav-item-label\">Calendars</span></a></li><li class=\"acs-nav-item com-addonengine-addons-analytics-space-link-adg3\" data-collector-key=\"space-analytics-web-item-adg3\"><a class=\"acs-nav-item-link tipsy-enabled\" href=\"/plugins/confanalytics/analytics.action?key=EPOCH#/analytics/space/EPOCH\" data-collapsed-tooltip=\"Analytics\"><span class=\"icon\"></span><span class=\"acs-nav-item-label\">Analytics</span></a></li></ul></div><div class=\"quick-links-wrapper\"><h2 class=\"ia-quick-links-header-title\">Space shortcuts</h2><div class=\"quick-links-section tipsy-enabled \"><ul class=\"acs-nav-list\"><li class=\"acs-nav-item pinned_page blueprint kb-how-to-article\"><a class=\"acs-nav-item-link tipsy-enabled\" href=\"/display/EPOCH/How-to+articles\" data-collapsed-tooltip=\"null\"><span class=\"icon\"></span><span class=\"acs-nav-item-label\">How-to articles</span></a></li><li class=\"acs-nav-item pinned_page blueprint file-list\"><a class=\"acs-nav-item-link tipsy-enabled\" href=\"/display/EPOCH/File+lists\" data-collapsed-tooltip=\"null\"><span class=\"icon\"></span><span class=\"acs-nav-item-label\">File lists</span></a></li></ul></div></div></div></div></div><div class=\"ia-secondary-container tipsy-enabled\" data-tree-type=\"page-tree\"><div class=\"ia-secondary-header\"><h2 class=\"ia-secondary-header-title page-tree\"><span class=\"icon\"></span><span class=\"label\">Page tree</span></h2></div><div class=\"ia-secondary-content\"><div class=\"plugin_pagetree conf-macro output-inline\" data-hasbody=\"false\" data-macro-name=\"pagetree\">\\n\\n        \\n        \\n    <ul role=\"list\" class=\"plugin_pagetree_children_list plugin_pagetree_children_list_noleftspace\">\\n        <div class=\"plugin_pagetree_children\">\\n        </div>\\n    </ul>\\n\\n    <fieldset class=\"hidden\">\\n        <input type=\"hidden\" name=\"treeId\" value=\"\"/>\\n        <input type=\"hidden\" name=\"treeRequestId\" value=\"/plugins/pagetree/naturalchildren.action?decorator=none&amp;excerpt=false&amp;sort=position&amp;reverse=false&amp;disableLinks=false&amp;expandCurrent=true&amp;placement=sidebar\"/>\\n        <input type=\"hidden\" name=\"treePageId\" value=\"32801063\"/>\\n\\n        <input type=\"hidden\" name=\"noRoot\" value=\"false\"/>\\n        <input type=\"hidden\" name=\"rootPageId\" value=\"32801063\"/>\\n\\n        <input type=\"hidden\" name=\"rootPage\" value=\"\"/>\\n        <input type=\"hidden\" name=\"startDepth\" value=\"0\"/>\\n        <input type=\"hidden\" name=\"spaceKey\" value=\"EPOCH\"/>\\n\\n        <input type=\"hidden\" name=\"i18n-pagetree.loading\" value=\"Loading...\"/>\\n        <input type=\"hidden\" name=\"i18n-pagetree.error.permission\" value=\"Unable to load page tree. It seems that you do not have permission to view the root page.\"/>\\n        <input type=\"hidden\" name=\"i18n-pagetree.eeror.general\" value=\"There was a problem retrieving the page tree. Please check the server log file for more information.\"/>\\n        <input type=\"hidden\" name=\"loginUrl\" value=\"/login.action?os_destination=%2Fpages%2Fviewpage.action%3FspaceKey%3DEPOCH%26title%3DEPOCH%2BIPS%2BHome&amp;permissionViolation=true\"/>\\n        <input type=\"hidden\" name=\"mobile\" value=\"false\"/>\\n        <input type=\"hidden\" name=\"placement\" value=\"sidebar\"/>\\n\\n                <fieldset class=\"hidden\">\\n                            <input type=\"hidden\" name=\"ancestorId\" value=\"32801063\"/>\\n                    </fieldset>\\n    </fieldset>\\n</div></div></div></div><div class=\"hidden\"><a href=\"/collector/pages.action?key=EPOCH\" id=\"space-pages-link\"></a><script type=\"text/x-template\" title=\"logo-config-content\"><h2>Space Details</h2><div class=\"personal-space-logo-hint\">Your profile picture is used as the logo for your personal space. <a href=\"/users/profile/editmyprofilepicture.action\" target=\"_blank\">Change your profile picture</a>.</div></script></div></div><div class=\"space-tools-section\"><div id=\"space-tools-menu-additional-items\" class=\"hidden\"><div data-label=\"Browse pages\" data-class=\"\" data-href=\"/pages/reorderpages.action?key=EPOCH\">Browse pages</div></div><button id=\"space-tools-menu-trigger\"  class=\" aui-dropdown2-trigger aui-button aui-button-subtle tipsy-enabled aui-dropdown2-trigger-arrowless \" aria-controls=\"space-tools-menu\" aria-haspopup=\"true\" role=\"button\" data-aui-trigger><span class=\"aui-icon aui-icon-small aui-iconfont-configure\">Configure</span><span class=\"aui-button-label\">Space tools</span><span class=\"aui-icon \"></span></button><div id=\"space-tools-menu\" class=\"aui-dropdown2 aui-style-default space-tools-dropdown\" role=\"menu\" hidden data-aui-alignment=\"top left\"></div><a href=\"#\" role=\"button\" class=\"expand-collapse-trigger aui-icon aui-icon-small aui-iconfont-chevron-double-left\" aria-expanded=\"true\"></a></div>\\n                    \\n                        \\t\\t\\t</div>\\n    \\t\\t</div>\\n        <!-- \\\\#header -->\\n\\n            \\n    \\n        <main role=\"main\" id=\"main\" class=\" aui-page-panel\">\\n                        <div id=\"main-header\">\\n                        \\n    <div id=\"navigation\" class=\"content-navigation view\" role=\"region\" aria-label=\"Page tools\">\\n                    <ul class=\"ajs-menu-bar\">\\n                                                                    <li class=\"ajs-button normal\">\\n\\n        \\n            \\n    \\n                                                                        \\n    \\n    \\n            <a  id=\"view-inline-comment-button\"                href=\"#\"\\n                rel=\"nofollow\"\\n                class=\"aui-button aui-button-subtle view-inline-comment-menu\"\\n                                 title=\"View inline comments (&#39;v&#39;)\"                 aria-label=\"View inline comments \\'v\\'\"                                                >\\n\\n                        <span>\\n                                    <span class=\"aui-icon aui-icon-small aui-iconfont-comment\"></span>\\n                                <u>V</u>iew inline comments\\n            </span>        </a>\\n    </li>\\n                                            <li class=\"ajs-button normal\">\\n\\n        \\n            \\n    \\n                                                                        \\n    \\n    \\n            <a  id=\"page-favourite\"                href=\"#\"\\n                rel=\"nofollow\"\\n                class=\"aui-button aui-button-subtle action-page-favourite\"\\n                 accessKey=\"f\"                 title=\"Save for later\"                                                                >\\n\\n                        <span>\\n                                    <span class=\"aui-icon aui-icon-small aui-iconfont-unstar\"></span>\\n                                Save <u>f</u>or later\\n            </span>        </a>\\n    </li>\\n                                            <li class=\"ajs-button normal\">\\n\\n        \\n            \\n    \\n                                                                        \\n    \\n    \\n            <a  id=\"watch-content-button\"                href=\"#\"\\n                rel=\"nofollow\"\\n                class=\"aui-button aui-button-subtle watch-menu\"\\n                                 title=\"Watch (&#39;w&#39;)\"                 aria-label=\"Watch \\'w\\'\"                                                >\\n\\n                        <span>\\n                                    <span class=\"aui-icon aui-icon-small aui-iconfont-unwatch\"></span>\\n                                <u>W</u>atch\\n            </span>        </a>\\n    </li>\\n                                            <li class=\"ajs-button normal\">\\n\\n        \\n            \\n    \\n                                                                        \\n    \\n    \\n            <a  id=\"shareContentLink\"                href=\"#\"\\n                rel=\"nofollow\"\\n                class=\"aui-button aui-button-subtle share\"\\n                                 title=\"Share this page with others\"                                                                >\\n\\n                        <span>\\n                                    <span class=\"aui-icon aui-icon-small aui-iconfont-share\"></span>\\n                                <u>S</u>hare\\n            </span>        </a>\\n    </li>\\n                    \\n        <li class=\"normal ajs-menu-item\">\\n        <a id=\"action-menu-link\" class=\"action aui-dropdown2-trigger-arrowless aui-button aui-button-subtle ajs-menu-title aui-dropdown2-trigger\" href=\"#\" aria-haspopup=\"true\" aria-label=\"More options\" aria-owns=\"action-menu\" data-container=\"#navigation\">\\n            <span>\\n                                    <span class=\"aui-icon aui-icon-small aui-iconfont-more\" aria-label=\"More options\"></span>\\n                                \\n            </span>\\n        </a>         <div id=\"action-menu\" class=\"aui-dropdown2 aui-style-default\"  role=\"menu\" aria-labelledby=\"action-menu-link\" >\\n                            <div class=\"aui-dropdown2-section\">\\n                    <ul  id=\"action-menu-primary\"                          class=\"section-primary first\"                         role=\"presentation\" >\\n                                                    <li\\n                    role=\"presentation\"\\n            >\\n\\n    \\n        \\n    \\n                                                                        \\n    \\n    \\n            <a  id=\"view-attachments-link\"                href=\"/pages/viewpageattachments.action?pageId=32801063\"\\n                rel=\"nofollow\"\\n                class=\"action-view-attachments\"\\n                 accessKey=\"t\"                 title=\"View Attachments\"                                                 role=\"menuitem\"                >\\n\\n                        <span>\\n                                A<u>t</u>tachments (0)\\n            </span>        </a>\\n    </li>\\n                                                <li\\n                    role=\"presentation\"\\n            >\\n\\n    \\n        \\n    \\n                                                                        \\n    \\n    \\n            <a  id=\"action-view-history-link\"                href=\"/pages/viewpreviousversions.action?pageId=32801063\"\\n                rel=\"nofollow\"\\n                class=\"action-view-history\"\\n                                 title=\"\"                                                 role=\"menuitem\"                >\\n\\n                        <span>\\n                                Page History\\n            </span>        </a>\\n    </li>\\n                                                <li\\n                    role=\"presentation\"\\n            >\\n\\n    \\n        \\n    \\n                                                                        \\n    \\n    \\n            <a  id=\"action-page-permissions-link\"                href=\"/pages/viewinfo.action?pageId=32801063\"\\n                rel=\"nofollow\"\\n                class=\"action-page-permissions\"\\n                                 title=\"Edit restrictions\"                                                 role=\"menuitem\"                >\\n\\n                        <span>\\n                                Restrictions\\n            </span>        </a>\\n    </li>\\n                                                <li\\n                    role=\"presentation\"\\n            >\\n\\n    \\n            \\n    \\n                                                                        \\n    \\n    \\n            <a  id=\"who-can-view-button-ak-button\"                href=\"#\"\\n                rel=\"nofollow\"\\n                class=\"who-can-view-link\"\\n                                 title=\"\"                                                 role=\"menuitem\"                >\\n\\n                        <span>\\n                                People who can view\\n            </span>        </a>\\n    </li>\\n                                                <li\\n                    role=\"presentation\"\\n            >\\n\\n    \\n        \\n    \\n                                                                        \\n    \\n    \\n            <a                 href=\"/plugins/confanalytics/analytics.action?key=EPOCH#/analytics/content/page/32801063\"\\n                rel=\"nofollow\"\\n                class=\"\"\\n                                 title=\"Summary of views and activity\"                                                 role=\"menuitem\"                >\\n\\n                        <span>\\n                                Analytics\\n            </span>        </a>\\n    </li>\\n                                        </ul>\\n                </div>\\n                            <div class=\"aui-dropdown2-section\">\\n                    <ul  id=\"action-menu-secondary\"                          class=\"section-secondary\"                         role=\"presentation\" >\\n                                                    <li\\n                    role=\"presentation\"\\n            >\\n\\n    \\n        \\n    \\n                                                                        \\n    \\n    \\n            <a  id=\"view-page-info-link\"                href=\"/pages/viewinfo.action?pageId=32801063\"\\n                rel=\"nofollow\"\\n                class=\"action-view-info\"\\n                                 title=\"\"                                                 role=\"menuitem\"                >\\n\\n                        <span>\\n                                Page Information\\n            </span>        </a>\\n    </li>\\n                                                <li\\n                    role=\"presentation\"\\n            >\\n\\n    \\n            \\n    \\n                                                                        \\n    \\n    \\n            <a  id=\"view-resolved-comments\"                href=\"#\"\\n                rel=\"nofollow\"\\n                class=\"\"\\n                                 title=\"\"                                                 role=\"menuitem\"                >\\n\\n                        <span>\\n                                Resolved comments\\n            </span>        </a>\\n    </li>\\n                                                <li\\n                    role=\"presentation\"\\n            >\\n\\n    \\n        \\n    \\n                                                                        \\n    \\n    \\n            <a  id=\"view-in-hierarchy-link\"                href=\"/pages/reorderpages.action?key=EPOCH&amp;openId=32801063#selectedPageInHierarchy\"\\n                rel=\"nofollow\"\\n                class=\"\"\\n                                 title=\"\"                                                 role=\"menuitem\"                >\\n\\n                        <span>\\n                                View in Hierarchy\\n            </span>        </a>\\n    </li>\\n                                                <li\\n                    role=\"presentation\"\\n            >\\n\\n    \\n        \\n    \\n                                                                        \\n    \\n    \\n            <a  id=\"action-source-editor-view-storage-link\"                href=\"/plugins/viewstorage/viewpagestorage.action?pageId=32801063\"\\n                rel=\"nofollow\"\\n                class=\"action-view-storage view-storage-link popup-link\"\\n                                 title=\"\"                                                 role=\"menuitem\"                >\\n\\n                        <span>\\n                                View Storage Format\\n            </span>        </a>\\n    </li>\\n                                                <li\\n                    role=\"presentation\"\\n            >\\n\\n    \\n        \\n    \\n                                                                        \\n    \\n    \\n            <a  id=\"action-view-source-link\"                href=\"/plugins/viewsource/viewpagesrc.action?pageId=32801063\"\\n                rel=\"nofollow\"\\n                class=\"action-view-source popup-link\"\\n                                 title=\"\"                                                 role=\"menuitem\"                >\\n\\n                        <span>\\n                                View Source\\n            </span>        </a>\\n    </li>\\n                                                <li\\n                    role=\"presentation\"\\n            >\\n\\n    \\n        \\n    \\n                                                                        \\n    \\n    \\n            <a  id=\"action-export-pdf-link\"                href=\"/spaces/flyingpdf/pdfpageexport.action?pageId=32801063\"\\n                rel=\"nofollow\"\\n                class=\"\"\\n                                 title=\"\"                                                 role=\"menuitem\"                >\\n\\n                        <span>\\n                                Export to PDF\\n            </span>        </a>\\n    </li>\\n                                                <li\\n                    role=\"presentation\"\\n            >\\n\\n    \\n        \\n    \\n                                                                        \\n    \\n    \\n            <a  id=\"action-export-word-link\"                href=\"/exportword?pageId=32801063\"\\n                rel=\"nofollow\"\\n                class=\"action-export-word\"\\n                                 title=\"\"                                                 role=\"menuitem\"                >\\n\\n                        <span>\\n                                Export to Word\\n            </span>        </a>\\n    </li>\\n                                        </ul>\\n                </div>\\n                            <div class=\"aui-dropdown2-section\">\\n                    <ul  id=\"action-menu-modify\"                          class=\"section-modify\"                         role=\"presentation\" >\\n                                                    <li\\n                    role=\"presentation\"\\n            >\\n\\n    \\n        \\n    \\n                                                                        \\n    \\n    \\n            <a  id=\"displayed-status-inline-comments\"                href=\"/display/EPOCH/EPOCH+IPS+Home\"\\n                rel=\"nofollow\"\\n                class=\"\"\\n                                 title=\"\"                                                 role=\"menuitem\"                >\\n\\n                        <span>\\n                                Hide Inline Comments\\n            </span>        </a>\\n    </li>\\n                                                <li\\n                    role=\"presentation\"\\n            >\\n\\n    \\n        \\n    \\n                                                                        \\n    \\n    \\n            <a  id=\"action-copy-page-link\"                href=\"/pages/copypage.action?idOfPageToCopy=32801063&amp;spaceKey=EPOCH\"\\n                rel=\"nofollow\"\\n                class=\"action-copy\"\\n                                 title=\"\"                                                 role=\"menuitem\"                >\\n\\n                        <span>\\n                                Copy\\n            </span>        </a>\\n    </li>\\n                                        </ul>\\n                </div>\\n                    </div>\\n    </li>\\n            </ul>\\n    </div>\\n\\n            \\n            <div id=\"title-heading\" class=\"pagetitle with-breadcrumbs\">\\n                \\n                                    <div id=\"breadcrumb-section\">\\n                        \\n    \\n    \\n    <nav aria-label=\"Breadcrumbs\">\\n        <ol id=\"breadcrumbs\">\\n                                                            \\n                                \\n            <li class=\"first\" >\\n                                \\n                                    <span class=\"\"><a href=\"/collector/pages.action?key=EPOCH\">Pages</a></span>\\n                                                                                                    </ol>\\n    </nav>\\n\\n\\n                    </div>\\n                \\n                \\n                \\n            <div id=\"page-metadata-banner\"><ul class=\"banner\"><li id=\"system-content-items\" class=\"noprint\"><a href=\"\" title=\"Unrestricted\" id=\"content-metadata-page-restrictions\" class=\"aui-icon aui-icon-small aui-iconfont-unlocked system-metadata-restrictions\"></a></li><li class=\"page-metadata-item noprinthas-button\"  id=\"content-metadata-jira-wrapper\"><a href=\"\" title=\"\" id=\"content-metadata-jira\" class=\"aui-button aui-button-subtle content-metadata-jira tipsy-disabled hidden\"><span>Jira links</span></a></li><li class=\"page-metadata-item noprint\" ><a href=\"/plugins/confanalytics/analytics.action?key=EPOCH#/analytics/content/page/32801063\" title=\"Summary of views and activity\"  class=\"analytics-metadata-button-test\"><img class=\"page-banner-item-icon\" alt=\"\" src=\"/s/-55270/9012/tu5x00/_/download/resources/com.addonengine.analytics:analytics-resources/images/icons/analytics-content-byline-icon-adg3@2x.png\" style=\"height: 16px; width: 16px;\"/><span>Analytics</span></a></li></ul></div>\\n        \\n\\n                <h1 id=\"title-text\" class=\"with-breadcrumbs\">\\n                                                <a href=\"/display/EPOCH/EPOCH+IPS+Home\">EPOCH IPS Home</a>\\n                                    </h1>\\n            </div>\\n        </div><!-- \\\\#main-header -->\\n        \\n        \\n\\n        <div id=\"sidebar-container\">\\n                                                </div><!-- \\\\#sidebar-container -->\\n\\n        \\n    \\n\\n        \\n\\n\\n\\n\\n            \\n    \\n\\n                                \\n    \\n\\n    \\n    \\n        \\n    \\n    \\n                    \\n    \\n\\n    \\n\\n    \\n            \\n        \\n\\n    \\n    \\n\\n    \\n            \\n        \\n\\n\\n\\n    \\n<div id=\"content\" class=\"page view\">\\n    \\n\\n\\n<div id=\"action-messages\">\\n                        </div>\\n\\n\\n\\n            <script type=\"text/x-template\" title=\"searchResultsGrid\">\\n    <table class=\"aui\">\\n        <thead>\\n            <tr class=\"header\">\\n                <th class=\"search-result-title\">Page Title</th>\\n                <th class=\"search-result-space\">Space</th>\\n                <th class=\"search-result-date\">Updated</th>\\n            </tr>\\n        </thead>\\n    </table>\\n</script>\\n<script type=\"text/x-template\" title=\"searchResultsGridCount\">\\n    <p class=\"search-result-count\">{0}</p>\\n</script>\\n<script type=\"text/x-template\" title=\"searchResultsGridRow\">\\n    <tr class=\"search-result\">\\n        <td class=\"search-result-title\"><a href=\"{1}\" class=\"content-type-{2}\"><span>{0}</span></a></td>\\n        <td class=\"search-result-space\"><a class=\"space\" href=\"/display/{4}/\" title=\"{3}\">{3}</a></td>\\n        <td class=\"search-result-date\"><span class=\"date\" title=\"{6}\">{5}</span></td>\\n    </tr>\\n</script>\\n        \\n    \\n            \\n\\n        \\n                            \\n    \\n\\n                    \\n\\n        \\n        <div class=\"page-metadata\">\\n    <ul>\\n        <li class=\"page-metadata-modification-info\">\\n            \\n        \\n    \\n    \\n        \\n    \\n        \\n            \\n            Created by <span class=\\'author\\'>     <span class=\"unknown-user\">Unknown User (taylor.boswell)</span></span>, last modified by <span class=\\'editor\\'>     <a href=\"    /display/~Justin.Boss\\n\"\\n            aria-label=\"modified by Justin Boss\"                       class=\"url fn confluence-userlink\" data-username=\"Justin.Boss\"\\n                            >Justin Boss</a></span> on <a class=\\'last-modified\\' aria-label=\\'modified on May 19, 2020, select to show changes\\' title=\\'Show changes\\' href=\\'/pages/diffpagesbyversion.action?pageId=32801063&amp;selectedPageVersions=9&amp;selectedPageVersions=10\\'>May 19, 2020</a>\\n            </li>\\n    </ul>\\n</div>\\n        \\n                                            \\n        <div id=\"main-content\" class=\"wiki-content\">\\n                           \\n        <div class=\"contentLayout2\">\\n<div class=\"columnLayout single\" data-layout=\"single\">\\n<div class=\"cell normal\" data-type=\"normal\">\\n<div class=\"innerCell\">\\n<p><br/></p><h1 class=\"auto-cursor-target\" id=\"EPOCHIPSHome-Welcome\">Welcome</h1><p>Welcome to the EPOCH Integrated Product Suite (IPS) Wiki!</p><p><br/></p><p>Use the page tree on the left or the search bar below to navigate.</p><p><br/></p></div>\\n</div>\\n</div>\\n<div class=\"columnLayout two-equal\" data-layout=\"two-equal\">\\n<div class=\"cell normal\" data-type=\"normal\">\\n<div class=\"innerCell\">\\n<h2 id=\"EPOCHIPSHome-Recentspaceactivity\">Recent space activity</h2><p><div class=\"recently-updated recently-updated-social conf-macro output-block\" data-hasbody=\"false\" data-macro-name=\"recently-updated\">\\n            <div class=\"hidden parameters\">\\n    <input type=\"hidden\" id=\"changesUrl\" value=\"/plugins/recently-updated/changes.action?theme=social&amp;pageSize=5&amp;spaceKeys=EPOCH&amp;contentType=page, comment, blogpost\"/>\\n</div>\\n    <div class=\"results-container\">\\n        <ul class=\"update-groupings\">\\n        <li class=\"grouping\">\\n                <div class=\"update-item-profile\">\\n            <a class=\"confluence-userlink url fn\" data-username=\"Brian.Gray\" href=\"\"><img class=\"userLogo logo\" src=\"/s/-55270/9012/tu5x00/_/images/icons/profilepics/default.svg\" alt=\"\" title=\"Brian.Gray\"/></a>\\n        </div>\\n        <ul class=\"update-items\">\\n            <div><a class=\"confluence-userlink url fn\" data-username=\"Brian.Gray\" href=\"/display/~Brian.Gray\">Brian Gray</a></div>\\n                        <li class=\"update-item\">\\n                <div class=\"update-item-icon\">\\n                    <span class=\"aui-icon content-type-comment\"></span>\\n                </div>\\n                <div class=\"update-item-details\">\\n                    <span class=\"update-item-content\">\\n                                                    <a href=\"/display/EPOCH/Optus11+-+Service+15?focusedCommentId=206150209#comment-206150209\" title=\"\">Optus11 - Service 15</a>\\n                                            </span>\\n                    <span class=\"update-item-date\">commented Jan 12, 2024</span>\\n                                                                            </div>\\n            </li>\\n                    </ul>\\n    </li>\\n        <li class=\"grouping\">\\n                <div class=\"update-item-profile\">\\n            <a class=\"confluence-userlink url fn\" data-username=\"Jason.Boss\" href=\"\"><img class=\"userLogo logo\" src=\"/s/-55270/9012/tu5x00/_/images/icons/profilepics/default.svg\" alt=\"\" title=\"Jason.Boss\"/></a>\\n        </div>\\n        <ul class=\"update-items\">\\n            <div><a class=\"confluence-userlink url fn\" data-username=\"Jason.Boss\" href=\"/display/~Jason.Boss\">Jason Boss</a></div>\\n                        <li class=\"update-item\">\\n                <div class=\"update-item-icon\">\\n                    <span class=\"aui-icon content-type-comment\"></span>\\n                </div>\\n                <div class=\"update-item-details\">\\n                    <span class=\"update-item-content\">\\n                                                    <a href=\"/display/EPOCH/Optus11+-+Service+15?focusedCommentId=206150206#comment-206150206\" title=\"\">Optus11 - Service 15</a>\\n                                            </span>\\n                    <span class=\"update-item-date\">commented Jan 12, 2024</span>\\n                                                                            </div>\\n            </li>\\n                        <li class=\"update-item\">\\n                <div class=\"update-item-icon\">\\n                    <span class=\"aui-icon content-type-page\"></span>\\n                </div>\\n                <div class=\"update-item-details\">\\n                    <span class=\"update-item-content\">\\n                                                    <a href=\"/display/EPOCH/Optus11+-+Service+15\" title=\"EPOCH IPS\">Optus11 - Service 15</a>\\n                                            </span>\\n                    <span class=\"update-item-date\">updated Jan 12, 2024</span>\\n                                            <span class=\"update-item-changes\"> <a class=\"changes-link\" href=\"/pages/diffpagesbyversion.action?pageId=160730585&amp;selectedPageVersions=26&amp;selectedPageVersions=25\">view change</a></span>\\n                                                                            </div>\\n            </li>\\n                    </ul>\\n    </li>\\n        <li class=\"grouping\">\\n                <div class=\"update-item-profile\">\\n            <a class=\"confluence-userlink url fn\" data-username=\"Brian.Gray\" href=\"\"><img class=\"userLogo logo\" src=\"/s/-55270/9012/tu5x00/_/images/icons/profilepics/default.svg\" alt=\"\" title=\"Brian.Gray\"/></a>\\n        </div>\\n        <ul class=\"update-items\">\\n            <div><a class=\"confluence-userlink url fn\" data-username=\"Brian.Gray\" href=\"/display/~Brian.Gray\">Brian Gray</a></div>\\n                        <li class=\"update-item\">\\n                <div class=\"update-item-icon\">\\n                    <span class=\"aui-icon content-type-page\"></span>\\n                </div>\\n                <div class=\"update-item-details\">\\n                    <span class=\"update-item-content\">\\n                                                    <a href=\"/display/EPOCH/Optus11+-+Service+15\" title=\"EPOCH IPS\">Optus11 - Service 15</a>\\n                                            </span>\\n                    <span class=\"update-item-date\">updated Jan 12, 2024</span>\\n                                            <span class=\"update-item-changes\"> <a class=\"changes-link\" href=\"/pages/diffpagesbyversion.action?pageId=160730585&amp;selectedPageVersions=25&amp;selectedPageVersions=24\">view change</a></span>\\n                                                                            </div>\\n            </li>\\n                    </ul>\\n    </li>\\n        <li class=\"grouping\">\\n                <div class=\"update-item-profile\">\\n            <a class=\"confluence-userlink url fn\" data-username=\"Jason.Boss\" href=\"\"><img class=\"userLogo logo\" src=\"/s/-55270/9012/tu5x00/_/images/icons/profilepics/default.svg\" alt=\"\" title=\"Jason.Boss\"/></a>\\n        </div>\\n        <ul class=\"update-items\">\\n            <div><a class=\"confluence-userlink url fn\" data-username=\"Jason.Boss\" href=\"/display/~Jason.Boss\">Jason Boss</a></div>\\n                        <li class=\"update-item\">\\n                <div class=\"update-item-icon\">\\n                    <span class=\"aui-icon content-type-comment\"></span>\\n                </div>\\n                <div class=\"update-item-details\">\\n                    <span class=\"update-item-content\">\\n                                                    <a href=\"/display/EPOCH/Optus11+-+Service+15?focusedCommentId=206150064#comment-206150064\" title=\"\">Optus11 - Service 15</a>\\n                                            </span>\\n                    <span class=\"update-item-date\">commented Jan 12, 2024</span>\\n                                                                            </div>\\n            </li>\\n                    </ul>\\n    </li>\\n    </ul>\\n<div class=\"more-link-container\">\\n    <a class=\"more-link\" href=\"/plugins/recently-updated/changes.action?theme=social&amp;pageSize=5&amp;startIndex=5&amp;searchToken=2573&amp;spaceKeys=EPOCH&amp;contentType=page, comment, blogpost\">Show More</a>\\n    <img class=\"waiting-image\" alt=\"Please wait\" src=\"/s/-55270/9012/tu5x00/_/images/icons/wait.gif\"/>\\n</div>\\n    </div>\\n</div></p></div>\\n</div>\\n<div class=\"cell normal\" data-type=\"normal\">\\n<div class=\"innerCell\">\\n<h2 id=\"EPOCHIPSHome-Spacecontributors\">Space contributors</h2><p><div class=\"contributors-macro-ajax-container conf-macro output-block\" data-hasbody=\"false\" data-macro-name=\"contributors\"><div style=\"display; none;\" class=\"contributors-macro-parameters\">{&quot;mode&quot;:&quot;list&quot;,&quot;scope&quot;:&quot;descendants&quot;,&quot;limit&quot;:&quot;5&quot;,&quot;showLastTime&quot;:&quot;true&quot;,&quot;order&quot;:&quot;update&quot;,&quot;contextEntityId&quot;:32801063}</div></div></p></div>\\n</div>\\n</div>\\n<div class=\"columnLayout single\" data-layout=\"single\">\\n<div class=\"cell normal\" data-type=\"normal\">\\n<div class=\"innerCell\">\\n<p>\\xc2\\xa0If you create a subpage, I recommend adding two macros, Livesearch and Children Display.\\xc2\\xa0 Get the menu of macros by typing a left curly brace.\\xc2\\xa0 Result is this:</p><p><div class=\"search-macro search-macro-medium conf-macro output-inline\" data-hasbody=\"false\" data-macro-name=\"livesearch\">\\n    <form class=\"aui aui-dd-parent\" name=\"livesearchForm\" method=\"GET\" action=\"/dosearchsite.action\" role=\"search\">\\n        <fieldset class=\"search-macro-fields\">\\n            <div class=\"search-macro-query\">\\n                <input type=\"text\" class=\"text\" name=\"queryString\" autocomplete=\"off\" aria-label=\"Search\"/>\\n                            </div>\\n                        <button type=\"submit\" class=\"search-macro-button aui-button\">\\n                <span class=\"aui-icon aui-icon-small aui-iconfont-search\">Search</span>\\n            </button>\\n                        <input type=\"hidden\" name=\"where\" value=\"EPOCH\"/>\\n            <input type=\"hidden\" name=\"additional\" value=\"space name\"/>\\n            <input type=\"hidden\" name=\"labels\" value=\"\"/>\\n            <input type=\"hidden\" name=\"contentType\" value=\"\"/>\\n        </fieldset>\\n    </form>\\n    <div role=\"region\" class=\"aui-dd-parent\"></div>\\n    <div role=\"alert\" class=\"assistive\" aria-live=\"polite\"></div>\\n</div></p><p><ul class=\"childpages-macro conf-macro output-block\" data-hasbody=\"false\" data-macro-name=\"children\"><li><a href=\"/display/EPOCH/Getting+started+-+PAGE+CREATION\">Getting started - PAGE CREATION</a></li><li><a href=\"/display/EPOCH/How-to+articles\">How-to articles</a></li><li><a href=\"/display/EPOCH/Configuration+Management\">Configuration Management</a></li><li><a href=\"/display/EPOCH/File+lists\">File lists</a></li><li><a href=\"/display/EPOCH/Acronyms\">Acronyms</a></li><li><a href=\"/display/EPOCH/Discussions\">Discussions</a></li><li><a href=\"/display/EPOCH/Audit+Tool\">Audit Tool</a></li><li><a href=\"/display/EPOCH/C2+Products\">C2 Products</a></li><li><a href=\"/display/EPOCH/OASYS\">OASYS</a></li><li><a href=\"/display/EPOCH/ARES\">ARES</a></li><li><a href=\"/display/EPOCH/EPOCH+Client\">EPOCH Client</a></li><li><a href=\"/pages/viewpage.action?pageId=39780387\">EPOCH T&amp;C Server</a></li><li><a href=\"/display/EPOCH/EPOCH+Test+Group\">EPOCH Test Group</a></li><li><a href=\"/display/EPOCH/Memory+Management\">Memory Management</a></li><li><a href=\"/display/EPOCH/Standards+and+Specs\">Standards and Specs</a></li></ul></p></div>\\n</div>\\n</div>\\n</div>\\n\\n                \\n        \\n    \\n        </div>\\n\\n                        \\n    \\n\\n\\n\\n<div id=\"labels-section\" class=\"pageSection group\">\\n    <div class=\"labels-section-content content-column\" entityid=\"32801063\" entitytype=\"page\">\\n\\t<div class=\"labels-content\">\\n\\t\\t\\n    <ul class=\"label-list label-list-right  has-pen\">\\n            <li class=\"no-labels-message\">\\n            No labels\\n        </li>\\n                <li class=\"labels-edit-container\">\\n            <a href=\"#\" class=\"show-labels-editor\" title=\"Edit Labels\">\\n                <span class=\"aui-icon aui-icon-small aui-iconfont-devtools-tag-small\">Edit Labels</span>\\n            </a>\\n        </li>\\n        </ul>\\n\\n    </div>\\n</div>\\n</div>\\n        \\n\\t\\t\\n            \\n\\n\\n\\n\\n            \\n        \\n\\n\\n\\n\\n\\n\\n\\n\\n                        \\n    \\n<div id=\"comments-section\" class=\"pageSection group\">\\n        \\n    \\n\\n\\n    <div class=\"bottom-comment-panels comment-panels\">\\n                \\n                    \\n    \\n\\n\\n        \\n        \\n    \\n    <div class=\"quick-comment-container comment add\"><p class=\"comment-user-logo\"><a class=\"userLogoLink\" data-username=\"Bruno.Pinos\" href=\"/users/profile/editmyprofilepicture.action\" title=\"Add a picture of yourself\"><img class=\"userLogo logo defaultLogo\" src=\"/s/-55270/9012/tu5x00/_/images/icons/profilepics/add_profile_pic.svg\" alt=\"User icon: Add a picture of yourself\"></a></p><div class=\"quick-comment-body\"><div class=\"quick-comment-loading-container\" style=\"display:none;\"></div><div id=\"editor-messages\"></div><div id=\"any-messages\"></div><form style=\"display:block;\" class=\"quick-comment-form aui\" method=\"post\" name=\"inlinecommentform\" action=\"/pages/doaddcomment.action?pageId=32801063\" ><div title=\"Add a Comment\" role=\"button\" tabindex=\"0\" aria-label=\"Add a Comment\" class=\"quick-comment-prompt\"><span>Write a comment\\xe2\\x80\\xa6</span></div></form></div></div>\\n\\n            </div>\\n\\n            <div id=\"comments-actions\" class=\"aui-toolbar noprint\">\\n            <p class=\"toolbar-group\">\\n                <span class=\"toolbar-item\"><a href=\"/display/EPOCH/EPOCH+IPS+Home?showComments=true&amp;showCommentArea=true#addcomment\" id=\"add-comment-rte\" accesskey=\"m\" class=\"toolbar-trigger full-load\">Add Comment</a></span>\\n            </p>\\n        </div>\\n    </div>\\n        \\n\\n\\n                \\n    \\n            \\n</div>\\n\\n    \\n\\n    \\n\\n\\n\\n\\n    \\n    \\n\\n    \\n    \\n    \\n\\n\\n    \\n<div id=\"space-tools-web-items\" class=\"hidden\">\\n                <div data-label=\"Overview\" data-href=\"/spaces/viewspacesummary.action?key=EPOCH\">Overview</div>\\n            <div data-label=\"Content Tools\" data-href=\"/pages/reorderpages.action?key=EPOCH\">Content Tools</div>\\n    </div>\\n        \\n\\n\\n\\n            </main><!-- \\\\#main -->\\n            \\n    \\n    \\n        \\n            \\n            \\n\\n<div id=\"footer\" role=\"contentinfo\">\\n    <section class=\"footer-body\">\\n\\n                                                            <p class=\"license license-eval\">\\n                    <strong>EVALUATION LICENSE</strong>\\n                                            Are you enjoying Confluence? Please consider <a href=\"https://www.atlassian.com/purchase/product/confluence-data-center\">purchasing it</a> today.\\n                                    </p>\\n                    \\n        \\n\\n        <ul id=\"poweredby\">\\n            <li class=\"noprint\">Powered by <a href=\"https://www.atlassian.com/software/confluence\" class=\"hover-footer-link\" rel=\"nofollow\">Atlassian Confluence</a> <span id=\\'footer-build-information\\'>8.5.3</span></li>\\n            <li class=\"print-only\">Printed by Atlassian Confluence 8.5.3</li>\\n            <li class=\"noprint\"><a href=\"https://support.atlassian.com/confluence-server/\" class=\"hover-footer-link\" rel=\"nofollow\">Report a bug</a></li>\\n            <li class=\"noprint\"><a href=\"https://www.atlassian.com/company\" class=\"hover-footer-link\" rel=\"nofollow\">Atlassian News</a></li>\\n        </ul>\\n\\n        \\n\\n        <div id=\"footer-logo\"><a href=\"https://www.atlassian.com/\" rel=\"nofollow\">Atlassian</a></div>\\n\\n                    \\n        \\n    </section>\\n</div>\\n\\n    \\n</div>\\n\\n</div><!-- \\\\#full-height-container -->\\n</div><!-- \\\\#page -->\\n\\n    <span style=\"display:none;\" id=\"confluence-server-performance\">{\"serverDuration\": 100, \"requestCorrelationId\": \"4604a5c5887048d9\"}</span>\\n</body>\\n</html>\\n    \\n'"
     },
     "execution_count": 15,
     "metadata": {},
     "output_type": "execute_result"
    }
   ],
   "source": [
    "import requests\n",
    "token = 'NjAyNzg1NTg5MTkwOrJDgTp2htHj2J7ZNdMdTKSOWVuX'\n",
    "headers={'Authorization': f'Bearer {token}' }\n",
    "response = requests.get('https://wiki.devops.kratosdefense.com/display/EPOCH/EPOCH+IPS+Home', headers=headers)\n",
    "response.content"
   ],
   "metadata": {
    "collapsed": false,
    "ExecuteTime": {
     "end_time": "2024-01-19T15:42:21.478961Z",
     "start_time": "2024-01-19T15:42:20.468664100Z"
    }
   },
   "id": "b9d06137070eae5a",
   "execution_count": 15
  },
  {
   "cell_type": "code",
   "outputs": [],
   "source": [
    "def load_data():\n",
    "    with st.spinner(text=\"Loading and indexing the kratos docs – hang tight! This should take 1-2 minutes.\"):\n",
    "        if os.listdir(\"./data\"):\n",
    "            reader = SimpleDirectoryReader(input_dir=\"./data\", recursive=True)\n",
    "            docs = reader.load_data()\n",
    "        else:\n",
    "            docs = list()\n",
    "        with open('docs.pkl', 'rb') as f:\n",
    "            new_docs = pickle.load(f)\n",
    "        docs += new_docs\n",
    "        service_context = ServiceContext.from_defaults(llm=llm,\n",
    "                                                       embed_model=local_embeddings)\n",
    "        index = VectorStoreIndex.from_documents(docs, service_context=service_context)\n",
    "        return index"
   ],
   "metadata": {
    "collapsed": false
   },
   "id": "5dd7b1208a58ee1a"
  },
  {
   "cell_type": "code",
   "outputs": [],
   "source": [
    "local_embeddings = SentenceTransformerEmbeddings(model_name=\"all-MiniLM-L6-v2\")\n",
    "\n",
    "llm = OpenAI(base_url=\"http://192.168.48.33:1234/v1\",\n",
    "             openai_api_key=\"not-needed\",\n",
    "             temperature=0.1,\n",
    "             top_p=0.1,\n",
    "             max_tokens=256,\n",
    "             presence_penalty=1.2,\n",
    "             frequency_penalty=1.2,\n",
    "             streaming=False,\n",
    "             # system_prompt=\"You are an expert on the Streamlit Python library and your job is to answer technical \"\n",
    "             #               \"questions. Assume that all questions are related to the Streamlit Python library.\"\n",
    "             #               \" Keep your answers technical and based on facts – do not hallucinate features.\"\n",
    "             )\n",
    "\n",
    "\n",
    "\n",
    "reader = SimpleDirectoryReader(input_dir=\"./data\", recursive=True)\n",
    "docs = reader.load_data()\n",
    "for doc in docs:\n",
    "    if doc.metadata['file_path'] == 'data\\\\skyminer-development.pdf':\n",
    "        doc.metadata['url'] = \"http://192.168.48.22:8082/repository/skyminer-dev/dev-env/skyminer-development.pdf#page=\" + doc.metadata['page_label']\n",
    "docs"
   ],
   "metadata": {
    "collapsed": false
   },
   "id": "5a8e125191495661",
   "execution_count": null
  },
  {
   "cell_type": "code",
   "outputs": [],
   "source": [
    "docs[0].metadata['file_path'] == 'data\\\\skyminer-development.pdf'"
   ],
   "metadata": {
    "collapsed": false
   },
   "id": "faa1df2b3a3250d1",
   "execution_count": null
  },
  {
   "cell_type": "code",
   "outputs": [],
   "source": [
    "from tqdm.notebook import tqdm"
   ],
   "metadata": {
    "collapsed": false
   },
   "id": "2c6f98c96d4f278f",
   "execution_count": null
  },
  {
   "cell_type": "code",
   "outputs": [],
   "source": [
    "local_embeddings = SentenceTransformerEmbeddings(model_name=\"all-MiniLM-L6-v2\")\n",
    "\n",
    "llm = OpenAI(base_url=\"http://192.168.48.33:1234/v1\",\n",
    "             openai_api_key=\"not-needed\",\n",
    "             temperature=0.1,\n",
    "             top_p=0.1,\n",
    "             max_tokens=256,\n",
    "             presence_penalty=1.2,\n",
    "             frequency_penalty=1.2,\n",
    "             streaming=False,\n",
    "             # system_prompt=\"You are an expert on the Streamlit Python library and your job is to answer technical \"\n",
    "             #               \"questions. Assume that all questions are related to the Streamlit Python library.\"\n",
    "             #               \" Keep your answers technical and based on facts – do not hallucinate features.\"\n",
    "             )\n",
    "\n",
    "reader = SimpleWebPageReader(html_to_text=True,\n",
    "                             metadata_fn=lambda url: {'url': url, 'file_name': url.split('/')[-1].split('%2F')[-1]})\n",
    "docs = reader.load_data(['http://192.168.48.22:8082/repository/skyminer-dev/dev-env/skyminer-development.pdf'])\n",
    "service_context = ServiceContext.from_defaults(llm=llm,\n",
    "                                               embed_model=local_embeddings)\n",
    "index = VectorStoreIndex.from_documents(docs, service_context=service_context)"
   ],
   "metadata": {
    "collapsed": false
   },
   "id": "c4ce91c061636834",
   "execution_count": null
  },
  {
   "cell_type": "code",
   "outputs": [],
   "source": [
    "query_engine = index.as_query_engine()\n",
    "response = query_engine.query(\"What is skyminer?\")\n",
    "response"
   ],
   "metadata": {
    "collapsed": false
   },
   "id": "cf0ecc132045397d",
   "execution_count": null
  },
  {
   "cell_type": "code",
   "execution_count": null,
   "id": "d8bf2d96-a963-4ace-a5e3-a760ec355f58",
   "metadata": {},
   "outputs": [],
   "source": [
    "from llama_index import Document\n",
    "from llama_index.schema import MetadataMode\n",
    "\n",
    "new_doc = Document(\n",
    "    text=\"\"\"\n",
    "        The event manager helps the user in this task by automatically duplicating specified metrics and adding the relevant time overrides, aliases and time aligns.\n",
    "        \"\"\",\n",
    "    metadata={\n",
    "        \"file_name\": \"event-manager.html\",\n",
    "        \"url\": \"http://192.168.48.101/user-manual/query-ui/event-manager.html#overview\",\n",
    "        \"title\": \"Event manager\",\n",
    "        \"sub_title\": \"Overview\"\n",
    "    },\n",
    "    excluded_llm_metadata_keys=[\"file_name\", \"url\"],\n",
    "    excluded_embed_metadata_keys = [\"file_name\", \"url\"],\n",
    "    metadata_seperator=\"::\",\n",
    "    metadata_template=\"{key}=>{value}\",\n",
    "    text_template=\"Metadata: {metadata_str}\\n-----\\nContent: {content}\",\n",
    ")"
   ]
  },
  {
   "cell_type": "code",
   "execution_count": null,
   "id": "1d59bc0f-1052-4079-b683-5cd3886a1058",
   "metadata": {},
   "outputs": [],
   "source": [
    "reader = SimpleDirectoryReader(input_dir=\"./data\", recursive=True)\n",
    "docs = reader.load_data()\n",
    "docs = docs[-3:]\n",
    "docs.append(new_doc)\n",
    "service_context = ServiceContext.from_defaults(llm=llm, embed_model=local_embeddings)\n",
    "index = VectorStoreIndex.from_documents(docs, service_context=service_context)\n"
   ]
  },
  {
   "cell_type": "code",
   "execution_count": null,
   "id": "31bfc3a9-df16-4a9b-8917-67809fa1312e",
   "metadata": {},
   "outputs": [],
   "source": [
    "docs = reader.load_data()\n",
    "docs"
   ]
  },
  {
   "cell_type": "code",
   "execution_count": null,
   "id": "9bf01d21-9b34-4a37-be4d-9149bf59373f",
   "metadata": {},
   "outputs": [],
   "source": [
    "query_engine = index.as_query_engine()\n",
    "response = query_engine.query(\"what is the event manager?\")\n",
    "print(response.response)\n",
    "for node in response.source_nodes:\n",
    "    if 'url' in node.metadata.keys():\n",
    "        print(node.metadata['url'])\n",
    "    else:\n",
    "        print(node.metadata['file_path'])\n"
   ]
  },
  {
   "cell_type": "code",
   "execution_count": null,
   "id": "e882b58e-bef3-4c4c-86a4-f1d37e714fa7",
   "metadata": {},
   "outputs": [],
   "source": [
    "response"
   ]
  },
  {
   "cell_type": "code",
   "execution_count": null,
   "id": "968d5aeb-b72c-46a3-9a9e-f7ea15abdf23",
   "metadata": {},
   "outputs": [],
   "source": [
    "docs_ = docs[-3:]\n",
    "docs.append(new_doc)"
   ]
  },
  {
   "cell_type": "code",
   "outputs": [],
   "source": [
    "docs[10]"
   ],
   "metadata": {
    "collapsed": false
   },
   "id": "19a0521f68f4b19a",
   "execution_count": null
  },
  {
   "cell_type": "code",
   "execution_count": null,
   "id": "7037a022-404e-41f0-a226-6c990fffd3e5",
   "metadata": {},
   "outputs": [],
   "source": [
    "docs[-1]"
   ]
  },
  {
   "cell_type": "code",
   "execution_count": null,
   "id": "beccf6ff-389f-4244-b1f7-02033a9aad9d",
   "metadata": {},
   "outputs": [],
   "source": [
    "index.ServiceContext"
   ]
  },
  {
   "cell_type": "code",
   "execution_count": null,
   "id": "b560b9dd-d42a-469d-9dd2-cb7fb7b2da13",
   "metadata": {},
   "outputs": [],
   "source": [
    "query_engine = index.as_query_engine()\n",
    "response = query_engine.query(\"What is skyminer?\")\n",
    "response"
   ]
  },
  {
   "cell_type": "code",
   "outputs": [],
   "source": [
    "import requests\n",
    "from bs4 import BeautifulSoup\n",
    "\n",
    "url = \"http://192.168.48.29/query/api-documentation/features\"\n",
    "import requests\n",
    "from bs4 import BeautifulSoup\n",
    "\n",
    "def extract_text(url):\n",
    "    response = requests.get(url)\n",
    "    soup = BeautifulSoup(response.content, 'lxml')\n",
    "    text = soup.get_text()\n",
    "    return text, soup\n",
    "\n",
    "# Example use\n",
    "text, soup = extract_text(url)\n",
    "print(soup)"
   ],
   "metadata": {
    "collapsed": false
   },
   "id": "8099f576c2a62130",
   "execution_count": null
  },
  {
   "cell_type": "code",
   "outputs": [],
   "source": [
    "from selenium import webdriver\n",
    "from webdriver_manager.chrome import ChromeDriverManager\n",
    "\n",
    "# Replace 'your_url' with the URL of the web page you want to scrape\n",
    "url = 'http://192.168.48.29/query/api-documentation/features'\n",
    "\n",
    "# Create a Chrome webdriver with the help of ChromeDriverManager\n",
    "driver = webdriver.Chrome()\n",
    "\n",
    "# Navigate to the URL\n",
    "driver.get(url)\n",
    "\n",
    "# Wait for some time to let the page load (you may need to adjust this based on the page)\n",
    "driver.implicitly_wait(30)\n",
    "\n",
    "# Extract all text from the page\n",
    "# Extract all visible text from the page\n",
    "all_text_elements = driver.find_elements(\"//*[not(self::script) and not(self::style)]\")\n",
    "all_text = ' '.join([element.text for element in all_text_elements])\n",
    "\n",
    "# Print or do whatever you want with the extracted text\n",
    "print(all_text)\n",
    "\n",
    "# Close the browser window\n",
    "driver.quit()"
   ],
   "metadata": {
    "collapsed": false
   },
   "id": "4b8ec2c8706eb2af",
   "execution_count": null
  },
  {
   "cell_type": "code",
   "execution_count": null,
   "id": "c5f8f36c-943b-4dea-820d-af2e456e41e8",
   "metadata": {},
   "outputs": [],
   "source": [
    "from llama_index import SummaryIndex\n",
    "from llama_index.readers import SimpleWebPageReader\n",
    "from IPython.display import Markdown, display\n",
    "import os\n",
    "\n",
    "llm = OpenAI(base_url=\"http://192.168.48.33:1234/v1\",\n",
    "             openai_api_key=\"not-needed\",\n",
    "             temperature=0.1,\n",
    "             top_p=0.1,\n",
    "             max_tokens=256,\n",
    "             presence_penalty=1.2,\n",
    "             frequency_penalty=1.2,\n",
    "             streaming=False,\n",
    "             )\n",
    "\n",
    "\n",
    "\n",
    "documents = SimpleWebPageReader(html_to_text=True).load_data(\n",
    "    [\"http://192.168.48.29/query/api-documentation/features\"]\n",
    ")\n",
    "\n",
    "local_embeddings = SentenceTransformerEmbeddings(model_name=\"all-MiniLM-L6-v2\")\n",
    "service_context = ServiceContext.from_defaults(llm=llm, embed_model=local_embeddings)\n",
    "index = SummaryIndex.from_documents(documents, service_context=service_context)\n",
    "\n",
    "# set Logging to DEBUG for more detailed outputs\n",
    "query_engine = index.as_query_engine()\n",
    "response = query_engine.query(\"Make a list of aggregators?\")\n",
    "\n",
    "display(Markdown(f\"<b>{response}</b>\"))\n",
    "\n"
   ]
  }
 ],
 "metadata": {
  "kernelspec": {
   "display_name": "Python 3 (ipykernel)",
   "language": "python",
   "name": "python3"
  },
  "language_info": {
   "codemirror_mode": {
    "name": "ipython",
    "version": 3
   },
   "file_extension": ".py",
   "mimetype": "text/x-python",
   "name": "python",
   "nbconvert_exporter": "python",
   "pygments_lexer": "ipython3",
   "version": "3.11.5"
  }
 },
 "nbformat": 4,
 "nbformat_minor": 5
}
