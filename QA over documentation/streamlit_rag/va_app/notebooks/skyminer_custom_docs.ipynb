{
 "cells": [
  {
   "cell_type": "markdown",
   "id": "2d1af13c",
   "metadata": {},
   "source": [
    "# Import"
   ]
  },
  {
   "cell_type": "code",
   "execution_count": 59,
   "id": "9f39f936",
   "metadata": {
    "ExecuteTime": {
     "end_time": "2024-01-25T09:37:29.123686700Z",
     "start_time": "2024-01-25T09:37:29.116502400Z"
    }
   },
   "outputs": [
    {
     "name": "stderr",
     "output_type": "stream",
     "text": [
      "[nltk_data] Downloading package punkt to\n",
      "[nltk_data]     C:\\Users\\Bruno.Pinos\\AppData\\Roaming\\nltk_data...\n",
      "[nltk_data]   Package punkt is already up-to-date!\n"
     ]
    },
    {
     "data": {
      "text/plain": "True"
     },
     "execution_count": 59,
     "metadata": {},
     "output_type": "execute_result"
    }
   ],
   "source": [
    "from langchain.text_splitter import RecursiveCharacterTextSplitter\n",
    "from llama_index import SimpleDirectoryReader\n",
    "from bs4 import BeautifulSoup\n",
    "from urllib.parse import urljoin\n",
    "import pandas as pd\n",
    "import re\n",
    "import logging\n",
    "import os\n",
    "import requests\n",
    "import nltk\n",
    "from llama_index import Document\n",
    "import pickle\n",
    "\n",
    "# Add a new column for word counts\n",
    "nltk.download('punkt')"
   ]
  },
  {
   "cell_type": "code",
   "execution_count": 152,
   "id": "d10419e1",
   "metadata": {
    "ExecuteTime": {
     "end_time": "2024-01-25T10:46:44.951821700Z",
     "start_time": "2024-01-25T10:46:44.943542Z"
    }
   },
   "outputs": [],
   "source": [
    "def count_tokens_html(h):\n",
    "    soup = BeautifulSoup(h.split('\\n', 1)[1], \"lxml\")\n",
    "    h = soup.get_text()\n",
    "    tokens = nltk.word_tokenize(h)\n",
    "    num_tokens = len(tokens)\n",
    "    return num_tokens\n",
    "\n",
    "def count_tokens(text):\n",
    "    tokens = nltk.word_tokenize(text)\n",
    "    num_tokens = len(tokens)\n",
    "    return num_tokens\n",
    "\n",
    "\n",
    "def clean_text(text):\n",
    "    # Removing unwanted characters like ¶\n",
    "    text = text.replace('¶', '')\n",
    "    return text\n",
    "\n",
    "\n",
    "def read_local_html(file_path):\n",
    "    if not os.path.exists(file_path):\n",
    "        logging.warning(f\"File not found: {file_path}\")\n",
    "        return ''\n",
    "    with open(file_path, 'r', encoding='utf-8') as file:\n",
    "        return file.read()\n",
    "\n",
    "def fetch_html_from_url(url):\n",
    "    response = requests.get(url)\n",
    "    response.encoding = 'utf-8'\n",
    "    response.raise_for_status()\n",
    "    return response.text\n",
    "\n",
    "\n",
    "def get_path(html_content, h='h1'):\n",
    "    soup = BeautifulSoup(html_content.split(f'</{h}>')[0], 'html.parser')\n",
    "    h_text = soup.find(f'{h}').text.replace(\"¶\", \"\").replace(\"Â\", \" \")\n",
    "    return '/' + h_text\n",
    "    \n",
    "    \n",
    "def scrape_content_from_page(html_content, source, file_path):\n",
    "    h1_split = html_content.split('<h1')\n",
    "    list_split = list()\n",
    "    list_path = list()\n",
    "    list_source = list()  # For storing the documentation source\n",
    "    list_file_path = list()\n",
    "    \n",
    "    def get_html(h):\n",
    "        # Look for href in the html content to add it to the link\n",
    "        regex_pattern = r'<h[1-6](.*?)<\\/h[1-6]>'\n",
    "        header = re.search(regex_pattern, h)\n",
    "        if header:\n",
    "            regex_pattern = r'href=\"#([^\"]*)\"'\n",
    "            match_href = re.search(regex_pattern, header.group(1))\n",
    "            regex_pattern = r'id=\"([^\"]*)\"'\n",
    "            match_id = re.search(regex_pattern, header.group(1))\n",
    "            if match_href:\n",
    "                href = '#' + match_href.group(1)\n",
    "            elif match_id:\n",
    "                href = '#' + match_id.group(1)\n",
    "            else:\n",
    "                href = ''\n",
    "        else:\n",
    "            href = ''\n",
    "        # get the text from html content\n",
    "        soup = BeautifulSoup(h.split('\\n', 1)[1], \"lxml\")\n",
    "        h = soup.get_text()\n",
    "        list_split.append(h)\n",
    "        list_path.append(path)\n",
    "        list_source.append(source)  # Add the documentation source for each content\n",
    "        list_file_path.append(f'{file_path}{href}')\n",
    "        \n",
    "    path = ''\n",
    "    for i, h1 in enumerate(h1_split):\n",
    "        if i > 0:\n",
    "            h1 = '<h1' + h1\n",
    "            result = path.split('/')[:1]\n",
    "            path = '/'.join(result)\n",
    "            path += get_path(h1, h='h1')\n",
    "        if count_tokens_html(h1) <= 2048:\n",
    "            get_html(h1)\n",
    "        else:        \n",
    "            h2_split = h1.split('<h2')\n",
    "            for j, h2 in enumerate(h2_split):\n",
    "                if j > 0:\n",
    "                    h2 = '<h2' + h2\n",
    "                    result = path.split('/')[:2]\n",
    "                    path = '/'.join(result)\n",
    "                    path += get_path(h2, h='h2')\n",
    "                if count_tokens_html(h2) <= 2048:\n",
    "                    get_html(h2)\n",
    "                else:\n",
    "                    h3_split = h2.split('<h3')\n",
    "                    for k, h3 in enumerate(h3_split):\n",
    "                        if k > 0:\n",
    "                            h3 = '<h3' + h3\n",
    "                            result = path.split('/')[:3]\n",
    "                            path = '/'.join(result)\n",
    "                            path += get_path(h3, h='h3')\n",
    "                        if count_tokens_html(h3) <= 2048:\n",
    "                            get_html(h3)\n",
    "                        else:\n",
    "                            h4_split = h3.split('<h4')\n",
    "                            for l, h4 in enumerate(h4_split):\n",
    "                                if l > 0:\n",
    "                                    h4 = '<h4' + h4\n",
    "                                    result = path.split('/')[:4]\n",
    "                                    path = '/'.join(result)\n",
    "                                    path += get_path(h4, h='h4')\n",
    "                                get_html(h4)\n",
    "    dataframe = pd.DataFrame()\n",
    "    dataframe['documentation'] = list_source  # Add the documentation source column\n",
    "    dataframe['path'] = list_path\n",
    "    dataframe['text'] = list_split\n",
    "    dataframe['file_path'] = list_file_path  # adding local path to the df for each row\n",
    "    return dataframe\n",
    "\n",
    "\n",
    "def process_links(site_config):\n",
    "    index_content = fetch_html_from_url(site_config['index_path'])\n",
    "    soup = BeautifulSoup(index_content, 'html.parser')\n",
    "    links = [a['href'] for a in soup.find_all('a', href=True) if a['href'].endswith('.html')]\n",
    "\n",
    "    logging.info(f\"Found {len(links)} links to process for {site_config['documentation']}.\")\n",
    "\n",
    "    data_frames = []\n",
    "    for link in links:\n",
    "        full_url = site_config['base_url'] + link  # Construct the full URL\n",
    "        try:\n",
    "            page_content = fetch_html_from_url(full_url)\n",
    "            df_temp = scrape_content_from_page(page_content, site_config['documentation'], full_url)\n",
    "\n",
    "            # Check if df_temp is not empty or None\n",
    "            if df_temp is not None and not df_temp.empty:\n",
    "                data_frames.append(df_temp)\n",
    "            else:\n",
    "                logging.warning(f\"Empty dataframe returned from {full_url}.\")\n",
    "\n",
    "        except Exception as e:\n",
    "            logging.error(f\"Error processing {full_url}: {e}\")\n",
    "\n",
    "    logging.info(f\"Processed {len(data_frames)} dataframes for {site_config['documentation']}.\")\n",
    "    return data_frames\n",
    "\n",
    "\n",
    "def process_links_from_list(links, documentation_label):\n",
    "    logging.info(f\"Found {len(links)} links to process for {documentation_label}.\")\n",
    "\n",
    "    data_frames = []\n",
    "    for link in links:\n",
    "        try:\n",
    "            page_content = fetch_html_from_url(link)\n",
    "            df_temp = scrape_content_from_page(page_content, documentation_label, link)\n",
    "\n",
    "            # Check if df_temp is not empty or None\n",
    "            if df_temp is not None and not df_temp.empty:\n",
    "                data_frames.append(df_temp)\n",
    "            else:\n",
    "                logging.warning(f\"Empty dataframe returned from {link}.\")\n",
    "\n",
    "        except Exception as e:\n",
    "            logging.error(f\"Error processing {link}: {e}\")\n",
    "\n",
    "    logging.info(f\"Processed {len(data_frames)} dataframes for {documentation_label}.\")\n",
    "    return data_frames\n",
    "\n",
    "def get_all_links(base_url):\n",
    "    # Send a GET request to the base URL\n",
    "    response = requests.get(base_url)\n",
    "    response.raise_for_status()  # Raise an exception for HTTP errors\n",
    "\n",
    "    # Parse the content using BeautifulSoup\n",
    "    soup = BeautifulSoup(response.content, 'html.parser')\n",
    "\n",
    "    # Extract all anchor tags\n",
    "    anchors = soup.find_all('a', href=True)\n",
    "\n",
    "    # Convert relative URLs and fragments to absolute URLs\n",
    "    absolute_urls = [urljoin(base_url, a['href']) for a in anchors]\n",
    "\n",
    "    return absolute_urls"
   ]
  },
  {
   "cell_type": "markdown",
   "source": [
    "# Set up "
   ],
   "metadata": {},
   "id": "71b8e07e"
  },
  {
   "cell_type": "code",
   "outputs": [],
   "source": [
    "# Configuration\n",
    "config = {\n",
    "    'site1': {\n",
    "        'index_path': \"http://192.168.48.22:8082/repository/skyminer-dev/skyminer-documentation/latest/administration-manual-html/administration-manual-html/index.html\",\n",
    "        'base_path': \"http://192.168.48.22:8082/repository/skyminer-dev/skyminer-documentation/latest/administration-manual-html/administration-manual-html/\",\n",
    "        'documentation': 'administration-manual'\n",
    "    },\n",
    "    'site2': {\n",
    "        'index_path': \"http://192.168.48.22:8082/repository/skyminer-dev/skyminer-documentation/latest/user-manual-html/user-manual-html/index.html\",\n",
    "        'base_path': \"http://192.168.48.22:8082/repository/skyminer-dev/skyminer-documentation/latest/user-manual-html/user-manual-html/\",\n",
    "        'documentation': 'user-manual'\n",
    "    }\n",
    "}"
   ],
   "metadata": {
    "ExecuteTime": {
     "end_time": "2024-01-25T09:37:48.634287900Z",
     "start_time": "2024-01-25T09:37:48.630779900Z"
    }
   },
   "id": "3d81c6cb",
   "execution_count": 61
  },
  {
   "cell_type": "markdown",
   "id": "ce01a5fd",
   "metadata": {},
   "source": [
    "# Get links"
   ]
  },
  {
   "cell_type": "code",
   "execution_count": 62,
   "id": "304fa87a",
   "metadata": {
    "ExecuteTime": {
     "end_time": "2024-01-25T09:37:56.202629400Z",
     "start_time": "2024-01-25T09:37:56.198112Z"
    }
   },
   "outputs": [],
   "source": [
    "site_urls = [details['index_path'] for details in config.values()]"
   ]
  },
  {
   "cell_type": "code",
   "execution_count": 63,
   "id": "23c565a5",
   "metadata": {
    "ExecuteTime": {
     "end_time": "2024-01-25T09:37:57.926090300Z",
     "start_time": "2024-01-25T09:37:57.922584600Z"
    }
   },
   "outputs": [
    {
     "data": {
      "text/plain": "['http://192.168.48.22:8082/repository/skyminer-dev/skyminer-documentation/latest/administration-manual-html/administration-manual-html/index.html',\n 'http://192.168.48.22:8082/repository/skyminer-dev/skyminer-documentation/latest/user-manual-html/user-manual-html/index.html']"
     },
     "execution_count": 63,
     "metadata": {},
     "output_type": "execute_result"
    }
   ],
   "source": [
    "site_urls"
   ]
  },
  {
   "cell_type": "code",
   "execution_count": 113,
   "id": "3de281df",
   "metadata": {
    "ExecuteTime": {
     "end_time": "2024-01-25T10:17:13.526473200Z",
     "start_time": "2024-01-25T10:17:13.184276200Z"
    }
   },
   "outputs": [],
   "source": [
    "a_urls = get_all_links(site_urls[0])\n",
    "a_urls = [url for url in a_urls if url.startswith('http://192.168.48.22:8082/repository/skyminer-dev/skyminer-documentation/latest/')]\n",
    "u_urls = get_all_links(site_urls[1])\n",
    "u_urls = [url for url in u_urls if url.startswith('http://192.168.48.22:8082/repository/skyminer-dev/skyminer-documentation/latest/')]"
   ]
  },
  {
   "cell_type": "code",
   "execution_count": 114,
   "id": "f80f2fec",
   "metadata": {
    "ExecuteTime": {
     "end_time": "2024-01-25T10:17:13.528509700Z",
     "start_time": "2024-01-25T10:17:13.509771200Z"
    }
   },
   "outputs": [
    {
     "data": {
      "text/plain": "('http://192.168.48.22:8082/repository/skyminer-dev/skyminer-documentation/latest/administration-manual-html/administration-manual-html/index.html',\n 'http://192.168.48.22:8082/repository/skyminer-dev/skyminer-documentation/latest/user-manual-html/user-manual-html/index.html')"
     },
     "execution_count": 114,
     "metadata": {},
     "output_type": "execute_result"
    }
   ],
   "source": [
    "a_urls[1], u_urls[1]"
   ]
  },
  {
   "cell_type": "markdown",
   "id": "ee1ed82e",
   "metadata": {},
   "source": [
    "# Scrape the Content and Store in a DataFrame:"
   ]
  },
  {
   "cell_type": "code",
   "execution_count": 153,
   "id": "5e62fe5a",
   "metadata": {
    "ExecuteTime": {
     "end_time": "2024-01-25T10:47:30.609028600Z",
     "start_time": "2024-01-25T10:46:50.744798400Z"
    }
   },
   "outputs": [],
   "source": [
    "df1 = process_links_from_list(a_urls, \"Administration Manual\")"
   ]
  },
  {
   "cell_type": "code",
   "execution_count": 154,
   "id": "e251b80f",
   "metadata": {
    "scrolled": true,
    "ExecuteTime": {
     "end_time": "2024-01-25T10:47:44.926499500Z",
     "start_time": "2024-01-25T10:47:30.609972400Z"
    }
   },
   "outputs": [],
   "source": [
    "df2 = process_links_from_list(u_urls, \"User Manual\")"
   ]
  },
  {
   "cell_type": "code",
   "execution_count": 155,
   "id": "2fdc3487",
   "metadata": {
    "ExecuteTime": {
     "end_time": "2024-01-25T10:47:44.951311700Z",
     "start_time": "2024-01-25T10:47:44.926499500Z"
    }
   },
   "outputs": [],
   "source": [
    "df1 = pd.concat(df1, ignore_index=True)\n",
    "df2 = pd.concat(df2, ignore_index=True)"
   ]
  },
  {
   "cell_type": "code",
   "execution_count": 156,
   "id": "71b46ffd",
   "metadata": {
    "ExecuteTime": {
     "end_time": "2024-01-25T10:47:44.955046200Z",
     "start_time": "2024-01-25T10:47:44.948417900Z"
    }
   },
   "outputs": [],
   "source": [
    "df = pd.concat([df1, df2], ignore_index=True)"
   ]
  },
  {
   "cell_type": "code",
   "outputs": [
    {
     "data": {
      "text/plain": "             documentation                            path  \\\n0    Administration Manual                                   \n1    Administration Manual  /Skyminer Administration Guide   \n2    Administration Manual                                   \n3    Administration Manual  /Skyminer Administration Guide   \n4    Administration Manual                                   \n..                     ...                             ...   \n952            User Manual                            /FAQ   \n953            User Manual                                   \n954            User Manual                            /FAQ   \n955            User Manual                                   \n956            User Manual                            /FAQ   \n\n                                                  text  \\\n0    \\n\\n\\n\\nSkyminer Administration Guide — Skymin...   \n1    This documentation contains the Skyminer admin...   \n2    \\n\\n\\n\\nSkyminer Administration Guide — Skymin...   \n3    This documentation contains the Skyminer admin...   \n4    \\n\\n\\n\\nNotices regarding this document — Skym...   \n..                                                 ...   \n952  \\nWhat is Skyminer?¶\\nSkyminer system is a Big...   \n953  \\n\\n\\n\\nFAQ — Skyminer User Manual - KC-153-UM...   \n954  \\nWhat is Skyminer?¶\\nSkyminer system is a Big...   \n955  \\n\\n\\n\\nFAQ — Skyminer User Manual - KC-153-UM...   \n956  \\nWhat is Skyminer?¶\\nSkyminer system is a Big...   \n\n                                             file_path  \n0    http://192.168.48.22:8082/repository/skyminer-...  \n1    http://192.168.48.22:8082/repository/skyminer-...  \n2    http://192.168.48.22:8082/repository/skyminer-...  \n3    http://192.168.48.22:8082/repository/skyminer-...  \n4    http://192.168.48.22:8082/repository/skyminer-...  \n..                                                 ...  \n952  http://192.168.48.22:8082/repository/skyminer-...  \n953  http://192.168.48.22:8082/repository/skyminer-...  \n954  http://192.168.48.22:8082/repository/skyminer-...  \n955  http://192.168.48.22:8082/repository/skyminer-...  \n956  http://192.168.48.22:8082/repository/skyminer-...  \n\n[957 rows x 4 columns]",
      "text/html": "<div>\n<style scoped>\n    .dataframe tbody tr th:only-of-type {\n        vertical-align: middle;\n    }\n\n    .dataframe tbody tr th {\n        vertical-align: top;\n    }\n\n    .dataframe thead th {\n        text-align: right;\n    }\n</style>\n<table border=\"1\" class=\"dataframe\">\n  <thead>\n    <tr style=\"text-align: right;\">\n      <th></th>\n      <th>documentation</th>\n      <th>path</th>\n      <th>text</th>\n      <th>file_path</th>\n    </tr>\n  </thead>\n  <tbody>\n    <tr>\n      <th>0</th>\n      <td>Administration Manual</td>\n      <td></td>\n      <td>\\n\\n\\n\\nSkyminer Administration Guide — Skymin...</td>\n      <td>http://192.168.48.22:8082/repository/skyminer-...</td>\n    </tr>\n    <tr>\n      <th>1</th>\n      <td>Administration Manual</td>\n      <td>/Skyminer Administration Guide</td>\n      <td>This documentation contains the Skyminer admin...</td>\n      <td>http://192.168.48.22:8082/repository/skyminer-...</td>\n    </tr>\n    <tr>\n      <th>2</th>\n      <td>Administration Manual</td>\n      <td></td>\n      <td>\\n\\n\\n\\nSkyminer Administration Guide — Skymin...</td>\n      <td>http://192.168.48.22:8082/repository/skyminer-...</td>\n    </tr>\n    <tr>\n      <th>3</th>\n      <td>Administration Manual</td>\n      <td>/Skyminer Administration Guide</td>\n      <td>This documentation contains the Skyminer admin...</td>\n      <td>http://192.168.48.22:8082/repository/skyminer-...</td>\n    </tr>\n    <tr>\n      <th>4</th>\n      <td>Administration Manual</td>\n      <td></td>\n      <td>\\n\\n\\n\\nNotices regarding this document — Skym...</td>\n      <td>http://192.168.48.22:8082/repository/skyminer-...</td>\n    </tr>\n    <tr>\n      <th>...</th>\n      <td>...</td>\n      <td>...</td>\n      <td>...</td>\n      <td>...</td>\n    </tr>\n    <tr>\n      <th>952</th>\n      <td>User Manual</td>\n      <td>/FAQ</td>\n      <td>\\nWhat is Skyminer?¶\\nSkyminer system is a Big...</td>\n      <td>http://192.168.48.22:8082/repository/skyminer-...</td>\n    </tr>\n    <tr>\n      <th>953</th>\n      <td>User Manual</td>\n      <td></td>\n      <td>\\n\\n\\n\\nFAQ — Skyminer User Manual - KC-153-UM...</td>\n      <td>http://192.168.48.22:8082/repository/skyminer-...</td>\n    </tr>\n    <tr>\n      <th>954</th>\n      <td>User Manual</td>\n      <td>/FAQ</td>\n      <td>\\nWhat is Skyminer?¶\\nSkyminer system is a Big...</td>\n      <td>http://192.168.48.22:8082/repository/skyminer-...</td>\n    </tr>\n    <tr>\n      <th>955</th>\n      <td>User Manual</td>\n      <td></td>\n      <td>\\n\\n\\n\\nFAQ — Skyminer User Manual - KC-153-UM...</td>\n      <td>http://192.168.48.22:8082/repository/skyminer-...</td>\n    </tr>\n    <tr>\n      <th>956</th>\n      <td>User Manual</td>\n      <td>/FAQ</td>\n      <td>\\nWhat is Skyminer?¶\\nSkyminer system is a Big...</td>\n      <td>http://192.168.48.22:8082/repository/skyminer-...</td>\n    </tr>\n  </tbody>\n</table>\n<p>957 rows × 4 columns</p>\n</div>"
     },
     "execution_count": 157,
     "metadata": {},
     "output_type": "execute_result"
    }
   ],
   "source": [
    "df"
   ],
   "metadata": {
    "collapsed": false,
    "ExecuteTime": {
     "end_time": "2024-01-25T10:47:44.967288100Z",
     "start_time": "2024-01-25T10:47:44.954921400Z"
    }
   },
   "id": "ffa9901fa7696f84",
   "execution_count": 157
  },
  {
   "cell_type": "markdown",
   "id": "440daa1f",
   "metadata": {},
   "source": [
    "# Clean data"
   ]
  },
  {
   "cell_type": "code",
   "execution_count": 158,
   "id": "8503ddd1",
   "metadata": {
    "ExecuteTime": {
     "end_time": "2024-01-25T10:47:44.998646900Z",
     "start_time": "2024-01-25T10:47:44.966789200Z"
    }
   },
   "outputs": [
    {
     "data": {
      "text/plain": "             documentation                            path  \\\n0    Administration Manual                                   \n1    Administration Manual  /Skyminer Administration Guide   \n2    Administration Manual                                   \n3    Administration Manual  /Skyminer Administration Guide   \n4    Administration Manual                                   \n..                     ...                             ...   \n952            User Manual                            /FAQ   \n953            User Manual                                   \n954            User Manual                            /FAQ   \n955            User Manual                                   \n956            User Manual                            /FAQ   \n\n                                                  text  \\\n0    \\n\\n\\n\\nSkyminer Administration Guide — Skymin...   \n1    This documentation contains the Skyminer admin...   \n2    \\n\\n\\n\\nSkyminer Administration Guide — Skymin...   \n3    This documentation contains the Skyminer admin...   \n4    \\n\\n\\n\\nNotices regarding this document — Skym...   \n..                                                 ...   \n952  \\nWhat is Skyminer?\\nSkyminer system is a Big ...   \n953  \\n\\n\\n\\nFAQ — Skyminer User Manual - KC-153-UM...   \n954  \\nWhat is Skyminer?\\nSkyminer system is a Big ...   \n955  \\n\\n\\n\\nFAQ — Skyminer User Manual - KC-153-UM...   \n956  \\nWhat is Skyminer?\\nSkyminer system is a Big ...   \n\n                                             file_path  \n0    http://192.168.48.22:8082/repository/skyminer-...  \n1    http://192.168.48.22:8082/repository/skyminer-...  \n2    http://192.168.48.22:8082/repository/skyminer-...  \n3    http://192.168.48.22:8082/repository/skyminer-...  \n4    http://192.168.48.22:8082/repository/skyminer-...  \n..                                                 ...  \n952  http://192.168.48.22:8082/repository/skyminer-...  \n953  http://192.168.48.22:8082/repository/skyminer-...  \n954  http://192.168.48.22:8082/repository/skyminer-...  \n955  http://192.168.48.22:8082/repository/skyminer-...  \n956  http://192.168.48.22:8082/repository/skyminer-...  \n\n[957 rows x 4 columns]",
      "text/html": "<div>\n<style scoped>\n    .dataframe tbody tr th:only-of-type {\n        vertical-align: middle;\n    }\n\n    .dataframe tbody tr th {\n        vertical-align: top;\n    }\n\n    .dataframe thead th {\n        text-align: right;\n    }\n</style>\n<table border=\"1\" class=\"dataframe\">\n  <thead>\n    <tr style=\"text-align: right;\">\n      <th></th>\n      <th>documentation</th>\n      <th>path</th>\n      <th>text</th>\n      <th>file_path</th>\n    </tr>\n  </thead>\n  <tbody>\n    <tr>\n      <th>0</th>\n      <td>Administration Manual</td>\n      <td></td>\n      <td>\\n\\n\\n\\nSkyminer Administration Guide — Skymin...</td>\n      <td>http://192.168.48.22:8082/repository/skyminer-...</td>\n    </tr>\n    <tr>\n      <th>1</th>\n      <td>Administration Manual</td>\n      <td>/Skyminer Administration Guide</td>\n      <td>This documentation contains the Skyminer admin...</td>\n      <td>http://192.168.48.22:8082/repository/skyminer-...</td>\n    </tr>\n    <tr>\n      <th>2</th>\n      <td>Administration Manual</td>\n      <td></td>\n      <td>\\n\\n\\n\\nSkyminer Administration Guide — Skymin...</td>\n      <td>http://192.168.48.22:8082/repository/skyminer-...</td>\n    </tr>\n    <tr>\n      <th>3</th>\n      <td>Administration Manual</td>\n      <td>/Skyminer Administration Guide</td>\n      <td>This documentation contains the Skyminer admin...</td>\n      <td>http://192.168.48.22:8082/repository/skyminer-...</td>\n    </tr>\n    <tr>\n      <th>4</th>\n      <td>Administration Manual</td>\n      <td></td>\n      <td>\\n\\n\\n\\nNotices regarding this document — Skym...</td>\n      <td>http://192.168.48.22:8082/repository/skyminer-...</td>\n    </tr>\n    <tr>\n      <th>...</th>\n      <td>...</td>\n      <td>...</td>\n      <td>...</td>\n      <td>...</td>\n    </tr>\n    <tr>\n      <th>952</th>\n      <td>User Manual</td>\n      <td>/FAQ</td>\n      <td>\\nWhat is Skyminer?\\nSkyminer system is a Big ...</td>\n      <td>http://192.168.48.22:8082/repository/skyminer-...</td>\n    </tr>\n    <tr>\n      <th>953</th>\n      <td>User Manual</td>\n      <td></td>\n      <td>\\n\\n\\n\\nFAQ — Skyminer User Manual - KC-153-UM...</td>\n      <td>http://192.168.48.22:8082/repository/skyminer-...</td>\n    </tr>\n    <tr>\n      <th>954</th>\n      <td>User Manual</td>\n      <td>/FAQ</td>\n      <td>\\nWhat is Skyminer?\\nSkyminer system is a Big ...</td>\n      <td>http://192.168.48.22:8082/repository/skyminer-...</td>\n    </tr>\n    <tr>\n      <th>955</th>\n      <td>User Manual</td>\n      <td></td>\n      <td>\\n\\n\\n\\nFAQ — Skyminer User Manual - KC-153-UM...</td>\n      <td>http://192.168.48.22:8082/repository/skyminer-...</td>\n    </tr>\n    <tr>\n      <th>956</th>\n      <td>User Manual</td>\n      <td>/FAQ</td>\n      <td>\\nWhat is Skyminer?\\nSkyminer system is a Big ...</td>\n      <td>http://192.168.48.22:8082/repository/skyminer-...</td>\n    </tr>\n  </tbody>\n</table>\n<p>957 rows × 4 columns</p>\n</div>"
     },
     "execution_count": 158,
     "metadata": {},
     "output_type": "execute_result"
    }
   ],
   "source": [
    "# Apply this function to the entire 'content' column\n",
    "df['text'] = df['text'].apply(clean_text)\n",
    "df"
   ]
  },
  {
   "cell_type": "markdown",
   "id": "218ffc8c",
   "metadata": {},
   "source": [
    "## Remove the empty text"
   ]
  },
  {
   "cell_type": "code",
   "execution_count": 159,
   "id": "10f2ad47",
   "metadata": {
    "ExecuteTime": {
     "end_time": "2024-01-25T10:47:45.020344800Z",
     "start_time": "2024-01-25T10:47:44.980073700Z"
    }
   },
   "outputs": [],
   "source": [
    "# Remove rows where the text is empty\n",
    "df = df[df['text'].notnull() & (df['text'].str.len() > 0)]\n",
    "# Remove rows where the text is empty or the path is an empty string\n",
    "df = df[(df['path'].notnull()) & (df['path'] != \"\") & (df['text'].str.len() > 0)]\n",
    "# Remove rows where path equals \"/Table Of Contents\"\n",
    "df = df[df['path'] != '/Table Of Contents']\n",
    "# Remove duplicates based on the 'text' column\n",
    "df = df.drop_duplicates(subset='text', keep='first')"
   ]
  },
  {
   "cell_type": "markdown",
   "source": [
    "## Remove doc with not enough words "
   ],
   "metadata": {
    "collapsed": false
   },
   "id": "ef49f58be8fba91c"
  },
  {
   "cell_type": "code",
   "outputs": [
    {
     "data": {
      "text/plain": "             documentation                                               path  \\\n1    Administration Manual                     /Skyminer Administration Guide   \n5    Administration Manual                   /Notices regarding this document   \n7    Administration Manual                             /Skyminer Introduction   \n9    Administration Manual                                      /Installation   \n11   Administration Manual                                     /Configuration   \n..                     ...                                                ...   \n888            User Manual             /Skyminer Time Series Python Connector   \n889            User Manual     /Skyminer Time Series Python Connector/Install   \n890            User Manual  /Skyminer Time Series Python Connector/Quickstart   \n891            User Manual     /Skyminer Time Series Python Connector/Modules   \n892            User Manual    /Skyminer Time Series Python Connector/Examples   \n\n                                                  text  \\\n1    This documentation contains the Skyminer admin...   \n5    The information contained in this document is ...   \n7    Skyminer system is a Big Data storage and anal...   \n9    Contents:\\n\\n\\nSkyminer Architecture\\nIntroduc...   \n11   Contents:\\n\\n\\nSharing Resources between diffe...   \n..                                                 ...   \n888  \\nSkyminer Time Series Python Connector is a P...   \n889  \\npip install httplib2 pandas matplotlib\\nCopy...   \n890  \\nGet the datapoints of the last hour\\nfrom Sk...   \n891  \\nSTSAPI\\nSTSAPI is the interface with the Sky...   \n892  \\nGet a dataframe of a metric group by tags wi...   \n\n                                             file_path  token_count  \n1    http://192.168.48.22:8082/repository/skyminer-...          698  \n5    http://192.168.48.22:8082/repository/skyminer-...          211  \n7    http://192.168.48.22:8082/repository/skyminer-...          429  \n9    http://192.168.48.22:8082/repository/skyminer-...          122  \n11   http://192.168.48.22:8082/repository/skyminer-...          115  \n..                                                 ...          ...  \n888  http://192.168.48.22:8082/repository/skyminer-...           36  \n889  http://192.168.48.22:8082/repository/skyminer-...           69  \n890  http://192.168.48.22:8082/repository/skyminer-...          186  \n891  http://192.168.48.22:8082/repository/skyminer-...         1463  \n892  http://192.168.48.22:8082/repository/skyminer-...          801  \n\n[172 rows x 5 columns]",
      "text/html": "<div>\n<style scoped>\n    .dataframe tbody tr th:only-of-type {\n        vertical-align: middle;\n    }\n\n    .dataframe tbody tr th {\n        vertical-align: top;\n    }\n\n    .dataframe thead th {\n        text-align: right;\n    }\n</style>\n<table border=\"1\" class=\"dataframe\">\n  <thead>\n    <tr style=\"text-align: right;\">\n      <th></th>\n      <th>documentation</th>\n      <th>path</th>\n      <th>text</th>\n      <th>file_path</th>\n      <th>token_count</th>\n    </tr>\n  </thead>\n  <tbody>\n    <tr>\n      <th>1</th>\n      <td>Administration Manual</td>\n      <td>/Skyminer Administration Guide</td>\n      <td>This documentation contains the Skyminer admin...</td>\n      <td>http://192.168.48.22:8082/repository/skyminer-...</td>\n      <td>698</td>\n    </tr>\n    <tr>\n      <th>5</th>\n      <td>Administration Manual</td>\n      <td>/Notices regarding this document</td>\n      <td>The information contained in this document is ...</td>\n      <td>http://192.168.48.22:8082/repository/skyminer-...</td>\n      <td>211</td>\n    </tr>\n    <tr>\n      <th>7</th>\n      <td>Administration Manual</td>\n      <td>/Skyminer Introduction</td>\n      <td>Skyminer system is a Big Data storage and anal...</td>\n      <td>http://192.168.48.22:8082/repository/skyminer-...</td>\n      <td>429</td>\n    </tr>\n    <tr>\n      <th>9</th>\n      <td>Administration Manual</td>\n      <td>/Installation</td>\n      <td>Contents:\\n\\n\\nSkyminer Architecture\\nIntroduc...</td>\n      <td>http://192.168.48.22:8082/repository/skyminer-...</td>\n      <td>122</td>\n    </tr>\n    <tr>\n      <th>11</th>\n      <td>Administration Manual</td>\n      <td>/Configuration</td>\n      <td>Contents:\\n\\n\\nSharing Resources between diffe...</td>\n      <td>http://192.168.48.22:8082/repository/skyminer-...</td>\n      <td>115</td>\n    </tr>\n    <tr>\n      <th>...</th>\n      <td>...</td>\n      <td>...</td>\n      <td>...</td>\n      <td>...</td>\n      <td>...</td>\n    </tr>\n    <tr>\n      <th>888</th>\n      <td>User Manual</td>\n      <td>/Skyminer Time Series Python Connector</td>\n      <td>\\nSkyminer Time Series Python Connector is a P...</td>\n      <td>http://192.168.48.22:8082/repository/skyminer-...</td>\n      <td>36</td>\n    </tr>\n    <tr>\n      <th>889</th>\n      <td>User Manual</td>\n      <td>/Skyminer Time Series Python Connector/Install</td>\n      <td>\\npip install httplib2 pandas matplotlib\\nCopy...</td>\n      <td>http://192.168.48.22:8082/repository/skyminer-...</td>\n      <td>69</td>\n    </tr>\n    <tr>\n      <th>890</th>\n      <td>User Manual</td>\n      <td>/Skyminer Time Series Python Connector/Quickstart</td>\n      <td>\\nGet the datapoints of the last hour\\nfrom Sk...</td>\n      <td>http://192.168.48.22:8082/repository/skyminer-...</td>\n      <td>186</td>\n    </tr>\n    <tr>\n      <th>891</th>\n      <td>User Manual</td>\n      <td>/Skyminer Time Series Python Connector/Modules</td>\n      <td>\\nSTSAPI\\nSTSAPI is the interface with the Sky...</td>\n      <td>http://192.168.48.22:8082/repository/skyminer-...</td>\n      <td>1463</td>\n    </tr>\n    <tr>\n      <th>892</th>\n      <td>User Manual</td>\n      <td>/Skyminer Time Series Python Connector/Examples</td>\n      <td>\\nGet a dataframe of a metric group by tags wi...</td>\n      <td>http://192.168.48.22:8082/repository/skyminer-...</td>\n      <td>801</td>\n    </tr>\n  </tbody>\n</table>\n<p>172 rows × 5 columns</p>\n</div>"
     },
     "execution_count": 160,
     "metadata": {},
     "output_type": "execute_result"
    }
   ],
   "source": [
    "# Example usage:\n",
    "df['token_count'] = df['text'].apply(count_tokens)\n",
    "df\n"
   ],
   "metadata": {
    "ExecuteTime": {
     "end_time": "2024-01-25T10:47:45.267953600Z",
     "start_time": "2024-01-25T10:47:44.989644800Z"
    }
   },
   "id": "0becbf86",
   "execution_count": 160
  },
  {
   "cell_type": "code",
   "execution_count": 161,
   "id": "ae06b334",
   "metadata": {
    "ExecuteTime": {
     "end_time": "2024-01-25T10:49:20.247744900Z",
     "start_time": "2024-01-25T10:49:20.224574100Z"
    }
   },
   "outputs": [
    {
     "data": {
      "text/plain": "             documentation                                               path  \\\n547  Administration Manual  /Skyminer document Module/Skyminer document mo...   \n528  Administration Manual               /Skyminer Time Series Indexer Module   \n750            User Manual                                    /User Interface   \n758            User Manual                                   /Correlation API   \n730            User Manual                               /Predictors/Advanced   \n..                     ...                                                ...   \n693            User Manual                      /Web interface/Feature search   \n27   Administration Manual                         /Dependencies and licenses   \n91   Administration Manual                   /Installing on a 2 nodes cluster   \n90   Administration Manual                 /Installing on a standalone server   \n690            User Manual                          /Web interface/Responsive   \n\n                                                  text  \\\n547  \\n\\nGET /doc\\ndescribes the document backend i...   \n528  The time series indexer module uses Opensearch...   \n750  \\nOverview\\nThe correlation UI is a web client...   \n758  \\nCorrelation Search API\\nThe web client allow...   \n730  \\nDLM\\nAll the implemented models are designed...   \n..                                                 ...   \n693  The feature search allows you to:\\n\\nVisualize...   \n27   \\nNote\\nThis list is only available in the HTM...   \n91   A 2-nodes cluster is an atypical setup.\\nPleas...   \n90   For a standalone server you will select the fo...   \n690  If you do not have enough space on the your sc...   \n\n                                             file_path  token_count  \n547  http://192.168.48.22:8082/repository/skyminer-...         3704  \n528  http://192.168.48.22:8082/repository/skyminer-...         1812  \n750  http://192.168.48.22:8082/repository/skyminer-...         1772  \n758  http://192.168.48.22:8082/repository/skyminer-...         1707  \n730  http://192.168.48.22:8082/repository/skyminer-...         1705  \n..                                                 ...          ...  \n693  http://192.168.48.22:8082/repository/skyminer-...           29  \n27   http://192.168.48.22:8082/repository/skyminer-...           26  \n91   http://192.168.48.22:8082/repository/skyminer-...           20  \n90   http://192.168.48.22:8082/repository/skyminer-...           20  \n690  http://192.168.48.22:8082/repository/skyminer-...           20  \n\n[163 rows x 5 columns]",
      "text/html": "<div>\n<style scoped>\n    .dataframe tbody tr th:only-of-type {\n        vertical-align: middle;\n    }\n\n    .dataframe tbody tr th {\n        vertical-align: top;\n    }\n\n    .dataframe thead th {\n        text-align: right;\n    }\n</style>\n<table border=\"1\" class=\"dataframe\">\n  <thead>\n    <tr style=\"text-align: right;\">\n      <th></th>\n      <th>documentation</th>\n      <th>path</th>\n      <th>text</th>\n      <th>file_path</th>\n      <th>token_count</th>\n    </tr>\n  </thead>\n  <tbody>\n    <tr>\n      <th>547</th>\n      <td>Administration Manual</td>\n      <td>/Skyminer document Module/Skyminer document mo...</td>\n      <td>\\n\\nGET /doc\\ndescribes the document backend i...</td>\n      <td>http://192.168.48.22:8082/repository/skyminer-...</td>\n      <td>3704</td>\n    </tr>\n    <tr>\n      <th>528</th>\n      <td>Administration Manual</td>\n      <td>/Skyminer Time Series Indexer Module</td>\n      <td>The time series indexer module uses Opensearch...</td>\n      <td>http://192.168.48.22:8082/repository/skyminer-...</td>\n      <td>1812</td>\n    </tr>\n    <tr>\n      <th>750</th>\n      <td>User Manual</td>\n      <td>/User Interface</td>\n      <td>\\nOverview\\nThe correlation UI is a web client...</td>\n      <td>http://192.168.48.22:8082/repository/skyminer-...</td>\n      <td>1772</td>\n    </tr>\n    <tr>\n      <th>758</th>\n      <td>User Manual</td>\n      <td>/Correlation API</td>\n      <td>\\nCorrelation Search API\\nThe web client allow...</td>\n      <td>http://192.168.48.22:8082/repository/skyminer-...</td>\n      <td>1707</td>\n    </tr>\n    <tr>\n      <th>730</th>\n      <td>User Manual</td>\n      <td>/Predictors/Advanced</td>\n      <td>\\nDLM\\nAll the implemented models are designed...</td>\n      <td>http://192.168.48.22:8082/repository/skyminer-...</td>\n      <td>1705</td>\n    </tr>\n    <tr>\n      <th>...</th>\n      <td>...</td>\n      <td>...</td>\n      <td>...</td>\n      <td>...</td>\n      <td>...</td>\n    </tr>\n    <tr>\n      <th>693</th>\n      <td>User Manual</td>\n      <td>/Web interface/Feature search</td>\n      <td>The feature search allows you to:\\n\\nVisualize...</td>\n      <td>http://192.168.48.22:8082/repository/skyminer-...</td>\n      <td>29</td>\n    </tr>\n    <tr>\n      <th>27</th>\n      <td>Administration Manual</td>\n      <td>/Dependencies and licenses</td>\n      <td>\\nNote\\nThis list is only available in the HTM...</td>\n      <td>http://192.168.48.22:8082/repository/skyminer-...</td>\n      <td>26</td>\n    </tr>\n    <tr>\n      <th>91</th>\n      <td>Administration Manual</td>\n      <td>/Installing on a 2 nodes cluster</td>\n      <td>A 2-nodes cluster is an atypical setup.\\nPleas...</td>\n      <td>http://192.168.48.22:8082/repository/skyminer-...</td>\n      <td>20</td>\n    </tr>\n    <tr>\n      <th>90</th>\n      <td>Administration Manual</td>\n      <td>/Installing on a standalone server</td>\n      <td>For a standalone server you will select the fo...</td>\n      <td>http://192.168.48.22:8082/repository/skyminer-...</td>\n      <td>20</td>\n    </tr>\n    <tr>\n      <th>690</th>\n      <td>User Manual</td>\n      <td>/Web interface/Responsive</td>\n      <td>If you do not have enough space on the your sc...</td>\n      <td>http://192.168.48.22:8082/repository/skyminer-...</td>\n      <td>20</td>\n    </tr>\n  </tbody>\n</table>\n<p>163 rows × 5 columns</p>\n</div>"
     },
     "execution_count": 161,
     "metadata": {},
     "output_type": "execute_result"
    }
   ],
   "source": [
    "df = df.sort_values(by='token_count', ascending=False)\n",
    "lower_bound = 19  # or any other value based on your visualization or requirements\n",
    "df = df[df['token_count'] > lower_bound]\n",
    "df"
   ]
  },
  {
   "cell_type": "markdown",
   "source": [
    "## Split big documents"
   ],
   "metadata": {
    "collapsed": false
   },
   "id": "190cbd0a0682719b"
  },
  {
   "cell_type": "code",
   "outputs": [],
   "source": [
    "# upper_bound = 728\n",
    "# \n",
    "# text_splitter = RecursiveCharacterTextSplitter(\n",
    "#     # Set a tiny chunk size, just to show.\n",
    "#     chunk_size=upper_bound,\n",
    "#     chunk_overlap=40,\n",
    "#     length_function=len,\n",
    "#     separators=[\"\\n\\n\", \"\\n\", \".\", \"!\", \"?\", \",\", \" \", \"\"],\n",
    "#     is_separator_regex=False\n",
    "# )\n",
    "# \n",
    "# # Loop through the DataFrame and split text if necessary\n",
    "# final_df = df.copy()\n",
    "# new_rows = list()\n",
    "# for index, row in df.iterrows():\n",
    "#     if row['token_count'] > upper_bound:\n",
    "#         new_texts = text_splitter.create_documents([row['text']])\n",
    "#         for new_text in new_texts:\n",
    "#             new_text = new_text.page_content\n",
    "#             new_row = {'documentation': row['documentation'],\n",
    "#                        'path': row['path'],\n",
    "#                        'file_path': row['file_path'],\n",
    "#                        'text': new_text,\n",
    "#                        'token_count': len(new_text.split())}\n",
    "#             new_rows.append(new_row)\n",
    "#             \n",
    "# # Concatenate the new rows to the DataFrame\n",
    "# final_df = pd.concat([final_df, pd.DataFrame(new_rows)], ignore_index=True, sort=False)\n",
    "# final_df = final_df[final_df['token_count'] < upper_bound]"
   ],
   "metadata": {
    "collapsed": false,
    "ExecuteTime": {
     "end_time": "2024-01-25T09:55:08.214220Z",
     "start_time": "2024-01-25T09:55:08.207013Z"
    }
   },
   "id": "6cb306dde3ee3def",
   "execution_count": 90
  },
  {
   "cell_type": "code",
   "outputs": [
    {
     "data": {
      "text/plain": "             documentation                                               path  \\\n547  Administration Manual  /Skyminer document Module/Skyminer document mo...   \n528  Administration Manual               /Skyminer Time Series Indexer Module   \n750            User Manual                                    /User Interface   \n758            User Manual                                   /Correlation API   \n730            User Manual                               /Predictors/Advanced   \n..                     ...                                                ...   \n693            User Manual                      /Web interface/Feature search   \n27   Administration Manual                         /Dependencies and licenses   \n91   Administration Manual                   /Installing on a 2 nodes cluster   \n90   Administration Manual                 /Installing on a standalone server   \n690            User Manual                          /Web interface/Responsive   \n\n                                                  text  \\\n547  \\n\\nGET /doc\\ndescribes the document backend i...   \n528  The time series indexer module uses Opensearch...   \n750  \\nOverview\\nThe correlation UI is a web client...   \n758  \\nCorrelation Search API\\nThe web client allow...   \n730  \\nDLM\\nAll the implemented models are designed...   \n..                                                 ...   \n693  The feature search allows you to:\\n\\nVisualize...   \n27   \\nNote\\nThis list is only available in the HTM...   \n91   A 2-nodes cluster is an atypical setup.\\nPleas...   \n90   For a standalone server you will select the fo...   \n690  If you do not have enough space on the your sc...   \n\n                                             file_path  token_count  \n547  http://192.168.48.22:8082/repository/skyminer-...         3704  \n528  http://192.168.48.22:8082/repository/skyminer-...         1812  \n750  http://192.168.48.22:8082/repository/skyminer-...         1772  \n758  http://192.168.48.22:8082/repository/skyminer-...         1707  \n730  http://192.168.48.22:8082/repository/skyminer-...         1705  \n..                                                 ...          ...  \n693  http://192.168.48.22:8082/repository/skyminer-...           29  \n27   http://192.168.48.22:8082/repository/skyminer-...           26  \n91   http://192.168.48.22:8082/repository/skyminer-...           20  \n90   http://192.168.48.22:8082/repository/skyminer-...           20  \n690  http://192.168.48.22:8082/repository/skyminer-...           20  \n\n[163 rows x 5 columns]",
      "text/html": "<div>\n<style scoped>\n    .dataframe tbody tr th:only-of-type {\n        vertical-align: middle;\n    }\n\n    .dataframe tbody tr th {\n        vertical-align: top;\n    }\n\n    .dataframe thead th {\n        text-align: right;\n    }\n</style>\n<table border=\"1\" class=\"dataframe\">\n  <thead>\n    <tr style=\"text-align: right;\">\n      <th></th>\n      <th>documentation</th>\n      <th>path</th>\n      <th>text</th>\n      <th>file_path</th>\n      <th>token_count</th>\n    </tr>\n  </thead>\n  <tbody>\n    <tr>\n      <th>547</th>\n      <td>Administration Manual</td>\n      <td>/Skyminer document Module/Skyminer document mo...</td>\n      <td>\\n\\nGET /doc\\ndescribes the document backend i...</td>\n      <td>http://192.168.48.22:8082/repository/skyminer-...</td>\n      <td>3704</td>\n    </tr>\n    <tr>\n      <th>528</th>\n      <td>Administration Manual</td>\n      <td>/Skyminer Time Series Indexer Module</td>\n      <td>The time series indexer module uses Opensearch...</td>\n      <td>http://192.168.48.22:8082/repository/skyminer-...</td>\n      <td>1812</td>\n    </tr>\n    <tr>\n      <th>750</th>\n      <td>User Manual</td>\n      <td>/User Interface</td>\n      <td>\\nOverview\\nThe correlation UI is a web client...</td>\n      <td>http://192.168.48.22:8082/repository/skyminer-...</td>\n      <td>1772</td>\n    </tr>\n    <tr>\n      <th>758</th>\n      <td>User Manual</td>\n      <td>/Correlation API</td>\n      <td>\\nCorrelation Search API\\nThe web client allow...</td>\n      <td>http://192.168.48.22:8082/repository/skyminer-...</td>\n      <td>1707</td>\n    </tr>\n    <tr>\n      <th>730</th>\n      <td>User Manual</td>\n      <td>/Predictors/Advanced</td>\n      <td>\\nDLM\\nAll the implemented models are designed...</td>\n      <td>http://192.168.48.22:8082/repository/skyminer-...</td>\n      <td>1705</td>\n    </tr>\n    <tr>\n      <th>...</th>\n      <td>...</td>\n      <td>...</td>\n      <td>...</td>\n      <td>...</td>\n      <td>...</td>\n    </tr>\n    <tr>\n      <th>693</th>\n      <td>User Manual</td>\n      <td>/Web interface/Feature search</td>\n      <td>The feature search allows you to:\\n\\nVisualize...</td>\n      <td>http://192.168.48.22:8082/repository/skyminer-...</td>\n      <td>29</td>\n    </tr>\n    <tr>\n      <th>27</th>\n      <td>Administration Manual</td>\n      <td>/Dependencies and licenses</td>\n      <td>\\nNote\\nThis list is only available in the HTM...</td>\n      <td>http://192.168.48.22:8082/repository/skyminer-...</td>\n      <td>26</td>\n    </tr>\n    <tr>\n      <th>91</th>\n      <td>Administration Manual</td>\n      <td>/Installing on a 2 nodes cluster</td>\n      <td>A 2-nodes cluster is an atypical setup.\\nPleas...</td>\n      <td>http://192.168.48.22:8082/repository/skyminer-...</td>\n      <td>20</td>\n    </tr>\n    <tr>\n      <th>90</th>\n      <td>Administration Manual</td>\n      <td>/Installing on a standalone server</td>\n      <td>For a standalone server you will select the fo...</td>\n      <td>http://192.168.48.22:8082/repository/skyminer-...</td>\n      <td>20</td>\n    </tr>\n    <tr>\n      <th>690</th>\n      <td>User Manual</td>\n      <td>/Web interface/Responsive</td>\n      <td>If you do not have enough space on the your sc...</td>\n      <td>http://192.168.48.22:8082/repository/skyminer-...</td>\n      <td>20</td>\n    </tr>\n  </tbody>\n</table>\n<p>163 rows × 5 columns</p>\n</div>"
     },
     "execution_count": 162,
     "metadata": {},
     "output_type": "execute_result"
    }
   ],
   "source": [
    "# Remove duplicated\n",
    "duplicates = df[df.duplicated(subset='text', keep=False)]\n",
    "df = df.drop(duplicates.index)\n",
    "df"
   ],
   "metadata": {
    "collapsed": false,
    "ExecuteTime": {
     "end_time": "2024-01-25T10:49:24.975142800Z",
     "start_time": "2024-01-25T10:49:24.942100700Z"
    }
   },
   "id": "7bb7d6495336e082",
   "execution_count": 162
  },
  {
   "cell_type": "code",
   "execution_count": 163,
   "id": "78ce3553",
   "metadata": {
    "ExecuteTime": {
     "end_time": "2024-01-25T10:49:30.541481900Z",
     "start_time": "2024-01-25T10:49:30.533060800Z"
    }
   },
   "outputs": [
    {
     "name": "stdout",
     "output_type": "stream",
     "text": [
      "Has NaN or None values in 'path': False\n",
      "Number of NaN or None values in 'path': 0\n",
      "Has empty strings in 'path': False\n",
      "Number of empty strings in 'path': 0\n"
     ]
    }
   ],
   "source": [
    "has_nan_or_none = df['path'].isnull().any()\n",
    "print(f\"Has NaN or None values in 'path': {has_nan_or_none}\")\n",
    "count_nan_or_none = df['path'].isnull().sum()\n",
    "print(f\"Number of NaN or None values in 'path': {count_nan_or_none}\")\n",
    "has_empty_string = (df['path'] == \"\").any()\n",
    "print(f\"Has empty strings in 'path': {has_empty_string}\")\n",
    "count_empty_string = (df['path'] == \"\").sum()\n",
    "print(f\"Number of empty strings in 'path': {count_empty_string}\")"
   ]
  },
  {
   "cell_type": "markdown",
   "source": [
    "## Dataframe to list of document"
   ],
   "metadata": {
    "collapsed": false
   },
   "id": "188a58b1ab5ecd34"
  },
  {
   "cell_type": "code",
   "outputs": [],
   "source": [
    "def create_metadata_dict(row):\n",
    "    metadata = dict()\n",
    "    if len(row['path'].split('/')) > 1:\n",
    "        metadata[\"title\"] = row['path'].split('/')[1]\n",
    "    if len(row['path'].split('/')) > 2:\n",
    "        metadata[\"sub_title\"] = row['path'].split('/')[2]\n",
    "    if len(row['path'].split('/')) > 3:\n",
    "        metadata[\"part\"] = row['path'].split('/')[3]\n",
    "    if len(row['path'].split('/')) > 4:\n",
    "        metadata[\"chapter\"] = row['path'].split('/')[4]\n",
    "    if len(row['path'].split('/')) > 5:\n",
    "        metadata[\"section\"] = row['path'].split('/')[5]\n",
    "    if len(row['path'].split('/')) > 6:\n",
    "        metadata[\"paragraph\"] = row['path'].split('/')[6]\n",
    "    metadata[\"url\"] = row['file_path']\n",
    "    metadata[\"manual\"] = row['documentation']\n",
    "    return metadata\n",
    "\n",
    "docs = list()\n",
    "for _, row in df.iterrows():\n",
    "    metadata = create_metadata_dict(row)\n",
    "    new_doc = Document(\n",
    "        text=row['text'],\n",
    "        metadata=metadata,\n",
    "        excluded_llm_metadata_keys=[\"url\"],\n",
    "        excluded_embed_metadata_keys = [\"url\"],\n",
    "        metadata_seperator=\"::\",\n",
    "        metadata_template=\"{key}=>{value}\",\n",
    "        text_template=\"Metadata: {metadata_str}\\n-----\\nContent: {content}\",\n",
    "    )\n",
    "    docs.append(new_doc)"
   ],
   "metadata": {
    "collapsed": false,
    "ExecuteTime": {
     "end_time": "2024-01-25T10:49:47.348539300Z",
     "start_time": "2024-01-25T10:49:47.324078900Z"
    }
   },
   "id": "cd2f542b29c41535",
   "execution_count": 164
  },
  {
   "cell_type": "code",
   "execution_count": 165,
   "id": "6a079f56",
   "metadata": {
    "ExecuteTime": {
     "end_time": "2024-01-25T10:49:48.610784500Z",
     "start_time": "2024-01-25T10:49:48.596563400Z"
    }
   },
   "outputs": [],
   "source": [
    "with open('skyminer_docs.pkl', 'wb') as f:\n",
    "    pickle.dump(docs, f)"
   ]
  },
  {
   "cell_type": "markdown",
   "source": [
    "## PDF"
   ],
   "metadata": {
    "collapsed": false
   },
   "id": "830903789b7027e3"
  },
  {
   "cell_type": "code",
   "outputs": [],
   "source": [
    "reader = SimpleDirectoryReader(input_dir=\"./data/skyminer data\", recursive=True)\n",
    "docs = reader.load_data()\n",
    "for doc in docs:\n",
    "    if doc.metadata['file_path'] == 'data\\\\skyminer data\\\\skyminer-development.pdf':\n",
    "        page = doc.metadata['page_label']\n",
    "        if page.isnumeric():\n",
    "            page = str(int(page) + 8)\n",
    "        elif page == 'i':\n",
    "            page = '3'\n",
    "        elif page == 'ii':\n",
    "            page = '4'\n",
    "        elif page == 'iii':\n",
    "            page = '5'\n",
    "        elif page == 'iv':\n",
    "            page = '6'\n",
    "        elif page == 'v':\n",
    "            page = '7'\n",
    "        elif page == 'vi':\n",
    "            page = '8'\n",
    "        doc.metadata['url'] = (\"http://192.168.48.22:8082/repository/skyminer-dev/dev-env/skyminer\"\n",
    "                               \"-development.pdf#page=\") + page\n",
    "    else:\n",
    "        docs = list()\n",
    "with open('skyminer_docs.pkl', 'rb') as f:\n",
    "    new_docs = pickle.load(f)\n",
    "docs += new_docs"
   ],
   "metadata": {
    "collapsed": false,
    "ExecuteTime": {
     "end_time": "2024-01-25T10:50:19.910188900Z",
     "start_time": "2024-01-25T10:50:18.115665900Z"
    }
   },
   "id": "cbb15721bd6a3887",
   "execution_count": 167
  },
  {
   "cell_type": "code",
   "outputs": [],
   "source": [
    "with open('skyminer_docs.pkl', 'wb') as f:\n",
    "    pickle.dump(docs, f)"
   ],
   "metadata": {
    "collapsed": false,
    "ExecuteTime": {
     "end_time": "2024-01-25T10:50:19.922600Z",
     "start_time": "2024-01-25T10:50:19.910188900Z"
    }
   },
   "id": "6a881cd57dd6da28",
   "execution_count": 168
  },
  {
   "cell_type": "code",
   "outputs": [],
   "source": [],
   "metadata": {
    "collapsed": false
   },
   "id": "ee9dad9884c5b247"
  }
 ],
 "metadata": {
  "kernelspec": {
   "display_name": "Python 3 (ipykernel)",
   "language": "python",
   "name": "python3"
  },
  "language_info": {
   "codemirror_mode": {
    "name": "ipython",
    "version": 3
   },
   "file_extension": ".py",
   "mimetype": "text/x-python",
   "name": "python",
   "nbconvert_exporter": "python",
   "pygments_lexer": "ipython3",
   "version": "3.11.4"
  }
 },
 "nbformat": 4,
 "nbformat_minor": 5
}
