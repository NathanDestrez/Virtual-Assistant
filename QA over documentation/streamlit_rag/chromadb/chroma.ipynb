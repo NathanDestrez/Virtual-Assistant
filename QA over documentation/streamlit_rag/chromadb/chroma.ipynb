{
 "cells": [
  {
   "cell_type": "code",
   "execution_count": 1,
   "id": "7fc8a1d2-ae22-44e0-a88e-e44b02f4a6d0",
   "metadata": {
    "ExecuteTime": {
     "end_time": "2024-01-09T16:31:08.506506400Z",
     "start_time": "2024-01-09T16:31:06.996625600Z"
    }
   },
   "outputs": [],
   "source": [
    "import chromadb\n",
    "from chromadb.utils import embedding_functions \n",
    "from langchain.vectorstores import Chroma\n",
    "from langchain.embeddings import SentenceTransformerEmbeddings"
   ]
  },
  {
   "cell_type": "code",
   "execution_count": 3,
   "id": "9cc6b3e7-bd67-4a55-bd5b-f7d040d1b250",
   "metadata": {
    "ExecuteTime": {
     "end_time": "2024-01-09T16:34:02.784490600Z",
     "start_time": "2024-01-09T16:33:58.111879200Z"
    }
   },
   "outputs": [],
   "source": [
    "chroma_client = client = chromadb.PersistentClient(path='database/v8')\n",
    "\n",
    "embedding_function = SentenceTransformerEmbeddings(model_name=\"all-MiniLM-L6-v2\")"
   ]
  },
  {
   "cell_type": "code",
   "execution_count": 4,
   "id": "36ffb872-9e3f-4c76-86a3-508976f0e8ab",
   "metadata": {
    "ExecuteTime": {
     "end_time": "2024-01-09T16:34:02.816278400Z",
     "start_time": "2024-01-09T16:34:02.787491700Z"
    }
   },
   "outputs": [
    {
     "name": "stdout",
     "output_type": "stream",
     "text": [
      "There are 473 in the collection\n"
     ]
    }
   ],
   "source": [
    "langchain_chroma = Chroma(client=chroma_client, collection_name=\"Skyminer\", embedding_function=embedding_function)\n",
    "print(\"There are\", langchain_chroma._collection.count(), \"in the collection\")"
   ]
  },
  {
   "cell_type": "code",
   "execution_count": 10,
   "id": "94c5e471-5260-4f74-af18-1886ace1b431",
   "metadata": {},
   "outputs": [],
   "source": [
    "chroma_client.delete_collection('Skyminer-T')"
   ]
  },
  {
   "cell_type": "code",
   "execution_count": 5,
   "id": "a0545185-37d5-406e-8a6d-835ef63f8aaa",
   "metadata": {
    "ExecuteTime": {
     "end_time": "2024-01-09T16:34:11.701768300Z",
     "start_time": "2024-01-09T16:34:11.684298900Z"
    }
   },
   "outputs": [
    {
     "data": {
      "text/plain": "[Collection(name=EPOCH),\n Collection(name=Translate_fr_en),\n Collection(name=Python),\n Collection(name=Skyminer),\n Collection(name=Translate),\n Collection(name=EPOCH-T),\n Collection(name=Translate_en_fr),\n Collection(name=General),\n Collection(name=QMS)]"
     },
     "execution_count": 5,
     "metadata": {},
     "output_type": "execute_result"
    }
   ],
   "source": [
    "chroma_client.list_collections()"
   ]
  },
  {
   "cell_type": "code",
   "execution_count": 13,
   "id": "56c40421-865c-40d4-a6a0-845b3710fcba",
   "metadata": {},
   "outputs": [
    {
     "name": "stdout",
     "output_type": "stream",
     "text": [
      "[Document(page_content='Context : (Documentation = User Manual, Title = Vertical aggregators, Chapter = Overview) Vertical aggregators complete the capabilities of regular ( horizontal ) aggregators . They can be used on any query that has a group by tag . They aggregate the datapoints of the different series together .', metadata={'documentation': 'User Manual', 'file_path': 'http://192.168.48.22:8082/repository/skyminer-dev/skyminer-documentation/latest/user-manual-html/user-manual-html/query-ui/vertical-aggregators.html#overview', 'source': '/Vertical aggregators/Overview', 'word_count': 36}), Document(page_content='Context : (Documentation = Administrastion Manual, Title = Aggregators) Note The list of aggregators is incomplete and depends on enabled modules . This documentation will be generated automatically in the future using the features API .', metadata={'documentation': 'Administrastion Manual', 'file_path': 'http://192.168.48.22:8082/repository/skyminer-dev/skyminer-documentation/latest/administration-manual-html/administration-manual-html/api/restapi/Aggregators.html#aggregators', 'source': '/Aggregators', 'word_count': 27}), Document(page_content='Context : (Documentation = User Manual, Title = Aggregators, Chapter = Description, Paragraph = Javascript aggregators) JavaScript aggregators allow the user to create custom aggregators without modifying the client . You can either write an entire script that terminates with a return statement , or simply provide a single lined script . There are four sorts of JS aggregators : JS Filter : allows to filter values according to a scripted statement . For instance the simple script “value !=0” will filter out every values that are different to 0 . Current value is accessed through the value variable and current timestamp through timestamp . JS Function : transforms every value according to a given function . For instance “value*2” will multiply every value by 2 . Current value is accessed through the value variable and current timestamp through timestamp . JS Range : allows to create downsampling aggregators . For instance to recreate the sum aggregator one would write : var sum = 0 ; while ( values . hasNext ()) { var dp= values . next (); sum+=dp . getDoubleValue (); } return sum ; The variable values allows you to access to an iterator over the datapoints within the sub range . Use hasNext () and next () to iterate over the datapoints . Use getTimestamp () to access the timestamp of the datapoint and getDoubleValue () to access its value . JS Regression : is a particular type of range aggregation . It allows to access to the SimpleRegression library from the Apache Commons Math 3 library . You access the regression object with the variable named regression . You can then call functions such as regression . getSlope () or regression . getRSquare (). The following script returns the ratio between the regression sum squares and the error sum squares under some thresholding condition : if ( regression . getN () <100 || regression . getSumSquaredErrors () == 0 ) return 0 ; return regression . getRegressionSumSquares () / regression . getSumSquaredErrors ()', metadata={'documentation': 'User Manual', 'file_path': 'http://192.168.48.22:8082/repository/skyminer-dev/skyminer-documentation/latest/user-manual-html/user-manual-html/query-ui/aggregators.html#javascript-aggregators', 'source': '/Aggregators/Description/Javascript aggregators', 'word_count': 322}), Document(page_content='Context : (Documentation = User Manual, Title = Aggregators, Chapter = Overview) Aggregators perform operations on data points , like downsampling . For example , you could sum all data points that exist in 5 minute periods . Aggregators can be combined together . For example , you could sum all data points in 5 minute periods and then average the results over a period of one week . Aggregators are processed in the order specified in the query . The output of one is sent to the input of the next . If no aggregator is specified , then all datapoints that match the tag filtering are returned .', metadata={'documentation': 'User Manual', 'file_path': 'http://192.168.48.22:8082/repository/skyminer-dev/skyminer-documentation/latest/user-manual-html/user-manual-html/query-ui/aggregators.html#overview', 'source': '/Aggregators/Overview', 'word_count': 98}), Document(page_content='Context : (Documentation = User Manual, Title = Vertical aggregators, Chapter = Description, Paragraph = Interpolated vertical aggregator) To proceed to a vertical aggregation that uses interpolation to fill gap , use the interpolation horizontal aggregator which provides the linear interpolation of the series so it becomes regularly sampled . You can then chain it with any vertical aggregator presented in the previous sections .', metadata={'documentation': 'User Manual', 'file_path': 'http://192.168.48.22:8082/repository/skyminer-dev/skyminer-documentation/latest/user-manual-html/user-manual-html/query-ui/vertical-aggregators.html#interpolated-vertical-aggregator', 'source': '/Vertical aggregators/Description/Interpolated vertical aggregator', 'word_count': 47})]\n"
     ]
    }
   ],
   "source": [
    "question = 'aggregator'\n",
    "similar_doc_count = 5\n",
    "retrieved_docs = langchain_chroma.similarity_search(question, k=similar_doc_count)\n",
    "print(retrieved_docs)"
   ]
  }
 ],
 "metadata": {
  "kernelspec": {
   "display_name": "Python 3 (ipykernel)",
   "language": "python",
   "name": "python3"
  },
  "language_info": {
   "codemirror_mode": {
    "name": "ipython",
    "version": 3
   },
   "file_extension": ".py",
   "mimetype": "text/x-python",
   "name": "python",
   "nbconvert_exporter": "python",
   "pygments_lexer": "ipython3",
   "version": "3.11.5"
  }
 },
 "nbformat": 4,
 "nbformat_minor": 5
}
