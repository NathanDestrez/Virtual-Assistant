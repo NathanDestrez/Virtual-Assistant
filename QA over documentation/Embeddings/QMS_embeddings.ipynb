{
 "cells": [
  {
   "cell_type": "markdown",
   "id": "2d1af13c",
   "metadata": {},
   "source": [
    "# Import"
   ]
  },
  {
   "cell_type": "code",
   "execution_count": 1,
   "id": "9f39f936",
   "metadata": {
    "ExecuteTime": {
     "end_time": "2023-12-21T10:14:28.869478Z",
     "start_time": "2023-12-21T10:14:23.087811Z"
    }
   },
   "outputs": [
    {
     "name": "stderr",
     "output_type": "stream",
     "text": [
      "C:\\Users\\Nathan\\anaconda3\\envs\\Html_embeddings\\Lib\\site-packages\\tqdm\\auto.py:21: TqdmWarning: IProgress not found. Please update jupyter and ipywidgets. See https://ipywidgets.readthedocs.io/en/stable/user_install.html\n",
      "  from .autonotebook import tqdm as notebook_tqdm\n"
     ]
    }
   ],
   "source": [
    "from bs4 import BeautifulSoup\n",
    "from urllib.parse import urljoin\n",
    "import pandas as pd\n",
    "import html\n",
    "import re\n",
    "import logging\n",
    "import os\n",
    "import requests\n",
    "\n",
    "# plot\n",
    "import matplotlib.pyplot as plt\n",
    "import seaborn as sns\n",
    "\n",
    "# Chroma\n",
    "import chromadb \n",
    "from chromadb.utils import embedding_functions\n",
    "from langchain.vectorstores import Chroma\n",
    "\n",
    "# Sentence Transformers\n",
    "from sentence_transformers import SentenceTransformer"
   ]
  },
  {
   "cell_type": "code",
   "execution_count": 2,
   "id": "49fad0eb",
   "metadata": {
    "ExecuteTime": {
     "end_time": "2023-12-21T10:14:28.873855Z",
     "start_time": "2023-12-21T10:14:28.871472Z"
    }
   },
   "outputs": [],
   "source": [
    "# Initialize logging\n",
    "logging.basicConfig(level=logging.INFO)"
   ]
  },
  {
   "cell_type": "markdown",
   "id": "71b8e07e",
   "metadata": {},
   "source": [
    "# Set up "
   ]
  },
  {
   "cell_type": "code",
   "execution_count": 3,
   "id": "3d81c6cb",
   "metadata": {
    "ExecuteTime": {
     "end_time": "2023-12-21T10:14:28.878844Z",
     "start_time": "2023-12-21T10:14:28.874848Z"
    }
   },
   "outputs": [],
   "source": [
    "# Configuration\n",
    "config = {\n",
    "    'site1': {\n",
    "        'index_path': \"http://192.168.48.22:8082/repository/qa/QMS.html\",\n",
    "        'documentation': 'QMS-documentation'\n",
    "    },\n",
    "}"
   ]
  },
  {
   "cell_type": "code",
   "execution_count": 4,
   "id": "8330dbfe",
   "metadata": {
    "ExecuteTime": {
     "end_time": "2023-12-21T10:14:28.884248Z",
     "start_time": "2023-12-21T10:14:28.880846Z"
    }
   },
   "outputs": [],
   "source": [
    "def get_all_links(base_url):\n",
    "    # Send a GET request to the base URL\n",
    "    response = requests.get(base_url)\n",
    "    response.raise_for_status()  # Raise an exception for HTTP errors\n",
    "\n",
    "    # Parse the content using BeautifulSoup\n",
    "    soup = BeautifulSoup(response.content, 'html.parser')\n",
    "\n",
    "    # Extract all anchor tags\n",
    "    anchors = soup.find_all('a', href=True)\n",
    "\n",
    "    # Convert relative URLs and fragments to absolute URLs\n",
    "    absolute_urls = [urljoin(base_url, a['href']) for a in anchors]\n",
    "\n",
    "    return absolute_urls"
   ]
  },
  {
   "cell_type": "code",
   "execution_count": 5,
   "id": "e702be49",
   "metadata": {
    "ExecuteTime": {
     "end_time": "2023-12-21T10:14:29.095818Z",
     "start_time": "2023-12-21T10:14:28.885250Z"
    }
   },
   "outputs": [],
   "source": [
    "site_url = config['site1']['index_path']\n",
    "linked_urls = get_all_links(site_url)"
   ]
  },
  {
   "cell_type": "code",
   "execution_count": 6,
   "id": "2f918781",
   "metadata": {
    "ExecuteTime": {
     "end_time": "2023-12-21T10:14:29.100338Z",
     "start_time": "2023-12-21T10:14:29.096320Z"
    }
   },
   "outputs": [
    {
     "name": "stdout",
     "output_type": "stream",
     "text": [
      "http://192.168.48.22:8082/repository/qa/QMS.html\n",
      "https://gitlab-toulouse.kratos.us/qms/kratos-qms\n",
      "http://192.168.48.22:8082/repository/qa/QMS.pdf\n",
      "http://192.168.48.22:8082/repository/qa/QMS.html#introduction\n",
      "http://192.168.48.22:8082/repository/qa/QMS.html#quality-management-system\n",
      "http://192.168.48.22:8082/repository/qa/QMS.html#reference-documents\n",
      "http://192.168.48.22:8082/repository/qa/QMS.html#list-of-processes\n",
      "http://192.168.48.22:8082/repository/qa/QMS.html#documents\n",
      "http://192.168.48.22:8082/repository/qa/QMS.html#human-resources\n",
      "http://192.168.48.22:8082/repository/qa/QMS.html#infrastructure\n",
      "http://192.168.48.22:8082/repository/qa/QMS.html#operations\n",
      "http://192.168.48.22:8082/repository/qa/QMS.html#proposals-and-contracts\n",
      "http://192.168.48.22:8082/repository/qa/QMS.html#purchasing\n",
      "http://192.168.48.22:8082/repository/qa/QMS.html#quality\n",
      "http://192.168.48.22:8082/repository/qa/QMS.html#shipping-and-receiving\n",
      "http://192.168.48.22:8082/repository/qa/QMS.html#support\n",
      "http://192.168.48.22:8082/repository/qa/QMS.html#training-materials\n",
      "http://192.168.48.22:8082/repository/qa/QMS.html#health-safety-and-environment\n",
      "http://192.168.48.22:8082/repository/qa/QMS.html#kratos-communications-sas-process-identification\n",
      "http://192.168.48.22:8082/repository/qa/QMS.html#template-version\n",
      "http://192.168.48.22:8082/repository/qa/Quality_Manual.html\n",
      "http://192.168.48.22:8082/repository/qa/Reference%20Documents/AFNOR_Certificate.pdf\n",
      "http://192.168.48.22:8082/repository/qa/Kratos_Organization_Note.html\n",
      "http://192.168.48.22:8082/repository/qa/Kratos_Diagram.html\n",
      "http://192.168.48.22:8082/repository/qa/Templates/Quality%20Management/Process_Monitoring.xlsx\n",
      "http://192.168.48.22:8082/repository/qa/Templates/Quality%20Management/Record_Management.xls\n",
      "http://qms-toulouse.kratos.us/QMS.html\n",
      "http://qms-toulouse.kratos.us/internal/internal-process.html\n",
      "http://192.168.48.22:8082/repository/qa/Reference%20Documents/ISO_9001_2015_Norme.pdf\n",
      "http://192.168.48.22:8082/repository/qa/Reference%20Documents/BS_EN_ISO_9001_2015.pdf\n",
      "http://192.168.48.22:8082/repository/qa/Reference%20Documents/Limit_of_Authority.pdf\n",
      "http://192.168.48.22:8082/repository/qa/Document_Management.html\n",
      "http://192.168.48.22:8082/repository/qa/Templates/Project%20Delivery/Product-Project%20Master.docx\n",
      "http://192.168.48.22:8082/repository/qa/Document_Publication.html\n",
      "http://192.168.48.22:8082/repository/qa/Templates/Project%20Delivery/Export%20Control%20Header%20Page.docx\n",
      "http://192.168.48.22:8082/repository/qa/Templates/General/Kratos%20Style%20Guide.pdf\n",
      "http://192.168.48.22:8082/repository/qa/Templates/General/Kratos%20PPT%20Master%20Standard.pptx\n",
      "http://192.168.48.22:8082/repository/qa/Templates/General/Kratos-TLSE%20Letterhead.docx\n",
      "http://192.168.48.22:8082/repository/qa/Templates/General/Letter.doc\n",
      "http://192.168.48.22:8082/repository/qa/Templates/Quality%20Management/Process%20Template.doc\n",
      "http://192.168.48.22:8082/repository/qa/Human_Resources.html\n",
      "http://192.168.48.22:8082/repository/qa/Account_Management.html\n",
      "http://192.168.48.22:8082/repository/qa/Templates/Human%20Resources/NewEmployee.xlsx\n",
      "http://192.168.48.22:8082/repository/qa/Templates/Human%20Resources/N2F_Procedure.pdf\n",
      "http://192.168.48.22:8082/repository/qa/Templates/Human%20Resources/Travel%20Authorization%20Form_SINGAPORE.xlsx\n",
      "http://192.168.48.22:8082/repository/qa/Templates/Human%20Resources/N2F_FAQ.pdf\n",
      "http://192.168.48.22:8082/repository/qa/Templates/Human%20Resources/Expense%20Report_KCOMMS%20Singapore.xlsx\n",
      "http://192.168.48.22:8082/repository/qa/Templates/Human%20Resources/Expense%20Report_KCOMMS%20Oman.xlsx\n",
      "http://192.168.48.22:8082/repository/qa/Templates/Human%20Resources/Formulaire%20de%20demande_Heures%20sup.xlsx\n",
      "http://192.168.48.22:8082/repository/qa/Templates/Human%20Resources/Leave%20Form_SINGAPORE.xlsx\n",
      "http://192.168.48.22:8082/repository/qa/Templates/Project%20Delivery/Training%20Log%20Template.docx\n",
      "http://192.168.48.22:8082/repository/qa/Templates/Project%20Delivery/Training%20Evaluation%20Template.docx\n",
      "http://192.168.48.22:8082/repository/qa/Infrastructure.html\n",
      "http://192.168.48.22:8082/repository/qa/Templates/Infrastructure/Note_d_information_vidéosurveillance.pdf\n",
      "http://192.168.48.22:8082/repository/qa/Templates/Infrastructure/Note_d_information_Accès_par_badge.pdf\n",
      "http://192.168.48.22:8082/repository/qa/Project_Folder_Organization.html\n",
      "http://192.168.48.22:8082/repository/qa/project_template.zip\n",
      "http://192.168.48.22:8082/repository/qa/Templates/Project%20Delivery/Training%20Plan.doc\n",
      "http://192.168.48.22:8082/repository/qa/Configuration_Management.html\n",
      "http://192.168.48.22:8082/repository/qa/Templates/Project%20Delivery/KC-30XXX-LI-0000_1.0_Project%20Library.xlsx\n",
      "http://192.168.48.22:8082/repository/qa/Templates/Project%20Delivery/Training%20Certificate%20Template.docx\n",
      "http://192.168.48.22:8082/repository/qa/Work%20Instructions/WI_Project_Library.html\n",
      "http://192.168.48.22:8082/repository/qa/Configuration_Management_for_Projects.html\n",
      "http://192.168.48.22:8082/repository/qa/Templates/Project%20Delivery/KC-XXXXX-MM-YYYY_1.0%20Internal%20Kick-Off%20Minutes%20of%20Meeting.docx\n",
      "http://192.168.48.22:8082/repository/qa/Templates/Project%20Delivery/Release%20Notes%20Template.docx\n",
      "http://192.168.48.22:8082/repository/qa/Software_Developers_Guide.html\n",
      "http://192.168.48.22:8082/repository/qa/Templates/Project%20Delivery/Delivery%20List.xlsx\n",
      "http://192.168.48.22:8082/repository/qa/Templates/Project%20Delivery/Site%20Survey%20Questionnaire.docx\n",
      "http://192.168.48.22:8082/repository/qa/Customer_Property.html\n",
      "http://192.168.48.22:8082/repository/qa/Templates/Project%20Delivery/Delivery%20Review%20Checklist.docx\n",
      "http://192.168.48.22:8082/repository/qa/Templates/Project%20Delivery/DIL_template.xlsx\n",
      "http://192.168.48.22:8082/repository/knowledge/Projects/Project_Steps.html\n",
      "http://192.168.48.22:8082/repository/qa/Templates/Project%20Delivery/Minutes%20of%20Meeting%20Form.docx\n",
      "http://192.168.48.22:8082/repository/qa/Templates/Project%20Delivery/Certificat%20of%20Conformance.docx\n",
      "http://192.168.48.22:8082/repository/qa/Templates/Project%20Delivery/Quality%20Assurance%20&%20Project%20Management%20Plan%20Template.docx\n",
      "http://192.168.48.22:8082/repository/qa/Templates/Project%20Delivery/Change%20Request%20Template.docx\n",
      "http://192.168.48.22:8082/repository/qa/Templates/Project%20Delivery/Action%20Items%20List.xlsx\n",
      "http://192.168.48.22:8082/repository/qa/Templates/Project%20Delivery/Change%20Notice%20Template.docx\n",
      "http://192.168.48.22:8082/repository/qa/Templates/Project%20Delivery/Project%20Management%20Plan%20Template.docx\n",
      "http://192.168.48.22:8082/repository/qa/Templates/Project%20Delivery/Risk%20Management%20Template.xlsx\n",
      "http://192.168.48.22:8082/repository/qa/Templates/Project%20Delivery/KC-XXXXX-MM-YYYY_1.0%20Project%20Review.pptx\n",
      "http://192.168.48.22:8082/repository/qa/Templates/Project%20Delivery/Request%20for%20Deviation_Waiver%20Template.docx\n",
      "http://192.168.48.22:8082/repository/qa/Templates/Project%20Delivery/Project%20Status%20Report.docx\n",
      "http://192.168.48.22:8082/repository/qa/Templates/Project%20Delivery/Warranty%20and%20Maintenance%20Plan%20Template.docx\n",
      "http://192.168.48.22:8082/repository/qa/Templates/Project%20Delivery/Warranty%20Certificate.doc\n",
      "http://192.168.48.22:8082/repository/qa/Templates/Project%20Delivery/Quality%20Assurance%20Plan%20Template.docx\n",
      "http://192.168.48.22:8082/repository/qa/Templates/Project%20Delivery/External_Kick-Off_Presentation.pptx\n",
      "http://192.168.48.22:8082/repository/qa/Templates/Project%20Delivery/Statement%20Of%20Work.docx\n",
      "http://192.168.48.22:8082/repository/qa/Templates/Project%20Delivery/Inspection_Key_Point_Template.docx\n",
      "http://192.168.48.22:8082/repository/qa/Non_Conformance_process.html\n",
      "http://192.168.48.22:8082/repository/qa/Templates/Project%20Delivery/Internal%20NC%20template.xlsx\n",
      "http://192.168.48.22:8082/repository/qa/Templates/Project%20Delivery/NCR%20Template.xlsm\n",
      "http://192.168.48.22:8082/repository/qa/Proposals_Contracts_Process.html\n",
      "http://192.168.48.22:8082/repository/qa/Templates/Business%20Management/Kratos-Comms-Proposal%20Template-France.docx\n",
      "http://192.168.48.22:8082/repository/qa/Proposals_Process.html\n",
      "http://192.168.48.22:8082/repository/qa/Templates/Business%20Management/KC-XXXXX-OFR_x.y%20Prices.xlsx\n",
      "http://192.168.48.22:8082/repository/qa/Bank_Guarantees.html\n",
      "http://192.168.48.22:8082/repository/qa/Templates/Business%20Management/KC-XXXXX-OFR-PR_x.y.xlsx\n",
      "http://192.168.48.22:8082/repository/qa/Contract_Review_Process.html\n",
      "http://192.168.48.22:8082/repository/qa/contract_review_template.zip\n",
      "http://192.168.48.22:8082/repository/qa/Change_Management.html\n",
      "http://192.168.48.22:8082/repository/qa/Templates/Business%20Management/KC-30XXX-CR-0001_0.1.docx\n",
      "http://192.168.48.22:8082/repository/qa/Templates/Business%20Management/Kratos_Mutual_NDA_Playbook_France.docx\n",
      "http://192.168.48.22:8082/repository/qa/Templates/Business%20Management/Kratos%20Mutual%20Non%20Disclosure%20Agreement.docx\n",
      "http://192.168.48.22:8082/repository/qa/Templates/Business%20Management/Order_Acknowledgement_with_Header.docx\n",
      "http://192.168.48.22:8082/repository/qa/Purchasing_Process.html\n",
      "http://192.168.48.22:8082/repository/qa/Templates/Process/Process_Identification_Purchasing.pdf\n",
      "http://192.168.48.22:8082/repository/qa/Purchase_Request_Procedure.html\n",
      "http://192.168.48.22:8082/repository/qa/Templates/Purchasing/Purchase%20Request%20Template.xlsm\n",
      "http://192.168.48.22:8082/repository/qa/Vendor_Evaluation_Procedure.html\n",
      "http://192.168.48.22:8082/repository/qa/Purchase_Order_Procedure.html\n",
      "http://192.168.48.22:8082/repository/qa/Templates/Purchasing/PO_Template%201_Inter-Co_KCOMMS%20INC.xlsm\n",
      "http://192.168.48.22:8082/repository/qa/Templates/Purchasing/PO_Template%201_Inter-Co_KCOMMS%20LTD.xlsm\n",
      "http://192.168.48.22:8082/repository/qa/Templates/Purchasing/PO_Template%201_Inter-Co_KTTS.xlsm\n",
      "http://192.168.48.22:8082/repository/qa/Templates/Purchasing/PO_Template_1_Interco_Kcomms_Japan.xlsm\n",
      "http://192.168.48.22:8082/repository/qa/Templates/Purchasing/PO_Template_1_Inter-Co_KCOMMS_Sing.xlsm\n",
      "http://192.168.48.22:8082/repository/qa/Templates/Purchasing/PO_Template_1_Inter-Co_KCOMMSSAS_to_KCOMMS_Sing.xlsm\n",
      "http://192.168.48.22:8082/repository/qa/Templates/Purchasing/PO_Template%202_French%20Supplier.xlsm\n",
      "http://192.168.48.22:8082/repository/qa/Templates/Purchasing/PO_Template%202_EN_Supplier.xlsm\n",
      "http://192.168.48.22:8082/repository/qa/Templates/Purchasing/PO_Template%203_Singapore.xlsm\n",
      "http://192.168.48.22:8082/repository/qa/Templates/Purchasing/PO_Template%204_Oman.xlsm\n",
      "http://192.168.48.22:8082/repository/qa/Templates/Purchasing/PO_Template%205_Shipping%20Service.xlsm\n",
      "http://192.168.48.22:8082/repository/qa/Subcontractor_Management_Process.html\n",
      "http://192.168.48.22:8082/repository/qa/Subcontractor_Travel_Process.html\n",
      "http://192.168.48.22:8082/repository/qa/Templates/Purchasing/Independent_Contractor_Agreement.docx\n",
      "http://192.168.48.22:8082/repository/qa/Templates/Human%20Resources/Travel%20Authorization%20Form_Subcontractor.xlsm\n",
      "http://192.168.48.22:8082/repository/qa/Quality_Process.html\n",
      "http://192.168.48.22:8082/repository/qa/Templates/Process/Process_Identification_Management.pdf\n",
      "http://192.168.48.22:8082/repository/qa/Quality_Document_Management.html\n",
      "http://192.168.48.22:8082/repository/qa/Templates/Quality%20Management/Process_Template.html\n",
      "http://192.168.48.22:8082/repository/qa/Templates/Quality%20Management/Audit%20Report%20Template.docx\n",
      "http://192.168.48.22:8082/repository/qa/Templates/Quality%20Management/Audit%20Plan%20Template%20.docx\n",
      "http://192.168.48.22:8082/repository/qa/Templates/Quality%20Management/Customer%20Satisfaction%20Questionnaire.docx\n",
      "http://192.168.48.22:8082/repository/qa/Templates/Quality%20Management/Project_Audit_Template.docx\n",
      "http://192.168.48.22:8082/repository/qa/Shipping_Receiving_Warehousing.html\n",
      "http://192.168.48.22:8082/repository/qa/Shipping_Process.html\n",
      "http://192.168.48.22:8082/repository/qa/Templates/Shipping&Receiving/Shipping%20Record%20Template.xlsx\n",
      "http://192.168.48.22:8082/repository/qa/Templates/Shipping&Receiving/Commercial%20Invoice%20Template.xlsx\n",
      "http://192.168.48.22:8082/repository/qa/Templates/Shipping&Receiving/End%20User%20Statement%20Template.docx\n",
      "http://192.168.48.22:8082/repository/qa/Receiving_Process.html\n",
      "http://192.168.48.22:8082/repository/qa/Templates/Purchasing/Reception%20Form%20Template.xlsm\n",
      "http://192.168.48.22:8082/repository/qa/Packaging_Process.html\n",
      "http://192.168.48.22:8082/repository/qa/Templates/Shipping&Receiving/Box%20Label%20Template.docx\n",
      "http://192.168.48.22:8082/repository/qa/Handling_Storage.html\n",
      "http://192.168.48.22:8082/repository/qa/Templates/Shipping&Receiving/Packing%20List%20Template.xlsx\n",
      "http://192.168.48.22:8082/repository/qa/Warranty_Inspection.html\n",
      "http://192.168.48.22:8082/repository/qa/Templates/Shipping&Receiving/Warranty%20Inspection%20Form%20Template.xlsx\n",
      "http://192.168.48.22:8082/repository/qa/Customer_Support_Data_Process.html\n",
      "http://192.168.48.22:8082/repository/qa/Templates/Support/KCOMMS%20Delivery%20-%20Account%20HandOff%20to%20Support.docx\n",
      "http://192.168.48.22:8082/repository/qa/Training/QMS-Gitlab-Training.pdf\n",
      "http://192.168.48.22:8082/repository/qa/Training/Configuration_Management_Training.pptx\n",
      "http://192.168.48.22:8082/repository/qa/Training/QMS_Training_2020.pptx\n",
      "http://192.168.48.22:8082/repository/qa/Training/QMS_Documentation.pptx\n",
      "http://192.168.48.22:8082/repository/qa/Training/Purchasing_Process_Training.pptx\n",
      "http://192.168.48.22:8082/repository/qa/Training/Contract_Review_Process_Training.pptx\n",
      "http://192.168.48.22:8082/repository/qa/Training/Receiving_Training.pptx\n",
      "http://192.168.48.22:8082/repository/qa/Training/Warranty_Inspection_Training.pptx\n",
      "http://192.168.48.22:8082/repository/qa/Training/Shipping_Training.pptx\n",
      "http://192.168.48.22:8082/repository/qa/Training/Shipping_Process_Training_2.zip\n",
      "http://192.168.48.22:8082/repository/qa/Training/Software_developer_guide_complete_presentation.pptx\n",
      "http://192.168.48.22:8082/repository/qa/Training/Software_developer_guide_complete_presentation_quiz.pptx\n",
      "http://192.168.48.22:8082/repository/qa/Reference%20Documents/Kratos_Document_Unique.pdf\n",
      "http://192.168.48.22:8082/repository/qa/Templates/HSE/Risques_Professionnels.pdf\n",
      "http://192.168.48.22:8082/repository/qa/Templates/HSE/7_Note_Prévention_Covid_KC-HR-NS-0015.pdf\n",
      "http://192.168.48.22:8082/repository/qa/Templates/HSE/7_Protocole_de_prise_en_charge_d_un_cas_COVID_V2.pdf\n",
      "http://192.168.48.22:8082/repository/qa/Templates/HSE/Roof_Access_Template.docx\n",
      "http://192.168.48.22:8082/repository/qa/Templates/HSE/KC_PdP_Template.doc\n",
      "http://192.168.48.22:8082/repository/qa/Facility_Access_Control_Policy.html\n",
      "http://192.168.48.22:8082/repository/qa/Templates/Process/Process_Identification_Business_Management.pdf\n",
      "http://192.168.48.22:8082/repository/qa/Templates/Process/Process_Identification_Operation_Management.pdf\n",
      "http://192.168.48.22:8082/repository/qa/Templates/Process/Process_Identification_Management.pdf\n",
      "http://192.168.48.22:8082/repository/qa/Templates/Process/Process_Identification_Shipping_Receiving.pdf\n",
      "http://192.168.48.22:8082/repository/qa/Templates/Process/Process_Identification_Infrastructure.pdf\n",
      "http://192.168.48.22:8082/repository/qa/Templates/Process/Process_Identification_Purchasing.pdf\n",
      "http://192.168.48.22:8082/repository/qa/Templates/Process/Process_Identification_Contracts.pdf\n",
      "http://192.168.48.22:8082/repository/qa/Templates/Process/Process_Identification_Human_Resources.pdf\n",
      "http://192.168.48.22:8082/repository/qa/template_version_information.html\n"
     ]
    }
   ],
   "source": [
    "# Print the results\n",
    "for url in linked_urls:\n",
    "    print(url)"
   ]
  },
  {
   "cell_type": "code",
   "execution_count": 7,
   "id": "0bba0c2d",
   "metadata": {
    "ExecuteTime": {
     "end_time": "2023-12-21T10:14:29.107956Z",
     "start_time": "2023-12-21T10:14:29.101340Z"
    }
   },
   "outputs": [],
   "source": [
    "links = linked_urls\n",
    "\n",
    "# Lists to store categorized links\n",
    "html_links = []\n",
    "pdf_links = []\n",
    "xlsx_links = []\n",
    "xls_links = []\n",
    "docx_links = []\n",
    "doc_links = []\n",
    "pptx_links = []\n",
    "zip_links = []\n",
    "\n",
    "# Categorize links\n",
    "for link in links:\n",
    "    if link.endswith('.html'):\n",
    "        html_links.append(link)\n",
    "    elif link.endswith('.pdf'):\n",
    "        pdf_links.append(link)\n",
    "    elif link.endswith('.xlsx'):\n",
    "        xlsx_links.append(link)\n",
    "    elif link.endswith('.xls'):\n",
    "        xls_links.append(link)\n",
    "    elif link.endswith('.docx'):\n",
    "        docx_links.append(link)\n",
    "    elif link.endswith('.doc'):\n",
    "        doc_links.append(link)\n",
    "    elif link.endswith('.pptx'):\n",
    "        pptx_links.append(link)\n",
    "    elif link.endswith('.zip'):\n",
    "        zip_links.append(link)"
   ]
  },
  {
   "cell_type": "code",
   "execution_count": 8,
   "id": "17f08f5f",
   "metadata": {
    "ExecuteTime": {
     "end_time": "2023-12-21T10:14:29.111922Z",
     "start_time": "2023-12-21T10:14:29.108957Z"
    }
   },
   "outputs": [
    {
     "name": "stdout",
     "output_type": "stream",
     "text": [
      "HTML:\n",
      "http://192.168.48.22:8082/repository/qa/QMS.html\n",
      "http://192.168.48.22:8082/repository/qa/Quality_Manual.html\n",
      "http://192.168.48.22:8082/repository/qa/Kratos_Organization_Note.html\n",
      "http://192.168.48.22:8082/repository/qa/Kratos_Diagram.html\n",
      "http://qms-toulouse.kratos.us/QMS.html\n",
      "http://qms-toulouse.kratos.us/internal/internal-process.html\n",
      "http://192.168.48.22:8082/repository/qa/Document_Management.html\n",
      "http://192.168.48.22:8082/repository/qa/Document_Publication.html\n",
      "http://192.168.48.22:8082/repository/qa/Human_Resources.html\n",
      "http://192.168.48.22:8082/repository/qa/Account_Management.html\n",
      "http://192.168.48.22:8082/repository/qa/Infrastructure.html\n",
      "http://192.168.48.22:8082/repository/qa/Project_Folder_Organization.html\n",
      "http://192.168.48.22:8082/repository/qa/Configuration_Management.html\n",
      "http://192.168.48.22:8082/repository/qa/Work%20Instructions/WI_Project_Library.html\n",
      "http://192.168.48.22:8082/repository/qa/Configuration_Management_for_Projects.html\n",
      "http://192.168.48.22:8082/repository/qa/Software_Developers_Guide.html\n",
      "http://192.168.48.22:8082/repository/qa/Customer_Property.html\n",
      "http://192.168.48.22:8082/repository/knowledge/Projects/Project_Steps.html\n",
      "http://192.168.48.22:8082/repository/qa/Non_Conformance_process.html\n",
      "http://192.168.48.22:8082/repository/qa/Proposals_Contracts_Process.html\n",
      "http://192.168.48.22:8082/repository/qa/Proposals_Process.html\n",
      "http://192.168.48.22:8082/repository/qa/Bank_Guarantees.html\n",
      "http://192.168.48.22:8082/repository/qa/Contract_Review_Process.html\n",
      "http://192.168.48.22:8082/repository/qa/Change_Management.html\n",
      "http://192.168.48.22:8082/repository/qa/Purchasing_Process.html\n",
      "http://192.168.48.22:8082/repository/qa/Purchase_Request_Procedure.html\n",
      "http://192.168.48.22:8082/repository/qa/Vendor_Evaluation_Procedure.html\n",
      "http://192.168.48.22:8082/repository/qa/Purchase_Order_Procedure.html\n",
      "http://192.168.48.22:8082/repository/qa/Subcontractor_Management_Process.html\n",
      "http://192.168.48.22:8082/repository/qa/Subcontractor_Travel_Process.html\n",
      "http://192.168.48.22:8082/repository/qa/Quality_Process.html\n",
      "http://192.168.48.22:8082/repository/qa/Quality_Document_Management.html\n",
      "http://192.168.48.22:8082/repository/qa/Templates/Quality%20Management/Process_Template.html\n",
      "http://192.168.48.22:8082/repository/qa/Shipping_Receiving_Warehousing.html\n",
      "http://192.168.48.22:8082/repository/qa/Shipping_Process.html\n",
      "http://192.168.48.22:8082/repository/qa/Receiving_Process.html\n",
      "http://192.168.48.22:8082/repository/qa/Packaging_Process.html\n",
      "http://192.168.48.22:8082/repository/qa/Handling_Storage.html\n",
      "http://192.168.48.22:8082/repository/qa/Warranty_Inspection.html\n",
      "http://192.168.48.22:8082/repository/qa/Customer_Support_Data_Process.html\n",
      "http://192.168.48.22:8082/repository/qa/Facility_Access_Control_Policy.html\n",
      "http://192.168.48.22:8082/repository/qa/template_version_information.html\n"
     ]
    }
   ],
   "source": [
    "print(\"HTML:\")\n",
    "for link in html_links:\n",
    "    print(link)"
   ]
  },
  {
   "cell_type": "code",
   "execution_count": 9,
   "id": "834dda9a",
   "metadata": {
    "ExecuteTime": {
     "end_time": "2023-12-21T10:14:29.118297Z",
     "start_time": "2023-12-21T10:14:29.112917Z"
    }
   },
   "outputs": [
    {
     "data": {
      "text/plain": [
       "42"
      ]
     },
     "execution_count": 9,
     "metadata": {},
     "output_type": "execute_result"
    }
   ],
   "source": [
    "len(html_links)"
   ]
  },
  {
   "cell_type": "code",
   "execution_count": 10,
   "id": "3bb290b7",
   "metadata": {
    "ExecuteTime": {
     "end_time": "2023-12-21T10:14:29.124934Z",
     "start_time": "2023-12-21T10:14:29.121292Z"
    }
   },
   "outputs": [
    {
     "data": {
      "text/plain": [
       "25"
      ]
     },
     "execution_count": 10,
     "metadata": {},
     "output_type": "execute_result"
    }
   ],
   "source": [
    " len(pdf_links)"
   ]
  },
  {
   "cell_type": "code",
   "execution_count": 11,
   "id": "f1b510ea",
   "metadata": {
    "ExecuteTime": {
     "end_time": "2023-12-21T10:14:29.129436Z",
     "start_time": "2023-12-21T10:14:29.125931Z"
    }
   },
   "outputs": [
    {
     "data": {
      "text/plain": [
       "['http://192.168.48.22:8082/repository/qa/QMS.pdf',\n",
       " 'http://192.168.48.22:8082/repository/qa/Reference%20Documents/AFNOR_Certificate.pdf',\n",
       " 'http://192.168.48.22:8082/repository/qa/Reference%20Documents/ISO_9001_2015_Norme.pdf',\n",
       " 'http://192.168.48.22:8082/repository/qa/Reference%20Documents/BS_EN_ISO_9001_2015.pdf',\n",
       " 'http://192.168.48.22:8082/repository/qa/Reference%20Documents/Limit_of_Authority.pdf',\n",
       " 'http://192.168.48.22:8082/repository/qa/Templates/General/Kratos%20Style%20Guide.pdf',\n",
       " 'http://192.168.48.22:8082/repository/qa/Templates/Human%20Resources/N2F_Procedure.pdf',\n",
       " 'http://192.168.48.22:8082/repository/qa/Templates/Human%20Resources/N2F_FAQ.pdf',\n",
       " 'http://192.168.48.22:8082/repository/qa/Templates/Infrastructure/Note_d_information_vidéosurveillance.pdf',\n",
       " 'http://192.168.48.22:8082/repository/qa/Templates/Infrastructure/Note_d_information_Accès_par_badge.pdf',\n",
       " 'http://192.168.48.22:8082/repository/qa/Templates/Process/Process_Identification_Purchasing.pdf',\n",
       " 'http://192.168.48.22:8082/repository/qa/Templates/Process/Process_Identification_Management.pdf',\n",
       " 'http://192.168.48.22:8082/repository/qa/Training/QMS-Gitlab-Training.pdf',\n",
       " 'http://192.168.48.22:8082/repository/qa/Reference%20Documents/Kratos_Document_Unique.pdf',\n",
       " 'http://192.168.48.22:8082/repository/qa/Templates/HSE/Risques_Professionnels.pdf',\n",
       " 'http://192.168.48.22:8082/repository/qa/Templates/HSE/7_Note_Prévention_Covid_KC-HR-NS-0015.pdf',\n",
       " 'http://192.168.48.22:8082/repository/qa/Templates/HSE/7_Protocole_de_prise_en_charge_d_un_cas_COVID_V2.pdf',\n",
       " 'http://192.168.48.22:8082/repository/qa/Templates/Process/Process_Identification_Business_Management.pdf',\n",
       " 'http://192.168.48.22:8082/repository/qa/Templates/Process/Process_Identification_Operation_Management.pdf',\n",
       " 'http://192.168.48.22:8082/repository/qa/Templates/Process/Process_Identification_Management.pdf',\n",
       " 'http://192.168.48.22:8082/repository/qa/Templates/Process/Process_Identification_Shipping_Receiving.pdf',\n",
       " 'http://192.168.48.22:8082/repository/qa/Templates/Process/Process_Identification_Infrastructure.pdf',\n",
       " 'http://192.168.48.22:8082/repository/qa/Templates/Process/Process_Identification_Purchasing.pdf',\n",
       " 'http://192.168.48.22:8082/repository/qa/Templates/Process/Process_Identification_Contracts.pdf',\n",
       " 'http://192.168.48.22:8082/repository/qa/Templates/Process/Process_Identification_Human_Resources.pdf']"
      ]
     },
     "execution_count": 11,
     "metadata": {},
     "output_type": "execute_result"
    }
   ],
   "source": [
    "pdf_links"
   ]
  },
  {
   "cell_type": "markdown",
   "id": "402e3e1f",
   "metadata": {},
   "source": [
    "# Scrap content"
   ]
  },
  {
   "cell_type": "code",
   "execution_count": 12,
   "id": "4b59f068",
   "metadata": {
    "ExecuteTime": {
     "end_time": "2023-12-21T10:14:29.133382Z",
     "start_time": "2023-12-21T10:14:29.130438Z"
    }
   },
   "outputs": [],
   "source": [
    "def fetch_html_from_url(url):\n",
    "    response = requests.get(url)\n",
    "    response.encoding = 'utf-8'\n",
    "    response.raise_for_status()\n",
    "    return response.text"
   ]
  },
  {
   "cell_type": "code",
   "execution_count": 13,
   "id": "d28f5d28",
   "metadata": {
    "ExecuteTime": {
     "end_time": "2023-12-21T10:14:29.137674Z",
     "start_time": "2023-12-21T10:14:29.134383Z"
    }
   },
   "outputs": [],
   "source": [
    "def get_path(html_content, h='h1'):\n",
    "    html_content.split(f'</{h}>', 0)\n",
    "    soup = BeautifulSoup(html_content.split(f'</{h}>')[0], 'html.parser')\n",
    "    h_text = soup.find(f'{h}').text.replace(\"¶\", \"\")\n",
    "    return '/' + h_text"
   ]
  },
  {
   "cell_type": "code",
   "execution_count": 14,
   "id": "2dce2575",
   "metadata": {
    "ExecuteTime": {
     "end_time": "2023-12-21T10:14:29.148987Z",
     "start_time": "2023-12-21T10:14:29.138675Z"
    }
   },
   "outputs": [],
   "source": [
    "def scrape_content_from_page(html_content, source, file_path):\n",
    "    h1_split = html_content.split('<h1')\n",
    "    list_split = list()\n",
    "    list_path = list()\n",
    "    list_source = list()  # For storing the documentation source\n",
    "    list_file_path = list()\n",
    "    path = ''\n",
    " \n",
    "    for i, h1 in enumerate(h1_split):\n",
    "        if i > 0:\n",
    "            h1 = '<h1' + h1\n",
    "            result = path.split('/')[:1] \n",
    "            path = '/'.join(result)\n",
    "            path += get_path(h1, h='h1')      \n",
    " \n",
    "        h2_split = h1.split('<h2')\n",
    "        for j, h2 in enumerate(h2_split):\n",
    "            if j > 0:\n",
    "                h2 = '<h2' + h2\n",
    "                result = path.split('/')[:2] \n",
    "                path = '/'.join(result)\n",
    "                path += get_path(h2, h='h2')\n",
    "            h3_split = h2.split('<h3')\n",
    "            for k, h3 in enumerate(h3_split):\n",
    "                if k > 0:\n",
    "                    h3 = '<h3' + h3\n",
    "                    result = path.split('/')[:3] \n",
    "                    path = '/'.join(result)\n",
    "                    path += get_path(h3, h='h3')\n",
    " \n",
    "                h4_split = h3.split('<h4')\n",
    "                for l, h4 in enumerate(h4_split):\n",
    "                    if l > 0: \n",
    "                        h4 = '<h4' + h4\n",
    "                        result = path.split('/')[:4] \n",
    "                        path = '/'.join(result)\n",
    "                        path += get_path(h4, h='h4')    \n",
    " \n",
    "                    h5_split = h4.split('<h5')\n",
    "                    # Look for href in the html content to add it to the link\n",
    "                    regex_pattern = r'<h[1-6](.*?)<\\/h[1-6]>'\n",
    "                    header = re.search(regex_pattern, h5_split[0])\n",
    "                    if header:\n",
    "                        regex_pattern = r'href=\"#([^\"]*)\"'\n",
    "                        match_href = re.search(regex_pattern, header.group(1))\n",
    "                        regex_pattern = r'id=\"([^\"]*)\"'\n",
    "                        match_id = re.search(regex_pattern, header.group(1))\n",
    "                        if match_href:\n",
    "                            href = '#' + match_href.group(1)\n",
    "                        elif match_id:\n",
    "                            href = '#' + match_id.group(1)\n",
    "                        else:\n",
    "                            href = ''\n",
    "                    else:\n",
    "                        href = ''\n",
    "                    # get the text from html content\n",
    "                    soup = BeautifulSoup(h5_split[0].split('\\n', 1)[1], \"lxml\")\n",
    "                    h5_split = soup.get_text()\n",
    "                    list_split.append(h5_split)\n",
    "                    list_path.append(path)\n",
    "                    list_source.append(source)  # Add the documentation source for each content\n",
    "                    list_file_path.append(f'{file_path}{href}')\n",
    "    df = pd.DataFrame()\n",
    "    df['documentation'] = list_source  # Add the documentation source column\n",
    "    df['path'] = list_path\n",
    "    df['text'] = list_split\n",
    "    df['file_path'] = list_file_path  # adding local path to the df for each row\n",
    "    return df"
   ]
  },
  {
   "cell_type": "code",
   "execution_count": 15,
   "id": "a7d89d07",
   "metadata": {
    "ExecuteTime": {
     "end_time": "2023-12-21T10:14:29.155410Z",
     "start_time": "2023-12-21T10:14:29.149983Z"
    }
   },
   "outputs": [],
   "source": [
    "def process_links(site_config):\n",
    "    index_content = fetch_html_from_url(site_config['index_path'])\n",
    "    soup = BeautifulSoup(index_content, 'html.parser')\n",
    "    links = [a['href'] for a in soup.find_all('a', href=True) if a['href'].endswith('.html')]\n",
    "    \n",
    "    logging.info(f\"Found {len(links)} links to process for {site_config['documentation']}.\")\n",
    "    \n",
    "    data_frames = []\n",
    "    for link in links:\n",
    "        full_url = site_config['base_url'] + link  # Construct the full URL\n",
    "        try:\n",
    "            page_content = fetch_html_from_url(full_url)\n",
    "            df_temp = scrape_content_from_page(page_content, site_config['documentation'], full_url)\n",
    "            \n",
    "            # Check if df_temp is not empty or None\n",
    "            if df_temp is not None and not df_temp.empty:\n",
    "                data_frames.append(df_temp)\n",
    "            else:\n",
    "                logging.warning(f\"Empty dataframe returned from {full_url}.\")\n",
    "            \n",
    "        except Exception as e:\n",
    "            logging.error(f\"Error processing {full_url}: {e}\")\n",
    "    \n",
    "    logging.info(f\"Processed {len(data_frames)} dataframes for {site_config['documentation']}.\")\n",
    "    return data_frames\n"
   ]
  },
  {
   "cell_type": "code",
   "execution_count": 16,
   "id": "1d660a24",
   "metadata": {
    "ExecuteTime": {
     "end_time": "2023-12-21T10:14:29.160912Z",
     "start_time": "2023-12-21T10:14:29.156405Z"
    }
   },
   "outputs": [],
   "source": [
    "def process_links_from_list(links, documentation_label):\n",
    "    logging.info(f\"Found {len(links)} links to process for {documentation_label}.\")\n",
    "    \n",
    "    data_frames = []\n",
    "    for link in links:\n",
    "        try:\n",
    "            page_content = fetch_html_from_url(link)\n",
    "            df_temp = scrape_content_from_page(page_content, documentation_label, link)\n",
    "            \n",
    "            # Check if df_temp is not empty or None\n",
    "            if df_temp is not None and not df_temp.empty:\n",
    "                data_frames.append(df_temp)\n",
    "            else:\n",
    "                logging.warning(f\"Empty dataframe returned from {link}.\")\n",
    "            \n",
    "        except Exception as e:\n",
    "            logging.error(f\"Error processing {link}: {e}\")\n",
    "    \n",
    "    logging.info(f\"Processed {len(data_frames)} dataframes for {documentation_label}.\")\n",
    "    return data_frames"
   ]
  },
  {
   "cell_type": "markdown",
   "id": "ee1ed82e",
   "metadata": {},
   "source": [
    "# Scrape the Content and Store in a DataFrame:"
   ]
  },
  {
   "cell_type": "code",
   "execution_count": 17,
   "id": "f7a6fb9f",
   "metadata": {
    "ExecuteTime": {
     "end_time": "2023-12-21T10:14:29.164900Z",
     "start_time": "2023-12-21T10:14:29.161914Z"
    }
   },
   "outputs": [],
   "source": [
    "logging.basicConfig(level=logging.INFO)"
   ]
  },
  {
   "cell_type": "code",
   "execution_count": 18,
   "id": "12e7dff0",
   "metadata": {
    "ExecuteTime": {
     "end_time": "2023-12-21T10:14:29.816652Z",
     "start_time": "2023-12-21T10:14:29.165903Z"
    }
   },
   "outputs": [
    {
     "name": "stderr",
     "output_type": "stream",
     "text": [
      "INFO:root:Found 42 links to process for Quality Manual.\n",
      "ERROR:root:Error processing http://qms-toulouse.kratos.us/QMS.html: HTTPConnectionPool(host='qms-toulouse.kratos.us', port=80): Max retries exceeded with url: /QMS.html (Caused by NewConnectionError('<urllib3.connection.HTTPConnection object at 0x000001C78E30CE90>: Failed to establish a new connection: [Errno 11001] getaddrinfo failed'))\n",
      "ERROR:root:Error processing http://qms-toulouse.kratos.us/internal/internal-process.html: HTTPConnectionPool(host='qms-toulouse.kratos.us', port=80): Max retries exceeded with url: /internal/internal-process.html (Caused by NewConnectionError('<urllib3.connection.HTTPConnection object at 0x000001C78E30C910>: Failed to establish a new connection: [Errno 11001] getaddrinfo failed'))\n",
      "ERROR:root:Error processing http://192.168.48.22:8082/repository/qa/Work%20Instructions/WI_Project_Library.html: 404 Client Error: Work Instructions/WI_Project_Library.html for url: http://192.168.48.22:8082/repository/qa/Work%20Instructions/WI_Project_Library.html\n",
      "ERROR:root:Error processing http://192.168.48.22:8082/repository/qa/Templates/Quality%20Management/Process_Template.html: 404 Client Error: Templates/Quality Management/Process_Template.html for url: http://192.168.48.22:8082/repository/qa/Templates/Quality%20Management/Process_Template.html\n",
      "INFO:root:Processed 38 dataframes for Quality Manual.\n"
     ]
    }
   ],
   "source": [
    "# Process the links and extract content\n",
    "data_frames = process_links_from_list(html_links, \"Quality Manual\")"
   ]
  },
  {
   "cell_type": "code",
   "execution_count": 19,
   "id": "6ad6e302",
   "metadata": {
    "ExecuteTime": {
     "end_time": "2023-12-21T10:14:29.822040Z",
     "start_time": "2023-12-21T10:14:29.817653Z"
    }
   },
   "outputs": [],
   "source": [
    "# Combine the list of DataFrames into a single DataFrame\n",
    "df = pd.concat(data_frames, ignore_index=True)"
   ]
  },
  {
   "cell_type": "markdown",
   "id": "f7cfe99f",
   "metadata": {},
   "source": [
    "# Turn to DF"
   ]
  },
  {
   "cell_type": "code",
   "execution_count": 20,
   "id": "d727b9ef",
   "metadata": {
    "ExecuteTime": {
     "end_time": "2023-12-21T10:14:29.833203Z",
     "start_time": "2023-12-21T10:14:29.823042Z"
    },
    "scrolled": true
   },
   "outputs": [
    {
     "data": {
      "text/html": [
       "<div>\n",
       "<style scoped>\n",
       "    .dataframe tbody tr th:only-of-type {\n",
       "        vertical-align: middle;\n",
       "    }\n",
       "\n",
       "    .dataframe tbody tr th {\n",
       "        vertical-align: top;\n",
       "    }\n",
       "\n",
       "    .dataframe thead th {\n",
       "        text-align: right;\n",
       "    }\n",
       "</style>\n",
       "<table border=\"1\" class=\"dataframe\">\n",
       "  <thead>\n",
       "    <tr style=\"text-align: right;\">\n",
       "      <th></th>\n",
       "      <th>documentation</th>\n",
       "      <th>path</th>\n",
       "      <th>text</th>\n",
       "      <th>file_path</th>\n",
       "    </tr>\n",
       "  </thead>\n",
       "  <tbody>\n",
       "    <tr>\n",
       "      <th>0</th>\n",
       "      <td>Quality Manual</td>\n",
       "      <td></td>\n",
       "      <td>\\n\\n\\n\\n\\nQuality Management System\\n\\n\\n\\n\\n\\n\\n</td>\n",
       "      <td>http://192.168.48.22:8082/repository/qa/QMS.html</td>\n",
       "    </tr>\n",
       "    <tr>\n",
       "      <th>1</th>\n",
       "      <td>Quality Manual</td>\n",
       "      <td>/Quality Management System</td>\n",
       "      <td>\\n</td>\n",
       "      <td>http://192.168.48.22:8082/repository/qa/QMS.html</td>\n",
       "    </tr>\n",
       "    <tr>\n",
       "      <th>2</th>\n",
       "      <td>Quality Manual</td>\n",
       "      <td>/Quality Management System/\\nTable of Contents\\n</td>\n",
       "      <td>Table of Contents\\n\\n\\nIntroduction\\nQuality M...</td>\n",
       "      <td>http://192.168.48.22:8082/repository/qa/QMS.html</td>\n",
       "    </tr>\n",
       "    <tr>\n",
       "      <th>3</th>\n",
       "      <td>Quality Manual</td>\n",
       "      <td>/1 Introduction</td>\n",
       "      <td>Welcome to Kratos QMS\\nQuality Policy\\n\"Our go...</td>\n",
       "      <td>http://192.168.48.22:8082/repository/qa/QMS.ht...</td>\n",
       "    </tr>\n",
       "    <tr>\n",
       "      <th>4</th>\n",
       "      <td>Quality Manual</td>\n",
       "      <td>/2 Quality Management System</td>\n",
       "      <td>\\nKratos Communications SAS Quality Manual\\nKr...</td>\n",
       "      <td>http://192.168.48.22:8082/repository/qa/QMS.ht...</td>\n",
       "    </tr>\n",
       "    <tr>\n",
       "      <th>...</th>\n",
       "      <td>...</td>\n",
       "      <td>...</td>\n",
       "      <td>...</td>\n",
       "      <td>...</td>\n",
       "    </tr>\n",
       "    <tr>\n",
       "      <th>710</th>\n",
       "      <td>Quality Manual</td>\n",
       "      <td>/4 Records</td>\n",
       "      <td>\\n\\n\\nName\\nLocation\\nResponsability\\nMinimum ...</td>\n",
       "      <td>http://192.168.48.22:8082/repository/qa/Facili...</td>\n",
       "    </tr>\n",
       "    <tr>\n",
       "      <th>711</th>\n",
       "      <td>Quality Manual</td>\n",
       "      <td></td>\n",
       "      <td>\\n\\n\\n\\n\\nTemplate Version\\n\\n\\n\\n\\n\\n\\n</td>\n",
       "      <td>http://192.168.48.22:8082/repository/qa/templa...</td>\n",
       "    </tr>\n",
       "    <tr>\n",
       "      <th>712</th>\n",
       "      <td>Quality Manual</td>\n",
       "      <td>/Template Version</td>\n",
       "      <td>\\n</td>\n",
       "      <td>http://192.168.48.22:8082/repository/qa/templa...</td>\n",
       "    </tr>\n",
       "    <tr>\n",
       "      <th>713</th>\n",
       "      <td>Quality Manual</td>\n",
       "      <td>/Template Version/\\nTable of Contents\\n</td>\n",
       "      <td>Table of Contents\\n\\n\\nTemplate Version\\n\\n</td>\n",
       "      <td>http://192.168.48.22:8082/repository/qa/templa...</td>\n",
       "    </tr>\n",
       "    <tr>\n",
       "      <th>714</th>\n",
       "      <td>Quality Manual</td>\n",
       "      <td>/1 Template Version</td>\n",
       "      <td>\\n\\n\\n\\n\\n\\n\\n\\n\\nDocument name\\nVersion\\nModi...</td>\n",
       "      <td>http://192.168.48.22:8082/repository/qa/templa...</td>\n",
       "    </tr>\n",
       "  </tbody>\n",
       "</table>\n",
       "<p>715 rows × 4 columns</p>\n",
       "</div>"
      ],
      "text/plain": [
       "      documentation                                              path  \\\n",
       "0    Quality Manual                                                     \n",
       "1    Quality Manual                        /Quality Management System   \n",
       "2    Quality Manual  /Quality Management System/\\nTable of Contents\\n   \n",
       "3    Quality Manual                                   /1 Introduction   \n",
       "4    Quality Manual                      /2 Quality Management System   \n",
       "..              ...                                               ...   \n",
       "710  Quality Manual                                        /4 Records   \n",
       "711  Quality Manual                                                     \n",
       "712  Quality Manual                                 /Template Version   \n",
       "713  Quality Manual           /Template Version/\\nTable of Contents\\n   \n",
       "714  Quality Manual                               /1 Template Version   \n",
       "\n",
       "                                                  text  \\\n",
       "0    \\n\\n\\n\\n\\nQuality Management System\\n\\n\\n\\n\\n\\n\\n   \n",
       "1                                                   \\n   \n",
       "2    Table of Contents\\n\\n\\nIntroduction\\nQuality M...   \n",
       "3    Welcome to Kratos QMS\\nQuality Policy\\n\"Our go...   \n",
       "4    \\nKratos Communications SAS Quality Manual\\nKr...   \n",
       "..                                                 ...   \n",
       "710  \\n\\n\\nName\\nLocation\\nResponsability\\nMinimum ...   \n",
       "711           \\n\\n\\n\\n\\nTemplate Version\\n\\n\\n\\n\\n\\n\\n   \n",
       "712                                                 \\n   \n",
       "713        Table of Contents\\n\\n\\nTemplate Version\\n\\n   \n",
       "714  \\n\\n\\n\\n\\n\\n\\n\\n\\nDocument name\\nVersion\\nModi...   \n",
       "\n",
       "                                             file_path  \n",
       "0     http://192.168.48.22:8082/repository/qa/QMS.html  \n",
       "1     http://192.168.48.22:8082/repository/qa/QMS.html  \n",
       "2     http://192.168.48.22:8082/repository/qa/QMS.html  \n",
       "3    http://192.168.48.22:8082/repository/qa/QMS.ht...  \n",
       "4    http://192.168.48.22:8082/repository/qa/QMS.ht...  \n",
       "..                                                 ...  \n",
       "710  http://192.168.48.22:8082/repository/qa/Facili...  \n",
       "711  http://192.168.48.22:8082/repository/qa/templa...  \n",
       "712  http://192.168.48.22:8082/repository/qa/templa...  \n",
       "713  http://192.168.48.22:8082/repository/qa/templa...  \n",
       "714  http://192.168.48.22:8082/repository/qa/templa...  \n",
       "\n",
       "[715 rows x 4 columns]"
      ]
     },
     "execution_count": 20,
     "metadata": {},
     "output_type": "execute_result"
    }
   ],
   "source": [
    "df"
   ]
  },
  {
   "cell_type": "code",
   "execution_count": 21,
   "id": "25e2ec68",
   "metadata": {
    "ExecuteTime": {
     "end_time": "2023-12-21T10:14:29.838020Z",
     "start_time": "2023-12-21T10:14:29.834199Z"
    }
   },
   "outputs": [
    {
     "data": {
      "text/plain": [
       "'\\n\\n\\n\\n\\nQuality Management System\\n\\n\\n\\n\\n\\n\\n'"
      ]
     },
     "execution_count": 21,
     "metadata": {},
     "output_type": "execute_result"
    }
   ],
   "source": [
    "df.iloc[0,2]"
   ]
  },
  {
   "cell_type": "code",
   "execution_count": 22,
   "id": "35e3a0e7",
   "metadata": {
    "ExecuteTime": {
     "end_time": "2023-12-21T10:14:29.842695Z",
     "start_time": "2023-12-21T10:14:29.839017Z"
    }
   },
   "outputs": [
    {
     "data": {
      "text/plain": [
       "'Kratos management formally reviews the suitability, adequacy, and effectiveness of the QMS, and discusses opportunities for improvement. Management Review meetings are scheduled and conducted yearly.\\nThe management review will be holding once a year, after the completion of the fiscal year.\\nAn annual quality management audit plan is prepared by the Quality Manager and approved by the President of Kratos.\\n'"
      ]
     },
     "execution_count": 22,
     "metadata": {},
     "output_type": "execute_result"
    }
   ],
   "source": [
    "df.iloc[89,2]"
   ]
  },
  {
   "cell_type": "code",
   "execution_count": 23,
   "id": "8c05ba82",
   "metadata": {
    "ExecuteTime": {
     "end_time": "2023-12-21T10:14:29.847693Z",
     "start_time": "2023-12-21T10:14:29.843692Z"
    }
   },
   "outputs": [
    {
     "data": {
      "text/plain": [
       "'\\n\\nShould you use ChatGPT or similar Assistant ?\\n\\nYES !!! At least try - These are awesome tools !\\nBUT YOU ARE RESPONSIBLE :\\n\\nNEVER publish confidential or company proprietary information (Same as for any online platform): discussions with the assistant are not our property\\nNEVER blindly take an answer as THE right one\\n\\nErrors are common and difficult to spot in answers – check the validity\\nGenerated code snippets may be someone else’s IP – don’t reuse blindly\\n\\n\\n\\n\\n\\n'"
      ]
     },
     "execution_count": 23,
     "metadata": {},
     "output_type": "execute_result"
    }
   ],
   "source": [
    "df.iloc[336,2]"
   ]
  },
  {
   "cell_type": "markdown",
   "id": "440daa1f",
   "metadata": {},
   "source": [
    "# Clean data"
   ]
  },
  {
   "cell_type": "code",
   "execution_count": 24,
   "id": "9ad986ef",
   "metadata": {
    "ExecuteTime": {
     "end_time": "2023-12-21T10:14:29.853694Z",
     "start_time": "2023-12-21T10:14:29.848693Z"
    }
   },
   "outputs": [],
   "source": [
    "def clean_text(text):\n",
    "    # Whitespace normalization\n",
    "    text = ' '.join(text.split())\n",
    "    \n",
    "    # Handling newline characters to create a visual separation\n",
    "    text = text.replace('\\n', ' ')\n",
    "\n",
    "    # Handle LaTeX math expressions: This step can be enhanced further based on specific needs\n",
    "    # The idea here is to isolate math expressions so that they don't get affected by other cleaning operations\n",
    "    math_expressions = re.findall(r'\\\\\\(.*?\\\\\\)', text)\n",
    "    for math_expr in math_expressions:\n",
    "        placeholder = math_expr.replace(' ', '_')\n",
    "        text = text.replace(math_expr, placeholder)\n",
    "\n",
    "    # Removing unwanted characters like ¶\n",
    "    text = text.replace('¶', '')\n",
    "\n",
    "    # Punctuation spacing: Ensure spaces before and after punctuation\n",
    "    text = re.sub(r'(?<=[\\w])([.,;:!?\\(\\)\\[\\]])', r' \\1', text)\n",
    "    text = re.sub(r'([.,;:!?\\(\\)\\[\\]])(?=[\\w])', r'\\1 ', text)\n",
    "\n",
    "    # Replace back the LaTeX math expressions\n",
    "    for math_expr in math_expressions:\n",
    "        placeholder = math_expr.replace(' ', '_')\n",
    "        text = text.replace(placeholder, math_expr)\n",
    "\n",
    "    \n",
    "    return text"
   ]
  },
  {
   "cell_type": "code",
   "execution_count": 25,
   "id": "8503ddd1",
   "metadata": {
    "ExecuteTime": {
     "end_time": "2023-12-21T10:14:29.889541Z",
     "start_time": "2023-12-21T10:14:29.856696Z"
    }
   },
   "outputs": [],
   "source": [
    "# Apply this function to the entire 'content' column\n",
    "df['text'] = df['text'].apply(clean_text)"
   ]
  },
  {
   "cell_type": "code",
   "execution_count": 26,
   "id": "0fa6429c",
   "metadata": {
    "ExecuteTime": {
     "end_time": "2023-12-21T10:14:29.894612Z",
     "start_time": "2023-12-21T10:14:29.890543Z"
    }
   },
   "outputs": [
    {
     "data": {
      "text/plain": [
       "'Quality Management System'"
      ]
     },
     "execution_count": 26,
     "metadata": {},
     "output_type": "execute_result"
    }
   ],
   "source": [
    "df['text'].iloc[0]"
   ]
  },
  {
   "cell_type": "code",
   "execution_count": 27,
   "id": "6f228f8f",
   "metadata": {
    "ExecuteTime": {
     "end_time": "2023-12-21T10:14:29.900855Z",
     "start_time": "2023-12-21T10:14:29.897608Z"
    }
   },
   "outputs": [
    {
     "data": {
      "text/plain": [
       "'Kratos management formally reviews the suitability , adequacy , and effectiveness of the QMS , and discusses opportunities for improvement . Management Review meetings are scheduled and conducted yearly . The management review will be holding once a year , after the completion of the fiscal year . An annual quality management audit plan is prepared by the Quality Manager and approved by the President of Kratos .'"
      ]
     },
     "execution_count": 27,
     "metadata": {},
     "output_type": "execute_result"
    }
   ],
   "source": [
    "df['text'].iloc[89]"
   ]
  },
  {
   "cell_type": "code",
   "execution_count": 28,
   "id": "8ba74520",
   "metadata": {
    "ExecuteTime": {
     "end_time": "2023-12-21T10:14:29.905956Z",
     "start_time": "2023-12-21T10:14:29.901829Z"
    }
   },
   "outputs": [
    {
     "data": {
      "text/plain": [
       "'Should you use ChatGPT or similar Assistant ? YES !!! At least try - These are awesome tools ! BUT YOU ARE RESPONSIBLE : NEVER publish confidential or company proprietary information ( Same as for any online platform ): discussions with the assistant are not our property NEVER blindly take an answer as THE right one Errors are common and difficult to spot in answers – check the validity Generated code snippets may be someone else’s IP – don’t reuse blindly'"
      ]
     },
     "execution_count": 28,
     "metadata": {},
     "output_type": "execute_result"
    }
   ],
   "source": [
    "df['text'].iloc[336]"
   ]
  },
  {
   "cell_type": "code",
   "execution_count": 29,
   "id": "87b0a411",
   "metadata": {
    "ExecuteTime": {
     "end_time": "2023-12-21T10:14:29.911315Z",
     "start_time": "2023-12-21T10:14:29.906949Z"
    }
   },
   "outputs": [
    {
     "data": {
      "text/plain": [
       "'Docker : GLOBAL : ( HTTP ) 192 . 168 . 48 . 22 : 8084 ( custom images + all proxies below in that order ) Custom : ( HTTP ) 192 . 168 . 48 . 22 : 8083 ( hosted custom images only ) We usually use it in CI/CD variables in GitLab ( we may not use this nexus instance forever ; IP address will change one day ).'"
      ]
     },
     "execution_count": 29,
     "metadata": {},
     "output_type": "execute_result"
    }
   ],
   "source": [
    "df['text'].iloc[400]"
   ]
  },
  {
   "cell_type": "markdown",
   "id": "bc5452ea",
   "metadata": {},
   "source": [
    "# Format size for emebddings"
   ]
  },
  {
   "cell_type": "code",
   "execution_count": 30,
   "id": "5f9c06a4",
   "metadata": {
    "ExecuteTime": {
     "end_time": "2023-12-21T10:14:30.098545Z",
     "start_time": "2023-12-21T10:14:30.091268Z"
    }
   },
   "outputs": [],
   "source": [
    "df['word_count'] = df['text'].apply(lambda x: len(x.split()))"
   ]
  },
  {
   "cell_type": "code",
   "execution_count": 31,
   "id": "bf64bb94",
   "metadata": {
    "ExecuteTime": {
     "end_time": "2023-12-21T10:14:30.300419Z",
     "start_time": "2023-12-21T10:14:30.295675Z"
    }
   },
   "outputs": [
    {
     "data": {
      "text/plain": [
       "documentation                                       Quality Manual\n",
       "path             /5 Chapter 1 – The basics/5.8 Development envi...\n",
       "text             Should you use ChatGPT or similar Assistant ? ...\n",
       "file_path        http://192.168.48.22:8082/repository/qa/Softwa...\n",
       "word_count                                                      81\n",
       "Name: 336, dtype: object"
      ]
     },
     "execution_count": 31,
     "metadata": {},
     "output_type": "execute_result"
    }
   ],
   "source": [
    "df.iloc[336]"
   ]
  },
  {
   "cell_type": "code",
   "execution_count": 32,
   "id": "7111555e",
   "metadata": {
    "ExecuteTime": {
     "end_time": "2023-12-21T10:14:30.757247Z",
     "start_time": "2023-12-21T10:14:30.492593Z"
    }
   },
   "outputs": [
    {
     "name": "stderr",
     "output_type": "stream",
     "text": [
      "C:\\Users\\Nathan\\anaconda3\\envs\\Html_embeddings\\Lib\\site-packages\\seaborn\\_oldcore.py:1498: FutureWarning: is_categorical_dtype is deprecated and will be removed in a future version. Use isinstance(dtype, CategoricalDtype) instead\n",
      "  if pd.api.types.is_categorical_dtype(vector):\n",
      "C:\\Users\\Nathan\\anaconda3\\envs\\Html_embeddings\\Lib\\site-packages\\seaborn\\_oldcore.py:1119: FutureWarning: use_inf_as_na option is deprecated and will be removed in a future version. Convert inf values to NaN before operating instead.\n",
      "  with pd.option_context('mode.use_inf_as_na', True):\n"
     ]
    },
    {
     "data": {
      "image/png": "[encoded data removed]",
      "text/plain": [
       "<Figure size 1000x600 with 1 Axes>"
      ]
     },
     "metadata": {},
     "output_type": "display_data"
    }
   ],
   "source": [
    "# Set Seaborn style\n",
    "sns.set_style('whitegrid')\n",
    "\n",
    "plt.figure(figsize=(10, 6))\n",
    "sns.histplot(df['word_count'], bins=50, kde=True, color='skyblue')\n",
    "plt.title('Distribution of Word Counts in Content')\n",
    "plt.xlabel('Word Count')\n",
    "plt.ylabel('Number of Entries')\n",
    "plt.show()"
   ]
  },
  {
   "cell_type": "code",
   "execution_count": 33,
   "id": "e0647559",
   "metadata": {
    "ExecuteTime": {
     "end_time": "2023-12-21T10:14:31.261524Z",
     "start_time": "2023-12-21T10:14:30.758249Z"
    },
    "scrolled": false
   },
   "outputs": [
    {
     "name": "stderr",
     "output_type": "stream",
     "text": [
      "C:\\Users\\Nathan\\anaconda3\\envs\\Html_embeddings\\Lib\\site-packages\\seaborn\\_oldcore.py:1498: FutureWarning: is_categorical_dtype is deprecated and will be removed in a future version. Use isinstance(dtype, CategoricalDtype) instead\n",
      "  if pd.api.types.is_categorical_dtype(vector):\n",
      "C:\\Users\\Nathan\\anaconda3\\envs\\Html_embeddings\\Lib\\site-packages\\seaborn\\_oldcore.py:1119: FutureWarning: use_inf_as_na option is deprecated and will be removed in a future version. Convert inf values to NaN before operating instead.\n",
      "  with pd.option_context('mode.use_inf_as_na', True):\n"
     ]
    },
    {
     "data": {
      "image/png": "[encoded data removed]",
      "text/plain": [
       "<Figure size 1000x600 with 1 Axes>"
      ]
     },
     "metadata": {},
     "output_type": "display_data"
    }
   ],
   "source": [
    "plt.figure(figsize=(10, 6))\n",
    "sns.histplot(df['word_count'], bins=50, kde=True, color='skyblue')\n",
    "plt.xscale('log')\n",
    "plt.title('Distribution of Word Counts in Content (Logarithmic Scale)')\n",
    "plt.xlabel('Word Count (Log Scale)')\n",
    "plt.ylabel('Number of Entries')\n",
    "plt.show()"
   ]
  },
  {
   "cell_type": "markdown",
   "id": "3739d285",
   "metadata": {},
   "source": [
    "# Data exploration"
   ]
  },
  {
   "cell_type": "code",
   "execution_count": 34,
   "id": "51e25627",
   "metadata": {
    "ExecuteTime": {
     "end_time": "2023-12-21T10:14:31.270898Z",
     "start_time": "2023-12-21T10:14:31.262527Z"
    }
   },
   "outputs": [
    {
     "data": {
      "text/html": [
       "<div>\n",
       "<style scoped>\n",
       "    .dataframe tbody tr th:only-of-type {\n",
       "        vertical-align: middle;\n",
       "    }\n",
       "\n",
       "    .dataframe tbody tr th {\n",
       "        vertical-align: top;\n",
       "    }\n",
       "\n",
       "    .dataframe thead th {\n",
       "        text-align: right;\n",
       "    }\n",
       "</style>\n",
       "<table border=\"1\" class=\"dataframe\">\n",
       "  <thead>\n",
       "    <tr style=\"text-align: right;\">\n",
       "      <th></th>\n",
       "      <th>documentation</th>\n",
       "      <th>path</th>\n",
       "      <th>text</th>\n",
       "      <th>file_path</th>\n",
       "      <th>word_count</th>\n",
       "    </tr>\n",
       "  </thead>\n",
       "  <tbody>\n",
       "    <tr>\n",
       "      <th>0</th>\n",
       "      <td>Quality Manual</td>\n",
       "      <td></td>\n",
       "      <td>Quality Management System</td>\n",
       "      <td>http://192.168.48.22:8082/repository/qa/QMS.html</td>\n",
       "      <td>3</td>\n",
       "    </tr>\n",
       "    <tr>\n",
       "      <th>1</th>\n",
       "      <td>Quality Manual</td>\n",
       "      <td>/Quality Management System</td>\n",
       "      <td></td>\n",
       "      <td>http://192.168.48.22:8082/repository/qa/QMS.html</td>\n",
       "      <td>0</td>\n",
       "    </tr>\n",
       "    <tr>\n",
       "      <th>2</th>\n",
       "      <td>Quality Manual</td>\n",
       "      <td>/Quality Management System/\\nTable of Contents\\n</td>\n",
       "      <td>Table of Contents Introduction Quality Managem...</td>\n",
       "      <td>http://192.168.48.22:8082/repository/qa/QMS.html</td>\n",
       "      <td>40</td>\n",
       "    </tr>\n",
       "    <tr>\n",
       "      <th>3</th>\n",
       "      <td>Quality Manual</td>\n",
       "      <td>/1 Introduction</td>\n",
       "      <td>Welcome to Kratos QMS Quality Policy \"Our goal...</td>\n",
       "      <td>http://192.168.48.22:8082/repository/qa/QMS.ht...</td>\n",
       "      <td>62</td>\n",
       "    </tr>\n",
       "    <tr>\n",
       "      <th>4</th>\n",
       "      <td>Quality Manual</td>\n",
       "      <td>/2 Quality Management System</td>\n",
       "      <td>Kratos Communications SAS Quality Manual Krato...</td>\n",
       "      <td>http://192.168.48.22:8082/repository/qa/QMS.ht...</td>\n",
       "      <td>33</td>\n",
       "    </tr>\n",
       "    <tr>\n",
       "      <th>...</th>\n",
       "      <td>...</td>\n",
       "      <td>...</td>\n",
       "      <td>...</td>\n",
       "      <td>...</td>\n",
       "      <td>...</td>\n",
       "    </tr>\n",
       "    <tr>\n",
       "      <th>710</th>\n",
       "      <td>Quality Manual</td>\n",
       "      <td>/4 Records</td>\n",
       "      <td>Name Location Responsability Minimum Backup Fr...</td>\n",
       "      <td>http://192.168.48.22:8082/repository/qa/Facili...</td>\n",
       "      <td>61</td>\n",
       "    </tr>\n",
       "    <tr>\n",
       "      <th>711</th>\n",
       "      <td>Quality Manual</td>\n",
       "      <td></td>\n",
       "      <td>Template Version</td>\n",
       "      <td>http://192.168.48.22:8082/repository/qa/templa...</td>\n",
       "      <td>2</td>\n",
       "    </tr>\n",
       "    <tr>\n",
       "      <th>712</th>\n",
       "      <td>Quality Manual</td>\n",
       "      <td>/Template Version</td>\n",
       "      <td></td>\n",
       "      <td>http://192.168.48.22:8082/repository/qa/templa...</td>\n",
       "      <td>0</td>\n",
       "    </tr>\n",
       "    <tr>\n",
       "      <th>713</th>\n",
       "      <td>Quality Manual</td>\n",
       "      <td>/Template Version/\\nTable of Contents\\n</td>\n",
       "      <td>Table of Contents Template Version</td>\n",
       "      <td>http://192.168.48.22:8082/repository/qa/templa...</td>\n",
       "      <td>5</td>\n",
       "    </tr>\n",
       "    <tr>\n",
       "      <th>714</th>\n",
       "      <td>Quality Manual</td>\n",
       "      <td>/1 Template Version</td>\n",
       "      <td>Document name Version Modification date Path A...</td>\n",
       "      <td>http://192.168.48.22:8082/repository/qa/templa...</td>\n",
       "      <td>934</td>\n",
       "    </tr>\n",
       "  </tbody>\n",
       "</table>\n",
       "<p>715 rows × 5 columns</p>\n",
       "</div>"
      ],
      "text/plain": [
       "      documentation                                              path  \\\n",
       "0    Quality Manual                                                     \n",
       "1    Quality Manual                        /Quality Management System   \n",
       "2    Quality Manual  /Quality Management System/\\nTable of Contents\\n   \n",
       "3    Quality Manual                                   /1 Introduction   \n",
       "4    Quality Manual                      /2 Quality Management System   \n",
       "..              ...                                               ...   \n",
       "710  Quality Manual                                        /4 Records   \n",
       "711  Quality Manual                                                     \n",
       "712  Quality Manual                                 /Template Version   \n",
       "713  Quality Manual           /Template Version/\\nTable of Contents\\n   \n",
       "714  Quality Manual                               /1 Template Version   \n",
       "\n",
       "                                                  text  \\\n",
       "0                            Quality Management System   \n",
       "1                                                        \n",
       "2    Table of Contents Introduction Quality Managem...   \n",
       "3    Welcome to Kratos QMS Quality Policy \"Our goal...   \n",
       "4    Kratos Communications SAS Quality Manual Krato...   \n",
       "..                                                 ...   \n",
       "710  Name Location Responsability Minimum Backup Fr...   \n",
       "711                                   Template Version   \n",
       "712                                                      \n",
       "713                 Table of Contents Template Version   \n",
       "714  Document name Version Modification date Path A...   \n",
       "\n",
       "                                             file_path  word_count  \n",
       "0     http://192.168.48.22:8082/repository/qa/QMS.html           3  \n",
       "1     http://192.168.48.22:8082/repository/qa/QMS.html           0  \n",
       "2     http://192.168.48.22:8082/repository/qa/QMS.html          40  \n",
       "3    http://192.168.48.22:8082/repository/qa/QMS.ht...          62  \n",
       "4    http://192.168.48.22:8082/repository/qa/QMS.ht...          33  \n",
       "..                                                 ...         ...  \n",
       "710  http://192.168.48.22:8082/repository/qa/Facili...          61  \n",
       "711  http://192.168.48.22:8082/repository/qa/templa...           2  \n",
       "712  http://192.168.48.22:8082/repository/qa/templa...           0  \n",
       "713  http://192.168.48.22:8082/repository/qa/templa...           5  \n",
       "714  http://192.168.48.22:8082/repository/qa/templa...         934  \n",
       "\n",
       "[715 rows x 5 columns]"
      ]
     },
     "execution_count": 34,
     "metadata": {},
     "output_type": "execute_result"
    }
   ],
   "source": [
    "df"
   ]
  },
  {
   "cell_type": "markdown",
   "id": "c8bb9e8b",
   "metadata": {},
   "source": [
    "## Remove empty "
   ]
  },
  {
   "cell_type": "code",
   "execution_count": 35,
   "id": "171508af",
   "metadata": {
    "ExecuteTime": {
     "end_time": "2023-12-21T10:14:31.571599Z",
     "start_time": "2023-12-21T10:14:31.567217Z"
    }
   },
   "outputs": [],
   "source": [
    "# Check for NaN or empty values in 'path' column\n",
    "empty_path = df[df['path'].isna() | (df['path'].str.strip() == '')]"
   ]
  },
  {
   "cell_type": "code",
   "execution_count": 36,
   "id": "cc087b9f",
   "metadata": {
    "ExecuteTime": {
     "end_time": "2023-12-21T10:14:31.773083Z",
     "start_time": "2023-12-21T10:14:31.769829Z"
    }
   },
   "outputs": [
    {
     "data": {
      "text/plain": [
       "38"
      ]
     },
     "execution_count": 36,
     "metadata": {},
     "output_type": "execute_result"
    }
   ],
   "source": [
    "len(empty_path)"
   ]
  },
  {
   "cell_type": "code",
   "execution_count": 37,
   "id": "1e05a240",
   "metadata": {
    "ExecuteTime": {
     "end_time": "2023-12-21T10:14:31.983250Z",
     "start_time": "2023-12-21T10:14:31.972648Z"
    }
   },
   "outputs": [
    {
     "data": {
      "text/html": [
       "<div>\n",
       "<style scoped>\n",
       "    .dataframe tbody tr th:only-of-type {\n",
       "        vertical-align: middle;\n",
       "    }\n",
       "\n",
       "    .dataframe tbody tr th {\n",
       "        vertical-align: top;\n",
       "    }\n",
       "\n",
       "    .dataframe thead th {\n",
       "        text-align: right;\n",
       "    }\n",
       "</style>\n",
       "<table border=\"1\" class=\"dataframe\">\n",
       "  <thead>\n",
       "    <tr style=\"text-align: right;\">\n",
       "      <th></th>\n",
       "      <th>documentation</th>\n",
       "      <th>path</th>\n",
       "      <th>text</th>\n",
       "      <th>file_path</th>\n",
       "      <th>word_count</th>\n",
       "    </tr>\n",
       "  </thead>\n",
       "  <tbody>\n",
       "    <tr>\n",
       "      <th>0</th>\n",
       "      <td>Quality Manual</td>\n",
       "      <td></td>\n",
       "      <td>Quality Management System</td>\n",
       "      <td>http://192.168.48.22:8082/repository/qa/QMS.html</td>\n",
       "      <td>3</td>\n",
       "    </tr>\n",
       "    <tr>\n",
       "      <th>20</th>\n",
       "      <td>Quality Manual</td>\n",
       "      <td></td>\n",
       "      <td>Quality Manual</td>\n",
       "      <td>http://192.168.48.22:8082/repository/qa/Qualit...</td>\n",
       "      <td>2</td>\n",
       "    </tr>\n",
       "    <tr>\n",
       "      <th>96</th>\n",
       "      <td>Quality Manual</td>\n",
       "      <td></td>\n",
       "      <td>Kratos Communications SAS Organization note</td>\n",
       "      <td>http://192.168.48.22:8082/repository/qa/Kratos...</td>\n",
       "      <td>5</td>\n",
       "    </tr>\n",
       "    <tr>\n",
       "      <th>132</th>\n",
       "      <td>Quality Manual</td>\n",
       "      <td></td>\n",
       "      <td>Kratos Diagram</td>\n",
       "      <td>http://192.168.48.22:8082/repository/qa/Kratos...</td>\n",
       "      <td>2</td>\n",
       "    </tr>\n",
       "    <tr>\n",
       "      <th>138</th>\n",
       "      <td>Quality Manual</td>\n",
       "      <td></td>\n",
       "      <td>Document Management Process</td>\n",
       "      <td>http://192.168.48.22:8082/repository/qa/Docume...</td>\n",
       "      <td>3</td>\n",
       "    </tr>\n",
       "    <tr>\n",
       "      <th>157</th>\n",
       "      <td>Quality Manual</td>\n",
       "      <td></td>\n",
       "      <td>Document Publication</td>\n",
       "      <td>http://192.168.48.22:8082/repository/qa/Docume...</td>\n",
       "      <td>2</td>\n",
       "    </tr>\n",
       "    <tr>\n",
       "      <th>165</th>\n",
       "      <td>Quality Manual</td>\n",
       "      <td></td>\n",
       "      <td>Human Resources</td>\n",
       "      <td>http://192.168.48.22:8082/repository/qa/Human_...</td>\n",
       "      <td>2</td>\n",
       "    </tr>\n",
       "    <tr>\n",
       "      <th>171</th>\n",
       "      <td>Quality Manual</td>\n",
       "      <td></td>\n",
       "      <td>Account Management</td>\n",
       "      <td>http://192.168.48.22:8082/repository/qa/Accoun...</td>\n",
       "      <td>2</td>\n",
       "    </tr>\n",
       "    <tr>\n",
       "      <th>184</th>\n",
       "      <td>Quality Manual</td>\n",
       "      <td></td>\n",
       "      <td>Infrastructure</td>\n",
       "      <td>http://192.168.48.22:8082/repository/qa/Infras...</td>\n",
       "      <td>1</td>\n",
       "    </tr>\n",
       "    <tr>\n",
       "      <th>211</th>\n",
       "      <td>Quality Manual</td>\n",
       "      <td></td>\n",
       "      <td>Project Folder Organization</td>\n",
       "      <td>http://192.168.48.22:8082/repository/qa/Projec...</td>\n",
       "      <td>3</td>\n",
       "    </tr>\n",
       "    <tr>\n",
       "      <th>250</th>\n",
       "      <td>Quality Manual</td>\n",
       "      <td></td>\n",
       "      <td>Configuration Management</td>\n",
       "      <td>http://192.168.48.22:8082/repository/qa/Config...</td>\n",
       "      <td>2</td>\n",
       "    </tr>\n",
       "    <tr>\n",
       "      <th>265</th>\n",
       "      <td>Quality Manual</td>\n",
       "      <td></td>\n",
       "      <td>Configuration Management for Projects</td>\n",
       "      <td>http://192.168.48.22:8082/repository/qa/Config...</td>\n",
       "      <td>4</td>\n",
       "    </tr>\n",
       "    <tr>\n",
       "      <th>297</th>\n",
       "      <td>Quality Manual</td>\n",
       "      <td></td>\n",
       "      <td>Software Developers’ Guide</td>\n",
       "      <td>http://192.168.48.22:8082/repository/qa/Softwa...</td>\n",
       "      <td>3</td>\n",
       "    </tr>\n",
       "    <tr>\n",
       "      <th>406</th>\n",
       "      <td>Quality Manual</td>\n",
       "      <td></td>\n",
       "      <td>Customer Property</td>\n",
       "      <td>http://192.168.48.22:8082/repository/qa/Custom...</td>\n",
       "      <td>2</td>\n",
       "    </tr>\n",
       "    <tr>\n",
       "      <th>412</th>\n",
       "      <td>Quality Manual</td>\n",
       "      <td></td>\n",
       "      <td>Project Steps</td>\n",
       "      <td>http://192.168.48.22:8082/repository/knowledge...</td>\n",
       "      <td>2</td>\n",
       "    </tr>\n",
       "    <tr>\n",
       "      <th>426</th>\n",
       "      <td>Quality Manual</td>\n",
       "      <td></td>\n",
       "      <td>Non Conformance Management</td>\n",
       "      <td>http://192.168.48.22:8082/repository/qa/Non_Co...</td>\n",
       "      <td>3</td>\n",
       "    </tr>\n",
       "    <tr>\n",
       "      <th>446</th>\n",
       "      <td>Quality Manual</td>\n",
       "      <td></td>\n",
       "      <td>Proposals and Contracts Process</td>\n",
       "      <td>http://192.168.48.22:8082/repository/qa/Propos...</td>\n",
       "      <td>4</td>\n",
       "    </tr>\n",
       "    <tr>\n",
       "      <th>451</th>\n",
       "      <td>Quality Manual</td>\n",
       "      <td></td>\n",
       "      <td>Proposals Process</td>\n",
       "      <td>http://192.168.48.22:8082/repository/qa/Propos...</td>\n",
       "      <td>2</td>\n",
       "    </tr>\n",
       "    <tr>\n",
       "      <th>461</th>\n",
       "      <td>Quality Manual</td>\n",
       "      <td></td>\n",
       "      <td>Bank Guarantees</td>\n",
       "      <td>http://192.168.48.22:8082/repository/qa/Bank_G...</td>\n",
       "      <td>2</td>\n",
       "    </tr>\n",
       "    <tr>\n",
       "      <th>470</th>\n",
       "      <td>Quality Manual</td>\n",
       "      <td></td>\n",
       "      <td>Contracts and Purchase Orders Review Process</td>\n",
       "      <td>http://192.168.48.22:8082/repository/qa/Contra...</td>\n",
       "      <td>6</td>\n",
       "    </tr>\n",
       "    <tr>\n",
       "      <th>498</th>\n",
       "      <td>Quality Manual</td>\n",
       "      <td></td>\n",
       "      <td>Change Management Process</td>\n",
       "      <td>http://192.168.48.22:8082/repository/qa/Change...</td>\n",
       "      <td>3</td>\n",
       "    </tr>\n",
       "    <tr>\n",
       "      <th>511</th>\n",
       "      <td>Quality Manual</td>\n",
       "      <td></td>\n",
       "      <td>Purchasing Process</td>\n",
       "      <td>http://192.168.48.22:8082/repository/qa/Purcha...</td>\n",
       "      <td>2</td>\n",
       "    </tr>\n",
       "    <tr>\n",
       "      <th>544</th>\n",
       "      <td>Quality Manual</td>\n",
       "      <td></td>\n",
       "      <td>Purchase Request Procedure</td>\n",
       "      <td>http://192.168.48.22:8082/repository/qa/Purcha...</td>\n",
       "      <td>3</td>\n",
       "    </tr>\n",
       "    <tr>\n",
       "      <th>552</th>\n",
       "      <td>Quality Manual</td>\n",
       "      <td></td>\n",
       "      <td>Vendor Evaluation Process</td>\n",
       "      <td>http://192.168.48.22:8082/repository/qa/Vendor...</td>\n",
       "      <td>3</td>\n",
       "    </tr>\n",
       "    <tr>\n",
       "      <th>568</th>\n",
       "      <td>Quality Manual</td>\n",
       "      <td></td>\n",
       "      <td>Purchase Order Procedure</td>\n",
       "      <td>http://192.168.48.22:8082/repository/qa/Purcha...</td>\n",
       "      <td>3</td>\n",
       "    </tr>\n",
       "    <tr>\n",
       "      <th>573</th>\n",
       "      <td>Quality Manual</td>\n",
       "      <td></td>\n",
       "      <td>Subcontractor Management Process</td>\n",
       "      <td>http://192.168.48.22:8082/repository/qa/Subcon...</td>\n",
       "      <td>3</td>\n",
       "    </tr>\n",
       "    <tr>\n",
       "      <th>584</th>\n",
       "      <td>Quality Manual</td>\n",
       "      <td></td>\n",
       "      <td>Subcontractor Travel Process</td>\n",
       "      <td>http://192.168.48.22:8082/repository/qa/Subcon...</td>\n",
       "      <td>3</td>\n",
       "    </tr>\n",
       "    <tr>\n",
       "      <th>589</th>\n",
       "      <td>Quality Manual</td>\n",
       "      <td></td>\n",
       "      <td>Quality Process</td>\n",
       "      <td>http://192.168.48.22:8082/repository/qa/Qualit...</td>\n",
       "      <td>2</td>\n",
       "    </tr>\n",
       "    <tr>\n",
       "      <th>605</th>\n",
       "      <td>Quality Manual</td>\n",
       "      <td></td>\n",
       "      <td>Quality Document Management Process</td>\n",
       "      <td>http://192.168.48.22:8082/repository/qa/Qualit...</td>\n",
       "      <td>4</td>\n",
       "    </tr>\n",
       "    <tr>\n",
       "      <th>614</th>\n",
       "      <td>Quality Manual</td>\n",
       "      <td></td>\n",
       "      <td>Shipping , Receiving and Warehousing Process</td>\n",
       "      <td>http://192.168.48.22:8082/repository/qa/Shippi...</td>\n",
       "      <td>6</td>\n",
       "    </tr>\n",
       "    <tr>\n",
       "      <th>619</th>\n",
       "      <td>Quality Manual</td>\n",
       "      <td></td>\n",
       "      <td>Shipping Process</td>\n",
       "      <td>http://192.168.48.22:8082/repository/qa/Shippi...</td>\n",
       "      <td>2</td>\n",
       "    </tr>\n",
       "    <tr>\n",
       "      <th>634</th>\n",
       "      <td>Quality Manual</td>\n",
       "      <td></td>\n",
       "      <td>Receiving Process</td>\n",
       "      <td>http://192.168.48.22:8082/repository/qa/Receiv...</td>\n",
       "      <td>2</td>\n",
       "    </tr>\n",
       "    <tr>\n",
       "      <th>646</th>\n",
       "      <td>Quality Manual</td>\n",
       "      <td></td>\n",
       "      <td>Packaging Process</td>\n",
       "      <td>http://192.168.48.22:8082/repository/qa/Packag...</td>\n",
       "      <td>2</td>\n",
       "    </tr>\n",
       "    <tr>\n",
       "      <th>651</th>\n",
       "      <td>Quality Manual</td>\n",
       "      <td></td>\n",
       "      <td>Handling and Storage Process</td>\n",
       "      <td>http://192.168.48.22:8082/repository/qa/Handli...</td>\n",
       "      <td>4</td>\n",
       "    </tr>\n",
       "    <tr>\n",
       "      <th>665</th>\n",
       "      <td>Quality Manual</td>\n",
       "      <td></td>\n",
       "      <td>Warranty Inspection</td>\n",
       "      <td>http://192.168.48.22:8082/repository/qa/Warran...</td>\n",
       "      <td>2</td>\n",
       "    </tr>\n",
       "    <tr>\n",
       "      <th>676</th>\n",
       "      <td>Quality Manual</td>\n",
       "      <td></td>\n",
       "      <td>Customer Support Data Process</td>\n",
       "      <td>http://192.168.48.22:8082/repository/qa/Custom...</td>\n",
       "      <td>4</td>\n",
       "    </tr>\n",
       "    <tr>\n",
       "      <th>690</th>\n",
       "      <td>Quality Manual</td>\n",
       "      <td></td>\n",
       "      <td>Facility Access Control Policy</td>\n",
       "      <td>http://192.168.48.22:8082/repository/qa/Facili...</td>\n",
       "      <td>4</td>\n",
       "    </tr>\n",
       "    <tr>\n",
       "      <th>711</th>\n",
       "      <td>Quality Manual</td>\n",
       "      <td></td>\n",
       "      <td>Template Version</td>\n",
       "      <td>http://192.168.48.22:8082/repository/qa/templa...</td>\n",
       "      <td>2</td>\n",
       "    </tr>\n",
       "  </tbody>\n",
       "</table>\n",
       "</div>"
      ],
      "text/plain": [
       "      documentation path                                          text  \\\n",
       "0    Quality Manual                          Quality Management System   \n",
       "20   Quality Manual                                     Quality Manual   \n",
       "96   Quality Manual        Kratos Communications SAS Organization note   \n",
       "132  Quality Manual                                     Kratos Diagram   \n",
       "138  Quality Manual                        Document Management Process   \n",
       "157  Quality Manual                               Document Publication   \n",
       "165  Quality Manual                                    Human Resources   \n",
       "171  Quality Manual                                 Account Management   \n",
       "184  Quality Manual                                     Infrastructure   \n",
       "211  Quality Manual                        Project Folder Organization   \n",
       "250  Quality Manual                           Configuration Management   \n",
       "265  Quality Manual              Configuration Management for Projects   \n",
       "297  Quality Manual                         Software Developers’ Guide   \n",
       "406  Quality Manual                                  Customer Property   \n",
       "412  Quality Manual                                      Project Steps   \n",
       "426  Quality Manual                         Non Conformance Management   \n",
       "446  Quality Manual                    Proposals and Contracts Process   \n",
       "451  Quality Manual                                  Proposals Process   \n",
       "461  Quality Manual                                    Bank Guarantees   \n",
       "470  Quality Manual       Contracts and Purchase Orders Review Process   \n",
       "498  Quality Manual                          Change Management Process   \n",
       "511  Quality Manual                                 Purchasing Process   \n",
       "544  Quality Manual                         Purchase Request Procedure   \n",
       "552  Quality Manual                          Vendor Evaluation Process   \n",
       "568  Quality Manual                           Purchase Order Procedure   \n",
       "573  Quality Manual                   Subcontractor Management Process   \n",
       "584  Quality Manual                       Subcontractor Travel Process   \n",
       "589  Quality Manual                                    Quality Process   \n",
       "605  Quality Manual                Quality Document Management Process   \n",
       "614  Quality Manual       Shipping , Receiving and Warehousing Process   \n",
       "619  Quality Manual                                   Shipping Process   \n",
       "634  Quality Manual                                  Receiving Process   \n",
       "646  Quality Manual                                  Packaging Process   \n",
       "651  Quality Manual                       Handling and Storage Process   \n",
       "665  Quality Manual                                Warranty Inspection   \n",
       "676  Quality Manual                      Customer Support Data Process   \n",
       "690  Quality Manual                     Facility Access Control Policy   \n",
       "711  Quality Manual                                   Template Version   \n",
       "\n",
       "                                             file_path  word_count  \n",
       "0     http://192.168.48.22:8082/repository/qa/QMS.html           3  \n",
       "20   http://192.168.48.22:8082/repository/qa/Qualit...           2  \n",
       "96   http://192.168.48.22:8082/repository/qa/Kratos...           5  \n",
       "132  http://192.168.48.22:8082/repository/qa/Kratos...           2  \n",
       "138  http://192.168.48.22:8082/repository/qa/Docume...           3  \n",
       "157  http://192.168.48.22:8082/repository/qa/Docume...           2  \n",
       "165  http://192.168.48.22:8082/repository/qa/Human_...           2  \n",
       "171  http://192.168.48.22:8082/repository/qa/Accoun...           2  \n",
       "184  http://192.168.48.22:8082/repository/qa/Infras...           1  \n",
       "211  http://192.168.48.22:8082/repository/qa/Projec...           3  \n",
       "250  http://192.168.48.22:8082/repository/qa/Config...           2  \n",
       "265  http://192.168.48.22:8082/repository/qa/Config...           4  \n",
       "297  http://192.168.48.22:8082/repository/qa/Softwa...           3  \n",
       "406  http://192.168.48.22:8082/repository/qa/Custom...           2  \n",
       "412  http://192.168.48.22:8082/repository/knowledge...           2  \n",
       "426  http://192.168.48.22:8082/repository/qa/Non_Co...           3  \n",
       "446  http://192.168.48.22:8082/repository/qa/Propos...           4  \n",
       "451  http://192.168.48.22:8082/repository/qa/Propos...           2  \n",
       "461  http://192.168.48.22:8082/repository/qa/Bank_G...           2  \n",
       "470  http://192.168.48.22:8082/repository/qa/Contra...           6  \n",
       "498  http://192.168.48.22:8082/repository/qa/Change...           3  \n",
       "511  http://192.168.48.22:8082/repository/qa/Purcha...           2  \n",
       "544  http://192.168.48.22:8082/repository/qa/Purcha...           3  \n",
       "552  http://192.168.48.22:8082/repository/qa/Vendor...           3  \n",
       "568  http://192.168.48.22:8082/repository/qa/Purcha...           3  \n",
       "573  http://192.168.48.22:8082/repository/qa/Subcon...           3  \n",
       "584  http://192.168.48.22:8082/repository/qa/Subcon...           3  \n",
       "589  http://192.168.48.22:8082/repository/qa/Qualit...           2  \n",
       "605  http://192.168.48.22:8082/repository/qa/Qualit...           4  \n",
       "614  http://192.168.48.22:8082/repository/qa/Shippi...           6  \n",
       "619  http://192.168.48.22:8082/repository/qa/Shippi...           2  \n",
       "634  http://192.168.48.22:8082/repository/qa/Receiv...           2  \n",
       "646  http://192.168.48.22:8082/repository/qa/Packag...           2  \n",
       "651  http://192.168.48.22:8082/repository/qa/Handli...           4  \n",
       "665  http://192.168.48.22:8082/repository/qa/Warran...           2  \n",
       "676  http://192.168.48.22:8082/repository/qa/Custom...           4  \n",
       "690  http://192.168.48.22:8082/repository/qa/Facili...           4  \n",
       "711  http://192.168.48.22:8082/repository/qa/templa...           2  "
      ]
     },
     "execution_count": 37,
     "metadata": {},
     "output_type": "execute_result"
    }
   ],
   "source": [
    "empty_path"
   ]
  },
  {
   "cell_type": "code",
   "execution_count": 38,
   "id": "64a78c07",
   "metadata": {
    "ExecuteTime": {
     "end_time": "2023-12-21T10:14:32.188591Z",
     "start_time": "2023-12-21T10:14:32.183856Z"
    }
   },
   "outputs": [
    {
     "data": {
      "text/plain": [
       "120"
      ]
     },
     "execution_count": 38,
     "metadata": {},
     "output_type": "execute_result"
    }
   ],
   "source": [
    "# Check for NaN or empty values in 'text' column\n",
    "empty_text = df[df['text'].isna() | (df['text'].str.strip() == '')]\n",
    "len(empty_text)"
   ]
  },
  {
   "cell_type": "code",
   "execution_count": 39,
   "id": "2e7873e5",
   "metadata": {
    "ExecuteTime": {
     "end_time": "2023-12-21T10:14:32.428427Z",
     "start_time": "2023-12-21T10:14:32.420187Z"
    }
   },
   "outputs": [
    {
     "data": {
      "text/html": [
       "<div>\n",
       "<style scoped>\n",
       "    .dataframe tbody tr th:only-of-type {\n",
       "        vertical-align: middle;\n",
       "    }\n",
       "\n",
       "    .dataframe tbody tr th {\n",
       "        vertical-align: top;\n",
       "    }\n",
       "\n",
       "    .dataframe thead th {\n",
       "        text-align: right;\n",
       "    }\n",
       "</style>\n",
       "<table border=\"1\" class=\"dataframe\">\n",
       "  <thead>\n",
       "    <tr style=\"text-align: right;\">\n",
       "      <th></th>\n",
       "      <th>documentation</th>\n",
       "      <th>path</th>\n",
       "      <th>text</th>\n",
       "      <th>file_path</th>\n",
       "      <th>word_count</th>\n",
       "    </tr>\n",
       "  </thead>\n",
       "  <tbody>\n",
       "    <tr>\n",
       "      <th>1</th>\n",
       "      <td>Quality Manual</td>\n",
       "      <td>/Quality Management System</td>\n",
       "      <td></td>\n",
       "      <td>http://192.168.48.22:8082/repository/qa/QMS.html</td>\n",
       "      <td>0</td>\n",
       "    </tr>\n",
       "    <tr>\n",
       "      <th>6</th>\n",
       "      <td>Quality Manual</td>\n",
       "      <td>/4 List of Processes</td>\n",
       "      <td></td>\n",
       "      <td>http://192.168.48.22:8082/repository/qa/QMS.ht...</td>\n",
       "      <td>0</td>\n",
       "    </tr>\n",
       "    <tr>\n",
       "      <th>21</th>\n",
       "      <td>Quality Manual</td>\n",
       "      <td>/Quality Manual</td>\n",
       "      <td></td>\n",
       "      <td>http://192.168.48.22:8082/repository/qa/Qualit...</td>\n",
       "      <td>0</td>\n",
       "    </tr>\n",
       "    <tr>\n",
       "      <th>35</th>\n",
       "      <td>Quality Manual</td>\n",
       "      <td>/5 Leadership</td>\n",
       "      <td></td>\n",
       "      <td>http://192.168.48.22:8082/repository/qa/Qualit...</td>\n",
       "      <td>0</td>\n",
       "    </tr>\n",
       "    <tr>\n",
       "      <th>36</th>\n",
       "      <td>Quality Manual</td>\n",
       "      <td>/5 Leadership/5.1 Leadership and Commitment</td>\n",
       "      <td></td>\n",
       "      <td>http://192.168.48.22:8082/repository/qa/Qualit...</td>\n",
       "      <td>0</td>\n",
       "    </tr>\n",
       "    <tr>\n",
       "      <th>...</th>\n",
       "      <td>...</td>\n",
       "      <td>...</td>\n",
       "      <td>...</td>\n",
       "      <td>...</td>\n",
       "      <td>...</td>\n",
       "    </tr>\n",
       "    <tr>\n",
       "      <th>691</th>\n",
       "      <td>Quality Manual</td>\n",
       "      <td>/Facility Access Control Policy</td>\n",
       "      <td></td>\n",
       "      <td>http://192.168.48.22:8082/repository/qa/Facili...</td>\n",
       "      <td>0</td>\n",
       "    </tr>\n",
       "    <tr>\n",
       "      <th>694</th>\n",
       "      <td>Quality Manual</td>\n",
       "      <td>/2 Process</td>\n",
       "      <td></td>\n",
       "      <td>http://192.168.48.22:8082/repository/qa/Facili...</td>\n",
       "      <td>0</td>\n",
       "    </tr>\n",
       "    <tr>\n",
       "      <th>695</th>\n",
       "      <td>Quality Manual</td>\n",
       "      <td>/2 Process/2.1 People Identification</td>\n",
       "      <td></td>\n",
       "      <td>http://192.168.48.22:8082/repository/qa/Facili...</td>\n",
       "      <td>0</td>\n",
       "    </tr>\n",
       "    <tr>\n",
       "      <th>708</th>\n",
       "      <td>Quality Manual</td>\n",
       "      <td>/3 Emergency cases</td>\n",
       "      <td></td>\n",
       "      <td>http://192.168.48.22:8082/repository/qa/Facili...</td>\n",
       "      <td>0</td>\n",
       "    </tr>\n",
       "    <tr>\n",
       "      <th>712</th>\n",
       "      <td>Quality Manual</td>\n",
       "      <td>/Template Version</td>\n",
       "      <td></td>\n",
       "      <td>http://192.168.48.22:8082/repository/qa/templa...</td>\n",
       "      <td>0</td>\n",
       "    </tr>\n",
       "  </tbody>\n",
       "</table>\n",
       "<p>120 rows × 5 columns</p>\n",
       "</div>"
      ],
      "text/plain": [
       "      documentation                                         path text  \\\n",
       "1    Quality Manual                   /Quality Management System        \n",
       "6    Quality Manual                         /4 List of Processes        \n",
       "21   Quality Manual                              /Quality Manual        \n",
       "35   Quality Manual                                /5 Leadership        \n",
       "36   Quality Manual  /5 Leadership/5.1 Leadership and Commitment        \n",
       "..              ...                                          ...  ...   \n",
       "691  Quality Manual              /Facility Access Control Policy        \n",
       "694  Quality Manual                                   /2 Process        \n",
       "695  Quality Manual         /2 Process/2.1 People Identification        \n",
       "708  Quality Manual                           /3 Emergency cases        \n",
       "712  Quality Manual                            /Template Version        \n",
       "\n",
       "                                             file_path  word_count  \n",
       "1     http://192.168.48.22:8082/repository/qa/QMS.html           0  \n",
       "6    http://192.168.48.22:8082/repository/qa/QMS.ht...           0  \n",
       "21   http://192.168.48.22:8082/repository/qa/Qualit...           0  \n",
       "35   http://192.168.48.22:8082/repository/qa/Qualit...           0  \n",
       "36   http://192.168.48.22:8082/repository/qa/Qualit...           0  \n",
       "..                                                 ...         ...  \n",
       "691  http://192.168.48.22:8082/repository/qa/Facili...           0  \n",
       "694  http://192.168.48.22:8082/repository/qa/Facili...           0  \n",
       "695  http://192.168.48.22:8082/repository/qa/Facili...           0  \n",
       "708  http://192.168.48.22:8082/repository/qa/Facili...           0  \n",
       "712  http://192.168.48.22:8082/repository/qa/templa...           0  \n",
       "\n",
       "[120 rows x 5 columns]"
      ]
     },
     "execution_count": 39,
     "metadata": {},
     "output_type": "execute_result"
    }
   ],
   "source": [
    "empty_text"
   ]
  },
  {
   "cell_type": "code",
   "execution_count": 40,
   "id": "9093ee8e",
   "metadata": {
    "ExecuteTime": {
     "end_time": "2023-12-21T10:14:32.635215Z",
     "start_time": "2023-12-21T10:14:32.630670Z"
    }
   },
   "outputs": [],
   "source": [
    "# Drop the rows with NaN or empty values from the main DataFrame\n",
    "df = df.drop(empty_path.index)\n",
    "df = df.drop(empty_text.index)\n",
    "# Reset the index after dropping rows, if desired\n",
    "df = df.reset_index(drop=True)"
   ]
  },
  {
   "cell_type": "code",
   "execution_count": 41,
   "id": "6b7654cc",
   "metadata": {
    "ExecuteTime": {
     "end_time": "2023-12-21T10:14:32.842002Z",
     "start_time": "2023-12-21T10:14:32.833136Z"
    },
    "scrolled": true
   },
   "outputs": [
    {
     "data": {
      "text/html": [
       "<div>\n",
       "<style scoped>\n",
       "    .dataframe tbody tr th:only-of-type {\n",
       "        vertical-align: middle;\n",
       "    }\n",
       "\n",
       "    .dataframe tbody tr th {\n",
       "        vertical-align: top;\n",
       "    }\n",
       "\n",
       "    .dataframe thead th {\n",
       "        text-align: right;\n",
       "    }\n",
       "</style>\n",
       "<table border=\"1\" class=\"dataframe\">\n",
       "  <thead>\n",
       "    <tr style=\"text-align: right;\">\n",
       "      <th></th>\n",
       "      <th>documentation</th>\n",
       "      <th>path</th>\n",
       "      <th>text</th>\n",
       "      <th>file_path</th>\n",
       "      <th>word_count</th>\n",
       "    </tr>\n",
       "  </thead>\n",
       "  <tbody>\n",
       "    <tr>\n",
       "      <th>0</th>\n",
       "      <td>Quality Manual</td>\n",
       "      <td>/Quality Management System/\\nTable of Contents\\n</td>\n",
       "      <td>Table of Contents Introduction Quality Managem...</td>\n",
       "      <td>http://192.168.48.22:8082/repository/qa/QMS.html</td>\n",
       "      <td>40</td>\n",
       "    </tr>\n",
       "    <tr>\n",
       "      <th>1</th>\n",
       "      <td>Quality Manual</td>\n",
       "      <td>/1 Introduction</td>\n",
       "      <td>Welcome to Kratos QMS Quality Policy \"Our goal...</td>\n",
       "      <td>http://192.168.48.22:8082/repository/qa/QMS.ht...</td>\n",
       "      <td>62</td>\n",
       "    </tr>\n",
       "    <tr>\n",
       "      <th>2</th>\n",
       "      <td>Quality Manual</td>\n",
       "      <td>/2 Quality Management System</td>\n",
       "      <td>Kratos Communications SAS Quality Manual Krato...</td>\n",
       "      <td>http://192.168.48.22:8082/repository/qa/QMS.ht...</td>\n",
       "      <td>33</td>\n",
       "    </tr>\n",
       "    <tr>\n",
       "      <th>3</th>\n",
       "      <td>Quality Manual</td>\n",
       "      <td>/3 Reference Documents</td>\n",
       "      <td>ISO 9001 - Systèmes de management de la qualit...</td>\n",
       "      <td>http://192.168.48.22:8082/repository/qa/QMS.ht...</td>\n",
       "      <td>23</td>\n",
       "    </tr>\n",
       "    <tr>\n",
       "      <th>4</th>\n",
       "      <td>Quality Manual</td>\n",
       "      <td>/4 List of Processes/4.1 Documents</td>\n",
       "      <td>Process Template Document Management Product-P...</td>\n",
       "      <td>http://192.168.48.22:8082/repository/qa/QMS.ht...</td>\n",
       "      <td>26</td>\n",
       "    </tr>\n",
       "    <tr>\n",
       "      <th>...</th>\n",
       "      <td>...</td>\n",
       "      <td>...</td>\n",
       "      <td>...</td>\n",
       "      <td>...</td>\n",
       "      <td>...</td>\n",
       "    </tr>\n",
       "    <tr>\n",
       "      <th>552</th>\n",
       "      <td>Quality Manual</td>\n",
       "      <td>/2 Process/2.4 Restricted rooms, first floor/2...</td>\n",
       "      <td>The FSO organizes an annual review of the acce...</td>\n",
       "      <td>http://192.168.48.22:8082/repository/qa/Facili...</td>\n",
       "      <td>56</td>\n",
       "    </tr>\n",
       "    <tr>\n",
       "      <th>553</th>\n",
       "      <td>Quality Manual</td>\n",
       "      <td>/3 Emergency cases/3.1 General emergency</td>\n",
       "      <td>In case of emergencies , in particular emergen...</td>\n",
       "      <td>http://192.168.48.22:8082/repository/qa/Facili...</td>\n",
       "      <td>112</td>\n",
       "    </tr>\n",
       "    <tr>\n",
       "      <th>554</th>\n",
       "      <td>Quality Manual</td>\n",
       "      <td>/4 Records</td>\n",
       "      <td>Name Location Responsability Minimum Backup Fr...</td>\n",
       "      <td>http://192.168.48.22:8082/repository/qa/Facili...</td>\n",
       "      <td>61</td>\n",
       "    </tr>\n",
       "    <tr>\n",
       "      <th>555</th>\n",
       "      <td>Quality Manual</td>\n",
       "      <td>/Template Version/\\nTable of Contents\\n</td>\n",
       "      <td>Table of Contents Template Version</td>\n",
       "      <td>http://192.168.48.22:8082/repository/qa/templa...</td>\n",
       "      <td>5</td>\n",
       "    </tr>\n",
       "    <tr>\n",
       "      <th>556</th>\n",
       "      <td>Quality Manual</td>\n",
       "      <td>/1 Template Version</td>\n",
       "      <td>Document name Version Modification date Path A...</td>\n",
       "      <td>http://192.168.48.22:8082/repository/qa/templa...</td>\n",
       "      <td>934</td>\n",
       "    </tr>\n",
       "  </tbody>\n",
       "</table>\n",
       "<p>557 rows × 5 columns</p>\n",
       "</div>"
      ],
      "text/plain": [
       "      documentation                                               path  \\\n",
       "0    Quality Manual   /Quality Management System/\\nTable of Contents\\n   \n",
       "1    Quality Manual                                    /1 Introduction   \n",
       "2    Quality Manual                       /2 Quality Management System   \n",
       "3    Quality Manual                             /3 Reference Documents   \n",
       "4    Quality Manual                 /4 List of Processes/4.1 Documents   \n",
       "..              ...                                                ...   \n",
       "552  Quality Manual  /2 Process/2.4 Restricted rooms, first floor/2...   \n",
       "553  Quality Manual           /3 Emergency cases/3.1 General emergency   \n",
       "554  Quality Manual                                         /4 Records   \n",
       "555  Quality Manual            /Template Version/\\nTable of Contents\\n   \n",
       "556  Quality Manual                                /1 Template Version   \n",
       "\n",
       "                                                  text  \\\n",
       "0    Table of Contents Introduction Quality Managem...   \n",
       "1    Welcome to Kratos QMS Quality Policy \"Our goal...   \n",
       "2    Kratos Communications SAS Quality Manual Krato...   \n",
       "3    ISO 9001 - Systèmes de management de la qualit...   \n",
       "4    Process Template Document Management Product-P...   \n",
       "..                                                 ...   \n",
       "552  The FSO organizes an annual review of the acce...   \n",
       "553  In case of emergencies , in particular emergen...   \n",
       "554  Name Location Responsability Minimum Backup Fr...   \n",
       "555                 Table of Contents Template Version   \n",
       "556  Document name Version Modification date Path A...   \n",
       "\n",
       "                                             file_path  word_count  \n",
       "0     http://192.168.48.22:8082/repository/qa/QMS.html          40  \n",
       "1    http://192.168.48.22:8082/repository/qa/QMS.ht...          62  \n",
       "2    http://192.168.48.22:8082/repository/qa/QMS.ht...          33  \n",
       "3    http://192.168.48.22:8082/repository/qa/QMS.ht...          23  \n",
       "4    http://192.168.48.22:8082/repository/qa/QMS.ht...          26  \n",
       "..                                                 ...         ...  \n",
       "552  http://192.168.48.22:8082/repository/qa/Facili...          56  \n",
       "553  http://192.168.48.22:8082/repository/qa/Facili...         112  \n",
       "554  http://192.168.48.22:8082/repository/qa/Facili...          61  \n",
       "555  http://192.168.48.22:8082/repository/qa/templa...           5  \n",
       "556  http://192.168.48.22:8082/repository/qa/templa...         934  \n",
       "\n",
       "[557 rows x 5 columns]"
      ]
     },
     "execution_count": 41,
     "metadata": {},
     "output_type": "execute_result"
    }
   ],
   "source": [
    "df"
   ]
  },
  {
   "cell_type": "code",
   "execution_count": 42,
   "id": "ae8a5a15",
   "metadata": {
    "ExecuteTime": {
     "end_time": "2023-12-21T10:14:33.032639Z",
     "start_time": "2023-12-21T10:14:33.028749Z"
    }
   },
   "outputs": [
    {
     "data": {
      "text/plain": [
       "'http://192.168.48.22:8082/repository/qa/QMS.html#reference-documents'"
      ]
     },
     "execution_count": 42,
     "metadata": {},
     "output_type": "execute_result"
    }
   ],
   "source": [
    "df.iloc[3,3]"
   ]
  },
  {
   "cell_type": "markdown",
   "id": "0d1f80f2",
   "metadata": {},
   "source": [
    "## Remove Table of content"
   ]
  },
  {
   "cell_type": "code",
   "execution_count": 43,
   "id": "991fdd19",
   "metadata": {
    "ExecuteTime": {
     "end_time": "2023-12-21T10:14:33.431178Z",
     "start_time": "2023-12-21T10:14:33.425136Z"
    }
   },
   "outputs": [
    {
     "data": {
      "text/plain": [
       "519"
      ]
     },
     "execution_count": 43,
     "metadata": {},
     "output_type": "execute_result"
    }
   ],
   "source": [
    "# Filter rows where 'path' contains 'Table of Contents'\n",
    "df = df[~df['path'].str.contains('Table of Contents', na=False, case=False)]\n",
    "df = df.reset_index(drop=True)\n",
    "len(df)"
   ]
  },
  {
   "cell_type": "code",
   "execution_count": 44,
   "id": "b74537ae",
   "metadata": {
    "ExecuteTime": {
     "end_time": "2023-12-21T10:14:33.676959Z",
     "start_time": "2023-12-21T10:14:33.669524Z"
    }
   },
   "outputs": [
    {
     "data": {
      "text/html": [
       "<div>\n",
       "<style scoped>\n",
       "    .dataframe tbody tr th:only-of-type {\n",
       "        vertical-align: middle;\n",
       "    }\n",
       "\n",
       "    .dataframe tbody tr th {\n",
       "        vertical-align: top;\n",
       "    }\n",
       "\n",
       "    .dataframe thead th {\n",
       "        text-align: right;\n",
       "    }\n",
       "</style>\n",
       "<table border=\"1\" class=\"dataframe\">\n",
       "  <thead>\n",
       "    <tr style=\"text-align: right;\">\n",
       "      <th></th>\n",
       "      <th>documentation</th>\n",
       "      <th>path</th>\n",
       "      <th>text</th>\n",
       "      <th>file_path</th>\n",
       "      <th>word_count</th>\n",
       "    </tr>\n",
       "  </thead>\n",
       "  <tbody>\n",
       "    <tr>\n",
       "      <th>0</th>\n",
       "      <td>Quality Manual</td>\n",
       "      <td>/1 Introduction</td>\n",
       "      <td>Welcome to Kratos QMS Quality Policy \"Our goal...</td>\n",
       "      <td>http://192.168.48.22:8082/repository/qa/QMS.ht...</td>\n",
       "      <td>62</td>\n",
       "    </tr>\n",
       "    <tr>\n",
       "      <th>1</th>\n",
       "      <td>Quality Manual</td>\n",
       "      <td>/2 Quality Management System</td>\n",
       "      <td>Kratos Communications SAS Quality Manual Krato...</td>\n",
       "      <td>http://192.168.48.22:8082/repository/qa/QMS.ht...</td>\n",
       "      <td>33</td>\n",
       "    </tr>\n",
       "    <tr>\n",
       "      <th>2</th>\n",
       "      <td>Quality Manual</td>\n",
       "      <td>/3 Reference Documents</td>\n",
       "      <td>ISO 9001 - Systèmes de management de la qualit...</td>\n",
       "      <td>http://192.168.48.22:8082/repository/qa/QMS.ht...</td>\n",
       "      <td>23</td>\n",
       "    </tr>\n",
       "    <tr>\n",
       "      <th>3</th>\n",
       "      <td>Quality Manual</td>\n",
       "      <td>/4 List of Processes/4.1 Documents</td>\n",
       "      <td>Process Template Document Management Product-P...</td>\n",
       "      <td>http://192.168.48.22:8082/repository/qa/QMS.ht...</td>\n",
       "      <td>26</td>\n",
       "    </tr>\n",
       "    <tr>\n",
       "      <th>4</th>\n",
       "      <td>Quality Manual</td>\n",
       "      <td>/4 List of Processes/4.2 Human Resources</td>\n",
       "      <td>Process Template Work Instructions Human Resou...</td>\n",
       "      <td>http://192.168.48.22:8082/repository/qa/QMS.ht...</td>\n",
       "      <td>37</td>\n",
       "    </tr>\n",
       "    <tr>\n",
       "      <th>...</th>\n",
       "      <td>...</td>\n",
       "      <td>...</td>\n",
       "      <td>...</td>\n",
       "      <td>...</td>\n",
       "      <td>...</td>\n",
       "    </tr>\n",
       "    <tr>\n",
       "      <th>514</th>\n",
       "      <td>Quality Manual</td>\n",
       "      <td>/2 Process/2.4 Restricted rooms, first floor</td>\n",
       "      <td>Access to certain rooms is limited by a code l...</td>\n",
       "      <td>http://192.168.48.22:8082/repository/qa/Facili...</td>\n",
       "      <td>85</td>\n",
       "    </tr>\n",
       "    <tr>\n",
       "      <th>515</th>\n",
       "      <td>Quality Manual</td>\n",
       "      <td>/2 Process/2.4 Restricted rooms, first floor/2...</td>\n",
       "      <td>The FSO organizes an annual review of the acce...</td>\n",
       "      <td>http://192.168.48.22:8082/repository/qa/Facili...</td>\n",
       "      <td>56</td>\n",
       "    </tr>\n",
       "    <tr>\n",
       "      <th>516</th>\n",
       "      <td>Quality Manual</td>\n",
       "      <td>/3 Emergency cases/3.1 General emergency</td>\n",
       "      <td>In case of emergencies , in particular emergen...</td>\n",
       "      <td>http://192.168.48.22:8082/repository/qa/Facili...</td>\n",
       "      <td>112</td>\n",
       "    </tr>\n",
       "    <tr>\n",
       "      <th>517</th>\n",
       "      <td>Quality Manual</td>\n",
       "      <td>/4 Records</td>\n",
       "      <td>Name Location Responsability Minimum Backup Fr...</td>\n",
       "      <td>http://192.168.48.22:8082/repository/qa/Facili...</td>\n",
       "      <td>61</td>\n",
       "    </tr>\n",
       "    <tr>\n",
       "      <th>518</th>\n",
       "      <td>Quality Manual</td>\n",
       "      <td>/1 Template Version</td>\n",
       "      <td>Document name Version Modification date Path A...</td>\n",
       "      <td>http://192.168.48.22:8082/repository/qa/templa...</td>\n",
       "      <td>934</td>\n",
       "    </tr>\n",
       "  </tbody>\n",
       "</table>\n",
       "<p>519 rows × 5 columns</p>\n",
       "</div>"
      ],
      "text/plain": [
       "      documentation                                               path  \\\n",
       "0    Quality Manual                                    /1 Introduction   \n",
       "1    Quality Manual                       /2 Quality Management System   \n",
       "2    Quality Manual                             /3 Reference Documents   \n",
       "3    Quality Manual                 /4 List of Processes/4.1 Documents   \n",
       "4    Quality Manual           /4 List of Processes/4.2 Human Resources   \n",
       "..              ...                                                ...   \n",
       "514  Quality Manual       /2 Process/2.4 Restricted rooms, first floor   \n",
       "515  Quality Manual  /2 Process/2.4 Restricted rooms, first floor/2...   \n",
       "516  Quality Manual           /3 Emergency cases/3.1 General emergency   \n",
       "517  Quality Manual                                         /4 Records   \n",
       "518  Quality Manual                                /1 Template Version   \n",
       "\n",
       "                                                  text  \\\n",
       "0    Welcome to Kratos QMS Quality Policy \"Our goal...   \n",
       "1    Kratos Communications SAS Quality Manual Krato...   \n",
       "2    ISO 9001 - Systèmes de management de la qualit...   \n",
       "3    Process Template Document Management Product-P...   \n",
       "4    Process Template Work Instructions Human Resou...   \n",
       "..                                                 ...   \n",
       "514  Access to certain rooms is limited by a code l...   \n",
       "515  The FSO organizes an annual review of the acce...   \n",
       "516  In case of emergencies , in particular emergen...   \n",
       "517  Name Location Responsability Minimum Backup Fr...   \n",
       "518  Document name Version Modification date Path A...   \n",
       "\n",
       "                                             file_path  word_count  \n",
       "0    http://192.168.48.22:8082/repository/qa/QMS.ht...          62  \n",
       "1    http://192.168.48.22:8082/repository/qa/QMS.ht...          33  \n",
       "2    http://192.168.48.22:8082/repository/qa/QMS.ht...          23  \n",
       "3    http://192.168.48.22:8082/repository/qa/QMS.ht...          26  \n",
       "4    http://192.168.48.22:8082/repository/qa/QMS.ht...          37  \n",
       "..                                                 ...         ...  \n",
       "514  http://192.168.48.22:8082/repository/qa/Facili...          85  \n",
       "515  http://192.168.48.22:8082/repository/qa/Facili...          56  \n",
       "516  http://192.168.48.22:8082/repository/qa/Facili...         112  \n",
       "517  http://192.168.48.22:8082/repository/qa/Facili...          61  \n",
       "518  http://192.168.48.22:8082/repository/qa/templa...         934  \n",
       "\n",
       "[519 rows x 5 columns]"
      ]
     },
     "execution_count": 44,
     "metadata": {},
     "output_type": "execute_result"
    }
   ],
   "source": [
    "df"
   ]
  },
  {
   "cell_type": "code",
   "execution_count": 45,
   "id": "926ed8df",
   "metadata": {
    "ExecuteTime": {
     "end_time": "2023-12-21T10:14:33.901378Z",
     "start_time": "2023-12-21T10:14:33.895376Z"
    }
   },
   "outputs": [
    {
     "data": {
      "text/html": [
       "<div>\n",
       "<style scoped>\n",
       "    .dataframe tbody tr th:only-of-type {\n",
       "        vertical-align: middle;\n",
       "    }\n",
       "\n",
       "    .dataframe tbody tr th {\n",
       "        vertical-align: top;\n",
       "    }\n",
       "\n",
       "    .dataframe thead th {\n",
       "        text-align: right;\n",
       "    }\n",
       "</style>\n",
       "<table border=\"1\" class=\"dataframe\">\n",
       "  <thead>\n",
       "    <tr style=\"text-align: right;\">\n",
       "      <th></th>\n",
       "      <th>documentation</th>\n",
       "      <th>path</th>\n",
       "      <th>text</th>\n",
       "      <th>file_path</th>\n",
       "      <th>word_count</th>\n",
       "    </tr>\n",
       "  </thead>\n",
       "  <tbody>\n",
       "  </tbody>\n",
       "</table>\n",
       "</div>"
      ],
      "text/plain": [
       "Empty DataFrame\n",
       "Columns: [documentation, path, text, file_path, word_count]\n",
       "Index: []"
      ]
     },
     "execution_count": 45,
     "metadata": {},
     "output_type": "execute_result"
    }
   ],
   "source": [
    "df[df['path'].str.contains('Table of Contents', na=False, case=False)]"
   ]
  },
  {
   "cell_type": "markdown",
   "id": "0593ebe1",
   "metadata": {},
   "source": [
    "## Remove duplicates"
   ]
  },
  {
   "cell_type": "code",
   "execution_count": 46,
   "id": "14968811",
   "metadata": {
    "ExecuteTime": {
     "end_time": "2023-12-21T10:14:34.323242Z",
     "start_time": "2023-12-21T10:14:34.318470Z"
    }
   },
   "outputs": [
    {
     "data": {
      "text/plain": [
       "5"
      ]
     },
     "execution_count": 46,
     "metadata": {},
     "output_type": "execute_result"
    }
   ],
   "source": [
    "duplicates_specific = df[df.duplicated(subset=['text'])]\n",
    "len(duplicates_specific)"
   ]
  },
  {
   "cell_type": "code",
   "execution_count": 47,
   "id": "a79389d0",
   "metadata": {
    "ExecuteTime": {
     "end_time": "2023-12-21T10:14:34.546846Z",
     "start_time": "2023-12-21T10:14:34.539759Z"
    }
   },
   "outputs": [
    {
     "data": {
      "text/html": [
       "<div>\n",
       "<style scoped>\n",
       "    .dataframe tbody tr th:only-of-type {\n",
       "        vertical-align: middle;\n",
       "    }\n",
       "\n",
       "    .dataframe tbody tr th {\n",
       "        vertical-align: top;\n",
       "    }\n",
       "\n",
       "    .dataframe thead th {\n",
       "        text-align: right;\n",
       "    }\n",
       "</style>\n",
       "<table border=\"1\" class=\"dataframe\">\n",
       "  <thead>\n",
       "    <tr style=\"text-align: right;\">\n",
       "      <th></th>\n",
       "      <th>documentation</th>\n",
       "      <th>path</th>\n",
       "      <th>text</th>\n",
       "      <th>file_path</th>\n",
       "      <th>word_count</th>\n",
       "    </tr>\n",
       "  </thead>\n",
       "  <tbody>\n",
       "    <tr>\n",
       "      <th>140</th>\n",
       "      <td>Quality Manual</td>\n",
       "      <td>/2 Applicable and Reference Documents/2.1 Appl...</td>\n",
       "      <td>None</td>\n",
       "      <td>http://192.168.48.22:8082/repository/qa/Infras...</td>\n",
       "      <td>1</td>\n",
       "    </tr>\n",
       "    <tr>\n",
       "      <th>253</th>\n",
       "      <td>Quality Manual</td>\n",
       "      <td>/6 Chapter 2 – The details/6.2 How we use Git</td>\n",
       "      <td>center</td>\n",
       "      <td>http://192.168.48.22:8082/repository/qa/Softwa...</td>\n",
       "      <td>1</td>\n",
       "    </tr>\n",
       "    <tr>\n",
       "      <th>266</th>\n",
       "      <td>Quality Manual</td>\n",
       "      <td>/6 Chapter 2 – The details/6.4 Design standard...</td>\n",
       "      <td>center</td>\n",
       "      <td>http://192.168.48.22:8082/repository/qa/Softwa...</td>\n",
       "      <td>1</td>\n",
       "    </tr>\n",
       "    <tr>\n",
       "      <th>425</th>\n",
       "      <td>Quality Manual</td>\n",
       "      <td>/1 Introduction</td>\n",
       "      <td>This procedure describes the action to carry o...</td>\n",
       "      <td>http://192.168.48.22:8082/repository/qa/Purcha...</td>\n",
       "      <td>12</td>\n",
       "    </tr>\n",
       "    <tr>\n",
       "      <th>478</th>\n",
       "      <td>Quality Manual</td>\n",
       "      <td>/2 Roles/2.2 Shipping Manager</td>\n",
       "      <td>The SM supports the project manager in all mat...</td>\n",
       "      <td>http://192.168.48.22:8082/repository/qa/Handli...</td>\n",
       "      <td>26</td>\n",
       "    </tr>\n",
       "  </tbody>\n",
       "</table>\n",
       "</div>"
      ],
      "text/plain": [
       "      documentation                                               path  \\\n",
       "140  Quality Manual  /2 Applicable and Reference Documents/2.1 Appl...   \n",
       "253  Quality Manual      /6 Chapter 2 – The details/6.2 How we use Git   \n",
       "266  Quality Manual  /6 Chapter 2 – The details/6.4 Design standard...   \n",
       "425  Quality Manual                                    /1 Introduction   \n",
       "478  Quality Manual                      /2 Roles/2.2 Shipping Manager   \n",
       "\n",
       "                                                  text  \\\n",
       "140                                               None   \n",
       "253                                             center   \n",
       "266                                             center   \n",
       "425  This procedure describes the action to carry o...   \n",
       "478  The SM supports the project manager in all mat...   \n",
       "\n",
       "                                             file_path  word_count  \n",
       "140  http://192.168.48.22:8082/repository/qa/Infras...           1  \n",
       "253  http://192.168.48.22:8082/repository/qa/Softwa...           1  \n",
       "266  http://192.168.48.22:8082/repository/qa/Softwa...           1  \n",
       "425  http://192.168.48.22:8082/repository/qa/Purcha...          12  \n",
       "478  http://192.168.48.22:8082/repository/qa/Handli...          26  "
      ]
     },
     "execution_count": 47,
     "metadata": {},
     "output_type": "execute_result"
    }
   ],
   "source": [
    "duplicates_specific"
   ]
  },
  {
   "cell_type": "code",
   "execution_count": 48,
   "id": "49beb796",
   "metadata": {
    "ExecuteTime": {
     "end_time": "2023-12-21T10:14:34.737264Z",
     "start_time": "2023-12-21T10:14:34.732865Z"
    }
   },
   "outputs": [
    {
     "name": "stdout",
     "output_type": "stream",
     "text": [
      "      documentation                                               path  text  \\\n",
      "132  Quality Manual  /2 Applicable and Reference Documents/2.1 Appl...  None   \n",
      "140  Quality Manual  /2 Applicable and Reference Documents/2.1 Appl...  None   \n",
      "\n",
      "                                             file_path  word_count  \n",
      "132  http://192.168.48.22:8082/repository/qa/Accoun...           1  \n",
      "140  http://192.168.48.22:8082/repository/qa/Infras...           1  \n"
     ]
    }
   ],
   "source": [
    "print(df[df['text'] == \"None\"])"
   ]
  },
  {
   "cell_type": "code",
   "execution_count": 49,
   "id": "a4960f37",
   "metadata": {
    "ExecuteTime": {
     "end_time": "2023-12-21T10:14:34.956636Z",
     "start_time": "2023-12-21T10:14:34.953145Z"
    }
   },
   "outputs": [],
   "source": [
    "df = df.drop(duplicates_specific.index)\n",
    "df = df.reset_index(drop=True)"
   ]
  },
  {
   "cell_type": "code",
   "execution_count": 50,
   "id": "f32d8ebf",
   "metadata": {
    "ExecuteTime": {
     "end_time": "2023-12-21T10:14:35.215198Z",
     "start_time": "2023-12-21T10:14:35.207755Z"
    }
   },
   "outputs": [
    {
     "data": {
      "text/html": [
       "<div>\n",
       "<style scoped>\n",
       "    .dataframe tbody tr th:only-of-type {\n",
       "        vertical-align: middle;\n",
       "    }\n",
       "\n",
       "    .dataframe tbody tr th {\n",
       "        vertical-align: top;\n",
       "    }\n",
       "\n",
       "    .dataframe thead th {\n",
       "        text-align: right;\n",
       "    }\n",
       "</style>\n",
       "<table border=\"1\" class=\"dataframe\">\n",
       "  <thead>\n",
       "    <tr style=\"text-align: right;\">\n",
       "      <th></th>\n",
       "      <th>documentation</th>\n",
       "      <th>path</th>\n",
       "      <th>text</th>\n",
       "      <th>file_path</th>\n",
       "      <th>word_count</th>\n",
       "    </tr>\n",
       "  </thead>\n",
       "  <tbody>\n",
       "    <tr>\n",
       "      <th>0</th>\n",
       "      <td>Quality Manual</td>\n",
       "      <td>/1 Introduction</td>\n",
       "      <td>Welcome to Kratos QMS Quality Policy \"Our goal...</td>\n",
       "      <td>http://192.168.48.22:8082/repository/qa/QMS.ht...</td>\n",
       "      <td>62</td>\n",
       "    </tr>\n",
       "    <tr>\n",
       "      <th>1</th>\n",
       "      <td>Quality Manual</td>\n",
       "      <td>/2 Quality Management System</td>\n",
       "      <td>Kratos Communications SAS Quality Manual Krato...</td>\n",
       "      <td>http://192.168.48.22:8082/repository/qa/QMS.ht...</td>\n",
       "      <td>33</td>\n",
       "    </tr>\n",
       "    <tr>\n",
       "      <th>2</th>\n",
       "      <td>Quality Manual</td>\n",
       "      <td>/3 Reference Documents</td>\n",
       "      <td>ISO 9001 - Systèmes de management de la qualit...</td>\n",
       "      <td>http://192.168.48.22:8082/repository/qa/QMS.ht...</td>\n",
       "      <td>23</td>\n",
       "    </tr>\n",
       "    <tr>\n",
       "      <th>3</th>\n",
       "      <td>Quality Manual</td>\n",
       "      <td>/4 List of Processes/4.1 Documents</td>\n",
       "      <td>Process Template Document Management Product-P...</td>\n",
       "      <td>http://192.168.48.22:8082/repository/qa/QMS.ht...</td>\n",
       "      <td>26</td>\n",
       "    </tr>\n",
       "    <tr>\n",
       "      <th>4</th>\n",
       "      <td>Quality Manual</td>\n",
       "      <td>/4 List of Processes/4.2 Human Resources</td>\n",
       "      <td>Process Template Work Instructions Human Resou...</td>\n",
       "      <td>http://192.168.48.22:8082/repository/qa/QMS.ht...</td>\n",
       "      <td>37</td>\n",
       "    </tr>\n",
       "    <tr>\n",
       "      <th>...</th>\n",
       "      <td>...</td>\n",
       "      <td>...</td>\n",
       "      <td>...</td>\n",
       "      <td>...</td>\n",
       "      <td>...</td>\n",
       "    </tr>\n",
       "    <tr>\n",
       "      <th>509</th>\n",
       "      <td>Quality Manual</td>\n",
       "      <td>/2 Process/2.4 Restricted rooms, first floor</td>\n",
       "      <td>Access to certain rooms is limited by a code l...</td>\n",
       "      <td>http://192.168.48.22:8082/repository/qa/Facili...</td>\n",
       "      <td>85</td>\n",
       "    </tr>\n",
       "    <tr>\n",
       "      <th>510</th>\n",
       "      <td>Quality Manual</td>\n",
       "      <td>/2 Process/2.4 Restricted rooms, first floor/2...</td>\n",
       "      <td>The FSO organizes an annual review of the acce...</td>\n",
       "      <td>http://192.168.48.22:8082/repository/qa/Facili...</td>\n",
       "      <td>56</td>\n",
       "    </tr>\n",
       "    <tr>\n",
       "      <th>511</th>\n",
       "      <td>Quality Manual</td>\n",
       "      <td>/3 Emergency cases/3.1 General emergency</td>\n",
       "      <td>In case of emergencies , in particular emergen...</td>\n",
       "      <td>http://192.168.48.22:8082/repository/qa/Facili...</td>\n",
       "      <td>112</td>\n",
       "    </tr>\n",
       "    <tr>\n",
       "      <th>512</th>\n",
       "      <td>Quality Manual</td>\n",
       "      <td>/4 Records</td>\n",
       "      <td>Name Location Responsability Minimum Backup Fr...</td>\n",
       "      <td>http://192.168.48.22:8082/repository/qa/Facili...</td>\n",
       "      <td>61</td>\n",
       "    </tr>\n",
       "    <tr>\n",
       "      <th>513</th>\n",
       "      <td>Quality Manual</td>\n",
       "      <td>/1 Template Version</td>\n",
       "      <td>Document name Version Modification date Path A...</td>\n",
       "      <td>http://192.168.48.22:8082/repository/qa/templa...</td>\n",
       "      <td>934</td>\n",
       "    </tr>\n",
       "  </tbody>\n",
       "</table>\n",
       "<p>514 rows × 5 columns</p>\n",
       "</div>"
      ],
      "text/plain": [
       "      documentation                                               path  \\\n",
       "0    Quality Manual                                    /1 Introduction   \n",
       "1    Quality Manual                       /2 Quality Management System   \n",
       "2    Quality Manual                             /3 Reference Documents   \n",
       "3    Quality Manual                 /4 List of Processes/4.1 Documents   \n",
       "4    Quality Manual           /4 List of Processes/4.2 Human Resources   \n",
       "..              ...                                                ...   \n",
       "509  Quality Manual       /2 Process/2.4 Restricted rooms, first floor   \n",
       "510  Quality Manual  /2 Process/2.4 Restricted rooms, first floor/2...   \n",
       "511  Quality Manual           /3 Emergency cases/3.1 General emergency   \n",
       "512  Quality Manual                                         /4 Records   \n",
       "513  Quality Manual                                /1 Template Version   \n",
       "\n",
       "                                                  text  \\\n",
       "0    Welcome to Kratos QMS Quality Policy \"Our goal...   \n",
       "1    Kratos Communications SAS Quality Manual Krato...   \n",
       "2    ISO 9001 - Systèmes de management de la qualit...   \n",
       "3    Process Template Document Management Product-P...   \n",
       "4    Process Template Work Instructions Human Resou...   \n",
       "..                                                 ...   \n",
       "509  Access to certain rooms is limited by a code l...   \n",
       "510  The FSO organizes an annual review of the acce...   \n",
       "511  In case of emergencies , in particular emergen...   \n",
       "512  Name Location Responsability Minimum Backup Fr...   \n",
       "513  Document name Version Modification date Path A...   \n",
       "\n",
       "                                             file_path  word_count  \n",
       "0    http://192.168.48.22:8082/repository/qa/QMS.ht...          62  \n",
       "1    http://192.168.48.22:8082/repository/qa/QMS.ht...          33  \n",
       "2    http://192.168.48.22:8082/repository/qa/QMS.ht...          23  \n",
       "3    http://192.168.48.22:8082/repository/qa/QMS.ht...          26  \n",
       "4    http://192.168.48.22:8082/repository/qa/QMS.ht...          37  \n",
       "..                                                 ...         ...  \n",
       "509  http://192.168.48.22:8082/repository/qa/Facili...          85  \n",
       "510  http://192.168.48.22:8082/repository/qa/Facili...          56  \n",
       "511  http://192.168.48.22:8082/repository/qa/Facili...         112  \n",
       "512  http://192.168.48.22:8082/repository/qa/Facili...          61  \n",
       "513  http://192.168.48.22:8082/repository/qa/templa...         934  \n",
       "\n",
       "[514 rows x 5 columns]"
      ]
     },
     "execution_count": 50,
     "metadata": {},
     "output_type": "execute_result"
    }
   ],
   "source": [
    "df"
   ]
  },
  {
   "cell_type": "markdown",
   "id": "6f3e0a80",
   "metadata": {},
   "source": [
    "## Remove short sentences"
   ]
  },
  {
   "cell_type": "code",
   "execution_count": 51,
   "id": "53bf3fc0",
   "metadata": {
    "ExecuteTime": {
     "end_time": "2023-12-21T10:14:37.865223Z",
     "start_time": "2023-12-21T10:14:37.857207Z"
    }
   },
   "outputs": [],
   "source": [
    "threshold = 20\n",
    "smol = df[df['text'].str.split().str.len() < threshold]\n",
    "smol = smol.sort_values(by='word_count')"
   ]
  },
  {
   "cell_type": "code",
   "execution_count": 52,
   "id": "b76a8aa3",
   "metadata": {
    "ExecuteTime": {
     "end_time": "2023-12-21T10:14:38.060091Z",
     "start_time": "2023-12-21T10:14:38.052797Z"
    }
   },
   "outputs": [
    {
     "data": {
      "text/html": [
       "<div>\n",
       "<style scoped>\n",
       "    .dataframe tbody tr th:only-of-type {\n",
       "        vertical-align: middle;\n",
       "    }\n",
       "\n",
       "    .dataframe tbody tr th {\n",
       "        vertical-align: top;\n",
       "    }\n",
       "\n",
       "    .dataframe thead th {\n",
       "        text-align: right;\n",
       "    }\n",
       "</style>\n",
       "<table border=\"1\" class=\"dataframe\">\n",
       "  <thead>\n",
       "    <tr style=\"text-align: right;\">\n",
       "      <th></th>\n",
       "      <th>documentation</th>\n",
       "      <th>path</th>\n",
       "      <th>text</th>\n",
       "      <th>file_path</th>\n",
       "      <th>word_count</th>\n",
       "    </tr>\n",
       "  </thead>\n",
       "  <tbody>\n",
       "    <tr>\n",
       "      <th>132</th>\n",
       "      <td>Quality Manual</td>\n",
       "      <td>/2 Applicable and Reference Documents/2.1 Appl...</td>\n",
       "      <td>None</td>\n",
       "      <td>http://192.168.48.22:8082/repository/qa/Accoun...</td>\n",
       "      <td>1</td>\n",
       "    </tr>\n",
       "    <tr>\n",
       "      <th>235</th>\n",
       "      <td>Quality Manual</td>\n",
       "      <td>/5 Chapter 1 – The basics/5.3 Software develop...</td>\n",
       "      <td>center</td>\n",
       "      <td>http://192.168.48.22:8082/repository/qa/Softwa...</td>\n",
       "      <td>1</td>\n",
       "    </tr>\n",
       "    <tr>\n",
       "      <th>387</th>\n",
       "      <td>Quality Manual</td>\n",
       "      <td>/5 Process Activities Details</td>\n",
       "      <td>Purchasing Process</td>\n",
       "      <td>http://192.168.48.22:8082/repository/qa/Purcha...</td>\n",
       "      <td>2</td>\n",
       "    </tr>\n",
       "    <tr>\n",
       "      <th>413</th>\n",
       "      <td>Quality Manual</td>\n",
       "      <td>/2 Applicable and Reference Documents/2.2 Refe...</td>\n",
       "      <td>Purchasing Procedure</td>\n",
       "      <td>http://192.168.48.22:8082/repository/qa/Vendor...</td>\n",
       "      <td>2</td>\n",
       "    </tr>\n",
       "    <tr>\n",
       "      <th>466</th>\n",
       "      <td>Quality Manual</td>\n",
       "      <td>/3 Receiving Process</td>\n",
       "      <td>Receiving Process</td>\n",
       "      <td>http://192.168.48.22:8082/repository/qa/Receiv...</td>\n",
       "      <td>2</td>\n",
       "    </tr>\n",
       "    <tr>\n",
       "      <th>...</th>\n",
       "      <td>...</td>\n",
       "      <td>...</td>\n",
       "      <td>...</td>\n",
       "      <td>...</td>\n",
       "      <td>...</td>\n",
       "    </tr>\n",
       "    <tr>\n",
       "      <th>138</th>\n",
       "      <td>Quality Manual</td>\n",
       "      <td>/1 Introduction/1.1 Identification</td>\n",
       "      <td>The process Identification is under Process_Id...</td>\n",
       "      <td>http://192.168.48.22:8082/repository/qa/Infras...</td>\n",
       "      <td>18</td>\n",
       "    </tr>\n",
       "    <tr>\n",
       "      <th>168</th>\n",
       "      <td>Quality Manual</td>\n",
       "      <td>/2 Project Folder Organization/2.3 Project Man...</td>\n",
       "      <td>This folder contains a copy of all invoices se...</td>\n",
       "      <td>http://192.168.48.22:8082/repository/qa/Projec...</td>\n",
       "      <td>18</td>\n",
       "    </tr>\n",
       "    <tr>\n",
       "      <th>499</th>\n",
       "      <td>Quality Manual</td>\n",
       "      <td>/2 Process/2.1 People Identification/2.1.1 Cat...</td>\n",
       "      <td>KComms SAS employees : Persons who have an emp...</td>\n",
       "      <td>http://192.168.48.22:8082/repository/qa/Facili...</td>\n",
       "      <td>19</td>\n",
       "    </tr>\n",
       "    <tr>\n",
       "      <th>229</th>\n",
       "      <td>Quality Manual</td>\n",
       "      <td>/2 Software Developers’ Guide/2.2 The usual co...</td>\n",
       "      <td>Code quality helps to : Keep low costs of chan...</td>\n",
       "      <td>http://192.168.48.22:8082/repository/qa/Softwa...</td>\n",
       "      <td>19</td>\n",
       "    </tr>\n",
       "    <tr>\n",
       "      <th>274</th>\n",
       "      <td>Quality Manual</td>\n",
       "      <td>/6 Chapter 2 – The details/6.5 Coding standard...</td>\n",
       "      <td>Have a look at http ://google . github . io/st...</td>\n",
       "      <td>http://192.168.48.22:8082/repository/qa/Softwa...</td>\n",
       "      <td>19</td>\n",
       "    </tr>\n",
       "  </tbody>\n",
       "</table>\n",
       "<p>75 rows × 5 columns</p>\n",
       "</div>"
      ],
      "text/plain": [
       "      documentation                                               path  \\\n",
       "132  Quality Manual  /2 Applicable and Reference Documents/2.1 Appl...   \n",
       "235  Quality Manual  /5 Chapter 1 – The basics/5.3 Software develop...   \n",
       "387  Quality Manual                      /5 Process Activities Details   \n",
       "413  Quality Manual  /2 Applicable and Reference Documents/2.2 Refe...   \n",
       "466  Quality Manual                               /3 Receiving Process   \n",
       "..              ...                                                ...   \n",
       "138  Quality Manual                 /1 Introduction/1.1 Identification   \n",
       "168  Quality Manual  /2 Project Folder Organization/2.3 Project Man...   \n",
       "499  Quality Manual  /2 Process/2.1 People Identification/2.1.1 Cat...   \n",
       "229  Quality Manual  /2 Software Developers’ Guide/2.2 The usual co...   \n",
       "274  Quality Manual  /6 Chapter 2 – The details/6.5 Coding standard...   \n",
       "\n",
       "                                                  text  \\\n",
       "132                                               None   \n",
       "235                                             center   \n",
       "387                                 Purchasing Process   \n",
       "413                               Purchasing Procedure   \n",
       "466                                  Receiving Process   \n",
       "..                                                 ...   \n",
       "138  The process Identification is under Process_Id...   \n",
       "168  This folder contains a copy of all invoices se...   \n",
       "499  KComms SAS employees : Persons who have an emp...   \n",
       "229  Code quality helps to : Keep low costs of chan...   \n",
       "274  Have a look at http ://google . github . io/st...   \n",
       "\n",
       "                                             file_path  word_count  \n",
       "132  http://192.168.48.22:8082/repository/qa/Accoun...           1  \n",
       "235  http://192.168.48.22:8082/repository/qa/Softwa...           1  \n",
       "387  http://192.168.48.22:8082/repository/qa/Purcha...           2  \n",
       "413  http://192.168.48.22:8082/repository/qa/Vendor...           2  \n",
       "466  http://192.168.48.22:8082/repository/qa/Receiv...           2  \n",
       "..                                                 ...         ...  \n",
       "138  http://192.168.48.22:8082/repository/qa/Infras...          18  \n",
       "168  http://192.168.48.22:8082/repository/qa/Projec...          18  \n",
       "499  http://192.168.48.22:8082/repository/qa/Facili...          19  \n",
       "229  http://192.168.48.22:8082/repository/qa/Softwa...          19  \n",
       "274  http://192.168.48.22:8082/repository/qa/Softwa...          19  \n",
       "\n",
       "[75 rows x 5 columns]"
      ]
     },
     "execution_count": 52,
     "metadata": {},
     "output_type": "execute_result"
    }
   ],
   "source": [
    "smol"
   ]
  },
  {
   "cell_type": "code",
   "execution_count": 53,
   "id": "cab64f7c",
   "metadata": {
    "ExecuteTime": {
     "end_time": "2023-12-21T10:14:38.259010Z",
     "start_time": "2023-12-21T10:14:38.251479Z"
    }
   },
   "outputs": [
    {
     "name": "stdout",
     "output_type": "stream",
     "text": [
      "Word Count: 1\n",
      "Sentence: None\n",
      "--------------------------------------------------\n",
      "Word Count: 1\n",
      "Sentence: center\n",
      "--------------------------------------------------\n",
      "Word Count: 2\n",
      "Sentence: Purchasing Process\n",
      "--------------------------------------------------\n",
      "Word Count: 2\n",
      "Sentence: Purchasing Procedure\n",
      "--------------------------------------------------\n",
      "Word Count: 2\n",
      "Sentence: Receiving Process\n",
      "--------------------------------------------------\n",
      "Word Count: 3\n",
      "Sentence: Quality Process scope\n",
      "--------------------------------------------------\n",
      "Word Count: 4\n",
      "Sentence: Purchase Order Reception Form\n",
      "--------------------------------------------------\n",
      "Word Count: 4\n",
      "Sentence: center w : 500px\n",
      "--------------------------------------------------\n",
      "Word Count: 4\n",
      "Sentence: The Kratos global organization\n",
      "--------------------------------------------------\n",
      "Word Count: 4\n",
      "Sentence: https ://owasp . org/www-project-top-ten/\n",
      "--------------------------------------------------\n",
      "Word Count: 6\n",
      "Sentence: THe Process identification is under Process_Identification_Management\n",
      "--------------------------------------------------\n",
      "Word Count: 6\n",
      "Sentence: The activities are detailed in Process_Identification_Management\n",
      "--------------------------------------------------\n",
      "Word Count: 6\n",
      "Sentence: https ://www . morling . dev/blog/the-code-review-pyramid/\n",
      "--------------------------------------------------\n",
      "Word Count: 7\n",
      "Sentence: Non-conformances are categorized by KRATOS as :\n",
      "--------------------------------------------------\n",
      "Word Count: 7\n",
      "Sentence: Process_Identification_Infrastructure Toulouse Telephone List Singapore Telephone List\n",
      "--------------------------------------------------\n",
      "Word Count: 7\n",
      "Sentence: There are several types of actions :\n",
      "--------------------------------------------------\n",
      "Word Count: 7\n",
      "Sentence: Discipline applies to : Entire project team\n",
      "--------------------------------------------------\n",
      "Word Count: 8\n",
      "Sentence: RD1 : New Employee Form RD2 : NonEmployeeAccessRequest\n",
      "--------------------------------------------------\n",
      "Word Count: 8\n",
      "Sentence: All documentation related to a project audit .\n",
      "--------------------------------------------------\n",
      "Word Count: 8\n",
      "Sentence: Quality Manual Purchasing Note Vendor Evaluation \\\\shackleton\\Vendor Evaluation\n",
      "--------------------------------------------------\n",
      "Word Count: 9\n",
      "Sentence: Use a version control system Be pragmatic and professional\n",
      "--------------------------------------------------\n",
      "Word Count: 9\n",
      "Sentence: The Contract Administrator supports contract related administrative tasks .\n",
      "--------------------------------------------------\n",
      "Word Count: 9\n",
      "Sentence: Infrastructure Note d’Information Vidéosurveillance Note d’Information Accès par badge\n",
      "--------------------------------------------------\n",
      "Word Count: 9\n",
      "Sentence: Vendor Evaluation Procedure Purchase Request Procedure Purchase Order Procedure\n",
      "--------------------------------------------------\n",
      "Word Count: 9\n",
      "Sentence: All records related to Human Resources and Subcontractors .\n",
      "--------------------------------------------------\n",
      "Word Count: 9\n",
      "Sentence: The diagrams below presents the Kratos Communications organization .\n",
      "--------------------------------------------------\n",
      "Word Count: 9\n",
      "Sentence: This group specifically supports Kratos operations in Japan .\n",
      "--------------------------------------------------\n",
      "Word Count: 9\n",
      "Sentence: Below is an example of Customer Data Record :\n",
      "--------------------------------------------------\n",
      "Word Count: 9\n",
      "Sentence: The PR approver reviews and approves the PR .\n",
      "--------------------------------------------------\n",
      "Word Count: 10\n",
      "Sentence: These requests are done by KRATOS to the customer .\n",
      "--------------------------------------------------\n",
      "Word Count: 10\n",
      "Sentence: All records linked to the configuration management ISO process .\n",
      "--------------------------------------------------\n",
      "Word Count: 10\n",
      "Sentence: These anomalies could be detected during the following steps :\n",
      "--------------------------------------------------\n",
      "Word Count: 11\n",
      "Sentence: This chapter describes how to fill the Contract Review Checklist .\n",
      "--------------------------------------------------\n",
      "Word Count: 11\n",
      "Sentence: The Project Manager follows the steps of the Contract Review Process\n",
      "--------------------------------------------------\n",
      "Word Count: 12\n",
      "Sentence: This document defines the detailed steps in case of contract changes .\n",
      "--------------------------------------------------\n",
      "Word Count: 12\n",
      "Sentence: A person receiving an item or service becomes de facto the “Receiver”.\n",
      "--------------------------------------------------\n",
      "Word Count: 12\n",
      "Sentence: This procedure describes the action to carry out to request a purchase\n",
      "--------------------------------------------------\n",
      "Word Count: 12\n",
      "Sentence: https ://gitlab-toulouse . kratos . us/ Use your Kratos login and password\n",
      "--------------------------------------------------\n",
      "Word Count: 12\n",
      "Sentence: This contains the risk analysis . It is normally updated weekly .\n",
      "--------------------------------------------------\n",
      "Word Count: 12\n",
      "Sentence: This document describes how account request is managed in Kratos Communications .\n",
      "--------------------------------------------------\n",
      "Word Count: 13\n",
      "Sentence: Process Template Customer Support Data Process KCOMMS Delivery - Account HandOff to Support\n",
      "--------------------------------------------------\n",
      "Word Count: 13\n",
      "Sentence: Internal audit : 1 per 3 years Process review : 1 per year\n",
      "--------------------------------------------------\n",
      "Word Count: 13\n",
      "Sentence: The IM is responsible for the project infrastructure as items storage area .\n",
      "--------------------------------------------------\n",
      "Word Count: 13\n",
      "Sentence: The following paragraphs describe Kratos documentation and publication process of those documents .\n",
      "--------------------------------------------------\n",
      "Word Count: 13\n",
      "Sentence: Date Changes Author Initial 07/12/2023 Rewriting all the procedure Consultant M . Ghaffar\n",
      "--------------------------------------------------\n",
      "Word Count: 13\n",
      "Sentence: Discipline Applies to : Project Managers , with help from their technical lead\n",
      "--------------------------------------------------\n",
      "Word Count: 13\n",
      "Sentence: The figure shows the Kratos Communications Functionnal organization . Kratos Communications Functionnal Organization\n",
      "--------------------------------------------------\n",
      "Word Count: 13\n",
      "Sentence: Progress meeting : weekly Management review : yearly RH-QA-OP meeting : in progress\n",
      "--------------------------------------------------\n",
      "Word Count: 14\n",
      "Sentence: Use our nice CI templates provided here : https ://gitlab-toulouse . kratos . us/research_and_development/devops/-/tree/main/ci-templates\n",
      "--------------------------------------------------\n",
      "Word Count: 14\n",
      "Sentence: Progress meeting operation : weekly Management review : yearly Purchasing meeting : on demand\n",
      "--------------------------------------------------\n",
      "Word Count: 14\n",
      "Sentence: All records related to the corresponding procedure ( in particular , the questionnaire ).\n",
      "--------------------------------------------------\n",
      "Word Count: 14\n",
      "Sentence: How we use Git Code reviews Design standards Coding standards Getting started with GitLab\n",
      "--------------------------------------------------\n",
      "Word Count: 15\n",
      "Sentence: This group specifically supports Kratos operations in Singapore and and in Asia in general ..\n",
      "--------------------------------------------------\n",
      "Word Count: 15\n",
      "Sentence: This folder holds backups of project schedules , work breakdown structure , task descriptions .\n",
      "--------------------------------------------------\n",
      "Word Count: 15\n",
      "Sentence: Documented procedures are maintained for request , review , approval , and change implementation .\n",
      "--------------------------------------------------\n",
      "Word Count: 15\n",
      "Sentence: The Project Manager leads the input and transfer of information from project to support .\n",
      "--------------------------------------------------\n",
      "Word Count: 15\n",
      "Sentence: Other Comments : Enter any additional information that is useful for the Contract Review .\n",
      "--------------------------------------------------\n",
      "Word Count: 16\n",
      "Sentence: Part of the purchasing team , he follows up orders and can forecast the deliveries .\n",
      "--------------------------------------------------\n",
      "Word Count: 16\n",
      "Sentence: This category includes : - Interns or part time employees with a “Contrat Pro” contract .\n",
      "--------------------------------------------------\n",
      "Word Count: 16\n",
      "Sentence: Intro : Team Chapter 1 – BASICS Chapter 2 – The details Chapter 3 - DevSecOps\n",
      "--------------------------------------------------\n",
      "Word Count: 17\n",
      "Sentence: This document defines the mission of the people involved in the shipping procedure and general steps .\n",
      "--------------------------------------------------\n",
      "Word Count: 17\n",
      "Sentence: Ms Teams group : Toulouse Developers Watch this Team in Microsoft Teams - & participate in channels\n",
      "--------------------------------------------------\n",
      "Word Count: 18\n",
      "Sentence: Holds the records corresponding to the Shipping and Receiving Processes , in particular the Warranty Inspection Forms .\n",
      "--------------------------------------------------\n",
      "Word Count: 18\n",
      "Sentence: Not really a record folder , but practical . The content can be erased at any time .\n",
      "--------------------------------------------------\n",
      "Word Count: 18\n",
      "Sentence: Internal audit : 6 per year Process review : 1 per year Project audit : 2 per month\n",
      "--------------------------------------------------\n",
      "Word Count: 18\n",
      "Sentence: For an outline of the 5 disciplines , please see the more generic Configuration Management process document .\n",
      "--------------------------------------------------\n",
      "Word Count: 18\n",
      "Sentence: The following paragraphs describe Kratos Quality documentation ; review , approbation and publication process of those documents .\n",
      "--------------------------------------------------\n",
      "Word Count: 18\n",
      "Sentence: Add the list to SVD , Automated Versioning Tool and Scripts to generate checksums ( if required ).\n",
      "--------------------------------------------------\n",
      "Word Count: 18\n",
      "Sentence: The Purchasing Manager reports to Operations Manager and is in charge of matters relating to purchasing activities .\n",
      "--------------------------------------------------\n",
      "Word Count: 18\n",
      "Sentence: A Low level anomaly does not impact on main operations . It is neither critical nor major .\n",
      "--------------------------------------------------\n",
      "Word Count: 18\n",
      "Sentence: The process Identification is under Process_Identification_Infrastructure This document describes the infrastructure currently used at the Toulouse sites .\n",
      "--------------------------------------------------\n",
      "Word Count: 18\n",
      "Sentence: This folder contains a copy of all invoices sent to the customer , and tracks of payments .\n",
      "--------------------------------------------------\n",
      "Word Count: 19\n",
      "Sentence: KComms SAS employees : Persons who have an employment contract with KComms SAS , except “Contrat Pro” contract .\n",
      "--------------------------------------------------\n",
      "Word Count: 19\n",
      "Sentence: Code quality helps to : Keep low costs of change Enhance reliability Get satisfaction of a job well done\n",
      "--------------------------------------------------\n",
      "Word Count: 19\n",
      "Sentence: Have a look at http ://google . github . io/styleguide/ ( source repo : https ://github . com/google/styleguide )\n",
      "--------------------------------------------------\n"
     ]
    }
   ],
   "source": [
    "for index, row in smol.iterrows():\n",
    "    print(f\"Word Count: {row['word_count']}\\nSentence: {row['text']}\\n{'-'*50}\")\n"
   ]
  },
  {
   "cell_type": "code",
   "execution_count": 54,
   "id": "be17f3cc",
   "metadata": {
    "ExecuteTime": {
     "end_time": "2023-12-21T10:14:38.441702Z",
     "start_time": "2023-12-21T10:14:38.437700Z"
    }
   },
   "outputs": [],
   "source": [
    "df = df.drop(smol.index)\n",
    "df = df.reset_index(drop=True)"
   ]
  },
  {
   "cell_type": "code",
   "execution_count": 55,
   "id": "547ecbec",
   "metadata": {
    "ExecuteTime": {
     "end_time": "2023-12-21T10:14:38.653815Z",
     "start_time": "2023-12-21T10:14:38.645894Z"
    }
   },
   "outputs": [
    {
     "data": {
      "text/html": [
       "<div>\n",
       "<style scoped>\n",
       "    .dataframe tbody tr th:only-of-type {\n",
       "        vertical-align: middle;\n",
       "    }\n",
       "\n",
       "    .dataframe tbody tr th {\n",
       "        vertical-align: top;\n",
       "    }\n",
       "\n",
       "    .dataframe thead th {\n",
       "        text-align: right;\n",
       "    }\n",
       "</style>\n",
       "<table border=\"1\" class=\"dataframe\">\n",
       "  <thead>\n",
       "    <tr style=\"text-align: right;\">\n",
       "      <th></th>\n",
       "      <th>documentation</th>\n",
       "      <th>path</th>\n",
       "      <th>text</th>\n",
       "      <th>file_path</th>\n",
       "      <th>word_count</th>\n",
       "    </tr>\n",
       "  </thead>\n",
       "  <tbody>\n",
       "    <tr>\n",
       "      <th>0</th>\n",
       "      <td>Quality Manual</td>\n",
       "      <td>/1 Introduction</td>\n",
       "      <td>Welcome to Kratos QMS Quality Policy \"Our goal...</td>\n",
       "      <td>http://192.168.48.22:8082/repository/qa/QMS.ht...</td>\n",
       "      <td>62</td>\n",
       "    </tr>\n",
       "    <tr>\n",
       "      <th>1</th>\n",
       "      <td>Quality Manual</td>\n",
       "      <td>/2 Quality Management System</td>\n",
       "      <td>Kratos Communications SAS Quality Manual Krato...</td>\n",
       "      <td>http://192.168.48.22:8082/repository/qa/QMS.ht...</td>\n",
       "      <td>33</td>\n",
       "    </tr>\n",
       "    <tr>\n",
       "      <th>2</th>\n",
       "      <td>Quality Manual</td>\n",
       "      <td>/3 Reference Documents</td>\n",
       "      <td>ISO 9001 - Systèmes de management de la qualit...</td>\n",
       "      <td>http://192.168.48.22:8082/repository/qa/QMS.ht...</td>\n",
       "      <td>23</td>\n",
       "    </tr>\n",
       "    <tr>\n",
       "      <th>3</th>\n",
       "      <td>Quality Manual</td>\n",
       "      <td>/4 List of Processes/4.1 Documents</td>\n",
       "      <td>Process Template Document Management Product-P...</td>\n",
       "      <td>http://192.168.48.22:8082/repository/qa/QMS.ht...</td>\n",
       "      <td>26</td>\n",
       "    </tr>\n",
       "    <tr>\n",
       "      <th>4</th>\n",
       "      <td>Quality Manual</td>\n",
       "      <td>/4 List of Processes/4.2 Human Resources</td>\n",
       "      <td>Process Template Work Instructions Human Resou...</td>\n",
       "      <td>http://192.168.48.22:8082/repository/qa/QMS.ht...</td>\n",
       "      <td>37</td>\n",
       "    </tr>\n",
       "    <tr>\n",
       "      <th>...</th>\n",
       "      <td>...</td>\n",
       "      <td>...</td>\n",
       "      <td>...</td>\n",
       "      <td>...</td>\n",
       "      <td>...</td>\n",
       "    </tr>\n",
       "    <tr>\n",
       "      <th>434</th>\n",
       "      <td>Quality Manual</td>\n",
       "      <td>/2 Process/2.4 Restricted rooms, first floor</td>\n",
       "      <td>Access to certain rooms is limited by a code l...</td>\n",
       "      <td>http://192.168.48.22:8082/repository/qa/Facili...</td>\n",
       "      <td>85</td>\n",
       "    </tr>\n",
       "    <tr>\n",
       "      <th>435</th>\n",
       "      <td>Quality Manual</td>\n",
       "      <td>/2 Process/2.4 Restricted rooms, first floor/2...</td>\n",
       "      <td>The FSO organizes an annual review of the acce...</td>\n",
       "      <td>http://192.168.48.22:8082/repository/qa/Facili...</td>\n",
       "      <td>56</td>\n",
       "    </tr>\n",
       "    <tr>\n",
       "      <th>436</th>\n",
       "      <td>Quality Manual</td>\n",
       "      <td>/3 Emergency cases/3.1 General emergency</td>\n",
       "      <td>In case of emergencies , in particular emergen...</td>\n",
       "      <td>http://192.168.48.22:8082/repository/qa/Facili...</td>\n",
       "      <td>112</td>\n",
       "    </tr>\n",
       "    <tr>\n",
       "      <th>437</th>\n",
       "      <td>Quality Manual</td>\n",
       "      <td>/4 Records</td>\n",
       "      <td>Name Location Responsability Minimum Backup Fr...</td>\n",
       "      <td>http://192.168.48.22:8082/repository/qa/Facili...</td>\n",
       "      <td>61</td>\n",
       "    </tr>\n",
       "    <tr>\n",
       "      <th>438</th>\n",
       "      <td>Quality Manual</td>\n",
       "      <td>/1 Template Version</td>\n",
       "      <td>Document name Version Modification date Path A...</td>\n",
       "      <td>http://192.168.48.22:8082/repository/qa/templa...</td>\n",
       "      <td>934</td>\n",
       "    </tr>\n",
       "  </tbody>\n",
       "</table>\n",
       "<p>439 rows × 5 columns</p>\n",
       "</div>"
      ],
      "text/plain": [
       "      documentation                                               path  \\\n",
       "0    Quality Manual                                    /1 Introduction   \n",
       "1    Quality Manual                       /2 Quality Management System   \n",
       "2    Quality Manual                             /3 Reference Documents   \n",
       "3    Quality Manual                 /4 List of Processes/4.1 Documents   \n",
       "4    Quality Manual           /4 List of Processes/4.2 Human Resources   \n",
       "..              ...                                                ...   \n",
       "434  Quality Manual       /2 Process/2.4 Restricted rooms, first floor   \n",
       "435  Quality Manual  /2 Process/2.4 Restricted rooms, first floor/2...   \n",
       "436  Quality Manual           /3 Emergency cases/3.1 General emergency   \n",
       "437  Quality Manual                                         /4 Records   \n",
       "438  Quality Manual                                /1 Template Version   \n",
       "\n",
       "                                                  text  \\\n",
       "0    Welcome to Kratos QMS Quality Policy \"Our goal...   \n",
       "1    Kratos Communications SAS Quality Manual Krato...   \n",
       "2    ISO 9001 - Systèmes de management de la qualit...   \n",
       "3    Process Template Document Management Product-P...   \n",
       "4    Process Template Work Instructions Human Resou...   \n",
       "..                                                 ...   \n",
       "434  Access to certain rooms is limited by a code l...   \n",
       "435  The FSO organizes an annual review of the acce...   \n",
       "436  In case of emergencies , in particular emergen...   \n",
       "437  Name Location Responsability Minimum Backup Fr...   \n",
       "438  Document name Version Modification date Path A...   \n",
       "\n",
       "                                             file_path  word_count  \n",
       "0    http://192.168.48.22:8082/repository/qa/QMS.ht...          62  \n",
       "1    http://192.168.48.22:8082/repository/qa/QMS.ht...          33  \n",
       "2    http://192.168.48.22:8082/repository/qa/QMS.ht...          23  \n",
       "3    http://192.168.48.22:8082/repository/qa/QMS.ht...          26  \n",
       "4    http://192.168.48.22:8082/repository/qa/QMS.ht...          37  \n",
       "..                                                 ...         ...  \n",
       "434  http://192.168.48.22:8082/repository/qa/Facili...          85  \n",
       "435  http://192.168.48.22:8082/repository/qa/Facili...          56  \n",
       "436  http://192.168.48.22:8082/repository/qa/Facili...         112  \n",
       "437  http://192.168.48.22:8082/repository/qa/Facili...          61  \n",
       "438  http://192.168.48.22:8082/repository/qa/templa...         934  \n",
       "\n",
       "[439 rows x 5 columns]"
      ]
     },
     "execution_count": 55,
     "metadata": {},
     "output_type": "execute_result"
    }
   ],
   "source": [
    "df"
   ]
  },
  {
   "cell_type": "markdown",
   "id": "299a4c1d",
   "metadata": {},
   "source": [
    "# Final preview"
   ]
  },
  {
   "cell_type": "code",
   "execution_count": 56,
   "id": "78ce3553",
   "metadata": {
    "ExecuteTime": {
     "end_time": "2023-12-21T10:14:39.067879Z",
     "start_time": "2023-12-21T10:14:39.063738Z"
    }
   },
   "outputs": [
    {
     "name": "stdout",
     "output_type": "stream",
     "text": [
      "Has NaN or None values in 'path': False\n",
      "Number of NaN or None values in 'path': 0\n"
     ]
    }
   ],
   "source": [
    "has_nan_or_none = df['path'].isnull().any()\n",
    "print(f\"Has NaN or None values in 'path': {has_nan_or_none}\")\n",
    "count_nan_or_none = df['path'].isnull().sum()\n",
    "print(f\"Number of NaN or None values in 'path': {count_nan_or_none}\")\n"
   ]
  },
  {
   "cell_type": "code",
   "execution_count": 57,
   "id": "6a079f56",
   "metadata": {
    "ExecuteTime": {
     "end_time": "2023-12-21T10:14:40.181182Z",
     "start_time": "2023-12-21T10:14:40.176408Z"
    }
   },
   "outputs": [
    {
     "name": "stdout",
     "output_type": "stream",
     "text": [
      "Has empty strings in 'path': False\n",
      "Number of empty strings in 'path': 0\n"
     ]
    }
   ],
   "source": [
    "has_empty_string = (df['path'] == \"\").any()\n",
    "print(f\"Has empty strings in 'path': {has_empty_string}\")\n",
    "count_empty_string = (df['path'] == \"\").sum()\n",
    "print(f\"Number of empty strings in 'path': {count_empty_string}\")\n"
   ]
  },
  {
   "cell_type": "markdown",
   "id": "ae2e5bd9",
   "metadata": {},
   "source": [
    "# Exploration "
   ]
  },
  {
   "cell_type": "code",
   "execution_count": null,
   "id": "1b772d88",
   "metadata": {
    "ExecuteTime": {
     "end_time": "2023-12-21T09:38:14.510037Z",
     "start_time": "2023-12-21T09:38:14.487057Z"
    }
   },
   "outputs": [],
   "source": [
    "fr = final_df[final_df['path'] == '/2 Example of email to be sent to the subcontracting company']"
   ]
  },
  {
   "cell_type": "code",
   "execution_count": null,
   "id": "e2fe322d",
   "metadata": {},
   "outputs": [],
   "source": [
    "fr.iloc[0,2]"
   ]
  },
  {
   "cell_type": "code",
   "execution_count": null,
   "id": "6d197233",
   "metadata": {},
   "outputs": [],
   "source": [
    "# Original string with encoding issues\n",
    "original_str = 'Bonjour , Dans le cadre de notre bon de commande KC-XXXXX-PO-YYYY_ZZ , nous avons besoin quâ\\x80\\x99un dÃ©placement soit effectuÃ© du XX/XX/XXXX au YY/YY/YYYY en ( pays ). Veuillez trouver en piÃ¨ce jointe la demande de dÃ©placement contenant les dÃ©tails nÃ©cessaires . Pouvez-vous confirmer la bonne rÃ©ception de cette demande dans les 3 jours ouvrÃ©s ? Cordialement Last modification of the file the 2023-09-01 11 : 58 : 15 +0200 with version 7e97094382d4cae646d5c9560a6c582f064a493b Generated with global version de4d97563dd503add2b3c6a21a782e005e97b3ca on 2023-10-02 12 : 50 : 21 +0000'\n",
    "\n",
    "# Step 1: Convert the wrongly encoded text into \"bytes\" assuming it was incorrectly decoded using 'latin1'\n",
    "bytes_str = original_str.encode('latin1')\n",
    "\n",
    "# Step 2: Decode the bytes back into a string using 'utf-8'\n",
    "correctly_decoded_str = bytes_str.decode('utf-8')\n",
    "\n",
    "# Print or use the correctly decoded string\n",
    "print(correctly_decoded_str)\n"
   ]
  },
  {
   "cell_type": "code",
   "execution_count": null,
   "id": "4e1c28bd",
   "metadata": {},
   "outputs": [],
   "source": [
    "def correct_encoding(text):\n",
    "    try:\n",
    "        return text.encode('latin1').decode('utf-8')\n",
    "    except AttributeError:  # handles cases where the text is not a string (e.g., NaN)\n",
    "        return text\n",
    "    except UnicodeDecodeError:  # handles cases where decoding fails\n",
    "        return text  # or any other action you see fit"
   ]
  },
  {
   "cell_type": "code",
   "execution_count": null,
   "id": "416a2054",
   "metadata": {},
   "outputs": [],
   "source": [
    "# Apply the correction to the 'text' column\n",
    "df['text'] = df['text'].apply(correct_encoding)"
   ]
  },
  {
   "cell_type": "code",
   "execution_count": null,
   "id": "ee248b56",
   "metadata": {},
   "outputs": [],
   "source": [
    "df"
   ]
  },
  {
   "cell_type": "code",
   "execution_count": 58,
   "id": "7196cba3",
   "metadata": {
    "ExecuteTime": {
     "end_time": "2023-12-21T10:14:44.089594Z",
     "start_time": "2023-12-21T10:14:44.087141Z"
    }
   },
   "outputs": [],
   "source": [
    "final_df = df"
   ]
  },
  {
   "cell_type": "markdown",
   "id": "7a8a55e6",
   "metadata": {},
   "source": [
    "# Change Path "
   ]
  },
  {
   "cell_type": "code",
   "execution_count": 59,
   "id": "52fffff5",
   "metadata": {
    "ExecuteTime": {
     "end_time": "2023-12-21T10:14:45.277980Z",
     "start_time": "2023-12-21T10:14:45.273863Z"
    }
   },
   "outputs": [
    {
     "data": {
      "text/plain": [
       "'http://192.168.48.22:8082/repository/qa/QMS.html#documents'"
      ]
     },
     "execution_count": 59,
     "metadata": {},
     "output_type": "execute_result"
    }
   ],
   "source": [
    "df.iloc[3,3]"
   ]
  },
  {
   "cell_type": "code",
   "execution_count": 60,
   "id": "5c41ffbc",
   "metadata": {
    "ExecuteTime": {
     "end_time": "2023-12-21T10:14:45.536063Z",
     "start_time": "2023-12-21T10:14:45.533130Z"
    }
   },
   "outputs": [],
   "source": [
    "final_df = df"
   ]
  },
  {
   "cell_type": "code",
   "execution_count": 61,
   "id": "06923bac",
   "metadata": {
    "ExecuteTime": {
     "end_time": "2023-12-21T10:14:45.754132Z",
     "start_time": "2023-12-21T10:14:45.750131Z"
    }
   },
   "outputs": [],
   "source": [
    "def modify_path(row):\n",
    "    # Extract the last part of the file_path (after the last '/')\n",
    "    file_name = row['file_path'].split('/')[-1]\n",
    "    \n",
    "    # Remove the extension (.html) to get only the name\n",
    "    name_without_extension = file_name.split('.')[0]\n",
    "    \n",
    "    # Add the extracted name to the beginning of the 'path' with '/'\n",
    "    new_path = '/' + name_without_extension + row['path']\n",
    "    \n",
    "    # Modify the 'path' in the row\n",
    "    row['path'] = new_path\n",
    "    \n",
    "    return row"
   ]
  },
  {
   "cell_type": "code",
   "execution_count": 62,
   "id": "ceac504f",
   "metadata": {
    "ExecuteTime": {
     "end_time": "2023-12-21T10:14:47.539686Z",
     "start_time": "2023-12-21T10:14:47.513028Z"
    }
   },
   "outputs": [],
   "source": [
    "test_df = final_df.apply(modify_path, axis=1)"
   ]
  },
  {
   "cell_type": "code",
   "execution_count": 63,
   "id": "6cddb818",
   "metadata": {
    "ExecuteTime": {
     "end_time": "2023-12-21T10:14:47.728245Z",
     "start_time": "2023-12-21T10:14:47.724289Z"
    }
   },
   "outputs": [
    {
     "data": {
      "text/plain": [
       "documentation                                       Quality Manual\n",
       "path                              /QMS/2 Quality Management System\n",
       "text             Kratos Communications SAS Quality Manual Krato...\n",
       "file_path        http://192.168.48.22:8082/repository/qa/QMS.ht...\n",
       "word_count                                                      33\n",
       "Name: 1, dtype: object"
      ]
     },
     "execution_count": 63,
     "metadata": {},
     "output_type": "execute_result"
    }
   ],
   "source": [
    "test_df.iloc[1]"
   ]
  },
  {
   "cell_type": "code",
   "execution_count": 64,
   "id": "5ea2b532",
   "metadata": {
    "ExecuteTime": {
     "end_time": "2023-12-21T10:14:47.935531Z",
     "start_time": "2023-12-21T10:14:47.931375Z"
    }
   },
   "outputs": [
    {
     "data": {
      "text/plain": [
       "'http://192.168.48.22:8082/repository/qa/QMS.html#quality-management-system'"
      ]
     },
     "execution_count": 64,
     "metadata": {},
     "output_type": "execute_result"
    }
   ],
   "source": [
    "test_df.iloc[1,3]"
   ]
  },
  {
   "cell_type": "code",
   "execution_count": 65,
   "id": "dae1e2fa",
   "metadata": {
    "ExecuteTime": {
     "end_time": "2023-12-21T10:14:48.135426Z",
     "start_time": "2023-12-21T10:14:48.133117Z"
    }
   },
   "outputs": [],
   "source": [
    "final_df = test_df"
   ]
  },
  {
   "cell_type": "code",
   "execution_count": 66,
   "id": "e93f7424",
   "metadata": {
    "ExecuteTime": {
     "end_time": "2023-12-21T10:14:48.331333Z",
     "start_time": "2023-12-21T10:14:48.321741Z"
    }
   },
   "outputs": [
    {
     "data": {
      "text/html": [
       "<div>\n",
       "<style scoped>\n",
       "    .dataframe tbody tr th:only-of-type {\n",
       "        vertical-align: middle;\n",
       "    }\n",
       "\n",
       "    .dataframe tbody tr th {\n",
       "        vertical-align: top;\n",
       "    }\n",
       "\n",
       "    .dataframe thead th {\n",
       "        text-align: right;\n",
       "    }\n",
       "</style>\n",
       "<table border=\"1\" class=\"dataframe\">\n",
       "  <thead>\n",
       "    <tr style=\"text-align: right;\">\n",
       "      <th></th>\n",
       "      <th>documentation</th>\n",
       "      <th>path</th>\n",
       "      <th>text</th>\n",
       "      <th>file_path</th>\n",
       "      <th>word_count</th>\n",
       "    </tr>\n",
       "  </thead>\n",
       "  <tbody>\n",
       "    <tr>\n",
       "      <th>0</th>\n",
       "      <td>Quality Manual</td>\n",
       "      <td>/QMS/1 Introduction</td>\n",
       "      <td>Welcome to Kratos QMS Quality Policy \"Our goal...</td>\n",
       "      <td>http://192.168.48.22:8082/repository/qa/QMS.ht...</td>\n",
       "      <td>62</td>\n",
       "    </tr>\n",
       "    <tr>\n",
       "      <th>1</th>\n",
       "      <td>Quality Manual</td>\n",
       "      <td>/QMS/2 Quality Management System</td>\n",
       "      <td>Kratos Communications SAS Quality Manual Krato...</td>\n",
       "      <td>http://192.168.48.22:8082/repository/qa/QMS.ht...</td>\n",
       "      <td>33</td>\n",
       "    </tr>\n",
       "    <tr>\n",
       "      <th>2</th>\n",
       "      <td>Quality Manual</td>\n",
       "      <td>/QMS/3 Reference Documents</td>\n",
       "      <td>ISO 9001 - Systèmes de management de la qualit...</td>\n",
       "      <td>http://192.168.48.22:8082/repository/qa/QMS.ht...</td>\n",
       "      <td>23</td>\n",
       "    </tr>\n",
       "    <tr>\n",
       "      <th>3</th>\n",
       "      <td>Quality Manual</td>\n",
       "      <td>/QMS/4 List of Processes/4.1 Documents</td>\n",
       "      <td>Process Template Document Management Product-P...</td>\n",
       "      <td>http://192.168.48.22:8082/repository/qa/QMS.ht...</td>\n",
       "      <td>26</td>\n",
       "    </tr>\n",
       "    <tr>\n",
       "      <th>4</th>\n",
       "      <td>Quality Manual</td>\n",
       "      <td>/QMS/4 List of Processes/4.2 Human Resources</td>\n",
       "      <td>Process Template Work Instructions Human Resou...</td>\n",
       "      <td>http://192.168.48.22:8082/repository/qa/QMS.ht...</td>\n",
       "      <td>37</td>\n",
       "    </tr>\n",
       "    <tr>\n",
       "      <th>...</th>\n",
       "      <td>...</td>\n",
       "      <td>...</td>\n",
       "      <td>...</td>\n",
       "      <td>...</td>\n",
       "      <td>...</td>\n",
       "    </tr>\n",
       "    <tr>\n",
       "      <th>434</th>\n",
       "      <td>Quality Manual</td>\n",
       "      <td>/Facility_Access_Control_Policy/2 Process/2.4 ...</td>\n",
       "      <td>Access to certain rooms is limited by a code l...</td>\n",
       "      <td>http://192.168.48.22:8082/repository/qa/Facili...</td>\n",
       "      <td>85</td>\n",
       "    </tr>\n",
       "    <tr>\n",
       "      <th>435</th>\n",
       "      <td>Quality Manual</td>\n",
       "      <td>/Facility_Access_Control_Policy/2 Process/2.4 ...</td>\n",
       "      <td>The FSO organizes an annual review of the acce...</td>\n",
       "      <td>http://192.168.48.22:8082/repository/qa/Facili...</td>\n",
       "      <td>56</td>\n",
       "    </tr>\n",
       "    <tr>\n",
       "      <th>436</th>\n",
       "      <td>Quality Manual</td>\n",
       "      <td>/Facility_Access_Control_Policy/3 Emergency ca...</td>\n",
       "      <td>In case of emergencies , in particular emergen...</td>\n",
       "      <td>http://192.168.48.22:8082/repository/qa/Facili...</td>\n",
       "      <td>112</td>\n",
       "    </tr>\n",
       "    <tr>\n",
       "      <th>437</th>\n",
       "      <td>Quality Manual</td>\n",
       "      <td>/Facility_Access_Control_Policy/4 Records</td>\n",
       "      <td>Name Location Responsability Minimum Backup Fr...</td>\n",
       "      <td>http://192.168.48.22:8082/repository/qa/Facili...</td>\n",
       "      <td>61</td>\n",
       "    </tr>\n",
       "    <tr>\n",
       "      <th>438</th>\n",
       "      <td>Quality Manual</td>\n",
       "      <td>/template_version_information/1 Template Version</td>\n",
       "      <td>Document name Version Modification date Path A...</td>\n",
       "      <td>http://192.168.48.22:8082/repository/qa/templa...</td>\n",
       "      <td>934</td>\n",
       "    </tr>\n",
       "  </tbody>\n",
       "</table>\n",
       "<p>439 rows × 5 columns</p>\n",
       "</div>"
      ],
      "text/plain": [
       "      documentation                                               path  \\\n",
       "0    Quality Manual                                /QMS/1 Introduction   \n",
       "1    Quality Manual                   /QMS/2 Quality Management System   \n",
       "2    Quality Manual                         /QMS/3 Reference Documents   \n",
       "3    Quality Manual             /QMS/4 List of Processes/4.1 Documents   \n",
       "4    Quality Manual       /QMS/4 List of Processes/4.2 Human Resources   \n",
       "..              ...                                                ...   \n",
       "434  Quality Manual  /Facility_Access_Control_Policy/2 Process/2.4 ...   \n",
       "435  Quality Manual  /Facility_Access_Control_Policy/2 Process/2.4 ...   \n",
       "436  Quality Manual  /Facility_Access_Control_Policy/3 Emergency ca...   \n",
       "437  Quality Manual          /Facility_Access_Control_Policy/4 Records   \n",
       "438  Quality Manual   /template_version_information/1 Template Version   \n",
       "\n",
       "                                                  text  \\\n",
       "0    Welcome to Kratos QMS Quality Policy \"Our goal...   \n",
       "1    Kratos Communications SAS Quality Manual Krato...   \n",
       "2    ISO 9001 - Systèmes de management de la qualit...   \n",
       "3    Process Template Document Management Product-P...   \n",
       "4    Process Template Work Instructions Human Resou...   \n",
       "..                                                 ...   \n",
       "434  Access to certain rooms is limited by a code l...   \n",
       "435  The FSO organizes an annual review of the acce...   \n",
       "436  In case of emergencies , in particular emergen...   \n",
       "437  Name Location Responsability Minimum Backup Fr...   \n",
       "438  Document name Version Modification date Path A...   \n",
       "\n",
       "                                             file_path  word_count  \n",
       "0    http://192.168.48.22:8082/repository/qa/QMS.ht...          62  \n",
       "1    http://192.168.48.22:8082/repository/qa/QMS.ht...          33  \n",
       "2    http://192.168.48.22:8082/repository/qa/QMS.ht...          23  \n",
       "3    http://192.168.48.22:8082/repository/qa/QMS.ht...          26  \n",
       "4    http://192.168.48.22:8082/repository/qa/QMS.ht...          37  \n",
       "..                                                 ...         ...  \n",
       "434  http://192.168.48.22:8082/repository/qa/Facili...          85  \n",
       "435  http://192.168.48.22:8082/repository/qa/Facili...          56  \n",
       "436  http://192.168.48.22:8082/repository/qa/Facili...         112  \n",
       "437  http://192.168.48.22:8082/repository/qa/Facili...          61  \n",
       "438  http://192.168.48.22:8082/repository/qa/templa...         934  \n",
       "\n",
       "[439 rows x 5 columns]"
      ]
     },
     "execution_count": 66,
     "metadata": {},
     "output_type": "execute_result"
    }
   ],
   "source": [
    "final_df"
   ]
  },
  {
   "cell_type": "code",
   "execution_count": null,
   "id": "13171b0e",
   "metadata": {},
   "outputs": [],
   "source": []
  },
  {
   "cell_type": "markdown",
   "id": "9daa87cf",
   "metadata": {},
   "source": [
    "# Store in Chroma"
   ]
  },
  {
   "cell_type": "code",
   "execution_count": 67,
   "id": "edc3a468",
   "metadata": {
    "ExecuteTime": {
     "end_time": "2023-12-21T10:14:49.100404Z",
     "start_time": "2023-12-21T10:14:48.975119Z"
    }
   },
   "outputs": [
    {
     "name": "stderr",
     "output_type": "stream",
     "text": [
      "INFO:chromadb.telemetry.posthog:Anonymized telemetry enabled. See https://docs.trychroma.com/telemetry for more information.\n"
     ]
    }
   ],
   "source": [
    "chroma_client = client = chromadb.PersistentClient(path='C:/Users/Nathan/Kratos_data-Science/Chroma/v8')"
   ]
  },
  {
   "cell_type": "code",
   "execution_count": 68,
   "id": "bbeb5a39",
   "metadata": {
    "ExecuteTime": {
     "end_time": "2023-12-21T10:14:49.553792Z",
     "start_time": "2023-12-21T10:14:49.187359Z"
    }
   },
   "outputs": [
    {
     "name": "stderr",
     "output_type": "stream",
     "text": [
      "INFO:sentence_transformers.SentenceTransformer:Load pretrained SentenceTransformer: all-MiniLM-L6-v2\n"
     ]
    }
   ],
   "source": [
    "model = SentenceTransformer('all-MiniLM-L6-v2',  device='cuda')"
   ]
  },
  {
   "cell_type": "code",
   "execution_count": 69,
   "id": "28467dc2",
   "metadata": {
    "ExecuteTime": {
     "end_time": "2023-12-21T10:14:49.559612Z",
     "start_time": "2023-12-21T10:14:49.554790Z"
    }
   },
   "outputs": [
    {
     "data": {
      "text/plain": [
       "[Collection(name=Skyminer), Collection(name=QMS-T), Collection(name=EPOCH-T)]"
      ]
     },
     "execution_count": 69,
     "metadata": {},
     "output_type": "execute_result"
    }
   ],
   "source": [
    "chroma_client.list_collections()"
   ]
  },
  {
   "cell_type": "code",
   "execution_count": 70,
   "id": "beb13eeb",
   "metadata": {
    "ExecuteTime": {
     "end_time": "2023-12-21T10:14:51.080051Z",
     "start_time": "2023-12-21T10:14:49.624624Z"
    }
   },
   "outputs": [
    {
     "ename": "ValueError",
     "evalue": "Collection QMS-D does not exist.",
     "output_type": "error",
     "traceback": [
      "\u001b[1;31m---------------------------------------------------------------------------\u001b[0m",
      "\u001b[1;31mValueError\u001b[0m                                Traceback (most recent call last)",
      "Cell \u001b[1;32mIn[70], line 1\u001b[0m\n\u001b[1;32m----> 1\u001b[0m chroma_client\u001b[38;5;241m.\u001b[39mdelete_collection(name\u001b[38;5;241m=\u001b[39m\u001b[38;5;124m\"\u001b[39m\u001b[38;5;124mQMS-D\u001b[39m\u001b[38;5;124m\"\u001b[39m)\n",
      "File \u001b[1;32m~\\anaconda3\\envs\\Html_embeddings\\Lib\\site-packages\\chromadb\\api\\segment.py:231\u001b[0m, in \u001b[0;36mSegmentAPI.delete_collection\u001b[1;34m(self, name)\u001b[0m\n\u001b[0;32m    229\u001b[0m         \u001b[38;5;28;01mdel\u001b[39;00m \u001b[38;5;28mself\u001b[39m\u001b[38;5;241m.\u001b[39m_collection_cache[existing[\u001b[38;5;241m0\u001b[39m][\u001b[38;5;124m\"\u001b[39m\u001b[38;5;124mid\u001b[39m\u001b[38;5;124m\"\u001b[39m]]\n\u001b[0;32m    230\u001b[0m \u001b[38;5;28;01melse\u001b[39;00m:\n\u001b[1;32m--> 231\u001b[0m     \u001b[38;5;28;01mraise\u001b[39;00m \u001b[38;5;167;01mValueError\u001b[39;00m(\u001b[38;5;124mf\u001b[39m\u001b[38;5;124m\"\u001b[39m\u001b[38;5;124mCollection \u001b[39m\u001b[38;5;132;01m{\u001b[39;00mname\u001b[38;5;132;01m}\u001b[39;00m\u001b[38;5;124m does not exist.\u001b[39m\u001b[38;5;124m\"\u001b[39m)\n",
      "\u001b[1;31mValueError\u001b[0m: Collection QMS-D does not exist."
     ]
    }
   ],
   "source": [
    "chroma_client.delete_collection(name=\"QMS-D\")"
   ]
  },
  {
   "cell_type": "code",
   "execution_count": null,
   "id": "e053ff79",
   "metadata": {
    "ExecuteTime": {
     "end_time": "2023-12-21T10:14:51.081053Z",
     "start_time": "2023-12-21T10:14:51.081053Z"
    }
   },
   "outputs": [],
   "source": [
    "# Initialize Chroma\n",
    "vectorstore = chroma_client.get_or_create_collection(name=\"QMS-D\")"
   ]
  },
  {
   "cell_type": "code",
   "execution_count": null,
   "id": "1171a93c",
   "metadata": {
    "ExecuteTime": {
     "end_time": "2023-12-21T10:14:51.082053Z",
     "start_time": "2023-12-21T10:14:51.082053Z"
    }
   },
   "outputs": [],
   "source": [
    "# Lists to store the extracted information from documents\n",
    "documents_list = []\n",
    "embeddings_list = []\n",
    "metadatas_list = []\n",
    "ids_list = []\n",
    "\n",
    "# Assuming 'content' in your dataframe is what you consider as the document/page_content\n",
    "for _, row in final_df.iterrows():\n",
    "    embedding = model.encode(row['text'])\n",
    "    \n",
    "    # Constructing metadata\n",
    "    metadata = {\n",
    "        \"source\": f\"{row['path']}\",\n",
    "        \"documentation\": row['documentation'],\n",
    "        \"file_path\": row['file_path'],\n",
    "        \"word_count\": row['word_count']\n",
    "    }\n",
    "\n",
    "    documents_list.append(row['text'])\n",
    "    embeddings_list.append(embedding.tolist())\n",
    "    metadatas_list.append(metadata)\n",
    "\n",
    "# Generating IDs for the documents\n",
    "ids_list = [\"v\" + str(i + 1) for i in range(len(documents_list))]\n",
    "\n",
    "# Add the embedded documents to the collection in Chroma\n",
    "vectorstore.add(\n",
    "    documents=documents_list,\n",
    "    embeddings=embeddings_list,\n",
    "    metadatas=metadatas_list,\n",
    "    ids=ids_list\n",
    ")\n"
   ]
  },
  {
   "cell_type": "code",
   "execution_count": null,
   "id": "d73c5bef",
   "metadata": {
    "ExecuteTime": {
     "end_time": "2023-12-21T10:14:51.083053Z",
     "start_time": "2023-12-21T10:14:51.083053Z"
    }
   },
   "outputs": [],
   "source": [
    "vectorstore"
   ]
  },
  {
   "cell_type": "code",
   "execution_count": null,
   "id": "78c3d8c8",
   "metadata": {
    "ExecuteTime": {
     "end_time": "2023-12-21T09:50:04.548066Z",
     "start_time": "2023-12-21T09:50:04.544065Z"
    }
   },
   "outputs": [],
   "source": [
    "print(\"There are\", vectorstore.count(), \"in the collection\")"
   ]
  },
  {
   "cell_type": "markdown",
   "id": "ab5d5b16",
   "metadata": {},
   "source": [
    "# Store in Chroma with cosin "
   ]
  },
  {
   "cell_type": "code",
   "execution_count": 71,
   "id": "f357ac4a",
   "metadata": {
    "ExecuteTime": {
     "end_time": "2023-12-21T10:14:54.531946Z",
     "start_time": "2023-12-21T10:14:54.325269Z"
    }
   },
   "outputs": [
    {
     "name": "stderr",
     "output_type": "stream",
     "text": [
      "INFO:chromadb.telemetry.posthog:Anonymized telemetry enabled. See https://docs.trychroma.com/telemetry for more information.\n",
      "INFO:sentence_transformers.SentenceTransformer:Load pretrained SentenceTransformer: all-MiniLM-L6-v2\n"
     ]
    }
   ],
   "source": [
    "chroma_client = client = chromadb.PersistentClient(path='C:/Users/Nathan/Kratos_data-Science/Chroma/v8')\n",
    "model = SentenceTransformer('all-MiniLM-L6-v2',  device='cuda')"
   ]
  },
  {
   "cell_type": "code",
   "execution_count": 72,
   "id": "3afb7edb",
   "metadata": {
    "ExecuteTime": {
     "end_time": "2023-12-21T10:14:54.549698Z",
     "start_time": "2023-12-21T10:14:54.544945Z"
    }
   },
   "outputs": [
    {
     "data": {
      "text/plain": [
       "[Collection(name=Skyminer), Collection(name=QMS-T), Collection(name=EPOCH-T)]"
      ]
     },
     "execution_count": 72,
     "metadata": {},
     "output_type": "execute_result"
    }
   ],
   "source": [
    "chroma_client.list_collections()"
   ]
  },
  {
   "cell_type": "code",
   "execution_count": 73,
   "id": "aba56783",
   "metadata": {
    "ExecuteTime": {
     "end_time": "2023-12-21T10:14:54.763212Z",
     "start_time": "2023-12-21T10:14:54.743960Z"
    }
   },
   "outputs": [],
   "source": [
    "# Initialize Chroma\n",
    "vectorstore = chroma_client.get_or_create_collection(name=\"QMS-D\",  metadata={\"hnsw:space\": \"cosine\"})"
   ]
  },
  {
   "cell_type": "code",
   "execution_count": 74,
   "id": "055cd461",
   "metadata": {
    "ExecuteTime": {
     "end_time": "2023-12-21T10:15:00.449679Z",
     "start_time": "2023-12-21T10:14:54.954878Z"
    }
   },
   "outputs": [
    {
     "name": "stderr",
     "output_type": "stream",
     "text": [
      "Batches: 100%|██████████| 1/1 [00:00<00:00,  1.63it/s]\n",
      "Batches: 100%|██████████| 1/1 [00:00<00:00, 166.65it/s]\n",
      "Batches: 100%|██████████| 1/1 [00:00<00:00, 166.65it/s]\n",
      "Batches: 100%|██████████| 1/1 [00:00<00:00, 199.96it/s]\n",
      "Batches: 100%|██████████| 1/1 [00:00<00:00, 199.95it/s]\n",
      "Batches: 100%|██████████| 1/1 [00:00<00:00, 166.64it/s]\n",
      "Batches: 100%|██████████| 1/1 [00:00<00:00, 199.94it/s]\n",
      "Batches: 100%|██████████| 1/1 [00:00<00:00, 166.66it/s]\n",
      "Batches: 100%|██████████| 1/1 [00:00<00:00, 166.64it/s]\n",
      "Batches: 100%|██████████| 1/1 [00:00<00:00, 166.64it/s]\n",
      "Batches: 100%|██████████| 1/1 [00:00<00:00, 166.66it/s]\n",
      "Batches: 100%|██████████| 1/1 [00:00<00:00, 142.81it/s]\n",
      "Batches: 100%|██████████| 1/1 [00:00<00:00, 142.83it/s]\n",
      "Batches: 100%|██████████| 1/1 [00:00<00:00, 124.97it/s]\n",
      "Batches: 100%|██████████| 1/1 [00:00<00:00, 166.63it/s]\n",
      "Batches: 100%|██████████| 1/1 [00:00<00:00, 142.83it/s]\n",
      "Batches: 100%|██████████| 1/1 [00:00<00:00, 166.66it/s]\n",
      "Batches: 100%|██████████| 1/1 [00:00<00:00, 166.68it/s]\n",
      "Batches: 100%|██████████| 1/1 [00:00<00:00, 124.98it/s]\n",
      "Batches: 100%|██████████| 1/1 [00:00<00:00, 166.63it/s]\n",
      "Batches: 100%|██████████| 1/1 [00:00<00:00, 166.68it/s]\n",
      "Batches: 100%|██████████| 1/1 [00:00<00:00, 200.02it/s]\n",
      "Batches: 100%|██████████| 1/1 [00:00<00:00, 199.95it/s]\n",
      "Batches: 100%|██████████| 1/1 [00:00<00:00, 166.62it/s]\n",
      "Batches: 100%|██████████| 1/1 [00:00<00:00, 166.63it/s]\n",
      "Batches: 100%|██████████| 1/1 [00:00<00:00, 166.60it/s]\n",
      "Batches: 100%|██████████| 1/1 [00:00<00:00, 166.63it/s]\n",
      "Batches: 100%|██████████| 1/1 [00:00<00:00, 199.98it/s]\n",
      "Batches: 100%|██████████| 1/1 [00:00<00:00, 166.61it/s]\n",
      "Batches: 100%|██████████| 1/1 [00:00<00:00, 166.63it/s]\n",
      "Batches: 100%|██████████| 1/1 [00:00<00:00, 199.97it/s]\n",
      "Batches: 100%|██████████| 1/1 [00:00<00:00, 166.63it/s]\n",
      "Batches: 100%|██████████| 1/1 [00:00<00:00, 199.97it/s]\n",
      "Batches: 100%|██████████| 1/1 [00:00<00:00, 166.61it/s]\n",
      "Batches: 100%|██████████| 1/1 [00:00<00:00, 166.64it/s]\n",
      "Batches: 100%|██████████| 1/1 [00:00<00:00, 199.95it/s]\n",
      "Batches: 100%|██████████| 1/1 [00:00<00:00, 199.99it/s]\n",
      "Batches: 100%|██████████| 1/1 [00:00<00:00, 199.99it/s]\n",
      "Batches: 100%|██████████| 1/1 [00:00<00:00, 199.91it/s]\n",
      "Batches: 100%|██████████| 1/1 [00:00<00:00, 166.63it/s]\n",
      "Batches: 100%|██████████| 1/1 [00:00<00:00, 124.98it/s]\n",
      "Batches: 100%|██████████| 1/1 [00:00<00:00, 166.69it/s]\n",
      "Batches: 100%|██████████| 1/1 [00:00<00:00, 166.68it/s]\n",
      "Batches: 100%|██████████| 1/1 [00:00<00:00, 142.82it/s]\n",
      "Batches: 100%|██████████| 1/1 [00:00<00:00, 166.64it/s]\n",
      "Batches: 100%|██████████| 1/1 [00:00<00:00, 166.63it/s]\n",
      "Batches: 100%|██████████| 1/1 [00:00<00:00, 199.99it/s]\n",
      "Batches: 100%|██████████| 1/1 [00:00<00:00, 166.63it/s]\n",
      "Batches: 100%|██████████| 1/1 [00:00<00:00, 166.64it/s]\n",
      "Batches: 100%|██████████| 1/1 [00:00<00:00, 200.02it/s]\n",
      "Batches: 100%|██████████| 1/1 [00:00<00:00, 166.65it/s]\n",
      "Batches: 100%|██████████| 1/1 [00:00<00:00, 166.63it/s]\n",
      "Batches: 100%|██████████| 1/1 [00:00<00:00, 166.67it/s]\n",
      "Batches: 100%|██████████| 1/1 [00:00<00:00, 142.82it/s]\n",
      "Batches: 100%|██████████| 1/1 [00:00<00:00, 166.65it/s]\n",
      "Batches: 100%|██████████| 1/1 [00:00<00:00, 166.63it/s]\n",
      "Batches: 100%|██████████| 1/1 [00:00<00:00, 199.96it/s]\n",
      "Batches: 100%|██████████| 1/1 [00:00<00:00, 166.62it/s]\n",
      "Batches: 100%|██████████| 1/1 [00:00<00:00, 142.81it/s]\n",
      "Batches: 100%|██████████| 1/1 [00:00<00:00, 166.59it/s]\n",
      "Batches: 100%|██████████| 1/1 [00:00<00:00, 166.63it/s]\n",
      "Batches: 100%|██████████| 1/1 [00:00<00:00, 166.67it/s]\n",
      "Batches: 100%|██████████| 1/1 [00:00<00:00, 166.63it/s]\n",
      "Batches: 100%|██████████| 1/1 [00:00<00:00, 199.94it/s]\n",
      "Batches: 100%|██████████| 1/1 [00:00<00:00, 142.86it/s]\n",
      "Batches: 100%|██████████| 1/1 [00:00<00:00, 199.98it/s]\n",
      "Batches: 100%|██████████| 1/1 [00:00<00:00, 199.97it/s]\n",
      "Batches: 100%|██████████| 1/1 [00:00<00:00, 166.67it/s]\n",
      "Batches: 100%|██████████| 1/1 [00:00<00:00, 142.82it/s]\n",
      "Batches: 100%|██████████| 1/1 [00:00<00:00, 166.65it/s]\n",
      "Batches: 100%|██████████| 1/1 [00:00<00:00, 166.69it/s]\n",
      "Batches: 100%|██████████| 1/1 [00:00<00:00, 166.64it/s]\n",
      "Batches: 100%|██████████| 1/1 [00:00<00:00, 142.86it/s]\n",
      "Batches: 100%|██████████| 1/1 [00:00<00:00, 166.63it/s]\n",
      "Batches: 100%|██████████| 1/1 [00:00<00:00, 166.67it/s]\n",
      "Batches: 100%|██████████| 1/1 [00:00<00:00, 166.59it/s]\n",
      "Batches: 100%|██████████| 1/1 [00:00<00:00, 166.61it/s]\n",
      "Batches: 100%|██████████| 1/1 [00:00<00:00, 166.68it/s]\n",
      "Batches: 100%|██████████| 1/1 [00:00<00:00, 166.61it/s]\n",
      "Batches: 100%|██████████| 1/1 [00:00<00:00, 166.63it/s]\n",
      "Batches: 100%|██████████| 1/1 [00:00<00:00, 200.01it/s]\n",
      "Batches: 100%|██████████| 1/1 [00:00<00:00, 166.67it/s]\n",
      "Batches: 100%|██████████| 1/1 [00:00<00:00, 166.63it/s]\n",
      "Batches: 100%|██████████| 1/1 [00:00<00:00, 199.94it/s]\n",
      "Batches: 100%|██████████| 1/1 [00:00<00:00, 166.65it/s]\n",
      "Batches: 100%|██████████| 1/1 [00:00<00:00, 166.67it/s]\n",
      "Batches: 100%|██████████| 1/1 [00:00<00:00, 166.63it/s]\n",
      "Batches: 100%|██████████| 1/1 [00:00<00:00, 166.61it/s]\n",
      "Batches: 100%|██████████| 1/1 [00:00<00:00, 142.83it/s]\n",
      "Batches: 100%|██████████| 1/1 [00:00<00:00, 199.95it/s]\n",
      "Batches: 100%|██████████| 1/1 [00:00<00:00, 166.63it/s]\n",
      "Batches: 100%|██████████| 1/1 [00:00<00:00, 166.63it/s]\n",
      "Batches: 100%|██████████| 1/1 [00:00<00:00, 111.10it/s]\n",
      "Batches: 100%|██████████| 1/1 [00:00<00:00, 166.59it/s]\n",
      "Batches: 100%|██████████| 1/1 [00:00<00:00, 200.00it/s]\n",
      "Batches: 100%|██████████| 1/1 [00:00<00:00, 166.62it/s]\n",
      "Batches: 100%|██████████| 1/1 [00:00<00:00, 124.98it/s]\n",
      "Batches: 100%|██████████| 1/1 [00:00<00:00, 166.63it/s]\n",
      "Batches: 100%|██████████| 1/1 [00:00<00:00, 199.97it/s]\n",
      "Batches: 100%|██████████| 1/1 [00:00<00:00, 166.65it/s]\n",
      "Batches: 100%|██████████| 1/1 [00:00<00:00, 142.80it/s]\n",
      "Batches: 100%|██████████| 1/1 [00:00<00:00, 199.98it/s]\n",
      "Batches: 100%|██████████| 1/1 [00:00<00:00, 124.98it/s]\n",
      "Batches: 100%|██████████| 1/1 [00:00<00:00, 142.84it/s]\n",
      "Batches: 100%|██████████| 1/1 [00:00<00:00, 166.63it/s]\n",
      "Batches: 100%|██████████| 1/1 [00:00<00:00, 199.96it/s]\n",
      "Batches: 100%|██████████| 1/1 [00:00<00:00, 166.63it/s]\n",
      "Batches: 100%|██████████| 1/1 [00:00<00:00, 142.83it/s]\n",
      "Batches: 100%|██████████| 1/1 [00:00<00:00, 199.98it/s]\n",
      "Batches: 100%|██████████| 1/1 [00:00<00:00, 166.67it/s]\n",
      "Batches: 100%|██████████| 1/1 [00:00<00:00, 166.61it/s]\n",
      "Batches: 100%|██████████| 1/1 [00:00<00:00, 166.64it/s]\n",
      "Batches: 100%|██████████| 1/1 [00:00<00:00, 99.97it/s]\n",
      "Batches: 100%|██████████| 1/1 [00:00<00:00, 166.59it/s]\n",
      "Batches: 100%|██████████| 1/1 [00:00<00:00, 166.62it/s]\n",
      "Batches: 100%|██████████| 1/1 [00:00<00:00, 199.97it/s]\n",
      "Batches: 100%|██████████| 1/1 [00:00<00:00, 166.59it/s]\n",
      "Batches: 100%|██████████| 1/1 [00:00<00:00, 142.84it/s]\n",
      "Batches: 100%|██████████| 1/1 [00:00<00:00, 142.86it/s]\n",
      "Batches: 100%|██████████| 1/1 [00:00<00:00, 142.81it/s]\n",
      "Batches: 100%|██████████| 1/1 [00:00<00:00, 166.65it/s]\n",
      "Batches: 100%|██████████| 1/1 [00:00<00:00, 166.65it/s]\n",
      "Batches: 100%|██████████| 1/1 [00:00<00:00, 166.64it/s]\n",
      "Batches: 100%|██████████| 1/1 [00:00<00:00, 166.65it/s]\n",
      "Batches: 100%|██████████| 1/1 [00:00<00:00, 166.63it/s]\n",
      "Batches: 100%|██████████| 1/1 [00:00<00:00, 200.00it/s]\n",
      "Batches: 100%|██████████| 1/1 [00:00<00:00, 166.60it/s]\n",
      "Batches: 100%|██████████| 1/1 [00:00<00:00, 166.62it/s]\n",
      "Batches: 100%|██████████| 1/1 [00:00<00:00, 199.94it/s]\n",
      "Batches: 100%|██████████| 1/1 [00:00<00:00, 199.91it/s]\n",
      "Batches: 100%|██████████| 1/1 [00:00<00:00, 199.98it/s]\n",
      "Batches: 100%|██████████| 1/1 [00:00<00:00, 166.63it/s]\n",
      "Batches: 100%|██████████| 1/1 [00:00<00:00, 199.97it/s]\n",
      "Batches: 100%|██████████| 1/1 [00:00<00:00, 199.97it/s]\n",
      "Batches: 100%|██████████| 1/1 [00:00<00:00, 166.64it/s]\n",
      "Batches: 100%|██████████| 1/1 [00:00<00:00, 142.82it/s]\n",
      "Batches: 100%|██████████| 1/1 [00:00<00:00, 166.64it/s]\n",
      "Batches: 100%|██████████| 1/1 [00:00<00:00, 166.65it/s]\n",
      "Batches: 100%|██████████| 1/1 [00:00<00:00, 199.93it/s]\n",
      "Batches: 100%|██████████| 1/1 [00:00<00:00, 142.82it/s]\n",
      "Batches: 100%|██████████| 1/1 [00:00<00:00, 166.64it/s]\n",
      "Batches: 100%|██████████| 1/1 [00:00<00:00, 166.63it/s]\n",
      "Batches: 100%|██████████| 1/1 [00:00<00:00, 142.82it/s]\n",
      "Batches: 100%|██████████| 1/1 [00:00<00:00, 166.63it/s]\n",
      "Batches: 100%|██████████| 1/1 [00:00<00:00, 199.96it/s]\n",
      "Batches: 100%|██████████| 1/1 [00:00<00:00, 199.97it/s]\n"
     ]
    },
    {
     "name": "stderr",
     "output_type": "stream",
     "text": [
      "Batches: 100%|██████████| 1/1 [00:00<00:00, 166.66it/s]\n",
      "Batches: 100%|██████████| 1/1 [00:00<00:00, 166.65it/s]\n",
      "Batches: 100%|██████████| 1/1 [00:00<00:00, 142.85it/s]\n",
      "Batches: 100%|██████████| 1/1 [00:00<00:00, 166.63it/s]\n",
      "Batches: 100%|██████████| 1/1 [00:00<00:00, 142.79it/s]\n",
      "Batches: 100%|██████████| 1/1 [00:00<00:00, 166.64it/s]\n",
      "Batches: 100%|██████████| 1/1 [00:00<00:00, 166.63it/s]\n",
      "Batches: 100%|██████████| 1/1 [00:00<00:00, 166.63it/s]\n",
      "Batches: 100%|██████████| 1/1 [00:00<00:00, 166.60it/s]\n",
      "Batches: 100%|██████████| 1/1 [00:00<00:00, 166.64it/s]\n",
      "Batches: 100%|██████████| 1/1 [00:00<00:00, 199.93it/s]\n",
      "Batches: 100%|██████████| 1/1 [00:00<00:00, 199.95it/s]\n",
      "Batches: 100%|██████████| 1/1 [00:00<00:00, 199.96it/s]\n",
      "Batches: 100%|██████████| 1/1 [00:00<00:00, 166.64it/s]\n",
      "Batches: 100%|██████████| 1/1 [00:00<00:00, 199.98it/s]\n",
      "Batches: 100%|██████████| 1/1 [00:00<00:00, 166.67it/s]\n",
      "Batches: 100%|██████████| 1/1 [00:00<00:00, 199.98it/s]\n",
      "Batches: 100%|██████████| 1/1 [00:00<00:00, 199.92it/s]\n",
      "Batches: 100%|██████████| 1/1 [00:00<00:00, 166.62it/s]\n",
      "Batches: 100%|██████████| 1/1 [00:00<00:00, 142.86it/s]\n",
      "Batches: 100%|██████████| 1/1 [00:00<00:00, 199.96it/s]\n",
      "Batches: 100%|██████████| 1/1 [00:00<00:00, 199.96it/s]\n",
      "Batches: 100%|██████████| 1/1 [00:00<00:00, 166.61it/s]\n",
      "Batches: 100%|██████████| 1/1 [00:00<00:00, 199.99it/s]\n",
      "Batches: 100%|██████████| 1/1 [00:00<00:00, 199.99it/s]\n",
      "Batches: 100%|██████████| 1/1 [00:00<00:00, 199.97it/s]\n",
      "Batches: 100%|██████████| 1/1 [00:00<00:00, 199.97it/s]\n",
      "Batches: 100%|██████████| 1/1 [00:00<00:00, 142.85it/s]\n",
      "Batches: 100%|██████████| 1/1 [00:00<00:00, 199.97it/s]\n",
      "Batches: 100%|██████████| 1/1 [00:00<00:00, 124.98it/s]\n",
      "Batches: 100%|██████████| 1/1 [00:00<00:00, 199.95it/s]\n",
      "Batches: 100%|██████████| 1/1 [00:00<00:00, 166.63it/s]\n",
      "Batches: 100%|██████████| 1/1 [00:00<00:00, 199.93it/s]\n",
      "Batches: 100%|██████████| 1/1 [00:00<00:00, 166.63it/s]\n",
      "Batches: 100%|██████████| 1/1 [00:00<00:00, 142.83it/s]\n",
      "Batches: 100%|██████████| 1/1 [00:00<00:00, 166.63it/s]\n",
      "Batches: 100%|██████████| 1/1 [00:00<00:00, 199.97it/s]\n",
      "Batches: 100%|██████████| 1/1 [00:00<00:00, 199.97it/s]\n",
      "Batches: 100%|██████████| 1/1 [00:00<00:00, 166.62it/s]\n",
      "Batches: 100%|██████████| 1/1 [00:00<00:00, 166.67it/s]\n",
      "Batches: 100%|██████████| 1/1 [00:00<00:00, 166.61it/s]\n",
      "Batches: 100%|██████████| 1/1 [00:00<00:00, 166.63it/s]\n",
      "Batches: 100%|██████████| 1/1 [00:00<00:00, 166.66it/s]\n",
      "Batches: 100%|██████████| 1/1 [00:00<00:00, 166.60it/s]\n",
      "Batches: 100%|██████████| 1/1 [00:00<00:00, 166.65it/s]\n",
      "Batches: 100%|██████████| 1/1 [00:00<00:00, 199.96it/s]\n",
      "Batches: 100%|██████████| 1/1 [00:00<00:00, 199.92it/s]\n",
      "Batches: 100%|██████████| 1/1 [00:00<00:00, 199.95it/s]\n",
      "Batches: 100%|██████████| 1/1 [00:00<00:00, 166.67it/s]\n",
      "Batches: 100%|██████████| 1/1 [00:00<00:00, 199.95it/s]\n",
      "Batches: 100%|██████████| 1/1 [00:00<00:00, 199.99it/s]\n",
      "Batches: 100%|██████████| 1/1 [00:00<00:00, 200.00it/s]\n",
      "Batches: 100%|██████████| 1/1 [00:00<00:00, 200.03it/s]\n",
      "Batches: 100%|██████████| 1/1 [00:00<00:00, 142.83it/s]\n",
      "Batches: 100%|██████████| 1/1 [00:00<00:00, 199.99it/s]\n",
      "Batches: 100%|██████████| 1/1 [00:00<00:00, 166.63it/s]\n",
      "Batches: 100%|██████████| 1/1 [00:00<00:00, 142.79it/s]\n",
      "Batches: 100%|██████████| 1/1 [00:00<00:00, 166.68it/s]\n",
      "Batches: 100%|██████████| 1/1 [00:00<00:00, 166.61it/s]\n",
      "Batches: 100%|██████████| 1/1 [00:00<00:00, 166.64it/s]\n",
      "Batches: 100%|██████████| 1/1 [00:00<00:00, 200.02it/s]\n",
      "Batches: 100%|██████████| 1/1 [00:00<00:00, 200.00it/s]\n",
      "Batches: 100%|██████████| 1/1 [00:00<00:00, 166.61it/s]\n",
      "Batches: 100%|██████████| 1/1 [00:00<00:00, 199.97it/s]\n",
      "Batches: 100%|██████████| 1/1 [00:00<00:00, 200.03it/s]\n",
      "Batches: 100%|██████████| 1/1 [00:00<00:00, 199.96it/s]\n",
      "Batches: 100%|██████████| 1/1 [00:00<00:00, 166.64it/s]\n",
      "Batches: 100%|██████████| 1/1 [00:00<00:00, 199.92it/s]\n",
      "Batches: 100%|██████████| 1/1 [00:00<00:00, 166.67it/s]\n",
      "Batches: 100%|██████████| 1/1 [00:00<00:00, 199.97it/s]\n",
      "Batches: 100%|██████████| 1/1 [00:00<00:00, 166.63it/s]\n",
      "Batches: 100%|██████████| 1/1 [00:00<00:00, 166.66it/s]\n",
      "Batches: 100%|██████████| 1/1 [00:00<00:00, 199.92it/s]\n",
      "Batches: 100%|██████████| 1/1 [00:00<00:00, 166.67it/s]\n",
      "Batches: 100%|██████████| 1/1 [00:00<00:00, 166.65it/s]\n",
      "Batches: 100%|██████████| 1/1 [00:00<00:00, 166.59it/s]\n",
      "Batches: 100%|██████████| 1/1 [00:00<00:00, 199.97it/s]\n",
      "Batches: 100%|██████████| 1/1 [00:00<00:00, 166.63it/s]\n",
      "Batches: 100%|██████████| 1/1 [00:00<00:00, 166.68it/s]\n",
      "Batches: 100%|██████████| 1/1 [00:00<00:00, 200.02it/s]\n",
      "Batches: 100%|██████████| 1/1 [00:00<00:00, 166.66it/s]\n",
      "Batches: 100%|██████████| 1/1 [00:00<00:00, 166.63it/s]\n",
      "Batches: 100%|██████████| 1/1 [00:00<00:00, 199.96it/s]\n",
      "Batches: 100%|██████████| 1/1 [00:00<00:00, 199.98it/s]\n",
      "Batches: 100%|██████████| 1/1 [00:00<00:00, 199.98it/s]\n",
      "Batches: 100%|██████████| 1/1 [00:00<00:00, 166.61it/s]\n",
      "Batches: 100%|██████████| 1/1 [00:00<00:00, 199.99it/s]\n",
      "Batches: 100%|██████████| 1/1 [00:00<00:00, 200.00it/s]\n",
      "Batches: 100%|██████████| 1/1 [00:00<00:00, 199.96it/s]\n",
      "Batches: 100%|██████████| 1/1 [00:00<00:00, 166.66it/s]\n",
      "Batches: 100%|██████████| 1/1 [00:00<00:00, 200.00it/s]\n",
      "Batches: 100%|██████████| 1/1 [00:00<00:00, 199.98it/s]\n",
      "Batches: 100%|██████████| 1/1 [00:00<00:00, 200.01it/s]\n",
      "Batches: 100%|██████████| 1/1 [00:00<00:00, 166.67it/s]\n",
      "Batches: 100%|██████████| 1/1 [00:00<00:00, 199.98it/s]\n",
      "Batches: 100%|██████████| 1/1 [00:00<00:00, 199.98it/s]\n",
      "Batches: 100%|██████████| 1/1 [00:00<00:00, 166.63it/s]\n",
      "Batches: 100%|██████████| 1/1 [00:00<00:00, 166.64it/s]\n",
      "Batches: 100%|██████████| 1/1 [00:00<00:00, 166.65it/s]\n",
      "Batches: 100%|██████████| 1/1 [00:00<00:00, 199.95it/s]\n",
      "Batches: 100%|██████████| 1/1 [00:00<00:00, 200.01it/s]\n",
      "Batches: 100%|██████████| 1/1 [00:00<00:00, 166.64it/s]\n",
      "Batches: 100%|██████████| 1/1 [00:00<00:00, 199.92it/s]\n",
      "Batches: 100%|██████████| 1/1 [00:00<00:00, 166.61it/s]\n",
      "Batches: 100%|██████████| 1/1 [00:00<00:00, 199.95it/s]\n",
      "Batches: 100%|██████████| 1/1 [00:00<00:00, 199.97it/s]\n",
      "Batches: 100%|██████████| 1/1 [00:00<00:00, 166.63it/s]\n",
      "Batches: 100%|██████████| 1/1 [00:00<00:00, 166.66it/s]\n",
      "Batches: 100%|██████████| 1/1 [00:00<00:00, 166.63it/s]\n",
      "Batches: 100%|██████████| 1/1 [00:00<00:00, 200.00it/s]\n",
      "Batches: 100%|██████████| 1/1 [00:00<00:00, 166.63it/s]\n",
      "Batches: 100%|██████████| 1/1 [00:00<00:00, 166.64it/s]\n",
      "Batches: 100%|██████████| 1/1 [00:00<00:00, 200.02it/s]\n",
      "Batches: 100%|██████████| 1/1 [00:00<00:00, 199.97it/s]\n",
      "Batches: 100%|██████████| 1/1 [00:00<00:00, 166.62it/s]\n",
      "Batches: 100%|██████████| 1/1 [00:00<00:00, 142.83it/s]\n",
      "Batches: 100%|██████████| 1/1 [00:00<00:00, 142.83it/s]\n",
      "Batches: 100%|██████████| 1/1 [00:00<00:00, 166.62it/s]\n",
      "Batches: 100%|██████████| 1/1 [00:00<00:00, 166.66it/s]\n",
      "Batches: 100%|██████████| 1/1 [00:00<00:00, 166.65it/s]\n",
      "Batches: 100%|██████████| 1/1 [00:00<00:00, 166.59it/s]\n",
      "Batches: 100%|██████████| 1/1 [00:00<00:00, 142.83it/s]\n",
      "Batches: 100%|██████████| 1/1 [00:00<00:00, 199.93it/s]\n",
      "Batches: 100%|██████████| 1/1 [00:00<00:00, 199.96it/s]\n",
      "Batches: 100%|██████████| 1/1 [00:00<00:00, 166.63it/s]\n",
      "Batches: 100%|██████████| 1/1 [00:00<00:00, 142.82it/s]\n",
      "Batches: 100%|██████████| 1/1 [00:00<00:00, 111.09it/s]\n",
      "Batches: 100%|██████████| 1/1 [00:00<00:00, 142.84it/s]\n",
      "Batches: 100%|██████████| 1/1 [00:00<00:00, 199.97it/s]\n",
      "Batches: 100%|██████████| 1/1 [00:00<00:00, 166.64it/s]\n",
      "Batches: 100%|██████████| 1/1 [00:00<00:00, 166.62it/s]\n",
      "Batches: 100%|██████████| 1/1 [00:00<00:00, 166.59it/s]\n",
      "Batches: 100%|██████████| 1/1 [00:00<00:00, 166.61it/s]\n",
      "Batches: 100%|██████████| 1/1 [00:00<00:00, 124.96it/s]\n",
      "Batches: 100%|██████████| 1/1 [00:00<00:00, 199.92it/s]\n",
      "Batches: 100%|██████████| 1/1 [00:00<00:00, 199.97it/s]\n",
      "Batches: 100%|██████████| 1/1 [00:00<00:00, 166.63it/s]\n",
      "Batches: 100%|██████████| 1/1 [00:00<00:00, 166.61it/s]\n",
      "Batches: 100%|██████████| 1/1 [00:00<00:00, 199.95it/s]\n",
      "Batches: 100%|██████████| 1/1 [00:00<00:00, 166.58it/s]\n",
      "Batches: 100%|██████████| 1/1 [00:00<00:00, 166.63it/s]\n",
      "Batches: 100%|██████████| 1/1 [00:00<00:00, 166.65it/s]\n",
      "Batches: 100%|██████████| 1/1 [00:00<00:00, 166.64it/s]\n",
      "Batches: 100%|██████████| 1/1 [00:00<00:00, 166.64it/s]\n",
      "Batches: 100%|██████████| 1/1 [00:00<00:00, 166.62it/s]\n",
      "Batches: 100%|██████████| 1/1 [00:00<00:00, 166.64it/s]\n"
     ]
    },
    {
     "name": "stderr",
     "output_type": "stream",
     "text": [
      "Batches: 100%|██████████| 1/1 [00:00<00:00, 111.09it/s]\n",
      "Batches: 100%|██████████| 1/1 [00:00<00:00, 166.63it/s]\n",
      "Batches: 100%|██████████| 1/1 [00:00<00:00, 166.64it/s]\n",
      "Batches: 100%|██████████| 1/1 [00:00<00:00, 166.65it/s]\n",
      "Batches: 100%|██████████| 1/1 [00:00<00:00, 199.95it/s]\n",
      "Batches: 100%|██████████| 1/1 [00:00<00:00, 166.63it/s]\n",
      "Batches: 100%|██████████| 1/1 [00:00<00:00, 166.64it/s]\n",
      "Batches: 100%|██████████| 1/1 [00:00<00:00, 142.82it/s]\n",
      "Batches: 100%|██████████| 1/1 [00:00<00:00, 166.69it/s]\n",
      "Batches: 100%|██████████| 1/1 [00:00<00:00, 199.97it/s]\n",
      "Batches: 100%|██████████| 1/1 [00:00<00:00, 166.67it/s]\n",
      "Batches: 100%|██████████| 1/1 [00:00<00:00, 166.62it/s]\n",
      "Batches: 100%|██████████| 1/1 [00:00<00:00, 199.96it/s]\n",
      "Batches: 100%|██████████| 1/1 [00:00<00:00, 199.94it/s]\n",
      "Batches: 100%|██████████| 1/1 [00:00<00:00, 199.95it/s]\n",
      "Batches: 100%|██████████| 1/1 [00:00<00:00, 166.65it/s]\n",
      "Batches: 100%|██████████| 1/1 [00:00<00:00, 199.95it/s]\n",
      "Batches: 100%|██████████| 1/1 [00:00<00:00, 99.97it/s]\n",
      "Batches: 100%|██████████| 1/1 [00:00<00:00, 199.99it/s]\n",
      "Batches: 100%|██████████| 1/1 [00:00<00:00, 166.65it/s]\n",
      "Batches: 100%|██████████| 1/1 [00:00<00:00, 142.85it/s]\n",
      "Batches: 100%|██████████| 1/1 [00:00<00:00, 199.97it/s]\n",
      "Batches: 100%|██████████| 1/1 [00:00<00:00, 142.82it/s]\n",
      "Batches: 100%|██████████| 1/1 [00:00<00:00, 199.95it/s]\n",
      "Batches: 100%|██████████| 1/1 [00:00<00:00, 199.87it/s]\n",
      "Batches: 100%|██████████| 1/1 [00:00<00:00, 166.65it/s]\n",
      "Batches: 100%|██████████| 1/1 [00:00<00:00, 199.95it/s]\n",
      "Batches: 100%|██████████| 1/1 [00:00<00:00, 200.00it/s]\n",
      "Batches: 100%|██████████| 1/1 [00:00<00:00, 166.66it/s]\n",
      "Batches: 100%|██████████| 1/1 [00:00<00:00, 199.98it/s]\n",
      "Batches: 100%|██████████| 1/1 [00:00<00:00, 200.00it/s]\n",
      "Batches: 100%|██████████| 1/1 [00:00<00:00, 250.00it/s]\n",
      "Batches: 100%|██████████| 1/1 [00:00<00:00, 199.96it/s]\n",
      "Batches: 100%|██████████| 1/1 [00:00<00:00, 199.96it/s]\n",
      "Batches: 100%|██████████| 1/1 [00:00<00:00, 166.63it/s]\n",
      "Batches: 100%|██████████| 1/1 [00:00<00:00, 199.94it/s]\n",
      "Batches: 100%|██████████| 1/1 [00:00<00:00, 166.64it/s]\n",
      "Batches: 100%|██████████| 1/1 [00:00<00:00, 200.02it/s]\n",
      "Batches: 100%|██████████| 1/1 [00:00<00:00, 200.00it/s]\n",
      "Batches: 100%|██████████| 1/1 [00:00<00:00, 199.95it/s]\n",
      "Batches: 100%|██████████| 1/1 [00:00<00:00, 199.92it/s]\n",
      "Batches: 100%|██████████| 1/1 [00:00<00:00, 199.97it/s]\n",
      "Batches: 100%|██████████| 1/1 [00:00<00:00, 166.63it/s]\n",
      "Batches: 100%|██████████| 1/1 [00:00<00:00, 200.00it/s]\n",
      "Batches: 100%|██████████| 1/1 [00:00<00:00, 142.82it/s]\n",
      "Batches: 100%|██████████| 1/1 [00:00<00:00, 199.96it/s]\n",
      "Batches: 100%|██████████| 1/1 [00:00<00:00, 199.96it/s]\n",
      "Batches: 100%|██████████| 1/1 [00:00<00:00, 199.91it/s]\n",
      "Batches: 100%|██████████| 1/1 [00:00<00:00, 199.99it/s]\n",
      "Batches: 100%|██████████| 1/1 [00:00<00:00, 166.59it/s]\n",
      "Batches: 100%|██████████| 1/1 [00:00<00:00, 166.61it/s]\n",
      "Batches: 100%|██████████| 1/1 [00:00<00:00, 166.62it/s]\n",
      "Batches: 100%|██████████| 1/1 [00:00<00:00, 200.00it/s]\n",
      "Batches: 100%|██████████| 1/1 [00:00<00:00, 199.92it/s]\n",
      "Batches: 100%|██████████| 1/1 [00:00<00:00, 199.99it/s]\n",
      "Batches: 100%|██████████| 1/1 [00:00<00:00, 199.95it/s]\n",
      "Batches: 100%|██████████| 1/1 [00:00<00:00, 166.65it/s]\n",
      "Batches: 100%|██████████| 1/1 [00:00<00:00, 166.65it/s]\n",
      "Batches: 100%|██████████| 1/1 [00:00<00:00, 199.96it/s]\n",
      "Batches: 100%|██████████| 1/1 [00:00<00:00, 199.97it/s]\n",
      "Batches: 100%|██████████| 1/1 [00:00<00:00, 166.65it/s]\n",
      "Batches: 100%|██████████| 1/1 [00:00<00:00, 166.67it/s]\n",
      "Batches: 100%|██████████| 1/1 [00:00<00:00, 199.95it/s]\n",
      "Batches: 100%|██████████| 1/1 [00:00<00:00, 199.96it/s]\n",
      "Batches: 100%|██████████| 1/1 [00:00<00:00, 199.99it/s]\n",
      "Batches: 100%|██████████| 1/1 [00:00<00:00, 199.99it/s]\n",
      "Batches: 100%|██████████| 1/1 [00:00<00:00, 200.02it/s]\n",
      "Batches: 100%|██████████| 1/1 [00:00<00:00, 199.99it/s]\n",
      "Batches: 100%|██████████| 1/1 [00:00<00:00, 250.02it/s]\n",
      "Batches: 100%|██████████| 1/1 [00:00<00:00, 199.96it/s]\n",
      "Batches: 100%|██████████| 1/1 [00:00<00:00, 166.63it/s]\n",
      "Batches: 100%|██████████| 1/1 [00:00<00:00, 142.82it/s]\n",
      "Batches: 100%|██████████| 1/1 [00:00<00:00, 142.80it/s]\n",
      "Batches: 100%|██████████| 1/1 [00:00<00:00, 199.96it/s]\n",
      "Batches: 100%|██████████| 1/1 [00:00<00:00, 166.59it/s]\n",
      "Batches: 100%|██████████| 1/1 [00:00<00:00, 199.97it/s]\n",
      "Batches: 100%|██████████| 1/1 [00:00<00:00, 166.61it/s]\n",
      "Batches: 100%|██████████| 1/1 [00:00<00:00, 166.65it/s]\n",
      "Batches: 100%|██████████| 1/1 [00:00<00:00, 166.66it/s]\n",
      "Batches: 100%|██████████| 1/1 [00:00<00:00, 166.63it/s]\n",
      "Batches: 100%|██████████| 1/1 [00:00<00:00, 199.97it/s]\n",
      "Batches: 100%|██████████| 1/1 [00:00<00:00, 166.65it/s]\n",
      "Batches: 100%|██████████| 1/1 [00:00<00:00, 249.99it/s]\n",
      "Batches: 100%|██████████| 1/1 [00:00<00:00, 200.00it/s]\n",
      "Batches: 100%|██████████| 1/1 [00:00<00:00, 199.94it/s]\n",
      "Batches: 100%|██████████| 1/1 [00:00<00:00, 166.61it/s]\n",
      "Batches: 100%|██████████| 1/1 [00:00<00:00, 199.99it/s]\n",
      "Batches: 100%|██████████| 1/1 [00:00<00:00, 200.02it/s]\n",
      "Batches: 100%|██████████| 1/1 [00:00<00:00, 166.63it/s]\n",
      "Batches: 100%|██████████| 1/1 [00:00<00:00, 199.95it/s]\n",
      "Batches: 100%|██████████| 1/1 [00:00<00:00, 166.65it/s]\n",
      "Batches: 100%|██████████| 1/1 [00:00<00:00, 166.67it/s]\n",
      "Batches: 100%|██████████| 1/1 [00:00<00:00, 166.64it/s]\n",
      "Batches: 100%|██████████| 1/1 [00:00<00:00, 166.61it/s]\n",
      "Batches: 100%|██████████| 1/1 [00:00<00:00, 199.99it/s]\n",
      "Batches: 100%|██████████| 1/1 [00:00<00:00, 199.98it/s]\n",
      "Batches: 100%|██████████| 1/1 [00:00<00:00, 199.98it/s]\n",
      "Batches: 100%|██████████| 1/1 [00:00<00:00, 166.64it/s]\n",
      "Batches: 100%|██████████| 1/1 [00:00<00:00, 199.99it/s]\n",
      "Batches: 100%|██████████| 1/1 [00:00<00:00, 199.97it/s]\n",
      "Batches: 100%|██████████| 1/1 [00:00<00:00, 166.65it/s]\n",
      "Batches: 100%|██████████| 1/1 [00:00<00:00, 166.67it/s]\n",
      "Batches: 100%|██████████| 1/1 [00:00<00:00, 200.02it/s]\n",
      "Batches: 100%|██████████| 1/1 [00:00<00:00, 166.62it/s]\n",
      "Batches: 100%|██████████| 1/1 [00:00<00:00, 166.63it/s]\n",
      "Batches: 100%|██████████| 1/1 [00:00<00:00, 199.96it/s]\n",
      "Batches: 100%|██████████| 1/1 [00:00<00:00, 200.00it/s]\n",
      "Batches: 100%|██████████| 1/1 [00:00<00:00, 142.88it/s]\n",
      "Batches: 100%|██████████| 1/1 [00:00<00:00, 166.65it/s]\n",
      "Batches: 100%|██████████| 1/1 [00:00<00:00, 166.65it/s]\n",
      "Batches: 100%|██████████| 1/1 [00:00<00:00, 142.81it/s]\n",
      "Batches: 100%|██████████| 1/1 [00:00<00:00, 166.65it/s]\n",
      "Batches: 100%|██████████| 1/1 [00:00<00:00, 199.96it/s]\n",
      "Batches: 100%|██████████| 1/1 [00:00<00:00, 199.94it/s]\n",
      "Batches: 100%|██████████| 1/1 [00:00<00:00, 166.65it/s]\n",
      "Batches: 100%|██████████| 1/1 [00:00<00:00, 199.95it/s]\n",
      "Batches: 100%|██████████| 1/1 [00:00<00:00, 166.62it/s]\n",
      "Batches: 100%|██████████| 1/1 [00:00<00:00, 124.98it/s]\n",
      "Batches: 100%|██████████| 1/1 [00:00<00:00, 199.93it/s]\n",
      "Batches: 100%|██████████| 1/1 [00:00<00:00, 199.99it/s]\n",
      "Batches: 100%|██████████| 1/1 [00:00<00:00, 166.65it/s]\n",
      "Batches: 100%|██████████| 1/1 [00:00<00:00, 200.00it/s]\n",
      "Batches: 100%|██████████| 1/1 [00:00<00:00, 142.82it/s]\n",
      "Batches: 100%|██████████| 1/1 [00:00<00:00, 199.98it/s]\n",
      "Batches: 100%|██████████| 1/1 [00:00<00:00, 166.67it/s]\n",
      "Batches: 100%|██████████| 1/1 [00:00<00:00, 200.00it/s]\n",
      "Batches: 100%|██████████| 1/1 [00:00<00:00, 200.01it/s]\n",
      "Batches: 100%|██████████| 1/1 [00:00<00:00, 200.00it/s]\n",
      "Batches: 100%|██████████| 1/1 [00:00<00:00, 166.65it/s]\n",
      "Batches: 100%|██████████| 1/1 [00:00<00:00, 199.99it/s]\n",
      "Batches: 100%|██████████| 1/1 [00:00<00:00, 200.01it/s]\n",
      "Batches: 100%|██████████| 1/1 [00:00<00:00, 166.65it/s]\n",
      "Batches: 100%|██████████| 1/1 [00:00<00:00, 142.86it/s]\n",
      "Batches: 100%|██████████| 1/1 [00:00<00:00, 166.63it/s]\n",
      "Batches: 100%|██████████| 1/1 [00:00<00:00, 250.09it/s]\n",
      "Batches: 100%|██████████| 1/1 [00:00<00:00, 200.01it/s]\n",
      "Batches: 100%|██████████| 1/1 [00:00<00:00, 166.65it/s]\n",
      "Batches: 100%|██████████| 1/1 [00:00<00:00, 200.00it/s]\n",
      "Batches: 100%|██████████| 1/1 [00:00<00:00, 199.98it/s]\n",
      "Batches: 100%|██████████| 1/1 [00:00<00:00, 142.85it/s]\n",
      "Batches: 100%|██████████| 1/1 [00:00<00:00, 166.69it/s]\n",
      "Batches: 100%|██████████| 1/1 [00:00<00:00, 250.03it/s]\n",
      "Batches: 100%|██████████| 1/1 [00:00<00:00, 200.01it/s]\n",
      "Batches: 100%|██████████| 1/1 [00:00<00:00, 142.85it/s]\n",
      "Batches: 100%|██████████| 1/1 [00:00<00:00, 199.98it/s]\n",
      "Batches: 100%|██████████| 1/1 [00:00<00:00, 200.00it/s]\n"
     ]
    },
    {
     "name": "stderr",
     "output_type": "stream",
     "text": [
      "Batches: 100%|██████████| 1/1 [00:00<00:00, 111.10it/s]\n"
     ]
    }
   ],
   "source": [
    "# Lists to store the extracted information from documents\n",
    "documents_list = []\n",
    "embeddings_list = []\n",
    "metadatas_list = []\n",
    "ids_list = []\n",
    "\n",
    "# Assuming 'content' in your dataframe is what you consider as the document/page_content\n",
    "for _, row in final_df.iterrows():\n",
    "    embedding = model.encode(row['text'])\n",
    "    \n",
    "    # Constructing metadata\n",
    "    metadata = {\n",
    "        \"source\": f\"{row['path']}\",\n",
    "        \"documentation\": row['documentation'],\n",
    "        \"file_path\": row['file_path'],\n",
    "        \"word_count\": row['word_count']\n",
    "    }\n",
    "\n",
    "    documents_list.append(row['text'])\n",
    "    embeddings_list.append(embedding.tolist())\n",
    "    metadatas_list.append(metadata)\n",
    "\n",
    "# Generating IDs for the documents\n",
    "ids_list = [\"v\" + str(i + 1) for i in range(len(documents_list))]\n",
    "\n",
    "# Add the embedded documents to the collection in Chroma\n",
    "vectorstore.add(\n",
    "    documents=documents_list,\n",
    "    embeddings=embeddings_list,\n",
    "    metadatas=metadatas_list,\n",
    "    ids=ids_list\n",
    ")"
   ]
  },
  {
   "cell_type": "code",
   "execution_count": null,
   "id": "021e3be0",
   "metadata": {},
   "outputs": [],
   "source": [
    "import torch\n",
    "torch.cuda.is_available()"
   ]
  },
  {
   "cell_type": "code",
   "execution_count": null,
   "id": "244fac73",
   "metadata": {},
   "outputs": [],
   "source": []
  }
 ],
 "metadata": {
  "kernelspec": {
   "display_name": "Python 3 (ipykernel)",
   "language": "python",
   "name": "python3"
  },
  "language_info": {
   "codemirror_mode": {
    "name": "ipython",
    "version": 3
   },
   "file_extension": ".py",
   "mimetype": "text/x-python",
   "name": "python",
   "nbconvert_exporter": "python",
   "pygments_lexer": "ipython3",
   "version": "3.11.4"
  }
 },
 "nbformat": 4,
 "nbformat_minor": 5
}
