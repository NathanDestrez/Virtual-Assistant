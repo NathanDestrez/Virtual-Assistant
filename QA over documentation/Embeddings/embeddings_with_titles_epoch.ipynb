{
 "cells": [
  {
   "cell_type": "code",
   "execution_count": null,
   "id": "e720fc22",
   "metadata": {
    "ExecuteTime": {
     "end_time": "2023-11-17T10:23:24.500580Z",
     "start_time": "2023-11-17T10:23:19.107657Z"
    }
   },
   "outputs": [],
   "source": [
    "import re\n",
    "import os\n",
    "import csv\n",
    "import datetime\n",
    "from datetime import datetime\n",
    "import pandas as pd\n",
    "from collections import Counter\n",
    "\n",
    "# vector store set up  \n",
    "\n",
    "import chromadb\n",
    "\n",
    "from langchain.embeddings import SentenceTransformerEmbeddings\n",
    "from langchain.vectorstores import Chroma\n",
    "from langchain.vectorstores import FAISS\n",
    "\n",
    "#Langchain\n",
    "from langchain.chains import RetrievalQAWithSourcesChain\n",
    "\n",
    "# Sentence Transformers\n",
    "from sentence_transformers import SentenceTransformer"
   ]
  },
  {
   "cell_type": "code",
   "execution_count": null,
   "id": "d0081b44",
   "metadata": {
    "ExecuteTime": {
     "end_time": "2023-11-17T10:23:24.505387Z",
     "start_time": "2023-11-17T10:23:24.501581Z"
    }
   },
   "outputs": [],
   "source": [
    "def remove_chars_before_first_letter(input_string):\n",
    "    for i, char in enumerate(input_string):\n",
    "        if char.isalpha():\n",
    "            return input_string[i:]\n",
    "    return input_string"
   ]
  },
  {
   "cell_type": "code",
   "execution_count": null,
   "id": "9cee6512",
   "metadata": {
    "ExecuteTime": {
     "end_time": "2023-11-17T10:23:24.513075Z",
     "start_time": "2023-11-17T10:23:24.506389Z"
    }
   },
   "outputs": [],
   "source": [
    "def parse_source(source):\n",
    "    path = str()\n",
    "    parts = source.split('/')\n",
    "    title = remove_chars_before_first_letter(parts[1]) if len(parts) > 1 else \"\"  # First part before the first '/'\n",
    "    paragraph = remove_chars_before_first_letter(parts[-1]) if len(parts) > 3 else \"\"  # Text after the second '/'\n",
    "    \n",
    "    if len(parts) > 4:\n",
    "        chapter = \"\"\n",
    "        for i in range(2, len(parts)-1):\n",
    "            chapter += remove_chars_before_first_letter(parts[i])\n",
    "            if i < len(parts)-2:\n",
    "                chapter += \"/\"\n",
    "    else:\n",
    "        chapter = remove_chars_before_first_letter(parts[2]) if len(parts) > 2 else \"\"\n",
    "    return title, chapter, paragraph"
   ]
  },
  {
   "cell_type": "markdown",
   "id": "bb35a98c",
   "metadata": {},
   "source": [
    "# Retrieve Data"
   ]
  },
  {
   "cell_type": "code",
   "execution_count": null,
   "id": "365c8551",
   "metadata": {
    "ExecuteTime": {
     "end_time": "2023-11-17T10:23:25.000241Z",
     "start_time": "2023-11-17T10:23:24.515070Z"
    }
   },
   "outputs": [],
   "source": [
    "chroma_client = client = chromadb.PersistentClient(path='C:/Users/Nathan/Kratos_data-Science/Chroma/v7')\n",
    "model = SentenceTransformer('all-MiniLM-L6-v2',  device='cuda')"
   ]
  },
  {
   "cell_type": "code",
   "execution_count": null,
   "id": "12b2d7e9",
   "metadata": {
    "ExecuteTime": {
     "end_time": "2023-11-17T10:23:25.008544Z",
     "start_time": "2023-11-17T10:23:25.001242Z"
    }
   },
   "outputs": [],
   "source": [
    "chroma_client.list_collections()"
   ]
  },
  {
   "cell_type": "code",
   "execution_count": null,
   "id": "35cc2ed3",
   "metadata": {
    "ExecuteTime": {
     "end_time": "2023-11-17T10:23:25.038768Z",
     "start_time": "2023-11-17T10:23:25.009546Z"
    }
   },
   "outputs": [],
   "source": [
    "chroma_client.delete_collection(name=\"EPOCH-T\")"
   ]
  },
  {
   "cell_type": "code",
   "execution_count": null,
   "id": "f35fa327",
   "metadata": {
    "ExecuteTime": {
     "end_time": "2023-11-17T10:23:25.046886Z",
     "start_time": "2023-11-17T10:23:25.039769Z"
    }
   },
   "outputs": [],
   "source": [
    "# Initialize Chroma\n",
    "vectorstore = chroma_client.get_or_create_collection(name=\"EPOCH\",  metadata={\"hnsw:space\": \"cosine\"})"
   ]
  },
  {
   "cell_type": "code",
   "execution_count": null,
   "id": "35141f93",
   "metadata": {
    "ExecuteTime": {
     "end_time": "2023-11-17T10:23:25.050575Z",
     "start_time": "2023-11-17T10:23:25.047883Z"
    }
   },
   "outputs": [],
   "source": [
    "# Lists to store the new information for documents\n",
    "new_documents_list = []\n",
    "new_embeddings_list = []\n",
    "new_metadatas_list = []\n",
    "new_ids_list = []\n"
   ]
  },
  {
   "cell_type": "code",
   "execution_count": null,
   "id": "f15776fe",
   "metadata": {
    "ExecuteTime": {
     "end_time": "2023-11-17T10:23:25.157207Z",
     "start_time": "2023-11-17T10:23:25.051572Z"
    }
   },
   "outputs": [],
   "source": [
    "old_documents = vectorstore.get()"
   ]
  },
  {
   "cell_type": "code",
   "execution_count": null,
   "id": "c8fee8df",
   "metadata": {
    "ExecuteTime": {
     "end_time": "2023-11-17T10:23:25.163451Z",
     "start_time": "2023-11-17T10:23:25.159209Z"
    },
    "scrolled": true
   },
   "outputs": [],
   "source": [
    "type(old_documents),len(old_documents)"
   ]
  },
  {
   "cell_type": "code",
   "execution_count": null,
   "id": "cf6fe38d",
   "metadata": {
    "ExecuteTime": {
     "end_time": "2023-11-17T10:23:25.254483Z",
     "start_time": "2023-11-17T10:23:25.250422Z"
    }
   },
   "outputs": [],
   "source": [
    "for key, value in old_documents.items():\n",
    "    if value is not None:\n",
    "        print(f\"{key} = {len(value)}\")\n",
    "    else:\n",
    "        print(f\"{key} = None (no elements to count)\")"
   ]
  },
  {
   "cell_type": "markdown",
   "id": "704ff661",
   "metadata": {},
   "source": [
    "# Create new Vector Store "
   ]
  },
  {
   "cell_type": "code",
   "execution_count": null,
   "id": "3f40fb86",
   "metadata": {
    "ExecuteTime": {
     "end_time": "2023-11-17T10:23:35.775443Z",
     "start_time": "2023-11-17T10:23:26.537834Z"
    }
   },
   "outputs": [],
   "source": [
    "# Extracting the lists of metadata and documents\n",
    "old_metadatas = old_documents['metadatas']\n",
    "old_docs_content = old_documents['documents']\n",
    "\n",
    "# Verifying that both lists are of the same length\n",
    "if len(old_metadatas) != len(old_docs_content):\n",
    "    raise ValueError(\"Metadata and document content lists are not the same length!\")\n",
    "\n",
    "# Lists for new data\n",
    "new_documents_list = []\n",
    "new_embeddings_list = []\n",
    "new_metadatas_list = []\n",
    "new_ids_list = []\n",
    "\n",
    "# Now, we loop through each metadata and document pair and process them\n",
    "for metadata, content in zip(old_metadatas, old_docs_content):\n",
    "    # Extracting metadata components\n",
    "    documentation = metadata['documentation']\n",
    "    source = metadata['source']\n",
    "    file_path = metadata['file_path']\n",
    "    word_count = metadata['word_count']\n",
    "\n",
    "    # Parse the 'source' to extract 'Title', 'Chapter', and 'Paragraph'\n",
    "    title, chapter, paragraph = parse_source(source)\n",
    "\n",
    "    # Construct the new context string\n",
    "    context_elements = []\n",
    "    \n",
    "    # Adding elements to context only if they exist\n",
    "    if documentation:\n",
    "        context_elements.append(f\"Documentation = {documentation}\")\n",
    "    if title:\n",
    "        context_elements.append(f\"Title = {title}\")\n",
    "    if chapter:  # Only add if chapter is not empty\n",
    "        context_elements.append(f\"Chapter = {chapter}\")\n",
    "    if paragraph:  # Only add if paragraph is not empty\n",
    "        context_elements.append(f\"Paragraph = {paragraph}\")\n",
    "\n",
    "    # Constructing the context string based on the existing elements\n",
    "    context_info = \"Context : (\" + \", \".join(context_elements) + \") \" if context_elements else \"\"\n",
    "\n",
    "    # Combine new context with the old content\n",
    "    full_content_with_context = context_info + content \n",
    "\n",
    "    # Create a new embedding\n",
    "    new_embedding = model.encode(full_content_with_context)\n",
    "\n",
    "    # Reconstruct the metadata (if there are any changes or additions, make them here)\n",
    "    new_metadata = {\n",
    "        \"source\": source,\n",
    "        \"documentation\": documentation,\n",
    "        \"file_path\": file_path,\n",
    "        \"word_count\": word_count\n",
    "    }\n",
    "\n",
    "    # Add the modified document, new embedding, and metadata to the lists\n",
    "    new_documents_list.append(full_content_with_context)\n",
    "    new_embeddings_list.append(new_embedding.tolist())\n",
    "    new_metadatas_list.append(new_metadata)\n",
    "\n",
    "# Generate new IDs for the documents (assuming you want unique new IDs)\n",
    "new_ids_list = [\"v\" + str(i + 1) for i in range(len(new_documents_list))]"
   ]
  },
  {
   "cell_type": "code",
   "execution_count": null,
   "id": "6347af1e",
   "metadata": {
    "ExecuteTime": {
     "end_time": "2023-11-17T10:23:35.832319Z",
     "start_time": "2023-11-17T10:23:35.776444Z"
    }
   },
   "outputs": [],
   "source": [
    "new_documents_list"
   ]
  },
  {
   "cell_type": "code",
   "execution_count": null,
   "id": "2fc412bc",
   "metadata": {},
   "outputs": [],
   "source": []
  },
  {
   "cell_type": "code",
   "execution_count": null,
   "id": "a9e3283d",
   "metadata": {},
   "outputs": [],
   "source": []
  },
  {
   "cell_type": "code",
   "execution_count": null,
   "id": "3bb47cd6",
   "metadata": {
    "ExecuteTime": {
     "end_time": "2023-11-17T10:23:38.284995Z",
     "start_time": "2023-11-17T10:23:35.834314Z"
    }
   },
   "outputs": [],
   "source": [
    "# Create a new collection (or clear the existing one)\n",
    "new_vectorstore = chroma_client.get_or_create_collection(name=\"EPOCH-T\", metadata={\"hnsw:space\": \"cosine\"})\n",
    "\n",
    "# Add the new embedded documents to the new collection in Chroma\n",
    "new_vectorstore.add(\n",
    "    documents=new_documents_list,\n",
    "    embeddings=new_embeddings_list,\n",
    "    metadatas=new_metadatas_list,\n",
    "    ids=new_ids_list\n",
    ")"
   ]
  },
  {
   "cell_type": "code",
   "execution_count": null,
   "id": "c1348a21",
   "metadata": {
    "ExecuteTime": {
     "end_time": "2023-11-17T10:23:38.291132Z",
     "start_time": "2023-11-17T10:23:38.285997Z"
    }
   },
   "outputs": [],
   "source": [
    "chroma_client.list_collections()"
   ]
  },
  {
   "cell_type": "code",
   "execution_count": null,
   "id": "56381525",
   "metadata": {},
   "outputs": [],
   "source": []
  },
  {
   "cell_type": "code",
   "execution_count": null,
   "id": "7302dfdf",
   "metadata": {},
   "outputs": [],
   "source": []
  }
 ],
 "metadata": {
  "kernelspec": {
   "display_name": "Python 3 (ipykernel)",
   "language": "python",
   "name": "python3"
  },
  "language_info": {
   "codemirror_mode": {
    "name": "ipython",
    "version": 3
   },
   "file_extension": ".py",
   "mimetype": "text/x-python",
   "name": "python",
   "nbconvert_exporter": "python",
   "pygments_lexer": "ipython3",
   "version": "3.10.13"
  }
 },
 "nbformat": 4,
 "nbformat_minor": 5
}
