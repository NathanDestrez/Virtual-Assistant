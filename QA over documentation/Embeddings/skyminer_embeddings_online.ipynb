{
 "cells": [
  {
   "cell_type": "markdown",
   "id": "2d1af13c",
   "metadata": {},
   "source": [
    "# Import"
   ]
  },
  {
   "cell_type": "code",
   "execution_count": 1,
   "id": "9f39f936",
   "metadata": {
    "ExecuteTime": {
     "end_time": "2023-12-21T10:11:56.551872Z",
     "start_time": "2023-12-21T10:11:50.927583Z"
    }
   },
   "outputs": [
    {
     "name": "stderr",
     "output_type": "stream",
     "text": [
      "C:\\Users\\Nathan\\anaconda3\\envs\\Html_embeddings\\Lib\\site-packages\\tqdm\\auto.py:21: TqdmWarning: IProgress not found. Please update jupyter and ipywidgets. See https://ipywidgets.readthedocs.io/en/stable/user_install.html\n",
      "  from .autonotebook import tqdm as notebook_tqdm\n"
     ]
    }
   ],
   "source": [
    "from bs4 import BeautifulSoup\n",
    "from urllib.parse import urljoin\n",
    "import pandas as pd\n",
    "import html\n",
    "import re\n",
    "import logging\n",
    "import os\n",
    "import requests\n",
    "\n",
    "# plot\n",
    "import matplotlib.pyplot as plt\n",
    "import seaborn as sns\n",
    "\n",
    "# Chroma\n",
    "import chromadb \n",
    "from chromadb.utils import embedding_functions\n",
    "from langchain.vectorstores import Chroma\n",
    "\n",
    "# Sentence Transformers\n",
    "from sentence_transformers import SentenceTransformer"
   ]
  },
  {
   "cell_type": "code",
   "execution_count": 2,
   "id": "49fad0eb",
   "metadata": {
    "ExecuteTime": {
     "end_time": "2023-12-21T10:11:56.556118Z",
     "start_time": "2023-12-21T10:11:56.552868Z"
    }
   },
   "outputs": [],
   "source": [
    "# Initialize logging\n",
    "logging.basicConfig(level=logging.INFO)"
   ]
  },
  {
   "cell_type": "markdown",
   "id": "71b8e07e",
   "metadata": {},
   "source": [
    "# Set up "
   ]
  },
  {
   "cell_type": "code",
   "execution_count": 3,
   "id": "3d81c6cb",
   "metadata": {
    "ExecuteTime": {
     "end_time": "2023-12-21T10:11:56.560846Z",
     "start_time": "2023-12-21T10:11:56.557115Z"
    }
   },
   "outputs": [],
   "source": [
    "# Configuration\n",
    "config = {\n",
    "    'site1': {\n",
    "        'index_path': \"http://192.168.48.22:8082/repository/skyminer-dev/skyminer-documentation/latest/administration-manual-html/administration-manual-html/index.html\",\n",
    "        'base_path': \"http://192.168.48.22:8082/repository/skyminer-dev/skyminer-documentation/latest/administration-manual-html/administration-manual-html/\",\n",
    "        'documentation': 'administration-manual'\n",
    "    },\n",
    "    'site2': {\n",
    "        'index_path': \"http://192.168.48.22:8082/repository/skyminer-dev/skyminer-documentation/latest/user-manual-html/user-manual-html/index.html\",\n",
    "        'base_path': \"http://192.168.48.22:8082/repository/skyminer-dev/skyminer-documentation/latest/user-manual-html/user-manual-html/\",\n",
    "        'documentation': 'user-manual'\n",
    "    }\n",
    "}"
   ]
  },
  {
   "cell_type": "code",
   "execution_count": 4,
   "id": "d10419e1",
   "metadata": {
    "ExecuteTime": {
     "end_time": "2023-12-21T10:11:56.565842Z",
     "start_time": "2023-12-21T10:11:56.562841Z"
    }
   },
   "outputs": [],
   "source": [
    "# Function to read the local HTML file\n",
    "def read_local_html(file_path):\n",
    "    if not os.path.exists(file_path):\n",
    "        logging.warning(f\"File not found: {file_path}\")\n",
    "        return ''\n",
    "    with open(file_path, 'r', encoding='utf-8') as file:\n",
    "        return file.read()"
   ]
  },
  {
   "cell_type": "code",
   "execution_count": 5,
   "id": "3533ca17",
   "metadata": {
    "ExecuteTime": {
     "end_time": "2023-12-21T10:11:56.569649Z",
     "start_time": "2023-12-21T10:11:56.566842Z"
    }
   },
   "outputs": [],
   "source": [
    "def fetch_html_from_url(url):\n",
    "    response = requests.get(url)\n",
    "    response.encoding = 'utf-8'\n",
    "    response.raise_for_status()\n",
    "    return response.text"
   ]
  },
  {
   "cell_type": "code",
   "execution_count": 6,
   "id": "dae7e108",
   "metadata": {
    "ExecuteTime": {
     "end_time": "2023-12-21T10:11:56.574005Z",
     "start_time": "2023-12-21T10:11:56.570650Z"
    }
   },
   "outputs": [],
   "source": [
    "def get_path(html_content, h='h1'):\n",
    "    html_content.split(f'</{h}>', 0)\n",
    "    soup = BeautifulSoup(html_content.split(f'</{h}>')[0], 'html.parser')\n",
    "    h_text = soup.find(f'{h}').text.replace(\"¶\", \"\").replace(\"Â\", \" \")\n",
    "    return '/' + h_text"
   ]
  },
  {
   "cell_type": "code",
   "execution_count": 7,
   "id": "2dce2575",
   "metadata": {
    "ExecuteTime": {
     "end_time": "2023-12-21T10:11:56.584523Z",
     "start_time": "2023-12-21T10:11:56.575007Z"
    }
   },
   "outputs": [],
   "source": [
    "def scrape_content_from_page(html_content, source, file_path):\n",
    "    h1_split = html_content.split('<h1')\n",
    "    list_split = list()\n",
    "    list_path = list()\n",
    "    list_source = list()  # For storing the documentation source\n",
    "    list_file_path = list()\n",
    "    path = ''\n",
    " \n",
    "    for i, h1 in enumerate(h1_split):\n",
    "        if i > 0:\n",
    "            h1 = '<h1' + h1\n",
    "            result = path.split('/')[:1] \n",
    "            path = '/'.join(result)\n",
    "            path += get_path(h1, h='h1')      \n",
    " \n",
    "        h2_split = h1.split('<h2')\n",
    "        for j, h2 in enumerate(h2_split):\n",
    "            if j > 0:\n",
    "                h2 = '<h2' + h2\n",
    "                result = path.split('/')[:2] \n",
    "                path = '/'.join(result)\n",
    "                path += get_path(h2, h='h2')\n",
    "            h3_split = h2.split('<h3')\n",
    "            for k, h3 in enumerate(h3_split):\n",
    "                if k > 0:\n",
    "                    h3 = '<h3' + h3\n",
    "                    result = path.split('/')[:3] \n",
    "                    path = '/'.join(result)\n",
    "                    path += get_path(h3, h='h3')\n",
    " \n",
    "                h4_split = h3.split('<h4')\n",
    "                for l, h4 in enumerate(h4_split):\n",
    "                    if l > 0: \n",
    "                        h4 = '<h4' + h4\n",
    "                        result = path.split('/')[:4] \n",
    "                        path = '/'.join(result)\n",
    "                        path += get_path(h4, h='h4')    \n",
    " \n",
    "                    h5_split = h4.split('<h5')\n",
    "                    # Look for href in the html content to add it to the link\n",
    "                    regex_pattern = r'<h[1-6](.*?)<\\/h[1-6]>'\n",
    "                    header = re.search(regex_pattern, h5_split[0])\n",
    "                    if header:\n",
    "                        regex_pattern = r'href=\"#([^\"]*)\"'\n",
    "                        match_href = re.search(regex_pattern, header.group(1))\n",
    "                        regex_pattern = r'id=\"([^\"]*)\"'\n",
    "                        match_id = re.search(regex_pattern, header.group(1))\n",
    "                        if match_href:\n",
    "                            href = '#' + match_href.group(1)\n",
    "                        elif match_id:\n",
    "                            href = '#' + match_id.group(1)\n",
    "                        else:\n",
    "                            href = ''\n",
    "                    else:\n",
    "                        href = ''\n",
    "                    # get the text from html content\n",
    "                    soup = BeautifulSoup(h5_split[0].split('\\n', 1)[1], \"lxml\")\n",
    "                    h5_split = soup.get_text()\n",
    "                    list_split.append(h5_split)\n",
    "                    list_path.append(path)\n",
    "                    list_source.append(source)  # Add the documentation source for each content\n",
    "                    list_file_path.append(f'{file_path}{href}')\n",
    "    df = pd.DataFrame()\n",
    "    df['documentation'] = list_source  # Add the documentation source column\n",
    "    df['path'] = list_path\n",
    "    df['text'] = list_split\n",
    "    df['file_path'] = list_file_path  # adding local path to the df for each row\n",
    "    return df"
   ]
  },
  {
   "cell_type": "code",
   "execution_count": 8,
   "id": "bcedd04b",
   "metadata": {
    "ExecuteTime": {
     "end_time": "2023-12-21T10:11:56.590759Z",
     "start_time": "2023-12-21T10:11:56.585518Z"
    }
   },
   "outputs": [],
   "source": [
    "def process_links(site_config):\n",
    "    index_content = fetch_html_from_url(site_config['index_path'])\n",
    "    soup = BeautifulSoup(index_content, 'html.parser')\n",
    "    links = [a['href'] for a in soup.find_all('a', href=True) if a['href'].endswith('.html')]\n",
    "    \n",
    "    logging.info(f\"Found {len(links)} links to process for {site_config['documentation']}.\")\n",
    "    \n",
    "    data_frames = []\n",
    "    for link in links:\n",
    "        full_url = site_config['base_url'] + link  # Construct the full URL\n",
    "        try:\n",
    "            page_content = fetch_html_from_url(full_url)\n",
    "            df_temp = scrape_content_from_page(page_content, site_config['documentation'], full_url)\n",
    "            \n",
    "            # Check if df_temp is not empty or None\n",
    "            if df_temp is not None and not df_temp.empty:\n",
    "                data_frames.append(df_temp)\n",
    "            else:\n",
    "                logging.warning(f\"Empty dataframe returned from {full_url}.\")\n",
    "            \n",
    "        except Exception as e:\n",
    "            logging.error(f\"Error processing {full_url}: {e}\")\n",
    "    \n",
    "    logging.info(f\"Processed {len(data_frames)} dataframes for {site_config['documentation']}.\")\n",
    "    return data_frames"
   ]
  },
  {
   "cell_type": "code",
   "execution_count": 9,
   "id": "358824f2",
   "metadata": {
    "ExecuteTime": {
     "end_time": "2023-12-21T10:11:56.599535Z",
     "start_time": "2023-12-21T10:11:56.594755Z"
    }
   },
   "outputs": [],
   "source": [
    "def process_links_from_list(links, documentation_label):\n",
    "    logging.info(f\"Found {len(links)} links to process for {documentation_label}.\")\n",
    "    \n",
    "    data_frames = []\n",
    "    for link in links:\n",
    "        try:\n",
    "            page_content = fetch_html_from_url(link)\n",
    "            df_temp = scrape_content_from_page(page_content, documentation_label, link)\n",
    "            \n",
    "            # Check if df_temp is not empty or None\n",
    "            if df_temp is not None and not df_temp.empty:\n",
    "                data_frames.append(df_temp)\n",
    "            else:\n",
    "                logging.warning(f\"Empty dataframe returned from {link}.\")\n",
    "            \n",
    "        except Exception as e:\n",
    "            logging.error(f\"Error processing {link}: {e}\")\n",
    "    \n",
    "    logging.info(f\"Processed {len(data_frames)} dataframes for {documentation_label}.\")\n",
    "    return data_frames"
   ]
  },
  {
   "cell_type": "markdown",
   "id": "ce01a5fd",
   "metadata": {},
   "source": [
    "# Get links"
   ]
  },
  {
   "cell_type": "code",
   "execution_count": 10,
   "id": "3847185a",
   "metadata": {
    "ExecuteTime": {
     "end_time": "2023-12-21T10:11:56.605635Z",
     "start_time": "2023-12-21T10:11:56.601537Z"
    }
   },
   "outputs": [],
   "source": [
    "def get_all_links(base_url):\n",
    "    # Send a GET request to the base URL\n",
    "    response = requests.get(base_url)\n",
    "    response.raise_for_status()  # Raise an exception for HTTP errors\n",
    "\n",
    "    # Parse the content using BeautifulSoup\n",
    "    soup = BeautifulSoup(response.content, 'html.parser')\n",
    "\n",
    "    # Extract all anchor tags\n",
    "    anchors = soup.find_all('a', href=True)\n",
    "\n",
    "    # Convert relative URLs and fragments to absolute URLs\n",
    "    absolute_urls = [urljoin(base_url, a['href']) for a in anchors]\n",
    "\n",
    "    return absolute_urls"
   ]
  },
  {
   "cell_type": "code",
   "execution_count": 11,
   "id": "304fa87a",
   "metadata": {
    "ExecuteTime": {
     "end_time": "2023-12-21T10:11:56.609390Z",
     "start_time": "2023-12-21T10:11:56.606637Z"
    }
   },
   "outputs": [],
   "source": [
    "site_urls = [details['index_path'] for details in config.values()]"
   ]
  },
  {
   "cell_type": "code",
   "execution_count": 12,
   "id": "23c565a5",
   "metadata": {
    "ExecuteTime": {
     "end_time": "2023-12-21T10:11:56.615756Z",
     "start_time": "2023-12-21T10:11:56.610393Z"
    }
   },
   "outputs": [
    {
     "data": {
      "text/plain": [
       "['http://192.168.48.22:8082/repository/skyminer-dev/skyminer-documentation/latest/administration-manual-html/administration-manual-html/index.html',\n",
       " 'http://192.168.48.22:8082/repository/skyminer-dev/skyminer-documentation/latest/user-manual-html/user-manual-html/index.html']"
      ]
     },
     "execution_count": 12,
     "metadata": {},
     "output_type": "execute_result"
    }
   ],
   "source": [
    "site_urls"
   ]
  },
  {
   "cell_type": "code",
   "execution_count": 13,
   "id": "3de281df",
   "metadata": {
    "ExecuteTime": {
     "end_time": "2023-12-21T10:11:56.848173Z",
     "start_time": "2023-12-21T10:11:56.616750Z"
    }
   },
   "outputs": [],
   "source": [
    "a_urls = get_all_links(site_urls[0])\n",
    "u_urls = get_all_links(site_urls[1])"
   ]
  },
  {
   "cell_type": "code",
   "execution_count": 14,
   "id": "f80f2fec",
   "metadata": {
    "ExecuteTime": {
     "end_time": "2023-12-21T10:11:56.852448Z",
     "start_time": "2023-12-21T10:11:56.849174Z"
    }
   },
   "outputs": [
    {
     "data": {
      "text/plain": [
       "('http://192.168.48.22:8082/repository/skyminer-dev/skyminer-documentation/latest/administration-manual-html/administration-manual-html/index.html',\n",
       " 'http://192.168.48.22:8082/repository/skyminer-dev/skyminer-documentation/latest/user-manual-html/user-manual-html/index.html')"
      ]
     },
     "execution_count": 14,
     "metadata": {},
     "output_type": "execute_result"
    }
   ],
   "source": [
    "a_urls[1], u_urls[1]"
   ]
  },
  {
   "cell_type": "markdown",
   "id": "ee1ed82e",
   "metadata": {},
   "source": [
    "# Scrape the Content and Store in a DataFrame:"
   ]
  },
  {
   "cell_type": "code",
   "execution_count": 15,
   "id": "5e62fe5a",
   "metadata": {
    "ExecuteTime": {
     "end_time": "2023-12-21T10:12:03.192350Z",
     "start_time": "2023-12-21T10:11:56.853450Z"
    }
   },
   "outputs": [
    {
     "name": "stderr",
     "output_type": "stream",
     "text": [
      "INFO:root:Found 233 links to process for Administrastion Manual.\n",
      "INFO:root:Processed 233 dataframes for Administrastion Manual.\n"
     ]
    }
   ],
   "source": [
    "df1 = process_links_from_list(a_urls, \"Administrastion Manual\")"
   ]
  },
  {
   "cell_type": "code",
   "execution_count": 16,
   "id": "e251b80f",
   "metadata": {
    "ExecuteTime": {
     "end_time": "2023-12-21T10:12:06.248531Z",
     "start_time": "2023-12-21T10:12:03.193352Z"
    },
    "scrolled": true
   },
   "outputs": [
    {
     "name": "stderr",
     "output_type": "stream",
     "text": [
      "INFO:root:Found 100 links to process for User Manual.\n",
      "INFO:root:Processed 100 dataframes for User Manual.\n"
     ]
    }
   ],
   "source": [
    "df2 = process_links_from_list(u_urls, \"User Manual\")"
   ]
  },
  {
   "cell_type": "code",
   "execution_count": 17,
   "id": "2fdc3487",
   "metadata": {
    "ExecuteTime": {
     "end_time": "2023-12-21T10:12:06.270957Z",
     "start_time": "2023-12-21T10:12:06.249533Z"
    }
   },
   "outputs": [],
   "source": [
    "df1 = pd.concat(df1, ignore_index=True)\n",
    "df2 = pd.concat(df2, ignore_index=True)"
   ]
  },
  {
   "cell_type": "code",
   "execution_count": 18,
   "id": "71b46ffd",
   "metadata": {
    "ExecuteTime": {
     "end_time": "2023-12-21T10:12:06.275228Z",
     "start_time": "2023-12-21T10:12:06.271948Z"
    }
   },
   "outputs": [],
   "source": [
    "df = pd.concat([df1, df2], ignore_index=True)"
   ]
  },
  {
   "cell_type": "code",
   "execution_count": 19,
   "id": "b1972abe",
   "metadata": {
    "ExecuteTime": {
     "end_time": "2023-12-21T10:12:06.285454Z",
     "start_time": "2023-12-21T10:12:06.276230Z"
    }
   },
   "outputs": [
    {
     "data": {
      "text/html": [
       "<div>\n",
       "<style scoped>\n",
       "    .dataframe tbody tr th:only-of-type {\n",
       "        vertical-align: middle;\n",
       "    }\n",
       "\n",
       "    .dataframe tbody tr th {\n",
       "        vertical-align: top;\n",
       "    }\n",
       "\n",
       "    .dataframe thead th {\n",
       "        text-align: right;\n",
       "    }\n",
       "</style>\n",
       "<table border=\"1\" class=\"dataframe\">\n",
       "  <thead>\n",
       "    <tr style=\"text-align: right;\">\n",
       "      <th></th>\n",
       "      <th>documentation</th>\n",
       "      <th>path</th>\n",
       "      <th>text</th>\n",
       "      <th>file_path</th>\n",
       "    </tr>\n",
       "  </thead>\n",
       "  <tbody>\n",
       "    <tr>\n",
       "      <th>0</th>\n",
       "      <td>Administrastion Manual</td>\n",
       "      <td></td>\n",
       "      <td>\\n\\nSpace Systems | Kratos\\n\\n\\n\\n\\n\\n\\n\\n\\n\\...</td>\n",
       "      <td>http://www.kratoscomms.com/</td>\n",
       "    </tr>\n",
       "    <tr>\n",
       "      <th>1</th>\n",
       "      <td>Administrastion Manual</td>\n",
       "      <td>/Leading Space Networks into the Future</td>\n",
       "      <td>\\n</td>\n",
       "      <td>http://www.kratoscomms.com/</td>\n",
       "    </tr>\n",
       "    <tr>\n",
       "      <th>2</th>\n",
       "      <td>Administrastion Manual</td>\n",
       "      <td>/Revolutionary Satellite Ground Solutions</td>\n",
       "      <td></td>\n",
       "      <td>http://www.kratoscomms.com/</td>\n",
       "    </tr>\n",
       "    <tr>\n",
       "      <th>3</th>\n",
       "      <td>Administrastion Manual</td>\n",
       "      <td>/Revolutionary Satellite Ground Solutions/Guid...</td>\n",
       "      <td>\\n</td>\n",
       "      <td>http://www.kratoscomms.com/</td>\n",
       "    </tr>\n",
       "    <tr>\n",
       "      <th>4</th>\n",
       "      <td>Administrastion Manual</td>\n",
       "      <td>/Revolutionary Satellite Ground Solutions/Guid...</td>\n",
       "      <td>\\nMainstreaming satellite operations to connec...</td>\n",
       "      <td>http://www.kratoscomms.com/</td>\n",
       "    </tr>\n",
       "    <tr>\n",
       "      <th>...</th>\n",
       "      <td>...</td>\n",
       "      <td>...</td>\n",
       "      <td>...</td>\n",
       "      <td>...</td>\n",
       "    </tr>\n",
       "    <tr>\n",
       "      <th>4004</th>\n",
       "      <td>User Manual</td>\n",
       "      <td>/FAQ/Is the data processed between the source ...</td>\n",
       "      <td>By default there is no process or filter appli...</td>\n",
       "      <td>http://192.168.48.22:8082/repository/skyminer-...</td>\n",
       "    </tr>\n",
       "    <tr>\n",
       "      <th>4005</th>\n",
       "      <td>User Manual</td>\n",
       "      <td>/FAQ/How much data can be displayed on Skyminer?</td>\n",
       "      <td>By default there are 3 safeguards for the size...</td>\n",
       "      <td>http://192.168.48.22:8082/repository/skyminer-...</td>\n",
       "    </tr>\n",
       "    <tr>\n",
       "      <th>4006</th>\n",
       "      <td>User Manual</td>\n",
       "      <td>/FAQ/How can I export data from Skyminer?</td>\n",
       "      <td>You can export the data to a JSON or CSV file ...</td>\n",
       "      <td>http://192.168.48.22:8082/repository/skyminer-...</td>\n",
       "    </tr>\n",
       "    <tr>\n",
       "      <th>4007</th>\n",
       "      <td>User Manual</td>\n",
       "      <td>/FAQ/How do I align time series to time bounda...</td>\n",
       "      <td>Using aggregators: this can be achieved by sel...</td>\n",
       "      <td>http://192.168.48.22:8082/repository/skyminer-...</td>\n",
       "    </tr>\n",
       "    <tr>\n",
       "      <th>4008</th>\n",
       "      <td>User Manual</td>\n",
       "      <td>/FAQ/How to Rename a Time Series to the Time U...</td>\n",
       "      <td>Using both the Legend aggregator and Js Alias ...</td>\n",
       "      <td>http://192.168.48.22:8082/repository/skyminer-...</td>\n",
       "    </tr>\n",
       "  </tbody>\n",
       "</table>\n",
       "<p>4009 rows × 4 columns</p>\n",
       "</div>"
      ],
      "text/plain": [
       "               documentation  \\\n",
       "0     Administrastion Manual   \n",
       "1     Administrastion Manual   \n",
       "2     Administrastion Manual   \n",
       "3     Administrastion Manual   \n",
       "4     Administrastion Manual   \n",
       "...                      ...   \n",
       "4004             User Manual   \n",
       "4005             User Manual   \n",
       "4006             User Manual   \n",
       "4007             User Manual   \n",
       "4008             User Manual   \n",
       "\n",
       "                                                   path  \\\n",
       "0                                                         \n",
       "1               /Leading Space Networks into the Future   \n",
       "2             /Revolutionary Satellite Ground Solutions   \n",
       "3     /Revolutionary Satellite Ground Solutions/Guid...   \n",
       "4     /Revolutionary Satellite Ground Solutions/Guid...   \n",
       "...                                                 ...   \n",
       "4004  /FAQ/Is the data processed between the source ...   \n",
       "4005   /FAQ/How much data can be displayed on Skyminer?   \n",
       "4006          /FAQ/How can I export data from Skyminer?   \n",
       "4007  /FAQ/How do I align time series to time bounda...   \n",
       "4008  /FAQ/How to Rename a Time Series to the Time U...   \n",
       "\n",
       "                                                   text  \\\n",
       "0      \\n\\nSpace Systems | Kratos\\n\\n\\n\\n\\n\\n\\n\\n\\n\\...   \n",
       "1                                                    \\n   \n",
       "2                                                         \n",
       "3                                                    \\n   \n",
       "4     \\nMainstreaming satellite operations to connec...   \n",
       "...                                                 ...   \n",
       "4004  By default there is no process or filter appli...   \n",
       "4005  By default there are 3 safeguards for the size...   \n",
       "4006  You can export the data to a JSON or CSV file ...   \n",
       "4007  Using aggregators: this can be achieved by sel...   \n",
       "4008  Using both the Legend aggregator and Js Alias ...   \n",
       "\n",
       "                                              file_path  \n",
       "0                           http://www.kratoscomms.com/  \n",
       "1                           http://www.kratoscomms.com/  \n",
       "2                           http://www.kratoscomms.com/  \n",
       "3                           http://www.kratoscomms.com/  \n",
       "4                           http://www.kratoscomms.com/  \n",
       "...                                                 ...  \n",
       "4004  http://192.168.48.22:8082/repository/skyminer-...  \n",
       "4005  http://192.168.48.22:8082/repository/skyminer-...  \n",
       "4006  http://192.168.48.22:8082/repository/skyminer-...  \n",
       "4007  http://192.168.48.22:8082/repository/skyminer-...  \n",
       "4008  http://192.168.48.22:8082/repository/skyminer-...  \n",
       "\n",
       "[4009 rows x 4 columns]"
      ]
     },
     "execution_count": 19,
     "metadata": {},
     "output_type": "execute_result"
    }
   ],
   "source": [
    "df"
   ]
  },
  {
   "cell_type": "markdown",
   "id": "f7cfe99f",
   "metadata": {},
   "source": [
    "# Turn to DF"
   ]
  },
  {
   "cell_type": "code",
   "execution_count": 20,
   "id": "d727b9ef",
   "metadata": {
    "ExecuteTime": {
     "end_time": "2023-12-21T10:12:06.294898Z",
     "start_time": "2023-12-21T10:12:06.286455Z"
    }
   },
   "outputs": [
    {
     "data": {
      "text/html": [
       "<div>\n",
       "<style scoped>\n",
       "    .dataframe tbody tr th:only-of-type {\n",
       "        vertical-align: middle;\n",
       "    }\n",
       "\n",
       "    .dataframe tbody tr th {\n",
       "        vertical-align: top;\n",
       "    }\n",
       "\n",
       "    .dataframe thead th {\n",
       "        text-align: right;\n",
       "    }\n",
       "</style>\n",
       "<table border=\"1\" class=\"dataframe\">\n",
       "  <thead>\n",
       "    <tr style=\"text-align: right;\">\n",
       "      <th></th>\n",
       "      <th>documentation</th>\n",
       "      <th>path</th>\n",
       "      <th>text</th>\n",
       "      <th>file_path</th>\n",
       "    </tr>\n",
       "  </thead>\n",
       "  <tbody>\n",
       "    <tr>\n",
       "      <th>0</th>\n",
       "      <td>Administrastion Manual</td>\n",
       "      <td></td>\n",
       "      <td>\\n\\nSpace Systems | Kratos\\n\\n\\n\\n\\n\\n\\n\\n\\n\\...</td>\n",
       "      <td>http://www.kratoscomms.com/</td>\n",
       "    </tr>\n",
       "    <tr>\n",
       "      <th>1</th>\n",
       "      <td>Administrastion Manual</td>\n",
       "      <td>/Leading Space Networks into the Future</td>\n",
       "      <td>\\n</td>\n",
       "      <td>http://www.kratoscomms.com/</td>\n",
       "    </tr>\n",
       "    <tr>\n",
       "      <th>2</th>\n",
       "      <td>Administrastion Manual</td>\n",
       "      <td>/Revolutionary Satellite Ground Solutions</td>\n",
       "      <td></td>\n",
       "      <td>http://www.kratoscomms.com/</td>\n",
       "    </tr>\n",
       "    <tr>\n",
       "      <th>3</th>\n",
       "      <td>Administrastion Manual</td>\n",
       "      <td>/Revolutionary Satellite Ground Solutions/Guid...</td>\n",
       "      <td>\\n</td>\n",
       "      <td>http://www.kratoscomms.com/</td>\n",
       "    </tr>\n",
       "    <tr>\n",
       "      <th>4</th>\n",
       "      <td>Administrastion Manual</td>\n",
       "      <td>/Revolutionary Satellite Ground Solutions/Guid...</td>\n",
       "      <td>\\nMainstreaming satellite operations to connec...</td>\n",
       "      <td>http://www.kratoscomms.com/</td>\n",
       "    </tr>\n",
       "    <tr>\n",
       "      <th>...</th>\n",
       "      <td>...</td>\n",
       "      <td>...</td>\n",
       "      <td>...</td>\n",
       "      <td>...</td>\n",
       "    </tr>\n",
       "    <tr>\n",
       "      <th>4004</th>\n",
       "      <td>User Manual</td>\n",
       "      <td>/FAQ/Is the data processed between the source ...</td>\n",
       "      <td>By default there is no process or filter appli...</td>\n",
       "      <td>http://192.168.48.22:8082/repository/skyminer-...</td>\n",
       "    </tr>\n",
       "    <tr>\n",
       "      <th>4005</th>\n",
       "      <td>User Manual</td>\n",
       "      <td>/FAQ/How much data can be displayed on Skyminer?</td>\n",
       "      <td>By default there are 3 safeguards for the size...</td>\n",
       "      <td>http://192.168.48.22:8082/repository/skyminer-...</td>\n",
       "    </tr>\n",
       "    <tr>\n",
       "      <th>4006</th>\n",
       "      <td>User Manual</td>\n",
       "      <td>/FAQ/How can I export data from Skyminer?</td>\n",
       "      <td>You can export the data to a JSON or CSV file ...</td>\n",
       "      <td>http://192.168.48.22:8082/repository/skyminer-...</td>\n",
       "    </tr>\n",
       "    <tr>\n",
       "      <th>4007</th>\n",
       "      <td>User Manual</td>\n",
       "      <td>/FAQ/How do I align time series to time bounda...</td>\n",
       "      <td>Using aggregators: this can be achieved by sel...</td>\n",
       "      <td>http://192.168.48.22:8082/repository/skyminer-...</td>\n",
       "    </tr>\n",
       "    <tr>\n",
       "      <th>4008</th>\n",
       "      <td>User Manual</td>\n",
       "      <td>/FAQ/How to Rename a Time Series to the Time U...</td>\n",
       "      <td>Using both the Legend aggregator and Js Alias ...</td>\n",
       "      <td>http://192.168.48.22:8082/repository/skyminer-...</td>\n",
       "    </tr>\n",
       "  </tbody>\n",
       "</table>\n",
       "<p>4009 rows × 4 columns</p>\n",
       "</div>"
      ],
      "text/plain": [
       "               documentation  \\\n",
       "0     Administrastion Manual   \n",
       "1     Administrastion Manual   \n",
       "2     Administrastion Manual   \n",
       "3     Administrastion Manual   \n",
       "4     Administrastion Manual   \n",
       "...                      ...   \n",
       "4004             User Manual   \n",
       "4005             User Manual   \n",
       "4006             User Manual   \n",
       "4007             User Manual   \n",
       "4008             User Manual   \n",
       "\n",
       "                                                   path  \\\n",
       "0                                                         \n",
       "1               /Leading Space Networks into the Future   \n",
       "2             /Revolutionary Satellite Ground Solutions   \n",
       "3     /Revolutionary Satellite Ground Solutions/Guid...   \n",
       "4     /Revolutionary Satellite Ground Solutions/Guid...   \n",
       "...                                                 ...   \n",
       "4004  /FAQ/Is the data processed between the source ...   \n",
       "4005   /FAQ/How much data can be displayed on Skyminer?   \n",
       "4006          /FAQ/How can I export data from Skyminer?   \n",
       "4007  /FAQ/How do I align time series to time bounda...   \n",
       "4008  /FAQ/How to Rename a Time Series to the Time U...   \n",
       "\n",
       "                                                   text  \\\n",
       "0      \\n\\nSpace Systems | Kratos\\n\\n\\n\\n\\n\\n\\n\\n\\n\\...   \n",
       "1                                                    \\n   \n",
       "2                                                         \n",
       "3                                                    \\n   \n",
       "4     \\nMainstreaming satellite operations to connec...   \n",
       "...                                                 ...   \n",
       "4004  By default there is no process or filter appli...   \n",
       "4005  By default there are 3 safeguards for the size...   \n",
       "4006  You can export the data to a JSON or CSV file ...   \n",
       "4007  Using aggregators: this can be achieved by sel...   \n",
       "4008  Using both the Legend aggregator and Js Alias ...   \n",
       "\n",
       "                                              file_path  \n",
       "0                           http://www.kratoscomms.com/  \n",
       "1                           http://www.kratoscomms.com/  \n",
       "2                           http://www.kratoscomms.com/  \n",
       "3                           http://www.kratoscomms.com/  \n",
       "4                           http://www.kratoscomms.com/  \n",
       "...                                                 ...  \n",
       "4004  http://192.168.48.22:8082/repository/skyminer-...  \n",
       "4005  http://192.168.48.22:8082/repository/skyminer-...  \n",
       "4006  http://192.168.48.22:8082/repository/skyminer-...  \n",
       "4007  http://192.168.48.22:8082/repository/skyminer-...  \n",
       "4008  http://192.168.48.22:8082/repository/skyminer-...  \n",
       "\n",
       "[4009 rows x 4 columns]"
      ]
     },
     "execution_count": 20,
     "metadata": {},
     "output_type": "execute_result"
    }
   ],
   "source": [
    "df"
   ]
  },
  {
   "cell_type": "code",
   "execution_count": 21,
   "id": "25e2ec68",
   "metadata": {
    "ExecuteTime": {
     "end_time": "2023-12-21T10:12:06.299866Z",
     "start_time": "2023-12-21T10:12:06.295900Z"
    }
   },
   "outputs": [
    {
     "data": {
      "text/plain": [
       "' \\n\\nSpace Systems | Kratos\\n\\n\\n\\n\\n\\n\\n\\n\\n\\n\\n\\n\\n\\n\\n\\n\\n\\n\\n\\n\\n\\n\\n\\n\\n\\n\\n\\n\\n\\n\\n\\n\\n\\n\\nAboutAboutAbout KratosDivisionsLocations & ContactsUpcoming EventsAbout KratosLeadershipContract VehiclesSmall BusinessEthics & ComplianceCorporate GovernanceContract VehiclesSeaPort-NxGTETRASATS-2Training System Contract IV (TSC IV)USV FoS IDIQ-MACDivisionsUnmanned SystemsSpace, Training and CybersecurityDefense & Rocket Support ServicesMicrowave ElectronicsTurbine TechnologiesC5ISR SystemsUnmanned SystemsSystem IntegrationTrainingTest & ManufacturingSpace, Training and CybersecuritySpaceTrainingCyberTrainingSimulation SystemsTraining ServicesSimulation Training PlatformTraining ServicesAircrew Training CentersCurriculum DevelopmentSustainment ServicesCyberC3PAO ServicesFedRAMP Assessment & Advisory ServicesDoD CC SRG ServicesNIST/RMFPCI DSS Advisory & Assessment ServicesCloud Security StrategyContinuous MonitoringDynamic Advisory ServicesPenetration TestingVulnerability AssessmentsApplication TestingEnterprise Security ArchitectureFISMAFISMA ReadinessDefense & Rocket Support ServicesExtreme Environment Materials and StructuresAdvanced Concept Demonstration and TestAerosciences Test and Evaluation (T&E) Support and AnalysisEngineering, Design, & AnalysisEnterprise Services & Data Center SupportAcquisition & Program ManagementSub-Orbital Vehicles And TargetsResearch Sounding RocketsExtreme Environment Materials and StructuresNon-Destructive Evaluation of MaterialsChemistry & Physics of MaterialsHypersonic StructuresSpace Structures CharacterizationMaterial Mechanical Property Testing & AnalysisThermal Testing of MaterialsCharacterization of Additive Manufactured MetalsMicrowave ElectronicsKratos Microwave U.S.Kratos Microwave IsraelTurbine TechnologiesEngineering ServicesAbout KratosLeadershipContract VehiclesSeaPort-NxGTETRASATS-2Training System Contract IV (TSC IV)USV FoS IDIQ-MACSmall BusinessEthics & ComplianceCorporate GovernanceDivisionsUnmanned SystemsSystem IntegrationTrainingTest & ManufacturingSpace, Training and CybersecuritySpaceTrainingSimulation SystemsTraining ServicesAircrew Training CentersCurriculum DevelopmentSustainment ServicesSimulation Training PlatformCyberC3PAO ServicesFedRAMP Assessment & Advisory ServicesDoD CC SRG ServicesNIST/RMFPCI DSS Advisory & Assessment ServicesCloud Security StrategyContinuous MonitoringDynamic Advisory ServicesPenetration TestingVulnerability AssessmentsApplication TestingEnterprise Security ArchitectureFISMAFISMA ReadinessDefense & Rocket Support ServicesExtreme Environment Materials and StructuresNon-Destructive Evaluation of MaterialsChemistry & Physics of MaterialsHypersonic StructuresSpace Structures CharacterizationMaterial Mechanical Property Testing & AnalysisThermal Testing of MaterialsCharacterization of Additive Manufactured MetalsAdvanced Concept Demonstration and TestAerosciences Test and Evaluation (T&E) Support and AnalysisEngineering, Design, & AnalysisEnterprise Services & Data Center SupportAcquisition & Program ManagementSub-Orbital Vehicles And TargetsResearch Sounding RocketsMicrowave ElectronicsKratos Microwave U.S.Kratos Microwave IsraelTurbine TechnologiesEngineering ServicesC5ISR SystemsLocations & ContactsUpcoming EventsTechnologiesSystems & PlatformsSystems & PlatformsUnmanned SystemsSpace SystemsTraining SystemsC5ISR SystemsRapid Launch Vehicles and TargetsHypersonic and Ballistic SystemsUnmanned SystemsAerialDriverless Vehicle SolutionsAerialTactical UAVsTethered Drone - AethonAerial TargetsSmall UAS SwarmingDriverless Vehicle SolutionsHigh Mobility Ground TargetsAutonomous Truck Mounted Attenuator (ATMA)Leader Follower PlatooningSpace SystemsOpenSpace for Dynamic GroundMilitary & GovernmentSpace ProductsTurnkey Ground SystemsOpenSpace for Dynamic GroundOpenSpace for SatcomOpenSpace for MilcomOpenSpace for Earth ObservationOpenSpace PlatformMilitary & GovernmentSpace SuperioritySpace Domain AwarenessSpectrum MonitoringSpectrum RegulationMission ApplicationsSpace SuperiorityCyber Mission SolutionsSpace Domain AwarenessTracking & ManeuverSignal Survey & CharacterizationSDA Advanced ServicesTraining SystemsSimulation SystemsSimulation Training PlatformTraining Product SupportSimulation SystemsAirGroundMaritimeSpaceAirMaintenance Training SystemsCollective Training SystemsAircrew Training SystemsC5ISR SystemsMissile Defense & RadarCommand & ControlUnmanned SystemsCombat SystemsElectrical, EO/IR & Mechanical SystemsMissile Defense & RadarMissile & Radar TestingRapid Launch Vehicles and TargetsSub-Orbital Vehicles And TargetsResearch Sounding RocketsHypersonic and Ballistic SystemsExtreme Environment Materials and StructuresAdvanced Concept Demonstration and TestAerosciences Test and Evaluation (T&E) Support and AnalysisGround Support EquipmentEngineering, Design, & AnalysisSub-Orbital Vehicles And TargetsResearch Sounding RocketsMissile Defense & RadarElectrical, EO/IR & Mechanical SystemsExtreme Environment Materials and StructuresChemistry & Physics of MaterialsHypersonic StructuresNon-Destructive Evaluation of MaterialsSpace Structures CharacterizationMaterial Mechanical Property Testing & AnalysisThermal Testing of MaterialsCharacterization of Additive Manufactured MetalsMissile Defense & RadarMissile & Radar TestingUnmanned SystemsAerialTactical UAVsTethered Drone - AethonAerial TargetsSmall UAS SwarmingDriverless Vehicle SolutionsHigh Mobility Ground TargetsAutonomous Truck Mounted Attenuator (ATMA)Leader Follower PlatooningSpace SystemsOpenSpace for Dynamic GroundOpenSpace for SatcomOpenSpace for MilcomOpenSpace for Earth ObservationOpenSpace PlatformMilitary & GovernmentSpace SuperiorityCyber Mission SolutionsSpace Domain AwarenessTracking & ManeuverSignal Survey & CharacterizationSDA Advanced ServicesSpectrum MonitoringSpectrum RegulationMission ApplicationsSpace ProductsTurnkey Ground SystemsTraining SystemsSimulation SystemsAirMaintenance Training SystemsCollective Training SystemsAircrew Training SystemsGroundMaritimeSpaceSimulation Training PlatformTraining Product SupportC5ISR SystemsMissile Defense & RadarMissile & Radar TestingCommand & ControlUnmanned SystemsCombat SystemsElectrical, EO/IR & Mechanical SystemsRapid Launch Vehicles and TargetsSub-Orbital Vehicles And TargetsResearch Sounding RocketsHypersonic and Ballistic SystemsExtreme Environment Materials and StructuresChemistry & Physics of MaterialsHypersonic StructuresNon-Destructive Evaluation of MaterialsSpace Structures CharacterizationMaterial Mechanical Property Testing & AnalysisThermal Testing of MaterialsCharacterization of Additive Manufactured MetalsAdvanced Concept Demonstration and TestAerosciences Test and Evaluation (T&E) Support and AnalysisGround Support EquipmentEngineering, Design, & AnalysisSub-Orbital Vehicles And TargetsResearch Sounding RocketsMissile Defense & RadarMissile & Radar TestingElectrical, EO/IR & Mechanical SystemsProductsProductsUAVsSpaceMicrowave ElectronicsUAVsRadiosAirLand & SeaRadiosCDL Compliance Tester - CWCTAvionicsAvionicsModel 290 Data Link TransponderC-Band Radar TransponderMulti-Service Data Link TransponderIdentify Friend Or Foe (IFF)Gulf Range Drone Control SystemModel 280-1 TransponderTarget Control TransponderAirAutopilots & Mission ComputersUAV Command & ControlTest SetsFlight Termination & Range SafetyTurbine ProductsAutopilots & Mission ComputersUnmanned Vehicle Mission ComputerIntegrated Flight ControllerUAV Command & ControlPortable Command & ControlTransportable Command & ControlFixed Site Command & ControlTest SetsModel 38-4 C-Band TesterModel 41 C-Band Test SetMulti-Platform Vehicle Test SetFlight Termination Test Set915MHz Data Link Test SetFlight Termination & Range SafetyTurnkey Flight Termination SystemsModular Components & Test SetsLand & SeaGround Vehicle AutomationUGV Command and ControlSea Surface Vehicle AutomationGround Vehicle AutomationMulti-Platform Appliqué Kit (M-PAK)UGV Command and ControlBench Top SystemPortable Command & ControlSea Surface Vehicle AutomationHigh-Speed Maneuvering Surface Target (HSMST)SpaceSystemsNetworksSatellitesSignalsAntennasSupportSystemsSpectrum MonitoringSatellite Command & ControlTurnkey Ground SystemsSpectrum RegulationNetworksNetwork DevicesCybersecurityNetwork ManagementNetwork DevicesNetwork Protocol Utility - DataDefenderDigitalIF - SpectralNetSerial-to-IP for Guard - quantumEdgeCybersecurityCross Domain Enabler - CyberC4:ProxyNetwork ManagementUnified Management - OpenSpace OpsCenterMonitor & Control - CompassManager of Managers - NeuralStarSatellitesCommand & ControlTT&C Devices & SoftwareCommand & ControlSatellite Control - EPOCH IPSFlight Dynamics - OASYSSmall Satellite Control - quantumCMDTT&C Devices & SoftwareVirtual Front End Processor - quantumFEPVirtual TT&C - quantumRadioSignalsSignal ProcessingTest & SimulationRF ManagementSignal ProcessingVirtual TT&C - quantumRadioDigital Recording Application - quantumDRAWideband Software Receiver - quantumRXVirtualized Wideband Transmitter - quantumTXWDR Wideband Data RecorderUWR Wideband Recording SystemTest & SimulationRF Channel SimulatorRadar Emulation Simulator - T400RF ManagementCarrier Monitoring - MonicsDigitizer - Monics 200VSAT Monitoring - SatGuardSignal Geolocation - satIDAntennasIntegrated SystemsEarth Station AntennasSystem ControllersSpecialty Antennas and PedestalsHF AntennasRadar AntennasEarth Station AntennasFixed GEO Earth StationsFixed LEO/MEO Antenna SystemsTransportable Antenna SystemsTactical Antenna SystemsSpecialty Antennas and PedestalsTroposcatter AntennasDirection-Finding Spinning and Bifilar Helical AntennasAntenna PedestalsHF AntennasFixed Directional HF AntennasOmnidirectional HF AntennasRotatable Directional HF AntennasRadar AntennasWeather AntennasAir Traffic Control AntennasMicrowave ElectronicsKratos Microwave U.S.Kratos Microwave IsraelKratos Microwave U.S.GaN Power AmplifiersGaAs Power AmplifiersLow-Noise AmplifiersRack Mount AmplifiersMulti-function SubassembliesCustom Engineered OptionsU.S. Product CatalogKratos Microwave IsraelIntegrated Microwave Assembly (IMA)Microwave Solid State Power Amplifiers (SSPAs)Microwave SourcesMicrowave AttenuatorsMicrowave Frequency TranslatorsMicrowave IQ Vector Modulators and Bi-Phase ModulatorsMicrowave Phase ShiftersMicrowave SwitchesMillimeter Wave ComponentsMicrowave LimitersIntegrated Microwave Assembly (IMA)Amplitude Control Module (ACM)Beam Forming - For Phased Array RadarsFrequency ConvertersSwitched Filter BanksReceiver Wide BandRF Front EndTransceivers For Data-Links and Smart MunitionTransmit/Receive ModulesMicrowave Solid State Power Amplifiers (SSPAs)Microwave SSPA Selection GuideMicrowave SourcesDTOsFLOsMicrowave SynthesizersVCOsMicrowave AttenuatorsAttenuators Selection GuideSwitched Bit Attenuators Selection GuideMicrowave Frequency TranslatorsFrequency Translators Selection GuideMicrowave IQ Vector Modulators and Bi-Phase ModulatorsIQ Vector Modulators Selection GuideMicrowave Phase ShiftersMicrowave Phase Shifters Selection GuideMicrowave SwitchesSPST thru SP16T Microwave Switch Selection GuideHigh & Medium Power Microwave Switch Selection GuideMillimeter Wave ComponentsMillimeter Wave SwitchesMillimeter Wave AttenuatorsCustom Millimeter Wave AssembliesMillimeter Wave Phase ShiftersMicrowave LimitersLimiters Selection GuideUAVsRadiosCDL Compliance Tester - CWCTAvionicsModel 290 Data Link TransponderC-Band Radar TransponderMulti-Service Data Link TransponderIdentify Friend Or Foe (IFF)Gulf Range Drone Control SystemModel 280-1 TransponderTarget Control TransponderAirAutopilots & Mission ComputersUnmanned Vehicle Mission ComputerIntegrated Flight ControllerUAV Command & ControlPortable Command & ControlTransportable Command & ControlFixed Site Command & ControlTest SetsModel 38-4 C-Band TesterModel 41 C-Band Test SetMulti-Platform Vehicle Test SetFlight Termination Test Set915MHz Data Link Test SetFlight Termination & Range SafetyTurnkey Flight Termination SystemsModular Components & Test SetsTurbine ProductsLand & SeaGround Vehicle AutomationMulti-Platform Appliqué Kit (M-PAK)UGV Command and ControlBench Top SystemPortable Command & ControlSea Surface Vehicle AutomationHigh-Speed Maneuvering Surface Target (HSMST)SpaceSystemsSpectrum MonitoringSatellite Command & ControlTurnkey Ground SystemsSpectrum RegulationNetworksNetwork DevicesNetwork Protocol Utility - DataDefenderDigitalIF - SpectralNetSerial-to-IP for Guard - quantumEdgeCybersecurityCross Domain Enabler - CyberC4:ProxyNetwork ManagementUnified Management - OpenSpace OpsCenterMonitor & Control - CompassManager of Managers - NeuralStarSatellitesCommand & ControlSatellite Control - EPOCH IPSFlight Dynamics - OASYSSmall Satellite Control - quantumCMDTT&C Devices & SoftwareVirtual Front End Processor - quantumFEPVirtual TT&C - quantumRadioSignalsSignal ProcessingVirtual TT&C - quantumRadioDigital Recording Application - quantumDRAWideband Software Receiver - quantumRXVirtualized Wideband Transmitter - quantumTXWDR Wideband Data RecorderUWR Wideband Recording SystemTest & SimulationRF Channel SimulatorRadar Emulation Simulator - T400RF ManagementCarrier Monitoring - MonicsDigitizer - Monics 200VSAT Monitoring - SatGuardSignal Geolocation - satIDAntennasIntegrated SystemsEarth Station AntennasFixed GEO Earth StationsFixed LEO/MEO Antenna SystemsTransportable Antenna SystemsTactical Antenna SystemsSystem ControllersSpecialty Antennas and PedestalsTroposcatter AntennasDirection-Finding Spinning and Bifilar Helical AntennasAntenna PedestalsHF AntennasFixed Directional HF AntennasOmnidirectional HF AntennasRotatable Directional HF AntennasRadar AntennasWeather AntennasAir Traffic Control AntennasSupportMicrowave ElectronicsKratos Microwave U.S.GaN Power AmplifiersGaAs Power AmplifiersLow-Noise AmplifiersRack Mount AmplifiersMulti-function SubassembliesCustom Engineered OptionsU.S. Product CatalogKratos Microwave IsraelIntegrated Microwave Assembly (IMA)Amplitude Control Module (ACM)Beam Forming - For Phased Array RadarsFrequency ConvertersSwitched Filter BanksReceiver Wide BandRF Front EndTransceivers For Data-Links and Smart MunitionTransmit/Receive ModulesMicrowave Solid State Power Amplifiers (SSPAs)Microwave SSPA Selection GuideMicrowave SourcesDTOsFLOsMicrowave SynthesizersVCOsMicrowave AttenuatorsAttenuators Selection GuideSwitched Bit Attenuators Selection GuideMicrowave Frequency TranslatorsFrequency Translators Selection GuideMicrowave IQ Vector Modulators and Bi-Phase ModulatorsIQ Vector Modulators Selection GuideMicrowave Phase ShiftersMicrowave Phase Shifters Selection GuideMicrowave SwitchesSPST thru SP16T Microwave Switch Selection GuideHigh & Medium Power Microwave Switch Selection GuideMillimeter Wave ComponentsMillimeter Wave SwitchesMillimeter Wave AttenuatorsCustom Millimeter Wave AssembliesMillimeter Wave Phase ShiftersMicrowave LimitersLimiters Selection GuideInvestorsInvestorsPress ReleasesEvents & PresentationsFinancial InformationStock InformationInvestor FAQsContact UsFinancial InformationSEC FilingsQuarterly ResultsAnnual ReportsPress ReleasesEvents & PresentationsFinancial InformationSEC FilingsQuarterly ResultsAnnual ReportsStock InformationInvestor FAQsContact UsCareersConstellations\\n\\n\\n\\n\\n\\n\\n\\nHomeSystems & PlatformsSpace Systems\\n\\n\\n\\n\\nLinkedInTwitterYouTubeConstellations Podcast\\n\\n\\n\\n\\n\\n\\n\\n\\n\\n'"
      ]
     },
     "execution_count": 21,
     "metadata": {},
     "output_type": "execute_result"
    }
   ],
   "source": [
    "df.iloc[0,2]"
   ]
  },
  {
   "cell_type": "code",
   "execution_count": 22,
   "id": "35e3a0e7",
   "metadata": {
    "ExecuteTime": {
     "end_time": "2023-12-21T10:12:06.304253Z",
     "start_time": "2023-12-21T10:12:06.300864Z"
    }
   },
   "outputs": [
    {
     "data": {
      "text/plain": [
       "'You can find cassandra documentation online at http://cassandra.apache.org/doc/latest\\n\\n'"
      ]
     },
     "execution_count": 22,
     "metadata": {},
     "output_type": "execute_result"
    }
   ],
   "source": [
    "df.iloc[89,2]"
   ]
  },
  {
   "cell_type": "code",
   "execution_count": 23,
   "id": "8c05ba82",
   "metadata": {
    "ExecuteTime": {
     "end_time": "2023-12-21T10:12:06.309077Z",
     "start_time": "2023-12-21T10:12:06.305248Z"
    }
   },
   "outputs": [
    {
     "data": {
      "text/plain": [
       "'\\n'"
      ]
     },
     "execution_count": 23,
     "metadata": {},
     "output_type": "execute_result"
    }
   ],
   "source": [
    "df.iloc[336,2]"
   ]
  },
  {
   "cell_type": "markdown",
   "id": "440daa1f",
   "metadata": {},
   "source": [
    "# Clean data"
   ]
  },
  {
   "cell_type": "code",
   "execution_count": 24,
   "id": "9ad986ef",
   "metadata": {
    "ExecuteTime": {
     "end_time": "2023-12-21T10:12:06.315198Z",
     "start_time": "2023-12-21T10:12:06.310075Z"
    }
   },
   "outputs": [],
   "source": [
    "def clean_text(text):\n",
    "    # Whitespace normalization\n",
    "    text = ' '.join(text.split())\n",
    "    \n",
    "    # Handling newline characters to create a visual separation\n",
    "    text = text.replace('\\n', ' ')\n",
    "\n",
    "    # Handle LaTeX math expressions: This step can be enhanced further based on specific needs\n",
    "    # The idea here is to isolate math expressions so that they don't get affected by other cleaning operations\n",
    "    math_expressions = re.findall(r'\\\\\\(.*?\\\\\\)', text)\n",
    "    for math_expr in math_expressions:\n",
    "        placeholder = math_expr.replace(' ', '_')\n",
    "        text = text.replace(math_expr, placeholder)\n",
    "\n",
    "    # Removing unwanted characters like ¶\n",
    "    text = text.replace('¶', '')\n",
    "\n",
    "    # Punctuation spacing: Ensure spaces before and after punctuation\n",
    "    text = re.sub(r'(?<=[\\w])([.,;:!?\\(\\)\\[\\]])', r' \\1', text)\n",
    "    text = re.sub(r'([.,;:!?\\(\\)\\[\\]])(?=[\\w])', r'\\1 ', text)\n",
    "\n",
    "    # Replace back the LaTeX math expressions\n",
    "    for math_expr in math_expressions:\n",
    "        placeholder = math_expr.replace(' ', '_')\n",
    "        text = text.replace(placeholder, math_expr)\n",
    "\n",
    "    \n",
    "    return text"
   ]
  },
  {
   "cell_type": "code",
   "execution_count": 25,
   "id": "8503ddd1",
   "metadata": {
    "ExecuteTime": {
     "end_time": "2023-12-21T10:12:06.476513Z",
     "start_time": "2023-12-21T10:12:06.316200Z"
    }
   },
   "outputs": [],
   "source": [
    "# Apply this function to the entire 'content' column\n",
    "df['text'] = df['text'].apply(clean_text)"
   ]
  },
  {
   "cell_type": "code",
   "execution_count": 26,
   "id": "0fa6429c",
   "metadata": {
    "ExecuteTime": {
     "end_time": "2023-12-21T10:12:06.484039Z",
     "start_time": "2023-12-21T10:12:06.480515Z"
    }
   },
   "outputs": [
    {
     "data": {
      "text/plain": [
       "'Space Systems | Kratos AboutAboutAbout KratosDivisionsLocations & ContactsUpcoming EventsAbout KratosLeadershipContract VehiclesSmall BusinessEthics & ComplianceCorporate GovernanceContract VehiclesSeaPort-NxGTETRASATS-2Training System Contract IV ( TSC IV ) USV FoS IDIQ-MACDivisionsUnmanned SystemsSpace , Training and CybersecurityDefense & Rocket Support ServicesMicrowave ElectronicsTurbine TechnologiesC5ISR SystemsUnmanned SystemsSystem IntegrationTrainingTest & ManufacturingSpace , Training and CybersecuritySpaceTrainingCyberTrainingSimulation SystemsTraining ServicesSimulation Training PlatformTraining ServicesAircrew Training CentersCurriculum DevelopmentSustainment ServicesCyberC3PAO ServicesFedRAMP Assessment & Advisory ServicesDoD CC SRG ServicesNIST/RMFPCI DSS Advisory & Assessment ServicesCloud Security StrategyContinuous MonitoringDynamic Advisory ServicesPenetration TestingVulnerability AssessmentsApplication TestingEnterprise Security ArchitectureFISMAFISMA ReadinessDefense & Rocket Support ServicesExtreme Environment Materials and StructuresAdvanced Concept Demonstration and TestAerosciences Test and Evaluation ( T&E ) Support and AnalysisEngineering , Design , & AnalysisEnterprise Services & Data Center SupportAcquisition & Program ManagementSub-Orbital Vehicles And TargetsResearch Sounding RocketsExtreme Environment Materials and StructuresNon-Destructive Evaluation of MaterialsChemistry & Physics of MaterialsHypersonic StructuresSpace Structures CharacterizationMaterial Mechanical Property Testing & AnalysisThermal Testing of MaterialsCharacterization of Additive Manufactured MetalsMicrowave ElectronicsKratos Microwave U . S . Kratos Microwave IsraelTurbine TechnologiesEngineering ServicesAbout KratosLeadershipContract VehiclesSeaPort-NxGTETRASATS-2Training System Contract IV ( TSC IV ) USV FoS IDIQ-MACSmall BusinessEthics & ComplianceCorporate GovernanceDivisionsUnmanned SystemsSystem IntegrationTrainingTest & ManufacturingSpace , Training and CybersecuritySpaceTrainingSimulation SystemsTraining ServicesAircrew Training CentersCurriculum DevelopmentSustainment ServicesSimulation Training PlatformCyberC3PAO ServicesFedRAMP Assessment & Advisory ServicesDoD CC SRG ServicesNIST/RMFPCI DSS Advisory & Assessment ServicesCloud Security StrategyContinuous MonitoringDynamic Advisory ServicesPenetration TestingVulnerability AssessmentsApplication TestingEnterprise Security ArchitectureFISMAFISMA ReadinessDefense & Rocket Support ServicesExtreme Environment Materials and StructuresNon-Destructive Evaluation of MaterialsChemistry & Physics of MaterialsHypersonic StructuresSpace Structures CharacterizationMaterial Mechanical Property Testing & AnalysisThermal Testing of MaterialsCharacterization of Additive Manufactured MetalsAdvanced Concept Demonstration and TestAerosciences Test and Evaluation ( T&E ) Support and AnalysisEngineering , Design , & AnalysisEnterprise Services & Data Center SupportAcquisition & Program ManagementSub-Orbital Vehicles And TargetsResearch Sounding RocketsMicrowave ElectronicsKratos Microwave U . S . Kratos Microwave IsraelTurbine TechnologiesEngineering ServicesC5ISR SystemsLocations & ContactsUpcoming EventsTechnologiesSystems & PlatformsSystems & PlatformsUnmanned SystemsSpace SystemsTraining SystemsC5ISR SystemsRapid Launch Vehicles and TargetsHypersonic and Ballistic SystemsUnmanned SystemsAerialDriverless Vehicle SolutionsAerialTactical UAVsTethered Drone - AethonAerial TargetsSmall UAS SwarmingDriverless Vehicle SolutionsHigh Mobility Ground TargetsAutonomous Truck Mounted Attenuator ( ATMA ) Leader Follower PlatooningSpace SystemsOpenSpace for Dynamic GroundMilitary & GovernmentSpace ProductsTurnkey Ground SystemsOpenSpace for Dynamic GroundOpenSpace for SatcomOpenSpace for MilcomOpenSpace for Earth ObservationOpenSpace PlatformMilitary & GovernmentSpace SuperioritySpace Domain AwarenessSpectrum MonitoringSpectrum RegulationMission ApplicationsSpace SuperiorityCyber Mission SolutionsSpace Domain AwarenessTracking & ManeuverSignal Survey & CharacterizationSDA Advanced ServicesTraining SystemsSimulation SystemsSimulation Training PlatformTraining Product SupportSimulation SystemsAirGroundMaritimeSpaceAirMaintenance Training SystemsCollective Training SystemsAircrew Training SystemsC5ISR SystemsMissile Defense & RadarCommand & ControlUnmanned SystemsCombat SystemsElectrical , EO/IR & Mechanical SystemsMissile Defense & RadarMissile & Radar TestingRapid Launch Vehicles and TargetsSub-Orbital Vehicles And TargetsResearch Sounding RocketsHypersonic and Ballistic SystemsExtreme Environment Materials and StructuresAdvanced Concept Demonstration and TestAerosciences Test and Evaluation ( T&E ) Support and AnalysisGround Support EquipmentEngineering , Design , & AnalysisSub-Orbital Vehicles And TargetsResearch Sounding RocketsMissile Defense & RadarElectrical , EO/IR & Mechanical SystemsExtreme Environment Materials and StructuresChemistry & Physics of MaterialsHypersonic StructuresNon-Destructive Evaluation of MaterialsSpace Structures CharacterizationMaterial Mechanical Property Testing & AnalysisThermal Testing of MaterialsCharacterization of Additive Manufactured MetalsMissile Defense & RadarMissile & Radar TestingUnmanned SystemsAerialTactical UAVsTethered Drone - AethonAerial TargetsSmall UAS SwarmingDriverless Vehicle SolutionsHigh Mobility Ground TargetsAutonomous Truck Mounted Attenuator ( ATMA ) Leader Follower PlatooningSpace SystemsOpenSpace for Dynamic GroundOpenSpace for SatcomOpenSpace for MilcomOpenSpace for Earth ObservationOpenSpace PlatformMilitary & GovernmentSpace SuperiorityCyber Mission SolutionsSpace Domain AwarenessTracking & ManeuverSignal Survey & CharacterizationSDA Advanced ServicesSpectrum MonitoringSpectrum RegulationMission ApplicationsSpace ProductsTurnkey Ground SystemsTraining SystemsSimulation SystemsAirMaintenance Training SystemsCollective Training SystemsAircrew Training SystemsGroundMaritimeSpaceSimulation Training PlatformTraining Product SupportC5ISR SystemsMissile Defense & RadarMissile & Radar TestingCommand & ControlUnmanned SystemsCombat SystemsElectrical , EO/IR & Mechanical SystemsRapid Launch Vehicles and TargetsSub-Orbital Vehicles And TargetsResearch Sounding RocketsHypersonic and Ballistic SystemsExtreme Environment Materials and StructuresChemistry & Physics of MaterialsHypersonic StructuresNon-Destructive Evaluation of MaterialsSpace Structures CharacterizationMaterial Mechanical Property Testing & AnalysisThermal Testing of MaterialsCharacterization of Additive Manufactured MetalsAdvanced Concept Demonstration and TestAerosciences Test and Evaluation ( T&E ) Support and AnalysisGround Support EquipmentEngineering , Design , & AnalysisSub-Orbital Vehicles And TargetsResearch Sounding RocketsMissile Defense & RadarMissile & Radar TestingElectrical , EO/IR & Mechanical SystemsProductsProductsUAVsSpaceMicrowave ElectronicsUAVsRadiosAirLand & SeaRadiosCDL Compliance Tester - CWCTAvionicsAvionicsModel 290 Data Link TransponderC-Band Radar TransponderMulti-Service Data Link TransponderIdentify Friend Or Foe ( IFF ) Gulf Range Drone Control SystemModel 280-1 TransponderTarget Control TransponderAirAutopilots & Mission ComputersUAV Command & ControlTest SetsFlight Termination & Range SafetyTurbine ProductsAutopilots & Mission ComputersUnmanned Vehicle Mission ComputerIntegrated Flight ControllerUAV Command & ControlPortable Command & ControlTransportable Command & ControlFixed Site Command & ControlTest SetsModel 38-4 C-Band TesterModel 41 C-Band Test SetMulti-Platform Vehicle Test SetFlight Termination Test Set915MHz Data Link Test SetFlight Termination & Range SafetyTurnkey Flight Termination SystemsModular Components & Test SetsLand & SeaGround Vehicle AutomationUGV Command and ControlSea Surface Vehicle AutomationGround Vehicle AutomationMulti-Platform Appliqué Kit ( M-PAK ) UGV Command and ControlBench Top SystemPortable Command & ControlSea Surface Vehicle AutomationHigh-Speed Maneuvering Surface Target ( HSMST ) SpaceSystemsNetworksSatellitesSignalsAntennasSupportSystemsSpectrum MonitoringSatellite Command & ControlTurnkey Ground SystemsSpectrum RegulationNetworksNetwork DevicesCybersecurityNetwork ManagementNetwork DevicesNetwork Protocol Utility - DataDefenderDigitalIF - SpectralNetSerial-to-IP for Guard - quantumEdgeCybersecurityCross Domain Enabler - CyberC4 : ProxyNetwork ManagementUnified Management - OpenSpace OpsCenterMonitor & Control - CompassManager of Managers - NeuralStarSatellitesCommand & ControlTT&C Devices & SoftwareCommand & ControlSatellite Control - EPOCH IPSFlight Dynamics - OASYSSmall Satellite Control - quantumCMDTT&C Devices & SoftwareVirtual Front End Processor - quantumFEPVirtual TT&C - quantumRadioSignalsSignal ProcessingTest & SimulationRF ManagementSignal ProcessingVirtual TT&C - quantumRadioDigital Recording Application - quantumDRAWideband Software Receiver - quantumRXVirtualized Wideband Transmitter - quantumTXWDR Wideband Data RecorderUWR Wideband Recording SystemTest & SimulationRF Channel SimulatorRadar Emulation Simulator - T400RF ManagementCarrier Monitoring - MonicsDigitizer - Monics 200VSAT Monitoring - SatGuardSignal Geolocation - satIDAntennasIntegrated SystemsEarth Station AntennasSystem ControllersSpecialty Antennas and PedestalsHF AntennasRadar AntennasEarth Station AntennasFixed GEO Earth StationsFixed LEO/MEO Antenna SystemsTransportable Antenna SystemsTactical Antenna SystemsSpecialty Antennas and PedestalsTroposcatter AntennasDirection-Finding Spinning and Bifilar Helical AntennasAntenna PedestalsHF AntennasFixed Directional HF AntennasOmnidirectional HF AntennasRotatable Directional HF AntennasRadar AntennasWeather AntennasAir Traffic Control AntennasMicrowave ElectronicsKratos Microwave U . S . Kratos Microwave IsraelKratos Microwave U . S . GaN Power AmplifiersGaAs Power AmplifiersLow-Noise AmplifiersRack Mount AmplifiersMulti-function SubassembliesCustom Engineered OptionsU . S . Product CatalogKratos Microwave IsraelIntegrated Microwave Assembly ( IMA ) Microwave Solid State Power Amplifiers ( SSPAs ) Microwave SourcesMicrowave AttenuatorsMicrowave Frequency TranslatorsMicrowave IQ Vector Modulators and Bi-Phase ModulatorsMicrowave Phase ShiftersMicrowave SwitchesMillimeter Wave ComponentsMicrowave LimitersIntegrated Microwave Assembly ( IMA ) Amplitude Control Module ( ACM ) Beam Forming - For Phased Array RadarsFrequency ConvertersSwitched Filter BanksReceiver Wide BandRF Front EndTransceivers For Data-Links and Smart MunitionTransmit/Receive ModulesMicrowave Solid State Power Amplifiers ( SSPAs ) Microwave SSPA Selection GuideMicrowave SourcesDTOsFLOsMicrowave SynthesizersVCOsMicrowave AttenuatorsAttenuators Selection GuideSwitched Bit Attenuators Selection GuideMicrowave Frequency TranslatorsFrequency Translators Selection GuideMicrowave IQ Vector Modulators and Bi-Phase ModulatorsIQ Vector Modulators Selection GuideMicrowave Phase ShiftersMicrowave Phase Shifters Selection GuideMicrowave SwitchesSPST thru SP16T Microwave Switch Selection GuideHigh & Medium Power Microwave Switch Selection GuideMillimeter Wave ComponentsMillimeter Wave SwitchesMillimeter Wave AttenuatorsCustom Millimeter Wave AssembliesMillimeter Wave Phase ShiftersMicrowave LimitersLimiters Selection GuideUAVsRadiosCDL Compliance Tester - CWCTAvionicsModel 290 Data Link TransponderC-Band Radar TransponderMulti-Service Data Link TransponderIdentify Friend Or Foe ( IFF ) Gulf Range Drone Control SystemModel 280-1 TransponderTarget Control TransponderAirAutopilots & Mission ComputersUnmanned Vehicle Mission ComputerIntegrated Flight ControllerUAV Command & ControlPortable Command & ControlTransportable Command & ControlFixed Site Command & ControlTest SetsModel 38-4 C-Band TesterModel 41 C-Band Test SetMulti-Platform Vehicle Test SetFlight Termination Test Set915MHz Data Link Test SetFlight Termination & Range SafetyTurnkey Flight Termination SystemsModular Components & Test SetsTurbine ProductsLand & SeaGround Vehicle AutomationMulti-Platform Appliqué Kit ( M-PAK ) UGV Command and ControlBench Top SystemPortable Command & ControlSea Surface Vehicle AutomationHigh-Speed Maneuvering Surface Target ( HSMST ) SpaceSystemsSpectrum MonitoringSatellite Command & ControlTurnkey Ground SystemsSpectrum RegulationNetworksNetwork DevicesNetwork Protocol Utility - DataDefenderDigitalIF - SpectralNetSerial-to-IP for Guard - quantumEdgeCybersecurityCross Domain Enabler - CyberC4 : ProxyNetwork ManagementUnified Management - OpenSpace OpsCenterMonitor & Control - CompassManager of Managers - NeuralStarSatellitesCommand & ControlSatellite Control - EPOCH IPSFlight Dynamics - OASYSSmall Satellite Control - quantumCMDTT&C Devices & SoftwareVirtual Front End Processor - quantumFEPVirtual TT&C - quantumRadioSignalsSignal ProcessingVirtual TT&C - quantumRadioDigital Recording Application - quantumDRAWideband Software Receiver - quantumRXVirtualized Wideband Transmitter - quantumTXWDR Wideband Data RecorderUWR Wideband Recording SystemTest & SimulationRF Channel SimulatorRadar Emulation Simulator - T400RF ManagementCarrier Monitoring - MonicsDigitizer - Monics 200VSAT Monitoring - SatGuardSignal Geolocation - satIDAntennasIntegrated SystemsEarth Station AntennasFixed GEO Earth StationsFixed LEO/MEO Antenna SystemsTransportable Antenna SystemsTactical Antenna SystemsSystem ControllersSpecialty Antennas and PedestalsTroposcatter AntennasDirection-Finding Spinning and Bifilar Helical AntennasAntenna PedestalsHF AntennasFixed Directional HF AntennasOmnidirectional HF AntennasRotatable Directional HF AntennasRadar AntennasWeather AntennasAir Traffic Control AntennasSupportMicrowave ElectronicsKratos Microwave U . S . GaN Power AmplifiersGaAs Power AmplifiersLow-Noise AmplifiersRack Mount AmplifiersMulti-function SubassembliesCustom Engineered OptionsU . S . Product CatalogKratos Microwave IsraelIntegrated Microwave Assembly ( IMA ) Amplitude Control Module ( ACM ) Beam Forming - For Phased Array RadarsFrequency ConvertersSwitched Filter BanksReceiver Wide BandRF Front EndTransceivers For Data-Links and Smart MunitionTransmit/Receive ModulesMicrowave Solid State Power Amplifiers ( SSPAs ) Microwave SSPA Selection GuideMicrowave SourcesDTOsFLOsMicrowave SynthesizersVCOsMicrowave AttenuatorsAttenuators Selection GuideSwitched Bit Attenuators Selection GuideMicrowave Frequency TranslatorsFrequency Translators Selection GuideMicrowave IQ Vector Modulators and Bi-Phase ModulatorsIQ Vector Modulators Selection GuideMicrowave Phase ShiftersMicrowave Phase Shifters Selection GuideMicrowave SwitchesSPST thru SP16T Microwave Switch Selection GuideHigh & Medium Power Microwave Switch Selection GuideMillimeter Wave ComponentsMillimeter Wave SwitchesMillimeter Wave AttenuatorsCustom Millimeter Wave AssembliesMillimeter Wave Phase ShiftersMicrowave LimitersLimiters Selection GuideInvestorsInvestorsPress ReleasesEvents & PresentationsFinancial InformationStock InformationInvestor FAQsContact UsFinancial InformationSEC FilingsQuarterly ResultsAnnual ReportsPress ReleasesEvents & PresentationsFinancial InformationSEC FilingsQuarterly ResultsAnnual ReportsStock InformationInvestor FAQsContact UsCareersConstellations HomeSystems & PlatformsSpace Systems LinkedInTwitterYouTubeConstellations Podcast'"
      ]
     },
     "execution_count": 26,
     "metadata": {},
     "output_type": "execute_result"
    }
   ],
   "source": [
    "df['text'].iloc[0]"
   ]
  },
  {
   "cell_type": "code",
   "execution_count": 27,
   "id": "6f228f8f",
   "metadata": {
    "ExecuteTime": {
     "end_time": "2023-12-21T10:12:06.488421Z",
     "start_time": "2023-12-21T10:12:06.485040Z"
    }
   },
   "outputs": [
    {
     "data": {
      "text/plain": [
       "'You can find cassandra documentation online at http ://cassandra . apache . org/doc/latest'"
      ]
     },
     "execution_count": 27,
     "metadata": {},
     "output_type": "execute_result"
    }
   ],
   "source": [
    "df['text'].iloc[89]"
   ]
  },
  {
   "cell_type": "code",
   "execution_count": 28,
   "id": "8ba74520",
   "metadata": {
    "ExecuteTime": {
     "end_time": "2023-12-21T10:12:06.493055Z",
     "start_time": "2023-12-21T10:12:06.489416Z"
    }
   },
   "outputs": [
    {
     "data": {
      "text/plain": [
       "''"
      ]
     },
     "execution_count": 28,
     "metadata": {},
     "output_type": "execute_result"
    }
   ],
   "source": [
    "df['text'].iloc[336]"
   ]
  },
  {
   "cell_type": "code",
   "execution_count": 29,
   "id": "87b0a411",
   "metadata": {
    "ExecuteTime": {
     "end_time": "2023-12-21T10:12:06.497425Z",
     "start_time": "2023-12-21T10:12:06.494051Z"
    }
   },
   "outputs": [
    {
     "data": {
      "text/plain": [
       "'For a standalone server you will select the following answers : local postgresql database only one Cassandra and OpenSearch node'"
      ]
     },
     "execution_count": 29,
     "metadata": {},
     "output_type": "execute_result"
    }
   ],
   "source": [
    "df['text'].iloc[400]"
   ]
  },
  {
   "cell_type": "markdown",
   "id": "bc5452ea",
   "metadata": {},
   "source": [
    "# Format size for emebddings"
   ]
  },
  {
   "cell_type": "code",
   "execution_count": 30,
   "id": "5f9c06a4",
   "metadata": {
    "ExecuteTime": {
     "end_time": "2023-12-21T10:12:06.516481Z",
     "start_time": "2023-12-21T10:12:06.498422Z"
    }
   },
   "outputs": [],
   "source": [
    "df['word_count'] = df['text'].apply(lambda x: len(x.split()))"
   ]
  },
  {
   "cell_type": "code",
   "execution_count": 31,
   "id": "bf64bb94",
   "metadata": {
    "ExecuteTime": {
     "end_time": "2023-12-21T10:12:06.521524Z",
     "start_time": "2023-12-21T10:12:06.517483Z"
    }
   },
   "outputs": [
    {
     "data": {
      "text/plain": [
       "documentation                               Administrastion Manual\n",
       "path                                           /Data & filesystems\n",
       "text                                                              \n",
       "file_path        http://192.168.48.22:8082/repository/skyminer-...\n",
       "word_count                                                       0\n",
       "Name: 336, dtype: object"
      ]
     },
     "execution_count": 31,
     "metadata": {},
     "output_type": "execute_result"
    }
   ],
   "source": [
    "df.iloc[336]"
   ]
  },
  {
   "cell_type": "code",
   "execution_count": 32,
   "id": "7111555e",
   "metadata": {
    "ExecuteTime": {
     "end_time": "2023-12-21T10:12:06.786901Z",
     "start_time": "2023-12-21T10:12:06.522520Z"
    }
   },
   "outputs": [
    {
     "name": "stderr",
     "output_type": "stream",
     "text": [
      "C:\\Users\\Nathan\\anaconda3\\envs\\Html_embeddings\\Lib\\site-packages\\seaborn\\_oldcore.py:1498: FutureWarning: is_categorical_dtype is deprecated and will be removed in a future version. Use isinstance(dtype, CategoricalDtype) instead\n",
      "  if pd.api.types.is_categorical_dtype(vector):\n",
      "C:\\Users\\Nathan\\anaconda3\\envs\\Html_embeddings\\Lib\\site-packages\\seaborn\\_oldcore.py:1119: FutureWarning: use_inf_as_na option is deprecated and will be removed in a future version. Convert inf values to NaN before operating instead.\n",
      "  with pd.option_context('mode.use_inf_as_na', True):\n"
     ]
    },
    {
     "data": {
      "image/png": "[encoded data removed]",
      "text/plain": [
       "<Figure size 1000x600 with 1 Axes>"
      ]
     },
     "metadata": {},
     "output_type": "display_data"
    }
   ],
   "source": [
    "# Set Seaborn style\n",
    "sns.set_style('whitegrid')\n",
    "\n",
    "plt.figure(figsize=(10, 6))\n",
    "sns.histplot(df['word_count'], bins=50, kde=True, color='skyblue')\n",
    "plt.title('Distribution of Word Counts in Content')\n",
    "plt.xlabel('Word Count')\n",
    "plt.ylabel('Number of Entries')\n",
    "plt.show()"
   ]
  },
  {
   "cell_type": "code",
   "execution_count": 33,
   "id": "e0647559",
   "metadata": {
    "ExecuteTime": {
     "end_time": "2023-12-21T10:12:07.250570Z",
     "start_time": "2023-12-21T10:12:06.787904Z"
    },
    "scrolled": true
   },
   "outputs": [
    {
     "name": "stderr",
     "output_type": "stream",
     "text": [
      "C:\\Users\\Nathan\\anaconda3\\envs\\Html_embeddings\\Lib\\site-packages\\seaborn\\_oldcore.py:1498: FutureWarning: is_categorical_dtype is deprecated and will be removed in a future version. Use isinstance(dtype, CategoricalDtype) instead\n",
      "  if pd.api.types.is_categorical_dtype(vector):\n",
      "C:\\Users\\Nathan\\anaconda3\\envs\\Html_embeddings\\Lib\\site-packages\\seaborn\\_oldcore.py:1119: FutureWarning: use_inf_as_na option is deprecated and will be removed in a future version. Convert inf values to NaN before operating instead.\n",
      "  with pd.option_context('mode.use_inf_as_na', True):\n"
     ]
    },
    {
     "data": {
      "image/png": "[encoded data removed]",
      "text/plain": [
       "<Figure size 1000x600 with 1 Axes>"
      ]
     },
     "metadata": {},
     "output_type": "display_data"
    }
   ],
   "source": [
    "plt.figure(figsize=(10, 6))\n",
    "sns.histplot(df['word_count'], bins=50, kde=True, color='skyblue')\n",
    "plt.xscale('log')\n",
    "plt.title('Distribution of Word Counts in Content (Logarithmic Scale)')\n",
    "plt.xlabel('Word Count (Log Scale)')\n",
    "plt.ylabel('Number of Entries')\n",
    "plt.show()"
   ]
  },
  {
   "cell_type": "markdown",
   "id": "218ffc8c",
   "metadata": {},
   "source": [
    "## Remove the empty text"
   ]
  },
  {
   "cell_type": "code",
   "execution_count": 34,
   "id": "10f2ad47",
   "metadata": {
    "ExecuteTime": {
     "end_time": "2023-12-21T10:12:07.258035Z",
     "start_time": "2023-12-21T10:12:07.251566Z"
    }
   },
   "outputs": [],
   "source": [
    "# Remove rows where the text is empty\n",
    "df = df[df['text'].notnull() & (df['text'].str.len() > 0)]"
   ]
  },
  {
   "cell_type": "code",
   "execution_count": 35,
   "id": "94fcb0f2",
   "metadata": {
    "ExecuteTime": {
     "end_time": "2023-12-21T10:12:07.265167Z",
     "start_time": "2023-12-21T10:12:07.259037Z"
    }
   },
   "outputs": [],
   "source": [
    "# Remove rows where the text is empty or the path is an empty string\n",
    "df = df[(df['path'].notnull()) & (df['path'] != \"\") & (df['text'].str.len() > 0)]\n"
   ]
  },
  {
   "cell_type": "code",
   "execution_count": 36,
   "id": "5381cbe5",
   "metadata": {
    "ExecuteTime": {
     "end_time": "2023-12-21T10:12:07.270006Z",
     "start_time": "2023-12-21T10:12:07.266168Z"
    }
   },
   "outputs": [],
   "source": [
    "# Remove rows where path equals \"/Table Of Contents\"\n",
    "df = df[df['path'] != '/Table Of Contents']"
   ]
  },
  {
   "cell_type": "code",
   "execution_count": 37,
   "id": "1b19f08b",
   "metadata": {
    "ExecuteTime": {
     "end_time": "2023-12-21T10:12:07.275235Z",
     "start_time": "2023-12-21T10:12:07.270991Z"
    }
   },
   "outputs": [],
   "source": [
    "# Remove duplicates based on the 'text' column\n",
    "df = df.drop_duplicates(subset='text', keep='first')"
   ]
  },
  {
   "cell_type": "code",
   "execution_count": 38,
   "id": "38873fbb",
   "metadata": {
    "ExecuteTime": {
     "end_time": "2023-12-21T10:12:07.281929Z",
     "start_time": "2023-12-21T10:12:07.276230Z"
    }
   },
   "outputs": [
    {
     "data": {
      "text/html": [
       "<div>\n",
       "<style scoped>\n",
       "    .dataframe tbody tr th:only-of-type {\n",
       "        vertical-align: middle;\n",
       "    }\n",
       "\n",
       "    .dataframe tbody tr th {\n",
       "        vertical-align: top;\n",
       "    }\n",
       "\n",
       "    .dataframe thead th {\n",
       "        text-align: right;\n",
       "    }\n",
       "</style>\n",
       "<table border=\"1\" class=\"dataframe\">\n",
       "  <thead>\n",
       "    <tr style=\"text-align: right;\">\n",
       "      <th></th>\n",
       "      <th>documentation</th>\n",
       "      <th>path</th>\n",
       "      <th>text</th>\n",
       "      <th>file_path</th>\n",
       "      <th>word_count</th>\n",
       "    </tr>\n",
       "  </thead>\n",
       "  <tbody>\n",
       "  </tbody>\n",
       "</table>\n",
       "</div>"
      ],
      "text/plain": [
       "Empty DataFrame\n",
       "Columns: [documentation, path, text, file_path, word_count]\n",
       "Index: []"
      ]
     },
     "execution_count": 38,
     "metadata": {},
     "output_type": "execute_result"
    }
   ],
   "source": [
    "# Find rows with duplicate content\n",
    "duplicates = df[df.duplicated(subset='text', keep=False)]\n",
    "duplicates"
   ]
  },
  {
   "cell_type": "code",
   "execution_count": 39,
   "id": "0becbf86",
   "metadata": {
    "ExecuteTime": {
     "end_time": "2023-12-21T10:12:07.499862Z",
     "start_time": "2023-12-21T10:12:07.282924Z"
    }
   },
   "outputs": [
    {
     "data": {
      "image/png": "[encoded data removed]",
      "text/plain": [
       "<Figure size 640x480 with 1 Axes>"
      ]
     },
     "metadata": {},
     "output_type": "display_data"
    }
   ],
   "source": [
    "# Add a new column for word counts\n",
    "df['word_count'] = df['text'].apply(lambda x: len(str(x).split()))\n",
    "\n",
    "# Plot a histogram of word counts\n",
    "plt.hist(df['word_count'], bins=50, edgecolor='k')\n",
    "plt.title('Distribution of Word Counts')\n",
    "plt.xlabel('Word Count')\n",
    "plt.ylabel('Number of Documents')\n",
    "plt.show()\n"
   ]
  },
  {
   "cell_type": "code",
   "execution_count": 40,
   "id": "ae06b334",
   "metadata": {
    "ExecuteTime": {
     "end_time": "2023-12-21T10:12:07.504588Z",
     "start_time": "2023-12-21T10:12:07.500859Z"
    }
   },
   "outputs": [],
   "source": [
    "sorted_df = df.sort_values(by='word_count', ascending=False)\n"
   ]
  },
  {
   "cell_type": "markdown",
   "id": "25f98057",
   "metadata": {},
   "source": [
    "# clean"
   ]
  },
  {
   "cell_type": "code",
   "execution_count": 41,
   "id": "6e628f49",
   "metadata": {
    "ExecuteTime": {
     "end_time": "2023-12-21T10:12:07.509534Z",
     "start_time": "2023-12-21T10:12:07.505590Z"
    }
   },
   "outputs": [],
   "source": [
    "threshold = 20  # or any other value based on your visualization or requirements\n",
    "smol = df[df['word_count'] < threshold]\n",
    "final_df = df[df['word_count'] > threshold]\n"
   ]
  },
  {
   "cell_type": "code",
   "execution_count": 42,
   "id": "d7505750",
   "metadata": {
    "ExecuteTime": {
     "end_time": "2023-12-21T10:12:07.518301Z",
     "start_time": "2023-12-21T10:12:07.510536Z"
    }
   },
   "outputs": [
    {
     "data": {
      "text/html": [
       "<div>\n",
       "<style scoped>\n",
       "    .dataframe tbody tr th:only-of-type {\n",
       "        vertical-align: middle;\n",
       "    }\n",
       "\n",
       "    .dataframe tbody tr th {\n",
       "        vertical-align: top;\n",
       "    }\n",
       "\n",
       "    .dataframe thead th {\n",
       "        text-align: right;\n",
       "    }\n",
       "</style>\n",
       "<table border=\"1\" class=\"dataframe\">\n",
       "  <thead>\n",
       "    <tr style=\"text-align: right;\">\n",
       "      <th></th>\n",
       "      <th>documentation</th>\n",
       "      <th>path</th>\n",
       "      <th>text</th>\n",
       "      <th>file_path</th>\n",
       "      <th>word_count</th>\n",
       "    </tr>\n",
       "  </thead>\n",
       "  <tbody>\n",
       "    <tr>\n",
       "      <th>4</th>\n",
       "      <td>Administrastion Manual</td>\n",
       "      <td>/Revolutionary Satellite Ground Solutions/Guid...</td>\n",
       "      <td>Mainstreaming satellite operations to connect ...</td>\n",
       "      <td>http://www.kratoscomms.com/</td>\n",
       "      <td>10</td>\n",
       "    </tr>\n",
       "    <tr>\n",
       "      <th>5</th>\n",
       "      <td>Administrastion Manual</td>\n",
       "      <td>/Revolutionary Satellite Ground Solutions/Guid...</td>\n",
       "      <td>Advancing secure , resilient communication cro...</td>\n",
       "      <td>http://www.kratoscomms.com/</td>\n",
       "      <td>9</td>\n",
       "    </tr>\n",
       "    <tr>\n",
       "      <th>6</th>\n",
       "      <td>Administrastion Manual</td>\n",
       "      <td>/Revolutionary Satellite Ground Solutions/Guid...</td>\n",
       "      <td>Creating infrastructure and systems to support...</td>\n",
       "      <td>http://www.kratoscomms.com/</td>\n",
       "      <td>10</td>\n",
       "    </tr>\n",
       "    <tr>\n",
       "      <th>7</th>\n",
       "      <td>Administrastion Manual</td>\n",
       "      <td>/Technology for the Satellite Ground Ecosystem</td>\n",
       "      <td>Kratos develops advanced satellite communicati...</td>\n",
       "      <td>http://www.kratoscomms.com/</td>\n",
       "      <td>16</td>\n",
       "    </tr>\n",
       "    <tr>\n",
       "      <th>8</th>\n",
       "      <td>Administrastion Manual</td>\n",
       "      <td>/Technology for the Satellite Ground Ecosystem...</td>\n",
       "      <td>… helping customers expand their network and m...</td>\n",
       "      <td>http://www.kratoscomms.com/</td>\n",
       "      <td>13</td>\n",
       "    </tr>\n",
       "    <tr>\n",
       "      <th>...</th>\n",
       "      <td>...</td>\n",
       "      <td>...</td>\n",
       "      <td>...</td>\n",
       "      <td>...</td>\n",
       "      <td>...</td>\n",
       "    </tr>\n",
       "    <tr>\n",
       "      <th>3608</th>\n",
       "      <td>User Manual</td>\n",
       "      <td>/Skyminer extensions/Skyminer WEBUI integratio...</td>\n",
       "      <td>The address of the server is saved in a variab...</td>\n",
       "      <td>http://192.168.48.22:8082/repository/skyminer-...</td>\n",
       "      <td>12</td>\n",
       "    </tr>\n",
       "    <tr>\n",
       "      <th>3645</th>\n",
       "      <td>User Manual</td>\n",
       "      <td>/Skyminer Time Series Python Connector/Install...</td>\n",
       "      <td>./Scripts/Update . py -u &lt;api_url&gt;</td>\n",
       "      <td>http://192.168.48.22:8082/repository/skyminer-...</td>\n",
       "      <td>5</td>\n",
       "    </tr>\n",
       "    <tr>\n",
       "      <th>3654</th>\n",
       "      <td>User Manual</td>\n",
       "      <td>/Skyminer Time Series Python Connector/Modules...</td>\n",
       "      <td>TR = TimeRelative ( 1 , TimeUnit . MINUTES )</td>\n",
       "      <td>http://192.168.48.22:8082/repository/skyminer-...</td>\n",
       "      <td>10</td>\n",
       "    </tr>\n",
       "    <tr>\n",
       "      <th>3655</th>\n",
       "      <td>User Manual</td>\n",
       "      <td>/Skyminer Time Series Python Connector/Modules...</td>\n",
       "      <td>TimeUnit is an enum of the time unit . MILLISE...</td>\n",
       "      <td>http://192.168.48.22:8082/repository/skyminer-...</td>\n",
       "      <td>17</td>\n",
       "    </tr>\n",
       "    <tr>\n",
       "      <th>3656</th>\n",
       "      <td>User Manual</td>\n",
       "      <td>/Skyminer Time Series Python Connector/Modules...</td>\n",
       "      <td>QueryDataOrder is an enum for order . ASC DESC</td>\n",
       "      <td>http://192.168.48.22:8082/repository/skyminer-...</td>\n",
       "      <td>9</td>\n",
       "    </tr>\n",
       "  </tbody>\n",
       "</table>\n",
       "<p>125 rows × 5 columns</p>\n",
       "</div>"
      ],
      "text/plain": [
       "               documentation  \\\n",
       "4     Administrastion Manual   \n",
       "5     Administrastion Manual   \n",
       "6     Administrastion Manual   \n",
       "7     Administrastion Manual   \n",
       "8     Administrastion Manual   \n",
       "...                      ...   \n",
       "3608             User Manual   \n",
       "3645             User Manual   \n",
       "3654             User Manual   \n",
       "3655             User Manual   \n",
       "3656             User Manual   \n",
       "\n",
       "                                                   path  \\\n",
       "4     /Revolutionary Satellite Ground Solutions/Guid...   \n",
       "5     /Revolutionary Satellite Ground Solutions/Guid...   \n",
       "6     /Revolutionary Satellite Ground Solutions/Guid...   \n",
       "7        /Technology for the Satellite Ground Ecosystem   \n",
       "8     /Technology for the Satellite Ground Ecosystem...   \n",
       "...                                                 ...   \n",
       "3608  /Skyminer extensions/Skyminer WEBUI integratio...   \n",
       "3645  /Skyminer Time Series Python Connector/Install...   \n",
       "3654  /Skyminer Time Series Python Connector/Modules...   \n",
       "3655  /Skyminer Time Series Python Connector/Modules...   \n",
       "3656  /Skyminer Time Series Python Connector/Modules...   \n",
       "\n",
       "                                                   text  \\\n",
       "4     Mainstreaming satellite operations to connect ...   \n",
       "5     Advancing secure , resilient communication cro...   \n",
       "6     Creating infrastructure and systems to support...   \n",
       "7     Kratos develops advanced satellite communicati...   \n",
       "8     … helping customers expand their network and m...   \n",
       "...                                                 ...   \n",
       "3608  The address of the server is saved in a variab...   \n",
       "3645                 ./Scripts/Update . py -u <api_url>   \n",
       "3654       TR = TimeRelative ( 1 , TimeUnit . MINUTES )   \n",
       "3655  TimeUnit is an enum of the time unit . MILLISE...   \n",
       "3656     QueryDataOrder is an enum for order . ASC DESC   \n",
       "\n",
       "                                              file_path  word_count  \n",
       "4                           http://www.kratoscomms.com/          10  \n",
       "5                           http://www.kratoscomms.com/           9  \n",
       "6                           http://www.kratoscomms.com/          10  \n",
       "7                           http://www.kratoscomms.com/          16  \n",
       "8                           http://www.kratoscomms.com/          13  \n",
       "...                                                 ...         ...  \n",
       "3608  http://192.168.48.22:8082/repository/skyminer-...          12  \n",
       "3645  http://192.168.48.22:8082/repository/skyminer-...           5  \n",
       "3654  http://192.168.48.22:8082/repository/skyminer-...          10  \n",
       "3655  http://192.168.48.22:8082/repository/skyminer-...          17  \n",
       "3656  http://192.168.48.22:8082/repository/skyminer-...           9  \n",
       "\n",
       "[125 rows x 5 columns]"
      ]
     },
     "execution_count": 42,
     "metadata": {},
     "output_type": "execute_result"
    }
   ],
   "source": [
    "smol"
   ]
  },
  {
   "cell_type": "code",
   "execution_count": 43,
   "id": "cbdaa182",
   "metadata": {
    "ExecuteTime": {
     "end_time": "2023-12-21T10:12:07.664803Z",
     "start_time": "2023-12-21T10:12:07.519299Z"
    }
   },
   "outputs": [
    {
     "name": "stderr",
     "output_type": "stream",
     "text": [
      "[nltk_data] Downloading package stopwords to\n",
      "[nltk_data]     C:\\Users\\Nathan\\AppData\\Roaming\\nltk_data...\n",
      "[nltk_data]   Package stopwords is already up-to-date!\n"
     ]
    },
    {
     "data": {
      "text/plain": [
       "True"
      ]
     },
     "execution_count": 43,
     "metadata": {},
     "output_type": "execute_result"
    }
   ],
   "source": [
    "import nltk\n",
    "from nltk.corpus import stopwords\n",
    "nltk.download('stopwords')\n"
   ]
  },
  {
   "cell_type": "code",
   "execution_count": 44,
   "id": "6b900e1a",
   "metadata": {
    "ExecuteTime": {
     "end_time": "2023-12-21T10:12:07.671419Z",
     "start_time": "2023-12-21T10:12:07.665806Z"
    }
   },
   "outputs": [],
   "source": [
    "stop_words = set(stopwords.words('english'))\n",
    "\n",
    "def stopword_percentage(text):\n",
    "    if not text or not isinstance(text, str):\n",
    "        return 0\n",
    "    \n",
    "    words = text.split()\n",
    "    if not words:\n",
    "        return 0\n",
    "    \n",
    "    stopword_count = sum(1 for word in words if word.lower() in stop_words)\n",
    "    return (stopword_count / len(words)) * 100\n"
   ]
  },
  {
   "cell_type": "code",
   "execution_count": 45,
   "id": "4d437adb",
   "metadata": {
    "ExecuteTime": {
     "end_time": "2023-12-21T10:12:07.676402Z",
     "start_time": "2023-12-21T10:12:07.672421Z"
    }
   },
   "outputs": [],
   "source": [
    "smol = smol.copy()  # Making a copy of your DataFrame for this operation\n",
    "smol['score'] = smol['text'].apply(stopword_percentage)\n"
   ]
  },
  {
   "cell_type": "code",
   "execution_count": 46,
   "id": "017f02f4",
   "metadata": {
    "ExecuteTime": {
     "end_time": "2023-12-21T10:12:07.688237Z",
     "start_time": "2023-12-21T10:12:07.677398Z"
    },
    "scrolled": true
   },
   "outputs": [
    {
     "data": {
      "text/html": [
       "<div>\n",
       "<style scoped>\n",
       "    .dataframe tbody tr th:only-of-type {\n",
       "        vertical-align: middle;\n",
       "    }\n",
       "\n",
       "    .dataframe tbody tr th {\n",
       "        vertical-align: top;\n",
       "    }\n",
       "\n",
       "    .dataframe thead th {\n",
       "        text-align: right;\n",
       "    }\n",
       "</style>\n",
       "<table border=\"1\" class=\"dataframe\">\n",
       "  <thead>\n",
       "    <tr style=\"text-align: right;\">\n",
       "      <th></th>\n",
       "      <th>documentation</th>\n",
       "      <th>path</th>\n",
       "      <th>text</th>\n",
       "      <th>file_path</th>\n",
       "      <th>word_count</th>\n",
       "      <th>score</th>\n",
       "    </tr>\n",
       "  </thead>\n",
       "  <tbody>\n",
       "    <tr>\n",
       "      <th>1480</th>\n",
       "      <td>Administrastion Manual</td>\n",
       "      <td>/Throwaway (no storage) datastore/Architecture</td>\n",
       "      <td>Data is NOT stored at all .</td>\n",
       "      <td>http://192.168.48.22:8082/repository/skyminer-...</td>\n",
       "      <td>7</td>\n",
       "      <td>57.142857</td>\n",
       "    </tr>\n",
       "    <tr>\n",
       "      <th>3606</th>\n",
       "      <td>User Manual</td>\n",
       "      <td>/Skyminer extensions/Skyminer WEBUI integratio...</td>\n",
       "      <td>The parameters will be in a variable called WE...</td>\n",
       "      <td>http://192.168.48.22:8082/repository/skyminer-...</td>\n",
       "      <td>9</td>\n",
       "      <td>55.555556</td>\n",
       "    </tr>\n",
       "    <tr>\n",
       "      <th>1591</th>\n",
       "      <td>Administrastion Manual</td>\n",
       "      <td>/Aggregators/Aggregator Parameters</td>\n",
       "      <td>The following are parameters that are common t...</td>\n",
       "      <td>http://192.168.48.22:8082/repository/skyminer-...</td>\n",
       "      <td>13</td>\n",
       "      <td>53.846154</td>\n",
       "    </tr>\n",
       "    <tr>\n",
       "      <th>3608</th>\n",
       "      <td>User Manual</td>\n",
       "      <td>/Skyminer extensions/Skyminer WEBUI integratio...</td>\n",
       "      <td>The address of the server is saved in a variab...</td>\n",
       "      <td>http://192.168.48.22:8082/repository/skyminer-...</td>\n",
       "      <td>12</td>\n",
       "      <td>50.000000</td>\n",
       "    </tr>\n",
       "    <tr>\n",
       "      <th>3607</th>\n",
       "      <td>User Manual</td>\n",
       "      <td>/Skyminer extensions/Skyminer WEBUI integratio...</td>\n",
       "      <td>You can use the &amp;sk_reload=1 parameter to reru...</td>\n",
       "      <td>http://192.168.48.22:8082/repository/skyminer-...</td>\n",
       "      <td>16</td>\n",
       "      <td>50.000000</td>\n",
       "    </tr>\n",
       "    <tr>\n",
       "      <th>...</th>\n",
       "      <td>...</td>\n",
       "      <td>...</td>\n",
       "      <td>...</td>\n",
       "      <td>...</td>\n",
       "      <td>...</td>\n",
       "      <td>...</td>\n",
       "    </tr>\n",
       "    <tr>\n",
       "      <th>1765</th>\n",
       "      <td>Administrastion Manual</td>\n",
       "      <td>/Query Metrics/Request</td>\n",
       "      <td>http ://[ host ]:[ port ]/api/v1/datapoints/qu...</td>\n",
       "      <td>http://192.168.48.22:8082/repository/skyminer-...</td>\n",
       "      <td>10</td>\n",
       "      <td>0.000000</td>\n",
       "    </tr>\n",
       "    <tr>\n",
       "      <th>1768</th>\n",
       "      <td>Administrastion Manual</td>\n",
       "      <td>/Query Metrics/Request</td>\n",
       "      <td>http ://[ host ]:[ port ]/api/v1/datapoints/query</td>\n",
       "      <td>http://192.168.48.22:8082/repository/skyminer-...</td>\n",
       "      <td>6</td>\n",
       "      <td>0.000000</td>\n",
       "    </tr>\n",
       "    <tr>\n",
       "      <th>1778</th>\n",
       "      <td>Administrastion Manual</td>\n",
       "      <td>/Skyminer Time Series Indexer Module API/Get S...</td>\n",
       "      <td>http ://[ host ]:[ port ]/api/skyminer/ts-inde...</td>\n",
       "      <td>http://192.168.48.22:8082/repository/skyminer-...</td>\n",
       "      <td>6</td>\n",
       "      <td>0.000000</td>\n",
       "    </tr>\n",
       "    <tr>\n",
       "      <th>1783</th>\n",
       "      <td>Administrastion Manual</td>\n",
       "      <td>/Skyminer Time Series Indexer Module API/Rebui...</td>\n",
       "      <td>http ://[ host ]:[ port ]/api/skyminer/ts-inde...</td>\n",
       "      <td>http://192.168.48.22:8082/repository/skyminer-...</td>\n",
       "      <td>6</td>\n",
       "      <td>0.000000</td>\n",
       "    </tr>\n",
       "    <tr>\n",
       "      <th>1690</th>\n",
       "      <td>Administrastion Manual</td>\n",
       "      <td>/Health Checks/Status/Response</td>\n",
       "      <td>Always returns 200 . [\"JVM-Thread-Deadlock : O...</td>\n",
       "      <td>http://192.168.48.22:8082/repository/skyminer-...</td>\n",
       "      <td>9</td>\n",
       "      <td>0.000000</td>\n",
       "    </tr>\n",
       "  </tbody>\n",
       "</table>\n",
       "<p>125 rows × 6 columns</p>\n",
       "</div>"
      ],
      "text/plain": [
       "               documentation  \\\n",
       "1480  Administrastion Manual   \n",
       "3606             User Manual   \n",
       "1591  Administrastion Manual   \n",
       "3608             User Manual   \n",
       "3607             User Manual   \n",
       "...                      ...   \n",
       "1765  Administrastion Manual   \n",
       "1768  Administrastion Manual   \n",
       "1778  Administrastion Manual   \n",
       "1783  Administrastion Manual   \n",
       "1690  Administrastion Manual   \n",
       "\n",
       "                                                   path  \\\n",
       "1480     /Throwaway (no storage) datastore/Architecture   \n",
       "3606  /Skyminer extensions/Skyminer WEBUI integratio...   \n",
       "1591                 /Aggregators/Aggregator Parameters   \n",
       "3608  /Skyminer extensions/Skyminer WEBUI integratio...   \n",
       "3607  /Skyminer extensions/Skyminer WEBUI integratio...   \n",
       "...                                                 ...   \n",
       "1765                             /Query Metrics/Request   \n",
       "1768                             /Query Metrics/Request   \n",
       "1778  /Skyminer Time Series Indexer Module API/Get S...   \n",
       "1783  /Skyminer Time Series Indexer Module API/Rebui...   \n",
       "1690                     /Health Checks/Status/Response   \n",
       "\n",
       "                                                   text  \\\n",
       "1480                        Data is NOT stored at all .   \n",
       "3606  The parameters will be in a variable called WE...   \n",
       "1591  The following are parameters that are common t...   \n",
       "3608  The address of the server is saved in a variab...   \n",
       "3607  You can use the &sk_reload=1 parameter to reru...   \n",
       "...                                                 ...   \n",
       "1765  http ://[ host ]:[ port ]/api/v1/datapoints/qu...   \n",
       "1768  http ://[ host ]:[ port ]/api/v1/datapoints/query   \n",
       "1778  http ://[ host ]:[ port ]/api/skyminer/ts-inde...   \n",
       "1783  http ://[ host ]:[ port ]/api/skyminer/ts-inde...   \n",
       "1690  Always returns 200 . [\"JVM-Thread-Deadlock : O...   \n",
       "\n",
       "                                              file_path  word_count      score  \n",
       "1480  http://192.168.48.22:8082/repository/skyminer-...           7  57.142857  \n",
       "3606  http://192.168.48.22:8082/repository/skyminer-...           9  55.555556  \n",
       "1591  http://192.168.48.22:8082/repository/skyminer-...          13  53.846154  \n",
       "3608  http://192.168.48.22:8082/repository/skyminer-...          12  50.000000  \n",
       "3607  http://192.168.48.22:8082/repository/skyminer-...          16  50.000000  \n",
       "...                                                 ...         ...        ...  \n",
       "1765  http://192.168.48.22:8082/repository/skyminer-...          10   0.000000  \n",
       "1768  http://192.168.48.22:8082/repository/skyminer-...           6   0.000000  \n",
       "1778  http://192.168.48.22:8082/repository/skyminer-...           6   0.000000  \n",
       "1783  http://192.168.48.22:8082/repository/skyminer-...           6   0.000000  \n",
       "1690  http://192.168.48.22:8082/repository/skyminer-...           9   0.000000  \n",
       "\n",
       "[125 rows x 6 columns]"
      ]
     },
     "execution_count": 46,
     "metadata": {},
     "output_type": "execute_result"
    }
   ],
   "source": [
    "smol = smol.sort_values(by='score', ascending=False)\n",
    "smol"
   ]
  },
  {
   "cell_type": "code",
   "execution_count": 47,
   "id": "7ac0c191",
   "metadata": {
    "ExecuteTime": {
     "end_time": "2023-12-21T10:12:07.888046Z",
     "start_time": "2023-12-21T10:12:07.689231Z"
    }
   },
   "outputs": [
    {
     "name": "stderr",
     "output_type": "stream",
     "text": [
      "C:\\Users\\Nathan\\anaconda3\\envs\\Html_embeddings\\Lib\\site-packages\\seaborn\\_oldcore.py:1498: FutureWarning: is_categorical_dtype is deprecated and will be removed in a future version. Use isinstance(dtype, CategoricalDtype) instead\n",
      "  if pd.api.types.is_categorical_dtype(vector):\n",
      "C:\\Users\\Nathan\\anaconda3\\envs\\Html_embeddings\\Lib\\site-packages\\seaborn\\_oldcore.py:1498: FutureWarning: is_categorical_dtype is deprecated and will be removed in a future version. Use isinstance(dtype, CategoricalDtype) instead\n",
      "  if pd.api.types.is_categorical_dtype(vector):\n"
     ]
    },
    {
     "data": {
      "image/png": "[encoded data removed]",
      "text/plain": [
       "<Figure size 1200x600 with 1 Axes>"
      ]
     },
     "metadata": {},
     "output_type": "display_data"
    }
   ],
   "source": [
    "plt.figure(figsize=(12, 6))\n",
    "sns.scatterplot(data=smol, x='word_count', y='score', alpha=0.6, edgecolor=None)\n",
    "\n",
    "plt.title('Number of Words vs. Stopword Percentage')\n",
    "plt.xlabel('Number of Words')\n",
    "plt.ylabel('Stopword Percentage (%)')\n",
    "\n",
    "plt.show()\n"
   ]
  },
  {
   "cell_type": "markdown",
   "id": "299a4c1d",
   "metadata": {},
   "source": [
    "# Final preview"
   ]
  },
  {
   "cell_type": "code",
   "execution_count": 48,
   "id": "20b4fb15",
   "metadata": {
    "ExecuteTime": {
     "end_time": "2023-12-21T10:12:07.897496Z",
     "start_time": "2023-12-21T10:12:07.889047Z"
    }
   },
   "outputs": [
    {
     "data": {
      "text/html": [
       "<div>\n",
       "<style scoped>\n",
       "    .dataframe tbody tr th:only-of-type {\n",
       "        vertical-align: middle;\n",
       "    }\n",
       "\n",
       "    .dataframe tbody tr th {\n",
       "        vertical-align: top;\n",
       "    }\n",
       "\n",
       "    .dataframe thead th {\n",
       "        text-align: right;\n",
       "    }\n",
       "</style>\n",
       "<table border=\"1\" class=\"dataframe\">\n",
       "  <thead>\n",
       "    <tr style=\"text-align: right;\">\n",
       "      <th></th>\n",
       "      <th>documentation</th>\n",
       "      <th>path</th>\n",
       "      <th>text</th>\n",
       "      <th>file_path</th>\n",
       "      <th>word_count</th>\n",
       "    </tr>\n",
       "  </thead>\n",
       "  <tbody>\n",
       "    <tr>\n",
       "      <th>9</th>\n",
       "      <td>Administrastion Manual</td>\n",
       "      <td>/Technology for the Satellite Ground Ecosystem...</td>\n",
       "      <td>… including satellite ground apps that can be ...</td>\n",
       "      <td>http://www.kratoscomms.com/</td>\n",
       "      <td>32</td>\n",
       "    </tr>\n",
       "    <tr>\n",
       "      <th>10</th>\n",
       "      <td>Administrastion Manual</td>\n",
       "      <td>/Technology for the Satellite Ground Ecosystem...</td>\n",
       "      <td>… supported by Kratos’ global RF sensor networ...</td>\n",
       "      <td>http://www.kratoscomms.com/</td>\n",
       "      <td>31</td>\n",
       "    </tr>\n",
       "    <tr>\n",
       "      <th>11</th>\n",
       "      <td>Administrastion Manual</td>\n",
       "      <td>/Technology for the Satellite Ground Ecosystem...</td>\n",
       "      <td>… for an increasingly competitive and conteste...</td>\n",
       "      <td>http://www.kratoscomms.com/</td>\n",
       "      <td>30</td>\n",
       "    </tr>\n",
       "    <tr>\n",
       "      <th>15</th>\n",
       "      <td>Administrastion Manual</td>\n",
       "      <td>/Contact Us</td>\n",
       "      <td>5971 Kingstowne Village Pkwy , Suite 200 Alexa...</td>\n",
       "      <td>http://www.kratoscomms.com/</td>\n",
       "      <td>26</td>\n",
       "    </tr>\n",
       "    <tr>\n",
       "      <th>16</th>\n",
       "      <td>Administrastion Manual</td>\n",
       "      <td>/Contact Us/Systems &amp; Platforms</td>\n",
       "      <td>Unmanned Systems Tactical UAVs Small UAS Swarm...</td>\n",
       "      <td>http://www.kratoscomms.com/</td>\n",
       "      <td>32</td>\n",
       "    </tr>\n",
       "    <tr>\n",
       "      <th>...</th>\n",
       "      <td>...</td>\n",
       "      <td>...</td>\n",
       "      <td>...</td>\n",
       "      <td>...</td>\n",
       "      <td>...</td>\n",
       "    </tr>\n",
       "    <tr>\n",
       "      <th>3659</th>\n",
       "      <td>User Manual</td>\n",
       "      <td>/Skyminer Time Series Python Connector/Modules...</td>\n",
       "      <td>The Bin grouper groups data point values into ...</td>\n",
       "      <td>http://192.168.48.22:8082/repository/skyminer-...</td>\n",
       "      <td>107</td>\n",
       "    </tr>\n",
       "    <tr>\n",
       "      <th>3660</th>\n",
       "      <td>User Manual</td>\n",
       "      <td>/Skyminer Time Series Python Connector/Modules...</td>\n",
       "      <td>You can group results by specifying one or mor...</td>\n",
       "      <td>http://192.168.48.22:8082/repository/skyminer-...</td>\n",
       "      <td>83</td>\n",
       "    </tr>\n",
       "    <tr>\n",
       "      <th>3661</th>\n",
       "      <td>User Manual</td>\n",
       "      <td>/Skyminer Time Series Python Connector/Modules...</td>\n",
       "      <td>The time grouper groups results by time ranges...</td>\n",
       "      <td>http://192.168.48.22:8082/repository/skyminer-...</td>\n",
       "      <td>150</td>\n",
       "    </tr>\n",
       "    <tr>\n",
       "      <th>3662</th>\n",
       "      <td>User Manual</td>\n",
       "      <td>/Skyminer Time Series Python Connector/Modules...</td>\n",
       "      <td>The value grouper groups by data point values ...</td>\n",
       "      <td>http://192.168.48.22:8082/repository/skyminer-...</td>\n",
       "      <td>74</td>\n",
       "    </tr>\n",
       "    <tr>\n",
       "      <th>3664</th>\n",
       "      <td>User Manual</td>\n",
       "      <td>/Skyminer Time Series Python Connector/Example...</td>\n",
       "      <td># Import from SkyminerTS import MetricBuilder ...</td>\n",
       "      <td>http://192.168.48.22:8082/repository/skyminer-...</td>\n",
       "      <td>593</td>\n",
       "    </tr>\n",
       "  </tbody>\n",
       "</table>\n",
       "<p>473 rows × 5 columns</p>\n",
       "</div>"
      ],
      "text/plain": [
       "               documentation  \\\n",
       "9     Administrastion Manual   \n",
       "10    Administrastion Manual   \n",
       "11    Administrastion Manual   \n",
       "15    Administrastion Manual   \n",
       "16    Administrastion Manual   \n",
       "...                      ...   \n",
       "3659             User Manual   \n",
       "3660             User Manual   \n",
       "3661             User Manual   \n",
       "3662             User Manual   \n",
       "3664             User Manual   \n",
       "\n",
       "                                                   path  \\\n",
       "9     /Technology for the Satellite Ground Ecosystem...   \n",
       "10    /Technology for the Satellite Ground Ecosystem...   \n",
       "11    /Technology for the Satellite Ground Ecosystem...   \n",
       "15                                          /Contact Us   \n",
       "16                      /Contact Us/Systems & Platforms   \n",
       "...                                                 ...   \n",
       "3659  /Skyminer Time Series Python Connector/Modules...   \n",
       "3660  /Skyminer Time Series Python Connector/Modules...   \n",
       "3661  /Skyminer Time Series Python Connector/Modules...   \n",
       "3662  /Skyminer Time Series Python Connector/Modules...   \n",
       "3664  /Skyminer Time Series Python Connector/Example...   \n",
       "\n",
       "                                                   text  \\\n",
       "9     … including satellite ground apps that can be ...   \n",
       "10    … supported by Kratos’ global RF sensor networ...   \n",
       "11    … for an increasingly competitive and conteste...   \n",
       "15    5971 Kingstowne Village Pkwy , Suite 200 Alexa...   \n",
       "16    Unmanned Systems Tactical UAVs Small UAS Swarm...   \n",
       "...                                                 ...   \n",
       "3659  The Bin grouper groups data point values into ...   \n",
       "3660  You can group results by specifying one or mor...   \n",
       "3661  The time grouper groups results by time ranges...   \n",
       "3662  The value grouper groups by data point values ...   \n",
       "3664  # Import from SkyminerTS import MetricBuilder ...   \n",
       "\n",
       "                                              file_path  word_count  \n",
       "9                           http://www.kratoscomms.com/          32  \n",
       "10                          http://www.kratoscomms.com/          31  \n",
       "11                          http://www.kratoscomms.com/          30  \n",
       "15                          http://www.kratoscomms.com/          26  \n",
       "16                          http://www.kratoscomms.com/          32  \n",
       "...                                                 ...         ...  \n",
       "3659  http://192.168.48.22:8082/repository/skyminer-...         107  \n",
       "3660  http://192.168.48.22:8082/repository/skyminer-...          83  \n",
       "3661  http://192.168.48.22:8082/repository/skyminer-...         150  \n",
       "3662  http://192.168.48.22:8082/repository/skyminer-...          74  \n",
       "3664  http://192.168.48.22:8082/repository/skyminer-...         593  \n",
       "\n",
       "[473 rows x 5 columns]"
      ]
     },
     "execution_count": 48,
     "metadata": {},
     "output_type": "execute_result"
    }
   ],
   "source": [
    "final_df"
   ]
  },
  {
   "cell_type": "code",
   "execution_count": 49,
   "id": "78ce3553",
   "metadata": {
    "ExecuteTime": {
     "end_time": "2023-12-21T10:12:07.902354Z",
     "start_time": "2023-12-21T10:12:07.898489Z"
    }
   },
   "outputs": [
    {
     "name": "stdout",
     "output_type": "stream",
     "text": [
      "Has NaN or None values in 'path': False\n",
      "Number of NaN or None values in 'path': 0\n"
     ]
    }
   ],
   "source": [
    "has_nan_or_none = df['path'].isnull().any()\n",
    "print(f\"Has NaN or None values in 'path': {has_nan_or_none}\")\n",
    "count_nan_or_none = df['path'].isnull().sum()\n",
    "print(f\"Number of NaN or None values in 'path': {count_nan_or_none}\")\n"
   ]
  },
  {
   "cell_type": "code",
   "execution_count": 50,
   "id": "6a079f56",
   "metadata": {
    "ExecuteTime": {
     "end_time": "2023-12-21T10:12:07.907395Z",
     "start_time": "2023-12-21T10:12:07.903347Z"
    }
   },
   "outputs": [
    {
     "name": "stdout",
     "output_type": "stream",
     "text": [
      "Has empty strings in 'path': False\n",
      "Number of empty strings in 'path': 0\n"
     ]
    }
   ],
   "source": [
    "has_empty_string = (df['path'] == \"\").any()\n",
    "print(f\"Has empty strings in 'path': {has_empty_string}\")\n",
    "count_empty_string = (df['path'] == \"\").sum()\n",
    "print(f\"Number of empty strings in 'path': {count_empty_string}\")\n"
   ]
  },
  {
   "cell_type": "markdown",
   "id": "ae11ebbc",
   "metadata": {},
   "source": [
    "# Check for weird characters"
   ]
  },
  {
   "cell_type": "code",
   "execution_count": null,
   "id": "65672939",
   "metadata": {},
   "outputs": [],
   "source": [
    "final_df"
   ]
  },
  {
   "cell_type": "code",
   "execution_count": null,
   "id": "edd733a2",
   "metadata": {},
   "outputs": [],
   "source": [
    "rows_with_special_char = []\n",
    "\n",
    "for index, row in final_df.iterrows():\n",
    "    if 'Â' in row['path']:\n",
    "        rows_with_special_char.append((index, row['path']))"
   ]
  },
  {
   "cell_type": "code",
   "execution_count": null,
   "id": "a6ef275d",
   "metadata": {},
   "outputs": [],
   "source": [
    "len(rows_with_special_char)"
   ]
  },
  {
   "cell_type": "code",
   "execution_count": null,
   "id": "0da25019",
   "metadata": {},
   "outputs": [],
   "source": [
    "#rows_with_special_char"
   ]
  },
  {
   "cell_type": "code",
   "execution_count": null,
   "id": "91111994",
   "metadata": {},
   "outputs": [],
   "source": [
    "#final_df['path'] = final_df['path'].astype(str).str.replace('Â', '', regex=False)"
   ]
  },
  {
   "cell_type": "markdown",
   "id": "9daa87cf",
   "metadata": {},
   "source": [
    "# Store in Chroma"
   ]
  },
  {
   "cell_type": "code",
   "execution_count": 51,
   "id": "edc3a468",
   "metadata": {
    "ExecuteTime": {
     "end_time": "2023-12-21T10:12:10.115301Z",
     "start_time": "2023-12-21T10:12:09.987799Z"
    }
   },
   "outputs": [
    {
     "name": "stderr",
     "output_type": "stream",
     "text": [
      "INFO:chromadb.telemetry.posthog:Anonymized telemetry enabled. See https://docs.trychroma.com/telemetry for more information.\n"
     ]
    }
   ],
   "source": [
    "chroma_client = client = chromadb.PersistentClient(path='C:/Users/Nathan/Kratos_data-Science/Chroma/v8')"
   ]
  },
  {
   "cell_type": "code",
   "execution_count": 52,
   "id": "e53bd0ef",
   "metadata": {
    "ExecuteTime": {
     "end_time": "2023-12-21T10:12:10.557233Z",
     "start_time": "2023-12-21T10:12:10.552634Z"
    }
   },
   "outputs": [
    {
     "data": {
      "text/plain": [
       "[Collection(name=QMS),\n",
       " Collection(name=QMS-T),\n",
       " Collection(name=EPOCH-T),\n",
       " Collection(name=Skyminer-T)]"
      ]
     },
     "execution_count": 52,
     "metadata": {},
     "output_type": "execute_result"
    }
   ],
   "source": [
    "chroma_client.list_collections()"
   ]
  },
  {
   "cell_type": "code",
   "execution_count": null,
   "id": "8eaaedc7",
   "metadata": {},
   "outputs": [],
   "source": [
    "chroma_client.delete_collection(name=\"Skyminer\")"
   ]
  },
  {
   "cell_type": "code",
   "execution_count": 53,
   "id": "bbeb5a39",
   "metadata": {
    "ExecuteTime": {
     "end_time": "2023-12-21T10:12:13.658634Z",
     "start_time": "2023-12-21T10:12:13.297553Z"
    }
   },
   "outputs": [
    {
     "name": "stderr",
     "output_type": "stream",
     "text": [
      "INFO:sentence_transformers.SentenceTransformer:Load pretrained SentenceTransformer: all-MiniLM-L6-v2\n"
     ]
    }
   ],
   "source": [
    "model = SentenceTransformer('all-MiniLM-L6-v2',  device='cuda')"
   ]
  },
  {
   "cell_type": "code",
   "execution_count": 54,
   "id": "e053ff79",
   "metadata": {
    "ExecuteTime": {
     "end_time": "2023-12-21T10:12:13.679203Z",
     "start_time": "2023-12-21T10:12:13.659635Z"
    }
   },
   "outputs": [],
   "source": [
    "# Initialize Chroma\n",
    "vectorstore = chroma_client.get_or_create_collection(name=\"Skyminer-D\")"
   ]
  },
  {
   "cell_type": "code",
   "execution_count": 55,
   "id": "1171a93c",
   "metadata": {
    "ExecuteTime": {
     "end_time": "2023-12-21T10:12:20.412923Z",
     "start_time": "2023-12-21T10:12:14.127385Z"
    }
   },
   "outputs": [
    {
     "name": "stderr",
     "output_type": "stream",
     "text": [
      "Batches: 100%|██████████| 1/1 [00:00<00:00,  1.67it/s]\n",
      "Batches: 100%|██████████| 1/1 [00:00<00:00, 166.67it/s]\n",
      "Batches: 100%|██████████| 1/1 [00:00<00:00, 200.00it/s]\n",
      "Batches: 100%|██████████| 1/1 [00:00<00:00, 200.00it/s]\n",
      "Batches: 100%|██████████| 1/1 [00:00<00:00, 199.98it/s]\n",
      "Batches: 100%|██████████| 1/1 [00:00<00:00, 142.85it/s]\n",
      "Batches: 100%|██████████| 1/1 [00:00<00:00, 111.10it/s]\n",
      "Batches: 100%|██████████| 1/1 [00:00<00:00, 166.66it/s]\n",
      "Batches: 100%|██████████| 1/1 [00:00<00:00, 199.99it/s]\n",
      "Batches: 100%|██████████| 1/1 [00:00<00:00, 166.66it/s]\n",
      "Batches: 100%|██████████| 1/1 [00:00<00:00, 166.66it/s]\n",
      "Batches: 100%|██████████| 1/1 [00:00<00:00, 200.00it/s]\n",
      "Batches: 100%|██████████| 1/1 [00:00<00:00, 166.65it/s]\n",
      "Batches: 100%|██████████| 1/1 [00:00<00:00, 166.64it/s]\n",
      "Batches: 100%|██████████| 1/1 [00:00<00:00, 199.98it/s]\n",
      "Batches: 100%|██████████| 1/1 [00:00<00:00, 200.00it/s]\n",
      "Batches: 100%|██████████| 1/1 [00:00<00:00, 166.63it/s]\n",
      "Batches: 100%|██████████| 1/1 [00:00<00:00, 200.01it/s]\n",
      "Batches: 100%|██████████| 1/1 [00:00<00:00, 142.84it/s]\n",
      "Batches: 100%|██████████| 1/1 [00:00<00:00, 200.00it/s]\n",
      "Batches: 100%|██████████| 1/1 [00:00<00:00, 166.62it/s]\n",
      "Batches: 100%|██████████| 1/1 [00:00<00:00, 166.67it/s]\n",
      "Batches: 100%|██████████| 1/1 [00:00<00:00, 166.63it/s]\n",
      "Batches: 100%|██████████| 1/1 [00:00<00:00, 199.94it/s]\n",
      "Batches: 100%|██████████| 1/1 [00:00<00:00, 166.63it/s]\n",
      "Batches: 100%|██████████| 1/1 [00:00<00:00, 200.00it/s]\n",
      "Batches: 100%|██████████| 1/1 [00:00<00:00, 199.98it/s]\n",
      "Batches: 100%|██████████| 1/1 [00:00<00:00, 166.62it/s]\n",
      "Batches: 100%|██████████| 1/1 [00:00<00:00, 166.65it/s]\n",
      "Batches: 100%|██████████| 1/1 [00:00<00:00, 199.96it/s]\n",
      "Batches: 100%|██████████| 1/1 [00:00<00:00, 199.97it/s]\n",
      "Batches: 100%|██████████| 1/1 [00:00<00:00, 142.83it/s]\n",
      "Batches: 100%|██████████| 1/1 [00:00<00:00, 166.67it/s]\n",
      "Batches: 100%|██████████| 1/1 [00:00<00:00, 166.64it/s]\n",
      "Batches: 100%|██████████| 1/1 [00:00<00:00, 199.99it/s]\n",
      "Batches: 100%|██████████| 1/1 [00:00<00:00, 166.65it/s]\n",
      "Batches: 100%|██████████| 1/1 [00:00<00:00, 199.95it/s]\n",
      "Batches: 100%|██████████| 1/1 [00:00<00:00, 199.97it/s]\n",
      "Batches: 100%|██████████| 1/1 [00:00<00:00, 199.98it/s]\n",
      "Batches: 100%|██████████| 1/1 [00:00<00:00, 166.67it/s]\n",
      "Batches: 100%|██████████| 1/1 [00:00<00:00, 166.64it/s]\n",
      "Batches: 100%|██████████| 1/1 [00:00<00:00, 166.66it/s]\n",
      "Batches: 100%|██████████| 1/1 [00:00<00:00, 199.96it/s]\n",
      "Batches: 100%|██████████| 1/1 [00:00<00:00, 166.65it/s]\n",
      "Batches: 100%|██████████| 1/1 [00:00<00:00, 166.62it/s]\n",
      "Batches: 100%|██████████| 1/1 [00:00<00:00, 199.94it/s]\n",
      "Batches: 100%|██████████| 1/1 [00:00<00:00, 166.63it/s]\n",
      "Batches: 100%|██████████| 1/1 [00:00<00:00, 199.95it/s]\n",
      "Batches: 100%|██████████| 1/1 [00:00<00:00, 166.61it/s]\n",
      "Batches: 100%|██████████| 1/1 [00:00<00:00, 199.95it/s]\n",
      "Batches: 100%|██████████| 1/1 [00:00<00:00, 166.63it/s]\n",
      "Batches: 100%|██████████| 1/1 [00:00<00:00, 166.64it/s]\n",
      "Batches: 100%|██████████| 1/1 [00:00<00:00, 199.99it/s]\n",
      "Batches: 100%|██████████| 1/1 [00:00<00:00, 99.98it/s]\n",
      "Batches: 100%|██████████| 1/1 [00:00<00:00, 99.95it/s]\n",
      "Batches: 100%|██████████| 1/1 [00:00<00:00, 142.85it/s]\n",
      "Batches: 100%|██████████| 1/1 [00:00<00:00, 166.66it/s]\n",
      "Batches: 100%|██████████| 1/1 [00:00<00:00, 199.95it/s]\n",
      "Batches: 100%|██████████| 1/1 [00:00<00:00, 166.68it/s]\n",
      "Batches: 100%|██████████| 1/1 [00:00<00:00, 166.64it/s]\n",
      "Batches: 100%|██████████| 1/1 [00:00<00:00, 142.83it/s]\n",
      "Batches: 100%|██████████| 1/1 [00:00<00:00, 166.63it/s]\n",
      "Batches: 100%|██████████| 1/1 [00:00<00:00, 166.63it/s]\n",
      "Batches: 100%|██████████| 1/1 [00:00<00:00, 166.64it/s]\n",
      "Batches: 100%|██████████| 1/1 [00:00<00:00, 166.63it/s]\n",
      "Batches: 100%|██████████| 1/1 [00:00<00:00, 124.97it/s]\n",
      "Batches: 100%|██████████| 1/1 [00:00<00:00, 166.64it/s]\n",
      "Batches: 100%|██████████| 1/1 [00:00<00:00, 166.64it/s]\n",
      "Batches: 100%|██████████| 1/1 [00:00<00:00, 166.65it/s]\n",
      "Batches: 100%|██████████| 1/1 [00:00<00:00, 200.00it/s]\n",
      "Batches: 100%|██████████| 1/1 [00:00<00:00, 142.82it/s]\n",
      "Batches: 100%|██████████| 1/1 [00:00<00:00, 166.65it/s]\n",
      "Batches: 100%|██████████| 1/1 [00:00<00:00, 166.65it/s]\n",
      "Batches: 100%|██████████| 1/1 [00:00<00:00, 142.80it/s]\n",
      "Batches: 100%|██████████| 1/1 [00:00<00:00, 142.83it/s]\n",
      "Batches: 100%|██████████| 1/1 [00:00<00:00, 142.80it/s]\n",
      "Batches: 100%|██████████| 1/1 [00:00<00:00, 166.65it/s]\n",
      "Batches: 100%|██████████| 1/1 [00:00<00:00, 142.84it/s]\n",
      "Batches: 100%|██████████| 1/1 [00:00<00:00, 199.96it/s]\n",
      "Batches: 100%|██████████| 1/1 [00:00<00:00, 166.63it/s]\n",
      "Batches: 100%|██████████| 1/1 [00:00<00:00, 142.82it/s]\n",
      "Batches: 100%|██████████| 1/1 [00:00<00:00, 199.95it/s]\n",
      "Batches: 100%|██████████| 1/1 [00:00<00:00, 124.99it/s]\n",
      "Batches: 100%|██████████| 1/1 [00:00<00:00, 142.83it/s]\n",
      "Batches: 100%|██████████| 1/1 [00:00<00:00, 166.65it/s]\n",
      "Batches: 100%|██████████| 1/1 [00:00<00:00, 166.64it/s]\n",
      "Batches: 100%|██████████| 1/1 [00:00<00:00, 166.62it/s]\n",
      "Batches: 100%|██████████| 1/1 [00:00<00:00, 142.83it/s]\n",
      "Batches: 100%|██████████| 1/1 [00:00<00:00, 166.65it/s]\n",
      "Batches: 100%|██████████| 1/1 [00:00<00:00, 166.65it/s]\n",
      "Batches: 100%|██████████| 1/1 [00:00<00:00, 142.84it/s]\n",
      "Batches: 100%|██████████| 1/1 [00:00<00:00, 166.65it/s]\n",
      "Batches: 100%|██████████| 1/1 [00:00<00:00, 166.63it/s]\n",
      "Batches: 100%|██████████| 1/1 [00:00<00:00, 166.60it/s]\n",
      "Batches: 100%|██████████| 1/1 [00:00<00:00, 166.65it/s]\n",
      "Batches: 100%|██████████| 1/1 [00:00<00:00, 199.98it/s]\n",
      "Batches: 100%|██████████| 1/1 [00:00<00:00, 142.81it/s]\n",
      "Batches: 100%|██████████| 1/1 [00:00<00:00, 142.84it/s]\n",
      "Batches: 100%|██████████| 1/1 [00:00<00:00, 166.68it/s]\n",
      "Batches: 100%|██████████| 1/1 [00:00<00:00, 166.60it/s]\n",
      "Batches: 100%|██████████| 1/1 [00:00<00:00, 142.83it/s]\n",
      "Batches: 100%|██████████| 1/1 [00:00<00:00, 200.02it/s]\n",
      "Batches: 100%|██████████| 1/1 [00:00<00:00, 166.61it/s]\n",
      "Batches: 100%|██████████| 1/1 [00:00<00:00, 166.62it/s]\n",
      "Batches: 100%|██████████| 1/1 [00:00<00:00, 166.65it/s]\n",
      "Batches: 100%|██████████| 1/1 [00:00<00:00, 166.63it/s]\n",
      "Batches: 100%|██████████| 1/1 [00:00<00:00, 166.64it/s]\n",
      "Batches: 100%|██████████| 1/1 [00:00<00:00, 166.63it/s]\n",
      "Batches: 100%|██████████| 1/1 [00:00<00:00, 142.84it/s]\n",
      "Batches: 100%|██████████| 1/1 [00:00<00:00, 166.63it/s]\n",
      "Batches: 100%|██████████| 1/1 [00:00<00:00, 166.66it/s]\n",
      "Batches: 100%|██████████| 1/1 [00:00<00:00, 166.64it/s]\n",
      "Batches: 100%|██████████| 1/1 [00:00<00:00, 166.64it/s]\n",
      "Batches: 100%|██████████| 1/1 [00:00<00:00, 166.65it/s]\n",
      "Batches: 100%|██████████| 1/1 [00:00<00:00, 166.65it/s]\n",
      "Batches: 100%|██████████| 1/1 [00:00<00:00, 142.82it/s]\n",
      "Batches: 100%|██████████| 1/1 [00:00<00:00, 166.63it/s]\n",
      "Batches: 100%|██████████| 1/1 [00:00<00:00, 199.94it/s]\n",
      "Batches: 100%|██████████| 1/1 [00:00<00:00, 199.97it/s]\n",
      "Batches: 100%|██████████| 1/1 [00:00<00:00, 199.97it/s]\n",
      "Batches: 100%|██████████| 1/1 [00:00<00:00, 166.63it/s]\n",
      "Batches: 100%|██████████| 1/1 [00:00<00:00, 199.95it/s]\n",
      "Batches: 100%|██████████| 1/1 [00:00<00:00, 166.63it/s]\n",
      "Batches: 100%|██████████| 1/1 [00:00<00:00, 200.00it/s]\n",
      "Batches: 100%|██████████| 1/1 [00:00<00:00, 199.98it/s]\n",
      "Batches: 100%|██████████| 1/1 [00:00<00:00, 166.63it/s]\n",
      "Batches: 100%|██████████| 1/1 [00:00<00:00, 199.95it/s]\n",
      "Batches: 100%|██████████| 1/1 [00:00<00:00, 199.94it/s]\n",
      "Batches: 100%|██████████| 1/1 [00:00<00:00, 166.63it/s]\n",
      "Batches: 100%|██████████| 1/1 [00:00<00:00, 166.65it/s]\n",
      "Batches: 100%|██████████| 1/1 [00:00<00:00, 199.97it/s]\n",
      "Batches: 100%|██████████| 1/1 [00:00<00:00, 166.67it/s]\n",
      "Batches: 100%|██████████| 1/1 [00:00<00:00, 199.91it/s]\n",
      "Batches: 100%|██████████| 1/1 [00:00<00:00, 142.84it/s]\n",
      "Batches: 100%|██████████| 1/1 [00:00<00:00, 142.85it/s]\n",
      "Batches: 100%|██████████| 1/1 [00:00<00:00, 142.83it/s]\n",
      "Batches: 100%|██████████| 1/1 [00:00<00:00, 142.83it/s]\n",
      "Batches: 100%|██████████| 1/1 [00:00<00:00, 166.65it/s]\n",
      "Batches: 100%|██████████| 1/1 [00:00<00:00, 166.63it/s]\n",
      "Batches: 100%|██████████| 1/1 [00:00<00:00, 166.65it/s]\n",
      "Batches: 100%|██████████| 1/1 [00:00<00:00, 166.65it/s]\n",
      "Batches: 100%|██████████| 1/1 [00:00<00:00, 166.63it/s]\n",
      "Batches: 100%|██████████| 1/1 [00:00<00:00, 166.65it/s]\n",
      "Batches: 100%|██████████| 1/1 [00:00<00:00, 166.63it/s]\n",
      "Batches: 100%|██████████| 1/1 [00:00<00:00, 200.00it/s]\n",
      "Batches: 100%|██████████| 1/1 [00:00<00:00, 166.67it/s]\n"
     ]
    },
    {
     "name": "stderr",
     "output_type": "stream",
     "text": [
      "Batches: 100%|██████████| 1/1 [00:00<00:00, 166.62it/s]\n",
      "Batches: 100%|██████████| 1/1 [00:00<00:00, 124.99it/s]\n",
      "Batches: 100%|██████████| 1/1 [00:00<00:00, 166.62it/s]\n",
      "Batches: 100%|██████████| 1/1 [00:00<00:00, 166.66it/s]\n",
      "Batches: 100%|██████████| 1/1 [00:00<00:00, 166.63it/s]\n",
      "Batches: 100%|██████████| 1/1 [00:00<00:00, 199.97it/s]\n",
      "Batches: 100%|██████████| 1/1 [00:00<00:00, 142.84it/s]\n",
      "Batches: 100%|██████████| 1/1 [00:00<00:00, 142.83it/s]\n",
      "Batches: 100%|██████████| 1/1 [00:00<00:00, 166.65it/s]\n",
      "Batches: 100%|██████████| 1/1 [00:00<00:00, 166.65it/s]\n",
      "Batches: 100%|██████████| 1/1 [00:00<00:00, 142.81it/s]\n",
      "Batches: 100%|██████████| 1/1 [00:00<00:00, 166.64it/s]\n",
      "Batches: 100%|██████████| 1/1 [00:00<00:00, 199.97it/s]\n",
      "Batches: 100%|██████████| 1/1 [00:00<00:00, 166.64it/s]\n",
      "Batches: 100%|██████████| 1/1 [00:00<00:00, 166.67it/s]\n",
      "Batches: 100%|██████████| 1/1 [00:00<00:00, 166.65it/s]\n",
      "Batches: 100%|██████████| 1/1 [00:00<00:00, 200.01it/s]\n",
      "Batches: 100%|██████████| 1/1 [00:00<00:00, 200.00it/s]\n",
      "Batches: 100%|██████████| 1/1 [00:00<00:00, 166.65it/s]\n",
      "Batches: 100%|██████████| 1/1 [00:00<00:00, 166.65it/s]\n",
      "Batches: 100%|██████████| 1/1 [00:00<00:00, 166.67it/s]\n",
      "Batches: 100%|██████████| 1/1 [00:00<00:00, 166.65it/s]\n",
      "Batches: 100%|██████████| 1/1 [00:00<00:00, 166.63it/s]\n",
      "Batches: 100%|██████████| 1/1 [00:00<00:00, 166.64it/s]\n",
      "Batches: 100%|██████████| 1/1 [00:00<00:00, 166.62it/s]\n",
      "Batches: 100%|██████████| 1/1 [00:00<00:00, 166.67it/s]\n",
      "Batches: 100%|██████████| 1/1 [00:00<00:00, 199.97it/s]\n",
      "Batches: 100%|██████████| 1/1 [00:00<00:00, 199.98it/s]\n",
      "Batches: 100%|██████████| 1/1 [00:00<00:00, 124.98it/s]\n",
      "Batches: 100%|██████████| 1/1 [00:00<00:00, 199.95it/s]\n",
      "Batches: 100%|██████████| 1/1 [00:00<00:00, 166.63it/s]\n",
      "Batches: 100%|██████████| 1/1 [00:00<00:00, 166.63it/s]\n",
      "Batches: 100%|██████████| 1/1 [00:00<00:00, 200.00it/s]\n",
      "Batches: 100%|██████████| 1/1 [00:00<00:00, 199.99it/s]\n",
      "Batches: 100%|██████████| 1/1 [00:00<00:00, 200.02it/s]\n",
      "Batches: 100%|██████████| 1/1 [00:00<00:00, 199.94it/s]\n",
      "Batches: 100%|██████████| 1/1 [00:00<00:00, 199.96it/s]\n",
      "Batches: 100%|██████████| 1/1 [00:00<00:00, 166.63it/s]\n",
      "Batches: 100%|██████████| 1/1 [00:00<00:00, 166.63it/s]\n",
      "Batches: 100%|██████████| 1/1 [00:00<00:00, 166.63it/s]\n",
      "Batches: 100%|██████████| 1/1 [00:00<00:00, 100.00it/s]\n",
      "Batches: 100%|██████████| 1/1 [00:00<00:00, 166.63it/s]\n",
      "Batches: 100%|██████████| 1/1 [00:00<00:00, 166.63it/s]\n",
      "Batches: 100%|██████████| 1/1 [00:00<00:00, 166.63it/s]\n",
      "Batches: 100%|██████████| 1/1 [00:00<00:00, 199.96it/s]\n",
      "Batches: 100%|██████████| 1/1 [00:00<00:00, 142.83it/s]\n",
      "Batches: 100%|██████████| 1/1 [00:00<00:00, 166.69it/s]\n",
      "Batches: 100%|██████████| 1/1 [00:00<00:00, 199.94it/s]\n",
      "Batches: 100%|██████████| 1/1 [00:00<00:00, 166.68it/s]\n",
      "Batches: 100%|██████████| 1/1 [00:00<00:00, 166.61it/s]\n",
      "Batches: 100%|██████████| 1/1 [00:00<00:00, 166.67it/s]\n",
      "Batches: 100%|██████████| 1/1 [00:00<00:00, 166.63it/s]\n",
      "Batches: 100%|██████████| 1/1 [00:00<00:00, 166.63it/s]\n",
      "Batches: 100%|██████████| 1/1 [00:00<00:00, 166.66it/s]\n",
      "Batches: 100%|██████████| 1/1 [00:00<00:00, 200.00it/s]\n",
      "Batches: 100%|██████████| 1/1 [00:00<00:00, 200.00it/s]\n",
      "Batches: 100%|██████████| 1/1 [00:00<00:00, 199.97it/s]\n",
      "Batches: 100%|██████████| 1/1 [00:00<00:00, 166.66it/s]\n",
      "Batches: 100%|██████████| 1/1 [00:00<00:00, 200.03it/s]\n",
      "Batches: 100%|██████████| 1/1 [00:00<00:00, 166.68it/s]\n",
      "Batches: 100%|██████████| 1/1 [00:00<00:00, 199.98it/s]\n",
      "Batches: 100%|██████████| 1/1 [00:00<00:00, 166.66it/s]\n",
      "Batches: 100%|██████████| 1/1 [00:00<00:00, 199.99it/s]\n",
      "Batches: 100%|██████████| 1/1 [00:00<00:00, 142.84it/s]\n",
      "Batches: 100%|██████████| 1/1 [00:00<00:00, 142.85it/s]\n",
      "Batches: 100%|██████████| 1/1 [00:00<00:00, 166.65it/s]\n",
      "Batches: 100%|██████████| 1/1 [00:00<00:00, 166.65it/s]\n",
      "Batches: 100%|██████████| 1/1 [00:00<00:00, 166.63it/s]\n",
      "Batches: 100%|██████████| 1/1 [00:00<00:00, 166.63it/s]\n",
      "Batches: 100%|██████████| 1/1 [00:00<00:00, 200.01it/s]\n",
      "Batches: 100%|██████████| 1/1 [00:00<00:00, 199.97it/s]\n",
      "Batches: 100%|██████████| 1/1 [00:00<00:00, 166.64it/s]\n",
      "Batches: 100%|██████████| 1/1 [00:00<00:00, 142.85it/s]\n",
      "Batches: 100%|██████████| 1/1 [00:00<00:00, 166.63it/s]\n",
      "Batches: 100%|██████████| 1/1 [00:00<00:00, 166.63it/s]\n",
      "Batches: 100%|██████████| 1/1 [00:00<00:00, 166.67it/s]\n",
      "Batches: 100%|██████████| 1/1 [00:00<00:00, 199.97it/s]\n",
      "Batches: 100%|██████████| 1/1 [00:00<00:00, 199.95it/s]\n",
      "Batches: 100%|██████████| 1/1 [00:00<00:00, 166.64it/s]\n",
      "Batches: 100%|██████████| 1/1 [00:00<00:00, 142.83it/s]\n",
      "Batches: 100%|██████████| 1/1 [00:00<00:00, 199.94it/s]\n",
      "Batches: 100%|██████████| 1/1 [00:00<00:00, 142.84it/s]\n",
      "Batches: 100%|██████████| 1/1 [00:00<00:00, 124.98it/s]\n",
      "Batches: 100%|██████████| 1/1 [00:00<00:00, 199.98it/s]\n",
      "Batches: 100%|██████████| 1/1 [00:00<00:00, 166.62it/s]\n",
      "Batches: 100%|██████████| 1/1 [00:00<00:00, 142.80it/s]\n",
      "Batches: 100%|██████████| 1/1 [00:00<00:00, 199.96it/s]\n",
      "Batches: 100%|██████████| 1/1 [00:00<00:00, 166.64it/s]\n",
      "Batches: 100%|██████████| 1/1 [00:00<00:00, 142.85it/s]\n",
      "Batches: 100%|██████████| 1/1 [00:00<00:00, 166.62it/s]\n",
      "Batches: 100%|██████████| 1/1 [00:00<00:00, 166.64it/s]\n",
      "Batches: 100%|██████████| 1/1 [00:00<00:00, 142.83it/s]\n",
      "Batches: 100%|██████████| 1/1 [00:00<00:00, 200.01it/s]\n",
      "Batches: 100%|██████████| 1/1 [00:00<00:00, 142.83it/s]\n",
      "Batches: 100%|██████████| 1/1 [00:00<00:00, 166.63it/s]\n",
      "Batches: 100%|██████████| 1/1 [00:00<00:00, 166.66it/s]\n",
      "Batches: 100%|██████████| 1/1 [00:00<00:00, 166.66it/s]\n",
      "Batches: 100%|██████████| 1/1 [00:00<00:00, 199.99it/s]\n",
      "Batches: 100%|██████████| 1/1 [00:00<00:00, 166.64it/s]\n",
      "Batches: 100%|██████████| 1/1 [00:00<00:00, 200.02it/s]\n",
      "Batches: 100%|██████████| 1/1 [00:00<00:00, 166.66it/s]\n",
      "Batches: 100%|██████████| 1/1 [00:00<00:00, 166.61it/s]\n",
      "Batches: 100%|██████████| 1/1 [00:00<00:00, 200.00it/s]\n",
      "Batches: 100%|██████████| 1/1 [00:00<00:00, 199.92it/s]\n",
      "Batches: 100%|██████████| 1/1 [00:00<00:00, 166.65it/s]\n",
      "Batches: 100%|██████████| 1/1 [00:00<00:00, 199.99it/s]\n",
      "Batches: 100%|██████████| 1/1 [00:00<00:00, 199.94it/s]\n",
      "Batches: 100%|██████████| 1/1 [00:00<00:00, 199.97it/s]\n",
      "Batches: 100%|██████████| 1/1 [00:00<00:00, 166.63it/s]\n",
      "Batches: 100%|██████████| 1/1 [00:00<00:00, 199.97it/s]\n",
      "Batches: 100%|██████████| 1/1 [00:00<00:00, 199.98it/s]\n",
      "Batches: 100%|██████████| 1/1 [00:00<00:00, 166.61it/s]\n",
      "Batches: 100%|██████████| 1/1 [00:00<00:00, 166.63it/s]\n",
      "Batches: 100%|██████████| 1/1 [00:00<00:00, 166.64it/s]\n",
      "Batches: 100%|██████████| 1/1 [00:00<00:00, 142.83it/s]\n",
      "Batches: 100%|██████████| 1/1 [00:00<00:00, 200.01it/s]\n",
      "Batches: 100%|██████████| 1/1 [00:00<00:00, 199.98it/s]\n",
      "Batches: 100%|██████████| 1/1 [00:00<00:00, 166.63it/s]\n",
      "Batches: 100%|██████████| 1/1 [00:00<00:00, 199.95it/s]\n",
      "Batches: 100%|██████████| 1/1 [00:00<00:00, 166.63it/s]\n",
      "Batches: 100%|██████████| 1/1 [00:00<00:00, 166.59it/s]\n",
      "Batches: 100%|██████████| 1/1 [00:00<00:00, 166.61it/s]\n",
      "Batches: 100%|██████████| 1/1 [00:00<00:00, 166.67it/s]\n",
      "Batches: 100%|██████████| 1/1 [00:00<00:00, 124.99it/s]\n",
      "Batches: 100%|██████████| 1/1 [00:00<00:00, 124.98it/s]\n",
      "Batches: 100%|██████████| 1/1 [00:00<00:00, 142.83it/s]\n",
      "Batches: 100%|██████████| 1/1 [00:00<00:00, 166.65it/s]\n",
      "Batches: 100%|██████████| 1/1 [00:00<00:00, 199.98it/s]\n",
      "Batches: 100%|██████████| 1/1 [00:00<00:00, 166.65it/s]\n",
      "Batches: 100%|██████████| 1/1 [00:00<00:00, 166.62it/s]\n",
      "Batches: 100%|██████████| 1/1 [00:00<00:00, 199.99it/s]\n",
      "Batches: 100%|██████████| 1/1 [00:00<00:00, 166.63it/s]\n",
      "Batches: 100%|██████████| 1/1 [00:00<00:00, 166.61it/s]\n",
      "Batches: 100%|██████████| 1/1 [00:00<00:00, 166.67it/s]\n",
      "Batches: 100%|██████████| 1/1 [00:00<00:00, 200.01it/s]\n",
      "Batches: 100%|██████████| 1/1 [00:00<00:00, 166.64it/s]\n",
      "Batches: 100%|██████████| 1/1 [00:00<00:00, 166.64it/s]\n",
      "Batches: 100%|██████████| 1/1 [00:00<00:00, 166.67it/s]\n",
      "Batches: 100%|██████████| 1/1 [00:00<00:00, 166.67it/s]\n",
      "Batches: 100%|██████████| 1/1 [00:00<00:00, 166.64it/s]\n",
      "Batches: 100%|██████████| 1/1 [00:00<00:00, 166.63it/s]\n",
      "Batches: 100%|██████████| 1/1 [00:00<00:00, 199.98it/s]\n",
      "Batches: 100%|██████████| 1/1 [00:00<00:00, 166.63it/s]\n",
      "Batches: 100%|██████████| 1/1 [00:00<00:00, 166.61it/s]\n",
      "Batches: 100%|██████████| 1/1 [00:00<00:00, 199.94it/s]\n",
      "Batches: 100%|██████████| 1/1 [00:00<00:00, 166.63it/s]\n"
     ]
    },
    {
     "name": "stderr",
     "output_type": "stream",
     "text": [
      "Batches: 100%|██████████| 1/1 [00:00<00:00, 142.83it/s]\n",
      "Batches: 100%|██████████| 1/1 [00:00<00:00, 166.67it/s]\n",
      "Batches: 100%|██████████| 1/1 [00:00<00:00, 166.63it/s]\n",
      "Batches: 100%|██████████| 1/1 [00:00<00:00, 166.64it/s]\n",
      "Batches: 100%|██████████| 1/1 [00:00<00:00, 99.98it/s]\n",
      "Batches: 100%|██████████| 1/1 [00:00<00:00, 199.97it/s]\n",
      "Batches: 100%|██████████| 1/1 [00:00<00:00, 166.63it/s]\n",
      "Batches: 100%|██████████| 1/1 [00:00<00:00, 62.49it/s]\n",
      "Batches: 100%|██████████| 1/1 [00:00<00:00, 166.65it/s]\n",
      "Batches: 100%|██████████| 1/1 [00:00<00:00, 166.67it/s]\n",
      "Batches: 100%|██████████| 1/1 [00:00<00:00, 142.85it/s]\n",
      "Batches: 100%|██████████| 1/1 [00:00<00:00, 166.63it/s]\n",
      "Batches: 100%|██████████| 1/1 [00:00<00:00, 200.00it/s]\n",
      "Batches: 100%|██████████| 1/1 [00:00<00:00, 166.65it/s]\n",
      "Batches: 100%|██████████| 1/1 [00:00<00:00, 166.63it/s]\n",
      "Batches: 100%|██████████| 1/1 [00:00<00:00, 166.67it/s]\n",
      "Batches: 100%|██████████| 1/1 [00:00<00:00, 200.00it/s]\n",
      "Batches: 100%|██████████| 1/1 [00:00<00:00, 166.66it/s]\n",
      "Batches: 100%|██████████| 1/1 [00:00<00:00, 199.99it/s]\n",
      "Batches: 100%|██████████| 1/1 [00:00<00:00, 166.63it/s]\n",
      "Batches: 100%|██████████| 1/1 [00:00<00:00, 166.67it/s]\n",
      "Batches: 100%|██████████| 1/1 [00:00<00:00, 199.95it/s]\n",
      "Batches: 100%|██████████| 1/1 [00:00<00:00, 166.63it/s]\n",
      "Batches: 100%|██████████| 1/1 [00:00<00:00, 166.67it/s]\n",
      "Batches: 100%|██████████| 1/1 [00:00<00:00, 142.83it/s]\n",
      "Batches: 100%|██████████| 1/1 [00:00<00:00, 166.63it/s]\n",
      "Batches: 100%|██████████| 1/1 [00:00<00:00, 166.67it/s]\n",
      "Batches: 100%|██████████| 1/1 [00:00<00:00, 166.63it/s]\n",
      "Batches: 100%|██████████| 1/1 [00:00<00:00, 166.63it/s]\n",
      "Batches: 100%|██████████| 1/1 [00:00<00:00, 199.95it/s]\n",
      "Batches: 100%|██████████| 1/1 [00:00<00:00, 142.82it/s]\n",
      "Batches: 100%|██████████| 1/1 [00:00<00:00, 199.98it/s]\n",
      "Batches: 100%|██████████| 1/1 [00:00<00:00, 199.92it/s]\n",
      "Batches: 100%|██████████| 1/1 [00:00<00:00, 166.66it/s]\n",
      "Batches: 100%|██████████| 1/1 [00:00<00:00, 166.63it/s]\n",
      "Batches: 100%|██████████| 1/1 [00:00<00:00, 199.98it/s]\n",
      "Batches: 100%|██████████| 1/1 [00:00<00:00, 200.01it/s]\n",
      "Batches: 100%|██████████| 1/1 [00:00<00:00, 166.64it/s]\n",
      "Batches: 100%|██████████| 1/1 [00:00<00:00, 166.67it/s]\n",
      "Batches: 100%|██████████| 1/1 [00:00<00:00, 166.63it/s]\n",
      "Batches: 100%|██████████| 1/1 [00:00<00:00, 166.64it/s]\n",
      "Batches: 100%|██████████| 1/1 [00:00<00:00, 142.82it/s]\n",
      "Batches: 100%|██████████| 1/1 [00:00<00:00, 166.67it/s]\n",
      "Batches: 100%|██████████| 1/1 [00:00<00:00, 166.66it/s]\n",
      "Batches: 100%|██████████| 1/1 [00:00<00:00, 200.00it/s]\n",
      "Batches: 100%|██████████| 1/1 [00:00<00:00, 166.63it/s]\n",
      "Batches: 100%|██████████| 1/1 [00:00<00:00, 166.65it/s]\n",
      "Batches: 100%|██████████| 1/1 [00:00<00:00, 200.00it/s]\n",
      "Batches: 100%|██████████| 1/1 [00:00<00:00, 199.98it/s]\n",
      "Batches: 100%|██████████| 1/1 [00:00<00:00, 124.99it/s]\n",
      "Batches: 100%|██████████| 1/1 [00:00<00:00, 200.00it/s]\n",
      "Batches: 100%|██████████| 1/1 [00:00<00:00, 166.63it/s]\n",
      "Batches: 100%|██████████| 1/1 [00:00<00:00, 166.64it/s]\n",
      "Batches: 100%|██████████| 1/1 [00:00<00:00, 166.63it/s]\n",
      "Batches: 100%|██████████| 1/1 [00:00<00:00, 166.67it/s]\n",
      "Batches: 100%|██████████| 1/1 [00:00<00:00, 166.66it/s]\n",
      "Batches: 100%|██████████| 1/1 [00:00<00:00, 142.81it/s]\n",
      "Batches: 100%|██████████| 1/1 [00:00<00:00, 142.83it/s]\n",
      "Batches: 100%|██████████| 1/1 [00:00<00:00, 166.64it/s]\n",
      "Batches: 100%|██████████| 1/1 [00:00<00:00, 142.80it/s]\n",
      "Batches: 100%|██████████| 1/1 [00:00<00:00, 142.82it/s]\n",
      "Batches: 100%|██████████| 1/1 [00:00<00:00, 199.98it/s]\n",
      "Batches: 100%|██████████| 1/1 [00:00<00:00, 166.64it/s]\n",
      "Batches: 100%|██████████| 1/1 [00:00<00:00, 199.93it/s]\n",
      "Batches: 100%|██████████| 1/1 [00:00<00:00, 200.00it/s]\n",
      "Batches: 100%|██████████| 1/1 [00:00<00:00, 166.62it/s]\n",
      "Batches: 100%|██████████| 1/1 [00:00<00:00, 124.97it/s]\n",
      "Batches: 100%|██████████| 1/1 [00:00<00:00, 166.67it/s]\n",
      "Batches: 100%|██████████| 1/1 [00:00<00:00, 199.96it/s]\n",
      "Batches: 100%|██████████| 1/1 [00:00<00:00, 166.63it/s]\n",
      "Batches: 100%|██████████| 1/1 [00:00<00:00, 166.66it/s]\n",
      "Batches: 100%|██████████| 1/1 [00:00<00:00, 166.65it/s]\n",
      "Batches: 100%|██████████| 1/1 [00:00<00:00, 142.84it/s]\n",
      "Batches: 100%|██████████| 1/1 [00:00<00:00, 166.65it/s]\n",
      "Batches: 100%|██████████| 1/1 [00:00<00:00, 166.66it/s]\n",
      "Batches: 100%|██████████| 1/1 [00:00<00:00, 166.64it/s]\n",
      "Batches: 100%|██████████| 1/1 [00:00<00:00, 166.63it/s]\n",
      "Batches: 100%|██████████| 1/1 [00:00<00:00, 124.99it/s]\n",
      "Batches: 100%|██████████| 1/1 [00:00<00:00, 166.65it/s]\n",
      "Batches: 100%|██████████| 1/1 [00:00<00:00, 124.98it/s]\n",
      "Batches: 100%|██████████| 1/1 [00:00<00:00, 166.65it/s]\n",
      "Batches: 100%|██████████| 1/1 [00:00<00:00, 166.63it/s]\n",
      "Batches: 100%|██████████| 1/1 [00:00<00:00, 142.78it/s]\n",
      "Batches: 100%|██████████| 1/1 [00:00<00:00, 199.92it/s]\n",
      "Batches: 100%|██████████| 1/1 [00:00<00:00, 199.99it/s]\n",
      "Batches: 100%|██████████| 1/1 [00:00<00:00, 200.00it/s]\n",
      "Batches: 100%|██████████| 1/1 [00:00<00:00, 166.64it/s]\n",
      "Batches: 100%|██████████| 1/1 [00:00<00:00, 199.95it/s]\n",
      "Batches: 100%|██████████| 1/1 [00:00<00:00, 199.98it/s]\n",
      "Batches: 100%|██████████| 1/1 [00:00<00:00, 99.98it/s]\n",
      "Batches: 100%|██████████| 1/1 [00:00<00:00, 199.96it/s]\n",
      "Batches: 100%|██████████| 1/1 [00:00<00:00, 166.66it/s]\n",
      "Batches: 100%|██████████| 1/1 [00:00<00:00, 199.96it/s]\n",
      "Batches: 100%|██████████| 1/1 [00:00<00:00, 166.66it/s]\n",
      "Batches: 100%|██████████| 1/1 [00:00<00:00, 142.83it/s]\n",
      "Batches: 100%|██████████| 1/1 [00:00<00:00, 166.67it/s]\n",
      "Batches: 100%|██████████| 1/1 [00:00<00:00, 200.01it/s]\n",
      "Batches: 100%|██████████| 1/1 [00:00<00:00, 200.01it/s]\n",
      "Batches: 100%|██████████| 1/1 [00:00<00:00, 199.96it/s]\n",
      "Batches: 100%|██████████| 1/1 [00:00<00:00, 199.99it/s]\n",
      "Batches: 100%|██████████| 1/1 [00:00<00:00, 166.61it/s]\n",
      "Batches: 100%|██████████| 1/1 [00:00<00:00, 199.97it/s]\n",
      "Batches: 100%|██████████| 1/1 [00:00<00:00, 199.98it/s]\n",
      "Batches: 100%|██████████| 1/1 [00:00<00:00, 166.66it/s]\n",
      "Batches: 100%|██████████| 1/1 [00:00<00:00, 199.97it/s]\n",
      "Batches: 100%|██████████| 1/1 [00:00<00:00, 199.98it/s]\n",
      "Batches: 100%|██████████| 1/1 [00:00<00:00, 199.99it/s]\n",
      "Batches: 100%|██████████| 1/1 [00:00<00:00, 166.63it/s]\n",
      "Batches: 100%|██████████| 1/1 [00:00<00:00, 200.00it/s]\n",
      "Batches: 100%|██████████| 1/1 [00:00<00:00, 200.02it/s]\n",
      "Batches: 100%|██████████| 1/1 [00:00<00:00, 199.98it/s]\n",
      "Batches: 100%|██████████| 1/1 [00:00<00:00, 200.02it/s]\n",
      "Batches: 100%|██████████| 1/1 [00:00<00:00, 249.99it/s]\n",
      "Batches: 100%|██████████| 1/1 [00:00<00:00, 166.65it/s]\n",
      "Batches: 100%|██████████| 1/1 [00:00<00:00, 142.84it/s]\n",
      "Batches: 100%|██████████| 1/1 [00:00<00:00, 166.65it/s]\n",
      "Batches: 100%|██████████| 1/1 [00:00<00:00, 200.00it/s]\n",
      "Batches: 100%|██████████| 1/1 [00:00<00:00, 250.00it/s]\n",
      "Batches: 100%|██████████| 1/1 [00:00<00:00, 166.63it/s]\n",
      "Batches: 100%|██████████| 1/1 [00:00<00:00, 200.00it/s]\n",
      "Batches: 100%|██████████| 1/1 [00:00<00:00, 200.00it/s]\n",
      "Batches: 100%|██████████| 1/1 [00:00<00:00, 250.00it/s]\n",
      "Batches: 100%|██████████| 1/1 [00:00<00:00, 199.98it/s]\n",
      "Batches: 100%|██████████| 1/1 [00:00<00:00, 200.04it/s]\n",
      "Batches: 100%|██████████| 1/1 [00:00<00:00, 200.00it/s]\n",
      "Batches: 100%|██████████| 1/1 [00:00<00:00, 200.00it/s]\n",
      "Batches: 100%|██████████| 1/1 [00:00<00:00, 166.65it/s]\n",
      "Batches: 100%|██████████| 1/1 [00:00<00:00, 166.64it/s]\n",
      "Batches: 100%|██████████| 1/1 [00:00<00:00, 166.67it/s]\n",
      "Batches: 100%|██████████| 1/1 [00:00<00:00, 166.64it/s]\n",
      "Batches: 100%|██████████| 1/1 [00:00<00:00, 200.02it/s]\n",
      "Batches: 100%|██████████| 1/1 [00:00<00:00, 142.85it/s]\n",
      "Batches: 100%|██████████| 1/1 [00:00<00:00, 166.64it/s]\n",
      "Batches: 100%|██████████| 1/1 [00:00<00:00, 142.83it/s]\n",
      "Batches: 100%|██████████| 1/1 [00:00<00:00, 200.00it/s]\n",
      "Batches: 100%|██████████| 1/1 [00:00<00:00, 142.83it/s]\n",
      "Batches: 100%|██████████| 1/1 [00:00<00:00, 166.67it/s]\n",
      "Batches: 100%|██████████| 1/1 [00:00<00:00, 166.67it/s]\n",
      "Batches: 100%|██████████| 1/1 [00:00<00:00, 166.64it/s]\n",
      "Batches: 100%|██████████| 1/1 [00:00<00:00, 199.98it/s]\n",
      "Batches: 100%|██████████| 1/1 [00:00<00:00, 166.67it/s]\n",
      "Batches: 100%|██████████| 1/1 [00:00<00:00, 200.00it/s]\n",
      "Batches: 100%|██████████| 1/1 [00:00<00:00, 166.66it/s]\n",
      "Batches: 100%|██████████| 1/1 [00:00<00:00, 250.00it/s]\n",
      "Batches: 100%|██████████| 1/1 [00:00<00:00, 199.99it/s]\n",
      "Batches: 100%|██████████| 1/1 [00:00<00:00, 199.97it/s]\n"
     ]
    },
    {
     "name": "stderr",
     "output_type": "stream",
     "text": [
      "Batches: 100%|██████████| 1/1 [00:00<00:00, 142.85it/s]\n",
      "Batches: 100%|██████████| 1/1 [00:00<00:00, 166.64it/s]\n",
      "Batches: 100%|██████████| 1/1 [00:00<00:00, 199.97it/s]\n",
      "Batches: 100%|██████████| 1/1 [00:00<00:00, 199.94it/s]\n",
      "Batches: 100%|██████████| 1/1 [00:00<00:00, 166.63it/s]\n",
      "Batches: 100%|██████████| 1/1 [00:00<00:00, 166.62it/s]\n",
      "Batches: 100%|██████████| 1/1 [00:00<00:00, 199.97it/s]\n",
      "Batches: 100%|██████████| 1/1 [00:00<00:00, 200.01it/s]\n",
      "Batches: 100%|██████████| 1/1 [00:00<00:00, 199.97it/s]\n",
      "Batches: 100%|██████████| 1/1 [00:00<00:00, 166.64it/s]\n",
      "Batches: 100%|██████████| 1/1 [00:00<00:00, 199.96it/s]\n",
      "Batches: 100%|██████████| 1/1 [00:00<00:00, 199.99it/s]\n",
      "Batches: 100%|██████████| 1/1 [00:00<00:00, 166.65it/s]\n",
      "Batches: 100%|██████████| 1/1 [00:00<00:00, 199.95it/s]\n",
      "Batches: 100%|██████████| 1/1 [00:00<00:00, 199.97it/s]\n",
      "Batches: 100%|██████████| 1/1 [00:00<00:00, 200.00it/s]\n",
      "Batches: 100%|██████████| 1/1 [00:00<00:00, 166.68it/s]\n",
      "Batches: 100%|██████████| 1/1 [00:00<00:00, 199.97it/s]\n",
      "Batches: 100%|██████████| 1/1 [00:00<00:00, 199.98it/s]\n",
      "Batches: 100%|██████████| 1/1 [00:00<00:00, 199.99it/s]\n",
      "Batches: 100%|██████████| 1/1 [00:00<00:00, 200.01it/s]\n",
      "Batches: 100%|██████████| 1/1 [00:00<00:00, 199.95it/s]\n",
      "Batches: 100%|██████████| 1/1 [00:00<00:00, 200.00it/s]\n",
      "Batches: 100%|██████████| 1/1 [00:00<00:00, 199.97it/s]\n",
      "Batches: 100%|██████████| 1/1 [00:00<00:00, 199.99it/s]\n",
      "Batches: 100%|██████████| 1/1 [00:00<00:00, 166.65it/s]\n",
      "Batches: 100%|██████████| 1/1 [00:00<00:00, 199.98it/s]\n",
      "Batches: 100%|██████████| 1/1 [00:00<00:00, 166.66it/s]\n",
      "Batches: 100%|██████████| 1/1 [00:00<00:00, 166.67it/s]\n",
      "Batches: 100%|██████████| 1/1 [00:00<00:00, 200.02it/s]\n",
      "Batches: 100%|██████████| 1/1 [00:00<00:00, 199.99it/s]\n",
      "Batches: 100%|██████████| 1/1 [00:00<00:00, 166.65it/s]\n",
      "Batches: 100%|██████████| 1/1 [00:00<00:00, 166.66it/s]\n",
      "Batches: 100%|██████████| 1/1 [00:00<00:00, 166.67it/s]\n",
      "Batches: 100%|██████████| 1/1 [00:00<00:00, 124.98it/s]\n"
     ]
    }
   ],
   "source": [
    "# Lists to store the extracted information from documents\n",
    "documents_list = []\n",
    "embeddings_list = []\n",
    "metadatas_list = []\n",
    "ids_list = []\n",
    "\n",
    "# Assuming 'content' in your dataframe is what you consider as the document/page_content\n",
    "for _, row in final_df.iterrows():\n",
    "    embedding = model.encode(row['text'])\n",
    "    \n",
    "    # Constructing metadata\n",
    "    metadata = {\n",
    "        \"source\": f\"{row['path']}\",\n",
    "        \"documentation\": row['documentation'],\n",
    "        \"file_path\": row['file_path'],\n",
    "        \"word_count\": row['word_count']\n",
    "    }\n",
    "\n",
    "    documents_list.append(row['text'])\n",
    "    embeddings_list.append(embedding.tolist())\n",
    "    metadatas_list.append(metadata)\n",
    "\n",
    "# Generating IDs for the documents\n",
    "ids_list = [\"v\" + str(i + 1) for i in range(len(documents_list))]\n",
    "\n",
    "# Add the embedded documents to the collection in Chroma\n",
    "vectorstore.add(\n",
    "    documents=documents_list,\n",
    "    embeddings=embeddings_list,\n",
    "    metadatas=metadatas_list,\n",
    "    ids=ids_list\n",
    ")\n"
   ]
  },
  {
   "cell_type": "code",
   "execution_count": 56,
   "id": "d73c5bef",
   "metadata": {
    "ExecuteTime": {
     "end_time": "2023-12-21T10:12:20.417851Z",
     "start_time": "2023-12-21T10:12:20.413924Z"
    }
   },
   "outputs": [
    {
     "data": {
      "text/plain": [
       "Collection(name=Skyminer-D)"
      ]
     },
     "execution_count": 56,
     "metadata": {},
     "output_type": "execute_result"
    }
   ],
   "source": [
    "vectorstore"
   ]
  },
  {
   "cell_type": "code",
   "execution_count": 57,
   "id": "78c3d8c8",
   "metadata": {
    "ExecuteTime": {
     "end_time": "2023-12-21T10:12:20.422977Z",
     "start_time": "2023-12-21T10:12:20.418855Z"
    }
   },
   "outputs": [
    {
     "name": "stdout",
     "output_type": "stream",
     "text": [
      "There are 473 in the collection\n"
     ]
    }
   ],
   "source": [
    "print(\"There are\", vectorstore.count(), \"in the collection\")"
   ]
  },
  {
   "cell_type": "code",
   "execution_count": null,
   "id": "1b3fa146",
   "metadata": {},
   "outputs": [],
   "source": []
  }
 ],
 "metadata": {
  "kernelspec": {
   "display_name": "Python 3 (ipykernel)",
   "language": "python",
   "name": "python3"
  },
  "language_info": {
   "codemirror_mode": {
    "name": "ipython",
    "version": 3
   },
   "file_extension": ".py",
   "mimetype": "text/x-python",
   "name": "python",
   "nbconvert_exporter": "python",
   "pygments_lexer": "ipython3",
   "version": "3.11.4"
  }
 },
 "nbformat": 4,
 "nbformat_minor": 5
}
