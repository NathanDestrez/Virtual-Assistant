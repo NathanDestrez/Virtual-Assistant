{
 "cells": [
  {
   "cell_type": "markdown",
   "id": "2d1af13c",
   "metadata": {},
   "source": [
    "# Import"
   ]
  },
  {
   "cell_type": "code",
   "execution_count": 1,
   "id": "9f39f936",
   "metadata": {
    "ExecuteTime": {
     "end_time": "2024-01-10T15:48:46.795493500Z",
     "start_time": "2024-01-10T15:48:44.660025Z"
    }
   },
   "outputs": [],
   "source": [
    "from bs4 import BeautifulSoup\n",
    "from urllib.parse import urljoin\n",
    "import pandas as pd\n",
    "import re\n",
    "import logging\n",
    "import os\n",
    "import requests\n",
    "from langchain.text_splitter import RecursiveCharacterTextSplitter\n",
    "import nltk"
   ]
  },
  {
   "cell_type": "code",
   "execution_count": 2,
   "id": "d10419e1",
   "metadata": {
    "ExecuteTime": {
     "end_time": "2024-01-10T15:48:46.873075200Z",
     "start_time": "2024-01-10T15:48:46.863367300Z"
    }
   },
   "outputs": [],
   "source": [
    "def clean_text(text):\n",
    "    # Removing unwanted characters like ¶\n",
    "    text = text.replace('¶', '')\n",
    "    return text\n",
    "\n",
    "\n",
    "def read_local_html(file_path):\n",
    "    if not os.path.exists(file_path):\n",
    "        logging.warning(f\"File not found: {file_path}\")\n",
    "        return ''\n",
    "    with open(file_path, 'r', encoding='utf-8') as file:\n",
    "        return file.read()\n",
    "\n",
    "def fetch_html_from_url(url):\n",
    "    response = requests.get(url)\n",
    "    response.encoding = 'utf-8'\n",
    "    response.raise_for_status()\n",
    "    return response.text\n",
    "\n",
    "\n",
    "def get_path(html_content, h='h1'):\n",
    "    html_content.split(f'</{h}>', 0)\n",
    "    soup = BeautifulSoup(html_content.split(f'</{h}>')[0], 'html.parser')\n",
    "    h_text = soup.find(f'{h}').text.replace(\"¶\", \"\").replace(\"Â\", \" \")\n",
    "    return '/' + h_text\n",
    "\n",
    "\n",
    "def scrape_content_from_page(html_content, source, file_path):\n",
    "    h1_split = html_content.split('<h1')\n",
    "    list_split = list()\n",
    "    list_path = list()\n",
    "    list_source = list()  # For storing the documentation source\n",
    "    list_file_path = list()\n",
    "    path = ''\n",
    "\n",
    "    for i, h1 in enumerate(h1_split):\n",
    "        if i > 0:\n",
    "            h1 = '<h1' + h1\n",
    "            result = path.split('/')[:1]\n",
    "            path = '/'.join(result)\n",
    "            path += get_path(h1, h='h1')\n",
    "\n",
    "        h2_split = h1.split('<h2')\n",
    "        for j, h2 in enumerate(h2_split):\n",
    "            if j > 0:\n",
    "                h2 = '<h2' + h2\n",
    "                result = path.split('/')[:2]\n",
    "                path = '/'.join(result)\n",
    "                path += get_path(h2, h='h2')\n",
    "            h3_split = h2.split('<h3')\n",
    "            for k, h3 in enumerate(h3_split):\n",
    "                if k > 0:\n",
    "                    h3 = '<h3' + h3\n",
    "                    result = path.split('/')[:3]\n",
    "                    path = '/'.join(result)\n",
    "                    path += get_path(h3, h='h3')\n",
    "\n",
    "                h4_split = h3.split('<h4')\n",
    "                for l, h4 in enumerate(h4_split):\n",
    "                    if l > 0:\n",
    "                        h4 = '<h4' + h4\n",
    "                        result = path.split('/')[:4]\n",
    "                        path = '/'.join(result)\n",
    "                        path += get_path(h4, h='h4')\n",
    "\n",
    "                    h5_split = h4.split('<h5')\n",
    "                    # Look for href in the html content to add it to the link\n",
    "                    regex_pattern = r'<h[1-6](.*?)<\\/h[1-6]>'\n",
    "                    header = re.search(regex_pattern, h5_split[0])\n",
    "                    if header:\n",
    "                        regex_pattern = r'href=\"#([^\"]*)\"'\n",
    "                        match_href = re.search(regex_pattern, header.group(1))\n",
    "                        regex_pattern = r'id=\"([^\"]*)\"'\n",
    "                        match_id = re.search(regex_pattern, header.group(1))\n",
    "                        if match_href:\n",
    "                            href = '#' + match_href.group(1)\n",
    "                        elif match_id:\n",
    "                            href = '#' + match_id.group(1)\n",
    "                        else:\n",
    "                            href = ''\n",
    "                    else:\n",
    "                        href = ''\n",
    "                    # get the text from html content\n",
    "                    soup = BeautifulSoup(h5_split[0].split('\\n', 1)[1], \"lxml\")\n",
    "                    h5_split = soup.get_text()\n",
    "                    list_split.append(h5_split)\n",
    "                    list_path.append(path)\n",
    "                    list_source.append(source)  # Add the documentation source for each content\n",
    "                    list_file_path.append(f'{file_path}{href}')\n",
    "    dataframe = pd.DataFrame()\n",
    "    dataframe['documentation'] = list_source  # Add the documentation source column\n",
    "    dataframe['path'] = list_path\n",
    "    dataframe['text'] = list_split\n",
    "    dataframe['file_path'] = list_file_path  # adding local path to the df for each row\n",
    "    return dataframe\n",
    "\n",
    "\n",
    "def process_links(site_config):\n",
    "    index_content = fetch_html_from_url(site_config['index_path'])\n",
    "    soup = BeautifulSoup(index_content, 'html.parser')\n",
    "    links = [a['href'] for a in soup.find_all('a', href=True) if a['href'].endswith('.html')]\n",
    "\n",
    "    logging.info(f\"Found {len(links)} links to process for {site_config['documentation']}.\")\n",
    "\n",
    "    data_frames = []\n",
    "    for link in links:\n",
    "        full_url = site_config['base_url'] + link  # Construct the full URL\n",
    "        try:\n",
    "            page_content = fetch_html_from_url(full_url)\n",
    "            df_temp = scrape_content_from_page(page_content, site_config['documentation'], full_url)\n",
    "\n",
    "            # Check if df_temp is not empty or None\n",
    "            if df_temp is not None and not df_temp.empty:\n",
    "                data_frames.append(df_temp)\n",
    "            else:\n",
    "                logging.warning(f\"Empty dataframe returned from {full_url}.\")\n",
    "\n",
    "        except Exception as e:\n",
    "            logging.error(f\"Error processing {full_url}: {e}\")\n",
    "\n",
    "    logging.info(f\"Processed {len(data_frames)} dataframes for {site_config['documentation']}.\")\n",
    "    return data_frames\n",
    "\n",
    "\n",
    "def process_links_from_list(links, documentation_label):\n",
    "    logging.info(f\"Found {len(links)} links to process for {documentation_label}.\")\n",
    "\n",
    "    data_frames = []\n",
    "    for link in links:\n",
    "        try:\n",
    "            page_content = fetch_html_from_url(link)\n",
    "            df_temp = scrape_content_from_page(page_content, documentation_label, link)\n",
    "\n",
    "            # Check if df_temp is not empty or None\n",
    "            if df_temp is not None and not df_temp.empty:\n",
    "                data_frames.append(df_temp)\n",
    "            else:\n",
    "                logging.warning(f\"Empty dataframe returned from {link}.\")\n",
    "\n",
    "        except Exception as e:\n",
    "            logging.error(f\"Error processing {link}: {e}\")\n",
    "\n",
    "    logging.info(f\"Processed {len(data_frames)} dataframes for {documentation_label}.\")\n",
    "    return data_frames\n",
    "\n",
    "def get_all_links(base_url):\n",
    "    # Send a GET request to the base URL\n",
    "    response = requests.get(base_url)\n",
    "    response.raise_for_status()  # Raise an exception for HTTP errors\n",
    "\n",
    "    # Parse the content using BeautifulSoup\n",
    "    soup = BeautifulSoup(response.content, 'html.parser')\n",
    "\n",
    "    # Extract all anchor tags\n",
    "    anchors = soup.find_all('a', href=True)\n",
    "\n",
    "    # Convert relative URLs and fragments to absolute URLs\n",
    "    absolute_urls = [urljoin(base_url, a['href']) for a in anchors]\n",
    "\n",
    "    return absolute_urls"
   ]
  },
  {
   "cell_type": "markdown",
   "source": [
    "# Set up "
   ],
   "metadata": {},
   "id": "71b8e07e"
  },
  {
   "cell_type": "code",
   "outputs": [],
   "source": [
    "# Configuration\n",
    "config = {\n",
    "    'site1': {\n",
    "        'index_path': \"http://192.168.48.22:8082/repository/skyminer-dev/skyminer-documentation/latest/administration-manual-html/administration-manual-html/index.html\",\n",
    "        'base_path': \"http://192.168.48.22:8082/repository/skyminer-dev/skyminer-documentation/latest/administration-manual-html/administration-manual-html/\",\n",
    "        'documentation': 'administration-manual'\n",
    "    },\n",
    "    'site2': {\n",
    "        'index_path': \"http://192.168.48.22:8082/repository/skyminer-dev/skyminer-documentation/latest/user-manual-html/user-manual-html/index.html\",\n",
    "        'base_path': \"http://192.168.48.22:8082/repository/skyminer-dev/skyminer-documentation/latest/user-manual-html/user-manual-html/\",\n",
    "        'documentation': 'user-manual'\n",
    "    }\n",
    "}"
   ],
   "metadata": {
    "ExecuteTime": {
     "end_time": "2024-01-10T15:48:46.883445800Z",
     "start_time": "2024-01-10T15:48:46.873075200Z"
    }
   },
   "id": "3d81c6cb",
   "execution_count": 3
  },
  {
   "cell_type": "markdown",
   "id": "ce01a5fd",
   "metadata": {},
   "source": [
    "# Get links"
   ]
  },
  {
   "cell_type": "code",
   "execution_count": 4,
   "id": "304fa87a",
   "metadata": {
    "ExecuteTime": {
     "end_time": "2024-01-10T15:48:46.884457700Z",
     "start_time": "2024-01-10T15:48:46.879608700Z"
    }
   },
   "outputs": [],
   "source": [
    "site_urls = [details['index_path'] for details in config.values()]"
   ]
  },
  {
   "cell_type": "code",
   "execution_count": 5,
   "id": "23c565a5",
   "metadata": {
    "ExecuteTime": {
     "end_time": "2024-01-10T15:48:46.904189100Z",
     "start_time": "2024-01-10T15:48:46.887448600Z"
    }
   },
   "outputs": [
    {
     "data": {
      "text/plain": "['http://192.168.48.22:8082/repository/skyminer-dev/skyminer-documentation/latest/administration-manual-html/administration-manual-html/index.html',\n 'http://192.168.48.22:8082/repository/skyminer-dev/skyminer-documentation/latest/user-manual-html/user-manual-html/index.html']"
     },
     "execution_count": 5,
     "metadata": {},
     "output_type": "execute_result"
    }
   ],
   "source": [
    "site_urls"
   ]
  },
  {
   "cell_type": "code",
   "execution_count": 6,
   "id": "3de281df",
   "metadata": {
    "ExecuteTime": {
     "end_time": "2024-01-10T15:48:47.315775700Z",
     "start_time": "2024-01-10T15:48:46.894324600Z"
    }
   },
   "outputs": [],
   "source": [
    "a_urls = get_all_links(site_urls[0])\n",
    "u_urls = get_all_links(site_urls[1])"
   ]
  },
  {
   "cell_type": "code",
   "execution_count": 7,
   "id": "f80f2fec",
   "metadata": {
    "ExecuteTime": {
     "end_time": "2024-01-10T15:48:47.323037200Z",
     "start_time": "2024-01-10T15:48:47.318543100Z"
    }
   },
   "outputs": [
    {
     "data": {
      "text/plain": "('http://192.168.48.22:8082/repository/skyminer-dev/skyminer-documentation/latest/administration-manual-html/administration-manual-html/index.html',\n 'http://192.168.48.22:8082/repository/skyminer-dev/skyminer-documentation/latest/user-manual-html/user-manual-html/index.html')"
     },
     "execution_count": 7,
     "metadata": {},
     "output_type": "execute_result"
    }
   ],
   "source": [
    "a_urls[1], u_urls[1]"
   ]
  },
  {
   "cell_type": "markdown",
   "id": "ee1ed82e",
   "metadata": {},
   "source": [
    "# Scrape the Content and Store in a DataFrame:"
   ]
  },
  {
   "cell_type": "code",
   "execution_count": 8,
   "id": "5e62fe5a",
   "metadata": {
    "ExecuteTime": {
     "end_time": "2024-01-10T15:49:29.258916800Z",
     "start_time": "2024-01-10T15:48:47.322039Z"
    }
   },
   "outputs": [],
   "source": [
    "df1 = process_links_from_list(a_urls, \"Administration Manual\")"
   ]
  },
  {
   "cell_type": "code",
   "execution_count": 9,
   "id": "e251b80f",
   "metadata": {
    "scrolled": true,
    "ExecuteTime": {
     "end_time": "2024-01-10T15:49:46.782811400Z",
     "start_time": "2024-01-10T15:49:29.260909800Z"
    }
   },
   "outputs": [],
   "source": [
    "df2 = process_links_from_list(u_urls, \"User Manual\")"
   ]
  },
  {
   "cell_type": "code",
   "execution_count": 10,
   "id": "2fdc3487",
   "metadata": {
    "ExecuteTime": {
     "end_time": "2024-01-10T15:49:46.799824700Z",
     "start_time": "2024-01-10T15:49:46.783805900Z"
    }
   },
   "outputs": [],
   "source": [
    "df1 = pd.concat(df1, ignore_index=True)\n",
    "df2 = pd.concat(df2, ignore_index=True)"
   ]
  },
  {
   "cell_type": "code",
   "execution_count": 11,
   "id": "71b46ffd",
   "metadata": {
    "ExecuteTime": {
     "end_time": "2024-01-10T15:49:46.811117900Z",
     "start_time": "2024-01-10T15:49:46.800259Z"
    }
   },
   "outputs": [],
   "source": [
    "df = pd.concat([df1, df2], ignore_index=True)"
   ]
  },
  {
   "cell_type": "code",
   "outputs": [
    {
     "data": {
      "text/plain": "              documentation  \\\n0     Administration Manual   \n1     Administration Manual   \n2     Administration Manual   \n3     Administration Manual   \n4     Administration Manual   \n...                     ...   \n4284            User Manual   \n4285            User Manual   \n4286            User Manual   \n4287            User Manual   \n4288            User Manual   \n\n                                                   path  \\\n0                                                         \n1               /Leading Space Networks into the Future   \n2             /Revolutionary Satellite Ground Solutions   \n3     /Revolutionary Satellite Ground Solutions/Guid...   \n4     /Revolutionary Satellite Ground Solutions/Guid...   \n...                                                 ...   \n4284  /FAQ/Is the data processed between the source ...   \n4285   /FAQ/How much data can be displayed on Skyminer?   \n4286          /FAQ/How can I export data from Skyminer?   \n4287  /FAQ/How do I align time series to time bounda...   \n4288  /FAQ/How to Rename a Time Series to the Time U...   \n\n                                                   text  \\\n0      \\n\\nSpace Systems | Kratos\\n\\n\\n\\n\\n\\n\\n\\n\\n\\...   \n1                                                    \\n   \n2                                                         \n3                                                    \\n   \n4     \\nMainstreaming satellite operations to connec...   \n...                                                 ...   \n4284  By default there is no process or filter appli...   \n4285  By default there are 3 safeguards for the size...   \n4286  You can export the data to a JSON or CSV file ...   \n4287  Using aggregators: this can be achieved by sel...   \n4288  Using both the Legend aggregator and Js Alias ...   \n\n                                              file_path  \n0                           http://www.kratoscomms.com/  \n1                           http://www.kratoscomms.com/  \n2                           http://www.kratoscomms.com/  \n3                           http://www.kratoscomms.com/  \n4                           http://www.kratoscomms.com/  \n...                                                 ...  \n4284  http://192.168.48.22:8082/repository/skyminer-...  \n4285  http://192.168.48.22:8082/repository/skyminer-...  \n4286  http://192.168.48.22:8082/repository/skyminer-...  \n4287  http://192.168.48.22:8082/repository/skyminer-...  \n4288  http://192.168.48.22:8082/repository/skyminer-...  \n\n[4289 rows x 4 columns]",
      "text/html": "<div>\n<style scoped>\n    .dataframe tbody tr th:only-of-type {\n        vertical-align: middle;\n    }\n\n    .dataframe tbody tr th {\n        vertical-align: top;\n    }\n\n    .dataframe thead th {\n        text-align: right;\n    }\n</style>\n<table border=\"1\" class=\"dataframe\">\n  <thead>\n    <tr style=\"text-align: right;\">\n      <th></th>\n      <th>documentation</th>\n      <th>path</th>\n      <th>text</th>\n      <th>file_path</th>\n    </tr>\n  </thead>\n  <tbody>\n    <tr>\n      <th>0</th>\n      <td>Administration Manual</td>\n      <td></td>\n      <td>\\n\\nSpace Systems | Kratos\\n\\n\\n\\n\\n\\n\\n\\n\\n\\...</td>\n      <td>http://www.kratoscomms.com/</td>\n    </tr>\n    <tr>\n      <th>1</th>\n      <td>Administration Manual</td>\n      <td>/Leading Space Networks into the Future</td>\n      <td>\\n</td>\n      <td>http://www.kratoscomms.com/</td>\n    </tr>\n    <tr>\n      <th>2</th>\n      <td>Administration Manual</td>\n      <td>/Revolutionary Satellite Ground Solutions</td>\n      <td></td>\n      <td>http://www.kratoscomms.com/</td>\n    </tr>\n    <tr>\n      <th>3</th>\n      <td>Administration Manual</td>\n      <td>/Revolutionary Satellite Ground Solutions/Guid...</td>\n      <td>\\n</td>\n      <td>http://www.kratoscomms.com/</td>\n    </tr>\n    <tr>\n      <th>4</th>\n      <td>Administration Manual</td>\n      <td>/Revolutionary Satellite Ground Solutions/Guid...</td>\n      <td>\\nMainstreaming satellite operations to connec...</td>\n      <td>http://www.kratoscomms.com/</td>\n    </tr>\n    <tr>\n      <th>...</th>\n      <td>...</td>\n      <td>...</td>\n      <td>...</td>\n      <td>...</td>\n    </tr>\n    <tr>\n      <th>4284</th>\n      <td>User Manual</td>\n      <td>/FAQ/Is the data processed between the source ...</td>\n      <td>By default there is no process or filter appli...</td>\n      <td>http://192.168.48.22:8082/repository/skyminer-...</td>\n    </tr>\n    <tr>\n      <th>4285</th>\n      <td>User Manual</td>\n      <td>/FAQ/How much data can be displayed on Skyminer?</td>\n      <td>By default there are 3 safeguards for the size...</td>\n      <td>http://192.168.48.22:8082/repository/skyminer-...</td>\n    </tr>\n    <tr>\n      <th>4286</th>\n      <td>User Manual</td>\n      <td>/FAQ/How can I export data from Skyminer?</td>\n      <td>You can export the data to a JSON or CSV file ...</td>\n      <td>http://192.168.48.22:8082/repository/skyminer-...</td>\n    </tr>\n    <tr>\n      <th>4287</th>\n      <td>User Manual</td>\n      <td>/FAQ/How do I align time series to time bounda...</td>\n      <td>Using aggregators: this can be achieved by sel...</td>\n      <td>http://192.168.48.22:8082/repository/skyminer-...</td>\n    </tr>\n    <tr>\n      <th>4288</th>\n      <td>User Manual</td>\n      <td>/FAQ/How to Rename a Time Series to the Time U...</td>\n      <td>Using both the Legend aggregator and Js Alias ...</td>\n      <td>http://192.168.48.22:8082/repository/skyminer-...</td>\n    </tr>\n  </tbody>\n</table>\n<p>4289 rows × 4 columns</p>\n</div>"
     },
     "execution_count": 12,
     "metadata": {},
     "output_type": "execute_result"
    }
   ],
   "source": [
    "df"
   ],
   "metadata": {
    "collapsed": false,
    "ExecuteTime": {
     "end_time": "2024-01-10T15:49:46.818335Z",
     "start_time": "2024-01-10T15:49:46.806130400Z"
    }
   },
   "id": "ffa9901fa7696f84",
   "execution_count": 12
  },
  {
   "cell_type": "markdown",
   "id": "440daa1f",
   "metadata": {},
   "source": [
    "# Clean data"
   ]
  },
  {
   "cell_type": "code",
   "execution_count": 13,
   "id": "8503ddd1",
   "metadata": {
    "ExecuteTime": {
     "end_time": "2024-01-10T15:49:46.826228100Z",
     "start_time": "2024-01-10T15:49:46.818335Z"
    }
   },
   "outputs": [
    {
     "data": {
      "text/plain": "              documentation  \\\n0     Administration Manual   \n1     Administration Manual   \n2     Administration Manual   \n3     Administration Manual   \n4     Administration Manual   \n...                     ...   \n4284            User Manual   \n4285            User Manual   \n4286            User Manual   \n4287            User Manual   \n4288            User Manual   \n\n                                                   path  \\\n0                                                         \n1               /Leading Space Networks into the Future   \n2             /Revolutionary Satellite Ground Solutions   \n3     /Revolutionary Satellite Ground Solutions/Guid...   \n4     /Revolutionary Satellite Ground Solutions/Guid...   \n...                                                 ...   \n4284  /FAQ/Is the data processed between the source ...   \n4285   /FAQ/How much data can be displayed on Skyminer?   \n4286          /FAQ/How can I export data from Skyminer?   \n4287  /FAQ/How do I align time series to time bounda...   \n4288  /FAQ/How to Rename a Time Series to the Time U...   \n\n                                                   text  \\\n0      \\n\\nSpace Systems | Kratos\\n\\n\\n\\n\\n\\n\\n\\n\\n\\...   \n1                                                    \\n   \n2                                                         \n3                                                    \\n   \n4     \\nMainstreaming satellite operations to connec...   \n...                                                 ...   \n4284  By default there is no process or filter appli...   \n4285  By default there are 3 safeguards for the size...   \n4286  You can export the data to a JSON or CSV file ...   \n4287  Using aggregators: this can be achieved by sel...   \n4288  Using both the Legend aggregator and Js Alias ...   \n\n                                              file_path  \n0                           http://www.kratoscomms.com/  \n1                           http://www.kratoscomms.com/  \n2                           http://www.kratoscomms.com/  \n3                           http://www.kratoscomms.com/  \n4                           http://www.kratoscomms.com/  \n...                                                 ...  \n4284  http://192.168.48.22:8082/repository/skyminer-...  \n4285  http://192.168.48.22:8082/repository/skyminer-...  \n4286  http://192.168.48.22:8082/repository/skyminer-...  \n4287  http://192.168.48.22:8082/repository/skyminer-...  \n4288  http://192.168.48.22:8082/repository/skyminer-...  \n\n[4289 rows x 4 columns]",
      "text/html": "<div>\n<style scoped>\n    .dataframe tbody tr th:only-of-type {\n        vertical-align: middle;\n    }\n\n    .dataframe tbody tr th {\n        vertical-align: top;\n    }\n\n    .dataframe thead th {\n        text-align: right;\n    }\n</style>\n<table border=\"1\" class=\"dataframe\">\n  <thead>\n    <tr style=\"text-align: right;\">\n      <th></th>\n      <th>documentation</th>\n      <th>path</th>\n      <th>text</th>\n      <th>file_path</th>\n    </tr>\n  </thead>\n  <tbody>\n    <tr>\n      <th>0</th>\n      <td>Administration Manual</td>\n      <td></td>\n      <td>\\n\\nSpace Systems | Kratos\\n\\n\\n\\n\\n\\n\\n\\n\\n\\...</td>\n      <td>http://www.kratoscomms.com/</td>\n    </tr>\n    <tr>\n      <th>1</th>\n      <td>Administration Manual</td>\n      <td>/Leading Space Networks into the Future</td>\n      <td>\\n</td>\n      <td>http://www.kratoscomms.com/</td>\n    </tr>\n    <tr>\n      <th>2</th>\n      <td>Administration Manual</td>\n      <td>/Revolutionary Satellite Ground Solutions</td>\n      <td></td>\n      <td>http://www.kratoscomms.com/</td>\n    </tr>\n    <tr>\n      <th>3</th>\n      <td>Administration Manual</td>\n      <td>/Revolutionary Satellite Ground Solutions/Guid...</td>\n      <td>\\n</td>\n      <td>http://www.kratoscomms.com/</td>\n    </tr>\n    <tr>\n      <th>4</th>\n      <td>Administration Manual</td>\n      <td>/Revolutionary Satellite Ground Solutions/Guid...</td>\n      <td>\\nMainstreaming satellite operations to connec...</td>\n      <td>http://www.kratoscomms.com/</td>\n    </tr>\n    <tr>\n      <th>...</th>\n      <td>...</td>\n      <td>...</td>\n      <td>...</td>\n      <td>...</td>\n    </tr>\n    <tr>\n      <th>4284</th>\n      <td>User Manual</td>\n      <td>/FAQ/Is the data processed between the source ...</td>\n      <td>By default there is no process or filter appli...</td>\n      <td>http://192.168.48.22:8082/repository/skyminer-...</td>\n    </tr>\n    <tr>\n      <th>4285</th>\n      <td>User Manual</td>\n      <td>/FAQ/How much data can be displayed on Skyminer?</td>\n      <td>By default there are 3 safeguards for the size...</td>\n      <td>http://192.168.48.22:8082/repository/skyminer-...</td>\n    </tr>\n    <tr>\n      <th>4286</th>\n      <td>User Manual</td>\n      <td>/FAQ/How can I export data from Skyminer?</td>\n      <td>You can export the data to a JSON or CSV file ...</td>\n      <td>http://192.168.48.22:8082/repository/skyminer-...</td>\n    </tr>\n    <tr>\n      <th>4287</th>\n      <td>User Manual</td>\n      <td>/FAQ/How do I align time series to time bounda...</td>\n      <td>Using aggregators: this can be achieved by sel...</td>\n      <td>http://192.168.48.22:8082/repository/skyminer-...</td>\n    </tr>\n    <tr>\n      <th>4288</th>\n      <td>User Manual</td>\n      <td>/FAQ/How to Rename a Time Series to the Time U...</td>\n      <td>Using both the Legend aggregator and Js Alias ...</td>\n      <td>http://192.168.48.22:8082/repository/skyminer-...</td>\n    </tr>\n  </tbody>\n</table>\n<p>4289 rows × 4 columns</p>\n</div>"
     },
     "execution_count": 13,
     "metadata": {},
     "output_type": "execute_result"
    }
   ],
   "source": [
    "# Apply this function to the entire 'content' column\n",
    "df['text'] = df['text'].apply(clean_text)\n",
    "df"
   ]
  },
  {
   "cell_type": "markdown",
   "id": "218ffc8c",
   "metadata": {},
   "source": [
    "## Remove the empty text"
   ]
  },
  {
   "cell_type": "code",
   "execution_count": 14,
   "id": "10f2ad47",
   "metadata": {
    "ExecuteTime": {
     "end_time": "2024-01-10T15:49:46.870212600Z",
     "start_time": "2024-01-10T15:49:46.830215Z"
    }
   },
   "outputs": [
    {
     "data": {
      "text/plain": "Empty DataFrame\nColumns: [documentation, path, text, file_path]\nIndex: []",
      "text/html": "<div>\n<style scoped>\n    .dataframe tbody tr th:only-of-type {\n        vertical-align: middle;\n    }\n\n    .dataframe tbody tr th {\n        vertical-align: top;\n    }\n\n    .dataframe thead th {\n        text-align: right;\n    }\n</style>\n<table border=\"1\" class=\"dataframe\">\n  <thead>\n    <tr style=\"text-align: right;\">\n      <th></th>\n      <th>documentation</th>\n      <th>path</th>\n      <th>text</th>\n      <th>file_path</th>\n    </tr>\n  </thead>\n  <tbody>\n  </tbody>\n</table>\n</div>"
     },
     "execution_count": 14,
     "metadata": {},
     "output_type": "execute_result"
    }
   ],
   "source": [
    "# Remove rows where the text is empty\n",
    "df = df[df['text'].notnull() & (df['text'].str.len() > 0)]\n",
    "# Remove rows where the text is empty or the path is an empty string\n",
    "df = df[(df['path'].notnull()) & (df['path'] != \"\") & (df['text'].str.len() > 0)]\n",
    "# Remove rows where path equals \"/Table Of Contents\"\n",
    "df = df[df['path'] != '/Table Of Contents']\n",
    "# Remove duplicates based on the 'text' column\n",
    "df = df.drop_duplicates(subset='text', keep='first')\n",
    "# Find rows with duplicate content\n",
    "duplicates = df[df.duplicated(subset='text', keep=False)]\n",
    "duplicates"
   ]
  },
  {
   "cell_type": "markdown",
   "source": [
    "## Remove doc with not enough words "
   ],
   "metadata": {
    "collapsed": false
   },
   "id": "ef49f58be8fba91c"
  },
  {
   "cell_type": "code",
   "outputs": [
    {
     "name": "stderr",
     "output_type": "stream",
     "text": [
      "[nltk_data] Downloading package punkt to\n",
      "[nltk_data]     C:\\Users\\Bruno.Pinos\\AppData\\Roaming\\nltk_data...\n",
      "[nltk_data]   Package punkt is already up-to-date!\n"
     ]
    },
    {
     "data": {
      "text/plain": "              documentation  \\\n1     Administration Manual   \n4     Administration Manual   \n5     Administration Manual   \n6     Administration Manual   \n7     Administration Manual   \n...                     ...   \n3939            User Manual   \n3940            User Manual   \n3941            User Manual   \n3942            User Manual   \n3944            User Manual   \n\n                                                   path  \\\n1               /Leading Space Networks into the Future   \n4     /Revolutionary Satellite Ground Solutions/Guid...   \n5     /Revolutionary Satellite Ground Solutions/Guid...   \n6     /Revolutionary Satellite Ground Solutions/Guid...   \n7        /Technology for the Satellite Ground Ecosystem   \n...                                                 ...   \n3939  /Skyminer Time Series Python Connector/Modules...   \n3940  /Skyminer Time Series Python Connector/Modules...   \n3941  /Skyminer Time Series Python Connector/Modules...   \n3942  /Skyminer Time Series Python Connector/Modules...   \n3944  /Skyminer Time Series Python Connector/Example...   \n\n                                                   text  \\\n1                                                    \\n   \n4     \\nMainstreaming satellite operations to connec...   \n5     \\nAdvancing secure, resilient communication cr...   \n6     \\nCreating infrastructure and systems to suppo...   \n7     Kratos develops advanced satellite communicati...   \n...                                                 ...   \n3939  The Bin grouper groups data point values into ...   \n3940  You can group results by specifying one or mor...   \n3941  The time grouper groups results by time ranges...   \n3942  The value grouper groups by data point values....   \n3944  # Import\\nfrom SkyminerTS import MetricBuilder...   \n\n                                              file_path  token_count  \n1                           http://www.kratoscomms.com/            0  \n4                           http://www.kratoscomms.com/           10  \n5                           http://www.kratoscomms.com/            9  \n6                           http://www.kratoscomms.com/           10  \n7                           http://www.kratoscomms.com/           16  \n...                                                 ...          ...  \n3939  http://192.168.48.22:8082/repository/skyminer-...          108  \n3940  http://192.168.48.22:8082/repository/skyminer-...          100  \n3941  http://192.168.48.22:8082/repository/skyminer-...          152  \n3942  http://192.168.48.22:8082/repository/skyminer-...           76  \n3944  http://192.168.48.22:8082/repository/skyminer-...          785  \n\n[628 rows x 5 columns]",
      "text/html": "<div>\n<style scoped>\n    .dataframe tbody tr th:only-of-type {\n        vertical-align: middle;\n    }\n\n    .dataframe tbody tr th {\n        vertical-align: top;\n    }\n\n    .dataframe thead th {\n        text-align: right;\n    }\n</style>\n<table border=\"1\" class=\"dataframe\">\n  <thead>\n    <tr style=\"text-align: right;\">\n      <th></th>\n      <th>documentation</th>\n      <th>path</th>\n      <th>text</th>\n      <th>file_path</th>\n      <th>token_count</th>\n    </tr>\n  </thead>\n  <tbody>\n    <tr>\n      <th>1</th>\n      <td>Administration Manual</td>\n      <td>/Leading Space Networks into the Future</td>\n      <td>\\n</td>\n      <td>http://www.kratoscomms.com/</td>\n      <td>0</td>\n    </tr>\n    <tr>\n      <th>4</th>\n      <td>Administration Manual</td>\n      <td>/Revolutionary Satellite Ground Solutions/Guid...</td>\n      <td>\\nMainstreaming satellite operations to connec...</td>\n      <td>http://www.kratoscomms.com/</td>\n      <td>10</td>\n    </tr>\n    <tr>\n      <th>5</th>\n      <td>Administration Manual</td>\n      <td>/Revolutionary Satellite Ground Solutions/Guid...</td>\n      <td>\\nAdvancing secure, resilient communication cr...</td>\n      <td>http://www.kratoscomms.com/</td>\n      <td>9</td>\n    </tr>\n    <tr>\n      <th>6</th>\n      <td>Administration Manual</td>\n      <td>/Revolutionary Satellite Ground Solutions/Guid...</td>\n      <td>\\nCreating infrastructure and systems to suppo...</td>\n      <td>http://www.kratoscomms.com/</td>\n      <td>10</td>\n    </tr>\n    <tr>\n      <th>7</th>\n      <td>Administration Manual</td>\n      <td>/Technology for the Satellite Ground Ecosystem</td>\n      <td>Kratos develops advanced satellite communicati...</td>\n      <td>http://www.kratoscomms.com/</td>\n      <td>16</td>\n    </tr>\n    <tr>\n      <th>...</th>\n      <td>...</td>\n      <td>...</td>\n      <td>...</td>\n      <td>...</td>\n      <td>...</td>\n    </tr>\n    <tr>\n      <th>3939</th>\n      <td>User Manual</td>\n      <td>/Skyminer Time Series Python Connector/Modules...</td>\n      <td>The Bin grouper groups data point values into ...</td>\n      <td>http://192.168.48.22:8082/repository/skyminer-...</td>\n      <td>108</td>\n    </tr>\n    <tr>\n      <th>3940</th>\n      <td>User Manual</td>\n      <td>/Skyminer Time Series Python Connector/Modules...</td>\n      <td>You can group results by specifying one or mor...</td>\n      <td>http://192.168.48.22:8082/repository/skyminer-...</td>\n      <td>100</td>\n    </tr>\n    <tr>\n      <th>3941</th>\n      <td>User Manual</td>\n      <td>/Skyminer Time Series Python Connector/Modules...</td>\n      <td>The time grouper groups results by time ranges...</td>\n      <td>http://192.168.48.22:8082/repository/skyminer-...</td>\n      <td>152</td>\n    </tr>\n    <tr>\n      <th>3942</th>\n      <td>User Manual</td>\n      <td>/Skyminer Time Series Python Connector/Modules...</td>\n      <td>The value grouper groups by data point values....</td>\n      <td>http://192.168.48.22:8082/repository/skyminer-...</td>\n      <td>76</td>\n    </tr>\n    <tr>\n      <th>3944</th>\n      <td>User Manual</td>\n      <td>/Skyminer Time Series Python Connector/Example...</td>\n      <td># Import\\nfrom SkyminerTS import MetricBuilder...</td>\n      <td>http://192.168.48.22:8082/repository/skyminer-...</td>\n      <td>785</td>\n    </tr>\n  </tbody>\n</table>\n<p>628 rows × 5 columns</p>\n</div>"
     },
     "execution_count": 15,
     "metadata": {},
     "output_type": "execute_result"
    }
   ],
   "source": [
    "# Add a new column for word counts\n",
    "nltk.download('punkt')\n",
    "\n",
    "def count_tokens(text):\n",
    "    # Tokenize the text\n",
    "    tokens = nltk.word_tokenize(text)\n",
    "    # Count the number of tokens\n",
    "    num_tokens = len(tokens)\n",
    "    return num_tokens\n",
    "\n",
    "# Example usage:\n",
    "df['token_count'] = df['text'].apply(count_tokens)\n",
    "df\n"
   ],
   "metadata": {
    "ExecuteTime": {
     "end_time": "2024-01-10T15:49:47.830671Z",
     "start_time": "2024-01-10T15:49:46.844991800Z"
    }
   },
   "id": "0becbf86",
   "execution_count": 15
  },
  {
   "cell_type": "code",
   "execution_count": 16,
   "id": "ae06b334",
   "metadata": {
    "ExecuteTime": {
     "end_time": "2024-01-10T15:49:47.842865300Z",
     "start_time": "2024-01-10T15:49:47.831668800Z"
    }
   },
   "outputs": [
    {
     "data": {
      "text/plain": "              documentation  \\\n2045  Administration Manual   \n3463            User Manual   \n1667  Administration Manual   \n1969  Administration Manual   \n1759  Administration Manual   \n...                     ...   \n1688  Administration Manual   \n1872  Administration Manual   \n3308            User Manual   \n3888            User Manual   \n1734  Administration Manual   \n\n                                                   path  \\\n2045  /Skyminer document Module/Skyminer document mo...   \n3463                           /Predictors/Advanced/DLM   \n1667                                           /OpenAPI   \n1969  /Skyminer Time Series Indexer Module/Skyminer ...   \n1759                                 /Features/Response   \n...                                                 ...   \n1688                                 /Aggregators/Count   \n1872  /Skyminer Time Series Indexer Module API/Rebui...   \n3308  /Reporting/Overview/How to use skyminer BIRT R...   \n3888  /Skyminer extensions/Skyminer WEBUI integratio...   \n1734                           /Delete Data Points/Body   \n\n                                                   text  \\\n2045  \\n\\nGET /doc\\ndescribes the document backend i...   \n3463  All the implemented models are designed to ext...   \n1667  \\n\\nPOST /skyminer/correlations/search\\nSubmit...   \n1969  \\n\\nGET /skyminer/ts-index/enable\\nEnable the ...   \n1759  Success\\nReturns 200 when successful.\\n{\\n    ...   \n...                                                 ...   \n1688  count\\n\\nCounts the number of data points.\\nEx...   \n1872  Start a job to rebuild the index entirely for ...   \n3308  To use Skyminer BIRT Reports, start the BIRT R...   \n3888  The address of the server is saved in a variab...   \n1734  \\nA query. See the documentation on [QueryMetr...   \n\n                                              file_path  token_count  \n2045  http://192.168.48.22:8082/repository/skyminer-...         3704  \n3463  http://192.168.48.22:8082/repository/skyminer-...         1537  \n1667  http://192.168.48.22:8082/repository/skyminer-...         1460  \n1969  http://192.168.48.22:8082/repository/skyminer-...         1080  \n1759  http://192.168.48.22:8082/repository/skyminer-...          858  \n...                                                 ...          ...  \n1688  http://192.168.48.22:8082/repository/skyminer-...           12  \n1872  http://192.168.48.22:8082/repository/skyminer-...           12  \n3308  http://192.168.48.22:8082/repository/skyminer-...           12  \n3888  http://192.168.48.22:8082/repository/skyminer-...           12  \n1734  http://192.168.48.22:8082/repository/skyminer-...           12  \n\n[546 rows x 5 columns]",
      "text/html": "<div>\n<style scoped>\n    .dataframe tbody tr th:only-of-type {\n        vertical-align: middle;\n    }\n\n    .dataframe tbody tr th {\n        vertical-align: top;\n    }\n\n    .dataframe thead th {\n        text-align: right;\n    }\n</style>\n<table border=\"1\" class=\"dataframe\">\n  <thead>\n    <tr style=\"text-align: right;\">\n      <th></th>\n      <th>documentation</th>\n      <th>path</th>\n      <th>text</th>\n      <th>file_path</th>\n      <th>token_count</th>\n    </tr>\n  </thead>\n  <tbody>\n    <tr>\n      <th>2045</th>\n      <td>Administration Manual</td>\n      <td>/Skyminer document Module/Skyminer document mo...</td>\n      <td>\\n\\nGET /doc\\ndescribes the document backend i...</td>\n      <td>http://192.168.48.22:8082/repository/skyminer-...</td>\n      <td>3704</td>\n    </tr>\n    <tr>\n      <th>3463</th>\n      <td>User Manual</td>\n      <td>/Predictors/Advanced/DLM</td>\n      <td>All the implemented models are designed to ext...</td>\n      <td>http://192.168.48.22:8082/repository/skyminer-...</td>\n      <td>1537</td>\n    </tr>\n    <tr>\n      <th>1667</th>\n      <td>Administration Manual</td>\n      <td>/OpenAPI</td>\n      <td>\\n\\nPOST /skyminer/correlations/search\\nSubmit...</td>\n      <td>http://192.168.48.22:8082/repository/skyminer-...</td>\n      <td>1460</td>\n    </tr>\n    <tr>\n      <th>1969</th>\n      <td>Administration Manual</td>\n      <td>/Skyminer Time Series Indexer Module/Skyminer ...</td>\n      <td>\\n\\nGET /skyminer/ts-index/enable\\nEnable the ...</td>\n      <td>http://192.168.48.22:8082/repository/skyminer-...</td>\n      <td>1080</td>\n    </tr>\n    <tr>\n      <th>1759</th>\n      <td>Administration Manual</td>\n      <td>/Features/Response</td>\n      <td>Success\\nReturns 200 when successful.\\n{\\n    ...</td>\n      <td>http://192.168.48.22:8082/repository/skyminer-...</td>\n      <td>858</td>\n    </tr>\n    <tr>\n      <th>...</th>\n      <td>...</td>\n      <td>...</td>\n      <td>...</td>\n      <td>...</td>\n      <td>...</td>\n    </tr>\n    <tr>\n      <th>1688</th>\n      <td>Administration Manual</td>\n      <td>/Aggregators/Count</td>\n      <td>count\\n\\nCounts the number of data points.\\nEx...</td>\n      <td>http://192.168.48.22:8082/repository/skyminer-...</td>\n      <td>12</td>\n    </tr>\n    <tr>\n      <th>1872</th>\n      <td>Administration Manual</td>\n      <td>/Skyminer Time Series Indexer Module API/Rebui...</td>\n      <td>Start a job to rebuild the index entirely for ...</td>\n      <td>http://192.168.48.22:8082/repository/skyminer-...</td>\n      <td>12</td>\n    </tr>\n    <tr>\n      <th>3308</th>\n      <td>User Manual</td>\n      <td>/Reporting/Overview/How to use skyminer BIRT R...</td>\n      <td>To use Skyminer BIRT Reports, start the BIRT R...</td>\n      <td>http://192.168.48.22:8082/repository/skyminer-...</td>\n      <td>12</td>\n    </tr>\n    <tr>\n      <th>3888</th>\n      <td>User Manual</td>\n      <td>/Skyminer extensions/Skyminer WEBUI integratio...</td>\n      <td>The address of the server is saved in a variab...</td>\n      <td>http://192.168.48.22:8082/repository/skyminer-...</td>\n      <td>12</td>\n    </tr>\n    <tr>\n      <th>1734</th>\n      <td>Administration Manual</td>\n      <td>/Delete Data Points/Body</td>\n      <td>\\nA query. See the documentation on [QueryMetr...</td>\n      <td>http://192.168.48.22:8082/repository/skyminer-...</td>\n      <td>12</td>\n    </tr>\n  </tbody>\n</table>\n<p>546 rows × 5 columns</p>\n</div>"
     },
     "execution_count": 16,
     "metadata": {},
     "output_type": "execute_result"
    }
   ],
   "source": [
    "df = df.sort_values(by='token_count', ascending=False)\n",
    "lower_bound = 11  # or any other value based on your visualization or requirements\n",
    "df = df[df['token_count'] > lower_bound]\n",
    "df"
   ]
  },
  {
   "cell_type": "markdown",
   "source": [
    "## Split big documents"
   ],
   "metadata": {
    "collapsed": false
   },
   "id": "190cbd0a0682719b"
  },
  {
   "cell_type": "code",
   "outputs": [
    {
     "data": {
      "text/plain": "             documentation                                               path  \\\n6    Administration Manual                   /Query Metrics/Metric Properties   \n7    Administration Manual                     /Skyminer Administration Guide   \n8              User Manual                               /Metrics/Description   \n9    Administration Manual  /Mapped directories (volumes)/List of mapped v...   \n10   Administration Manual   /Correlations API/Correlations Search API/Result   \n..                     ...                                                ...   \n625            User Manual  /Skyminer Time Series Python Connector/Example...   \n626            User Manual  /Skyminer Time Series Python Connector/Example...   \n627            User Manual  /Skyminer Time Series Python Connector/Example...   \n628            User Manual  /Skyminer Time Series Python Connector/Example...   \n629            User Manual  /Skyminer Time Series Python Connector/Example...   \n\n                                                  text  \\\n6    \\nnameThe name of the metric(s) to return data...   \n7    This documentation contains the Skyminer admin...   \n8    \\n\\n\\n\\nThe + button allows you to add a new e...   \n9    \\nSkyminer\\n\\n<installation_directory>/skymine...   \n10   The result is divided into two parts:\\n\\nquery...   \n..                                                 ...   \n625  4   1563814800000  346524.700000  [skyminer_cl...   \n626  9   1563832800000  321140.000000  [skyminer_cl...   \n627  14  1563850800000  305792.500000  [skyminer_cl...   \n628  19  1563868800000  373827.616667  [skyminer_cl...   \n629  2014-2024, Kratos Communications\\n\\n\\n        ...   \n\n                                             file_path  token_count  \n6    http://192.168.48.22:8082/repository/skyminer-...          726  \n7    http://192.168.48.22:8082/repository/skyminer-...          698  \n8    http://192.168.48.22:8082/repository/skyminer-...          657  \n9    http://192.168.48.22:8082/repository/skyminer-...          622  \n10   http://192.168.48.22:8082/repository/skyminer-...          594  \n..                                                 ...          ...  \n625  http://192.168.48.22:8082/repository/skyminer-...           50  \n626  http://192.168.48.22:8082/repository/skyminer-...           50  \n627  http://192.168.48.22:8082/repository/skyminer-...           50  \n628  http://192.168.48.22:8082/repository/skyminer-...           20  \n629  http://192.168.48.22:8082/repository/skyminer-...           10  \n\n[624 rows x 5 columns]",
      "text/html": "<div>\n<style scoped>\n    .dataframe tbody tr th:only-of-type {\n        vertical-align: middle;\n    }\n\n    .dataframe tbody tr th {\n        vertical-align: top;\n    }\n\n    .dataframe thead th {\n        text-align: right;\n    }\n</style>\n<table border=\"1\" class=\"dataframe\">\n  <thead>\n    <tr style=\"text-align: right;\">\n      <th></th>\n      <th>documentation</th>\n      <th>path</th>\n      <th>text</th>\n      <th>file_path</th>\n      <th>token_count</th>\n    </tr>\n  </thead>\n  <tbody>\n    <tr>\n      <th>6</th>\n      <td>Administration Manual</td>\n      <td>/Query Metrics/Metric Properties</td>\n      <td>\\nnameThe name of the metric(s) to return data...</td>\n      <td>http://192.168.48.22:8082/repository/skyminer-...</td>\n      <td>726</td>\n    </tr>\n    <tr>\n      <th>7</th>\n      <td>Administration Manual</td>\n      <td>/Skyminer Administration Guide</td>\n      <td>This documentation contains the Skyminer admin...</td>\n      <td>http://192.168.48.22:8082/repository/skyminer-...</td>\n      <td>698</td>\n    </tr>\n    <tr>\n      <th>8</th>\n      <td>User Manual</td>\n      <td>/Metrics/Description</td>\n      <td>\\n\\n\\n\\nThe + button allows you to add a new e...</td>\n      <td>http://192.168.48.22:8082/repository/skyminer-...</td>\n      <td>657</td>\n    </tr>\n    <tr>\n      <th>9</th>\n      <td>Administration Manual</td>\n      <td>/Mapped directories (volumes)/List of mapped v...</td>\n      <td>\\nSkyminer\\n\\n&lt;installation_directory&gt;/skymine...</td>\n      <td>http://192.168.48.22:8082/repository/skyminer-...</td>\n      <td>622</td>\n    </tr>\n    <tr>\n      <th>10</th>\n      <td>Administration Manual</td>\n      <td>/Correlations API/Correlations Search API/Result</td>\n      <td>The result is divided into two parts:\\n\\nquery...</td>\n      <td>http://192.168.48.22:8082/repository/skyminer-...</td>\n      <td>594</td>\n    </tr>\n    <tr>\n      <th>...</th>\n      <td>...</td>\n      <td>...</td>\n      <td>...</td>\n      <td>...</td>\n      <td>...</td>\n    </tr>\n    <tr>\n      <th>625</th>\n      <td>User Manual</td>\n      <td>/Skyminer Time Series Python Connector/Example...</td>\n      <td>4   1563814800000  346524.700000  [skyminer_cl...</td>\n      <td>http://192.168.48.22:8082/repository/skyminer-...</td>\n      <td>50</td>\n    </tr>\n    <tr>\n      <th>626</th>\n      <td>User Manual</td>\n      <td>/Skyminer Time Series Python Connector/Example...</td>\n      <td>9   1563832800000  321140.000000  [skyminer_cl...</td>\n      <td>http://192.168.48.22:8082/repository/skyminer-...</td>\n      <td>50</td>\n    </tr>\n    <tr>\n      <th>627</th>\n      <td>User Manual</td>\n      <td>/Skyminer Time Series Python Connector/Example...</td>\n      <td>14  1563850800000  305792.500000  [skyminer_cl...</td>\n      <td>http://192.168.48.22:8082/repository/skyminer-...</td>\n      <td>50</td>\n    </tr>\n    <tr>\n      <th>628</th>\n      <td>User Manual</td>\n      <td>/Skyminer Time Series Python Connector/Example...</td>\n      <td>19  1563868800000  373827.616667  [skyminer_cl...</td>\n      <td>http://192.168.48.22:8082/repository/skyminer-...</td>\n      <td>20</td>\n    </tr>\n    <tr>\n      <th>629</th>\n      <td>User Manual</td>\n      <td>/Skyminer Time Series Python Connector/Example...</td>\n      <td>2014-2024, Kratos Communications\\n\\n\\n        ...</td>\n      <td>http://192.168.48.22:8082/repository/skyminer-...</td>\n      <td>10</td>\n    </tr>\n  </tbody>\n</table>\n<p>624 rows × 5 columns</p>\n</div>"
     },
     "execution_count": 17,
     "metadata": {},
     "output_type": "execute_result"
    }
   ],
   "source": [
    "upper_bound = 728\n",
    "\n",
    "text_splitter = RecursiveCharacterTextSplitter(\n",
    "    # Set a tiny chunk size, just to show.\n",
    "    chunk_size=upper_bound,\n",
    "    chunk_overlap=40,\n",
    "    length_function=len,\n",
    "    separators=[\"\\n\\n\", \"\\n\", \".\", \"!\", \"?\", \",\", \" \", \"\"],\n",
    "    is_separator_regex=False\n",
    ")\n",
    "\n",
    "# Loop through the DataFrame and split text if necessary\n",
    "final_df = df.copy()\n",
    "new_rows = list()\n",
    "for index, row in df.iterrows():\n",
    "    if row['token_count'] > upper_bound:\n",
    "        new_texts = text_splitter.create_documents([row['text']])\n",
    "        for new_text in new_texts:\n",
    "            new_text = new_text.page_content\n",
    "            new_row = {'documentation': row['documentation'],\n",
    "                       'path': row['path'],\n",
    "                       'file_path': row['file_path'],\n",
    "                       'text': new_text,\n",
    "                       'token_count': len(new_text.split())}\n",
    "            new_rows.append(new_row)\n",
    "            \n",
    "# Concatenate the new rows to the DataFrame\n",
    "final_df = pd.concat([final_df, pd.DataFrame(new_rows)], ignore_index=True, sort=False)\n",
    "final_df = final_df[final_df['token_count'] < upper_bound]\n",
    "final_df"
   ],
   "metadata": {
    "collapsed": false,
    "ExecuteTime": {
     "end_time": "2024-01-10T15:49:47.955266300Z",
     "start_time": "2024-01-10T15:49:47.847485200Z"
    }
   },
   "id": "6cb306dde3ee3def",
   "execution_count": 17
  },
  {
   "cell_type": "code",
   "execution_count": 18,
   "id": "78ce3553",
   "metadata": {
    "ExecuteTime": {
     "end_time": "2024-01-10T15:49:47.968805500Z",
     "start_time": "2024-01-10T15:49:47.885565Z"
    }
   },
   "outputs": [
    {
     "name": "stdout",
     "output_type": "stream",
     "text": [
      "Has NaN or None values in 'path': False\n",
      "Number of NaN or None values in 'path': 0\n"
     ]
    }
   ],
   "source": [
    "has_nan_or_none = df['path'].isnull().any()\n",
    "print(f\"Has NaN or None values in 'path': {has_nan_or_none}\")\n",
    "count_nan_or_none = df['path'].isnull().sum()\n",
    "print(f\"Number of NaN or None values in 'path': {count_nan_or_none}\")\n"
   ]
  },
  {
   "cell_type": "code",
   "execution_count": 19,
   "id": "6a079f56",
   "metadata": {
    "ExecuteTime": {
     "end_time": "2024-01-10T15:49:47.970719700Z",
     "start_time": "2024-01-10T15:49:47.890421500Z"
    }
   },
   "outputs": [
    {
     "name": "stdout",
     "output_type": "stream",
     "text": [
      "Has empty strings in 'path': False\n",
      "Number of empty strings in 'path': 0\n"
     ]
    }
   ],
   "source": [
    "has_empty_string = (df['path'] == \"\").any()\n",
    "print(f\"Has empty strings in 'path': {has_empty_string}\")\n",
    "count_empty_string = (df['path'] == \"\").sum()\n",
    "print(f\"Number of empty strings in 'path': {count_empty_string}\")"
   ]
  }
 ],
 "metadata": {
  "kernelspec": {
   "display_name": "Python 3 (ipykernel)",
   "language": "python",
   "name": "python3"
  },
  "language_info": {
   "codemirror_mode": {
    "name": "ipython",
    "version": 3
   },
   "file_extension": ".py",
   "mimetype": "text/x-python",
   "name": "python",
   "nbconvert_exporter": "python",
   "pygments_lexer": "ipython3",
   "version": "3.11.4"
  }
 },
 "nbformat": 4,
 "nbformat_minor": 5
}
